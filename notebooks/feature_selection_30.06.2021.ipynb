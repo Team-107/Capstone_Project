{
 "cells": [
  {
   "cell_type": "code",
   "execution_count": 1,
   "id": "pleased-science",
   "metadata": {},
   "outputs": [],
   "source": [
    "import pandas as pd\n",
    "import numpy as np\n",
    "from sklearn.feature_selection import VarianceThreshold\n",
    "from sklearn.feature_selection import SelectKBest\n",
    "from sklearn.feature_selection import chi2\n",
    "from sklearn.model_selection import train_test_split\n",
    "import matplotlib.pyplot as plt\n",
    "import seaborn as sns\n",
    "%matplotlib inline"
   ]
  },
  {
   "cell_type": "code",
   "execution_count": 2,
   "id": "incorporated-worry",
   "metadata": {},
   "outputs": [
    {
     "data": {
      "text/plain": [
       "(49704, 2127)"
      ]
     },
     "execution_count": 2,
     "metadata": {},
     "output_type": "execute_result"
    }
   ],
   "source": [
    "sipp_2018 = pd.read_csv('../data/interim/sipp2018_person/sipp2018_person.csv')\n",
    "sipp_2018.shape"
   ]
  },
  {
   "cell_type": "markdown",
   "id": "greenhouse-thomson",
   "metadata": {},
   "source": [
    "## Feature Engineering/Transformation"
   ]
  },
  {
   "cell_type": "code",
   "execution_count": 3,
   "id": "beginning-blade",
   "metadata": {},
   "outputs": [
    {
     "data": {
      "text/plain": [
       "7     14293\n",
       "6     14176\n",
       "9      9524\n",
       "5      6000\n",
       "10     4955\n",
       "8       756\n",
       "Name: EEDUC_X, dtype: int64"
      ]
     },
     "execution_count": 3,
     "metadata": {},
     "output_type": "execute_result"
    }
   ],
   "source": [
    "# collapse eeduc categories\n",
    "\n",
    "m1 = {5:[31,32,33,34,35,36,37,38], \n",
    "      6:[39],\n",
    "      7:[40,41,42],\n",
    "      8:[45],\n",
    "      9:[43],\n",
    "      10:[44,46],\n",
    "     }\n",
    "m2 = {v: k for k,vv in m1.items() for v in vv}\n",
    "m2\n",
    "sipp_2018['EEDUC_X'] = (sipp_2018\n",
    "                        .EEDUC\n",
    "                        .map(m2)\n",
    "                        .astype('category')\n",
    "                       )\n",
    "sipp_2018.EEDUC_X.value_counts()"
   ]
  },
  {
   "cell_type": "code",
   "execution_count": 51,
   "id": "recreational-installation",
   "metadata": {},
   "outputs": [],
   "source": [
    "# Initialize Independent and Target Features \n",
    "id_cols = ['SSUID', 'PNUM', 'EOWN_ST']\n",
    "stock_cols = list(sipp_2018.filter(like='STMF').columns)\n",
    "asset_income = list(sipp_2018.filter(like='INC_AST').columns)\n",
    "drop_cols = id_cols + stock_cols + asset_income + ['TVAL_AST'] + ['WPFINWGT'] + ['EEDUC']\n",
    "\n",
    "# mask for any hispanic or black only or black + another race\n",
    "race_mask = (sipp_2018.EORIGIN == 1) | (sipp_2018.ERACE.isin([2, 10, 11, 12, 15, 16, 19]))\n",
    "\n",
    "\n",
    "y = sipp_2018[race_mask].EOWN_ST\n",
    "X = sipp_2018[race_mask].drop(drop_cols, axis='columns')"
   ]
  },
  {
   "cell_type": "code",
   "execution_count": 52,
   "id": "presidential-participation",
   "metadata": {},
   "outputs": [],
   "source": [
    "X_train, X_test, y_train, y_test = train_test_split(X, y, test_size=0.20, random_state=23)"
   ]
  },
  {
   "cell_type": "markdown",
   "id": "later-payroll",
   "metadata": {},
   "source": [
    "# Univariate Selection"
   ]
  },
  {
   "cell_type": "markdown",
   "id": "meaning-laundry",
   "metadata": {},
   "source": [
    "## Percent Missing Values\n",
    "* Drop variables that have a high ratio of missing values.\n",
    "* Create binary indicators to denote miss (or non-missing) values.\n",
    "* Review of visualize variables with high ratio of missing values.\n",
    "***\n",
    "#### Thresholds\n",
    "* \\> 95% Discard\n",
    "* 50% - 95% No Imputation\n",
    "* \\< 50% Impute\n",
    "\n",
    "*Other sources recommend discarding nulls above ~65%*\n",
    "\n",
    "Missing values may also be converted or imputed, depending on variable. <br>\n",
    "**Example:** Primary language spoken if respondent doesn't speak English. Na's can be converted to 'Speaks English'."
   ]
  },
  {
   "cell_type": "code",
   "execution_count": 53,
   "id": "imperial-outline",
   "metadata": {},
   "outputs": [
    {
     "data": {
      "text/html": [
       "<div>\n",
       "<style scoped>\n",
       "    .dataframe tbody tr th:only-of-type {\n",
       "        vertical-align: middle;\n",
       "    }\n",
       "\n",
       "    .dataframe tbody tr th {\n",
       "        vertical-align: top;\n",
       "    }\n",
       "\n",
       "    .dataframe thead th {\n",
       "        text-align: right;\n",
       "    }\n",
       "</style>\n",
       "<table border=\"1\" class=\"dataframe\">\n",
       "  <thead>\n",
       "    <tr style=\"text-align: right;\">\n",
       "      <th></th>\n",
       "      <th>percent_missing</th>\n",
       "    </tr>\n",
       "  </thead>\n",
       "  <tbody>\n",
       "    <tr>\n",
       "      <th>TJB5_JOBHRS2</th>\n",
       "      <td>1.000000</td>\n",
       "    </tr>\n",
       "    <tr>\n",
       "      <th>TJSGVNC_STD</th>\n",
       "      <td>1.000000</td>\n",
       "    </tr>\n",
       "    <tr>\n",
       "      <th>EJB6_JOBID</th>\n",
       "      <td>1.000000</td>\n",
       "    </tr>\n",
       "    <tr>\n",
       "      <th>TJB4_CXAMT</th>\n",
       "      <td>1.000000</td>\n",
       "    </tr>\n",
       "    <tr>\n",
       "      <th>EJB6_TYPPAY3</th>\n",
       "      <td>1.000000</td>\n",
       "    </tr>\n",
       "    <tr>\n",
       "      <th>...</th>\n",
       "      <td>...</td>\n",
       "    </tr>\n",
       "    <tr>\n",
       "      <th>EJOOWNSAV</th>\n",
       "      <td>0.748019</td>\n",
       "    </tr>\n",
       "    <tr>\n",
       "      <th>RPNCHILD2</th>\n",
       "      <td>0.739186</td>\n",
       "    </tr>\n",
       "    <tr>\n",
       "      <th>RCHTYP2</th>\n",
       "      <td>0.739186</td>\n",
       "    </tr>\n",
       "    <tr>\n",
       "      <th>TOCCDEBTVAL</th>\n",
       "      <td>0.703761</td>\n",
       "    </tr>\n",
       "    <tr>\n",
       "      <th>EWILLFILE</th>\n",
       "      <td>0.701302</td>\n",
       "    </tr>\n",
       "  </tbody>\n",
       "</table>\n",
       "<p>1617 rows × 1 columns</p>\n",
       "</div>"
      ],
      "text/plain": [
       "              percent_missing\n",
       "TJB5_JOBHRS2         1.000000\n",
       "TJSGVNC_STD          1.000000\n",
       "EJB6_JOBID           1.000000\n",
       "TJB4_CXAMT           1.000000\n",
       "EJB6_TYPPAY3         1.000000\n",
       "...                       ...\n",
       "EJOOWNSAV            0.748019\n",
       "RPNCHILD2            0.739186\n",
       "RCHTYP2              0.739186\n",
       "TOCCDEBTVAL          0.703761\n",
       "EWILLFILE            0.701302\n",
       "\n",
       "[1617 rows x 1 columns]"
      ]
     },
     "execution_count": 53,
     "metadata": {},
     "output_type": "execute_result"
    }
   ],
   "source": [
    "# Return df with all features with % missing values more than 70%\n",
    "desc = X_train.describe().T\n",
    "desc = (desc\n",
    "        .assign(percent_missing = 1 - (desc['count'] / len(X_train)))\n",
    "        .percent_missing\n",
    "        .sort_values(ascending=False)\n",
    "        .to_frame()\n",
    "        .query('percent_missing > .7')\n",
    "       )\n",
    "desc"
   ]
  },
  {
   "cell_type": "markdown",
   "id": "furnished-fraud",
   "metadata": {},
   "source": [
    "**Review High NaN Features**"
   ]
  },
  {
   "cell_type": "code",
   "execution_count": 54,
   "id": "official-replication",
   "metadata": {},
   "outputs": [],
   "source": [
    "# Read Metadata\n",
    "sipp_dict_1 = pd.read_csv('../data/raw/sipp_2018/sippdict_1_of_2.csv')\n",
    "sipp_dict_2 = pd.read_csv('../data/raw/sipp_2018/sippdict_2_of_2.csv')\n",
    "sipp_dict = (pd.concat([sipp_dict_1, sipp_dict_2])\n",
    "             .set_index('Variable')\n",
    "             [['Description', 'Topic','Response Code']]\n",
    "            )\n",
    "# Inner Join High NaN with metadata dict\n",
    "high_nan_metadata = pd.merge(sipp_dict, desc, left_index=True, right_index=True, how='inner')\n",
    "high_nan_metadata.to_csv('../data/interim/sipp2018_person/FOR_REVIEW_high_NaN_features.csv', index=True)\n"
   ]
  },
  {
   "cell_type": "markdown",
   "id": "collective-basis",
   "metadata": {},
   "source": [
    "**Drop Features w/ High % Missing Values**"
   ]
  },
  {
   "cell_type": "code",
   "execution_count": 55,
   "id": "married-drive",
   "metadata": {},
   "outputs": [
    {
     "name": "stdout",
     "output_type": "stream",
     "text": [
      "X_train shape: (10981, 499)\n",
      "X_test shape: (2746, 499)\n"
     ]
    }
   ],
   "source": [
    "high_nan_features = list(desc.T.columns)\n",
    "\n",
    "# Transform train set\n",
    "X_train = X_train.drop(high_nan_features, axis='columns')\n",
    "print(f'X_train shape: {X_train.shape}')\n",
    "\n",
    "# Transform test set\n",
    "X_test = X_test.drop(high_nan_features, axis='columns')\n",
    "print(f'X_test shape: {X_test.shape}')"
   ]
  },
  {
   "cell_type": "markdown",
   "id": "stainless-mattress",
   "metadata": {},
   "source": [
    "## Variance Threshold"
   ]
  },
  {
   "cell_type": "code",
   "execution_count": 56,
   "id": "brilliant-damage",
   "metadata": {},
   "outputs": [
    {
     "name": "stdout",
     "output_type": "stream",
     "text": [
      "There are 8 features with 0 variance.\n"
     ]
    }
   ],
   "source": [
    "# Initialize estimator and fit to training data ----------\n",
    "vt = VarianceThreshold(threshold=0)\n",
    "vt.fit(X_train)\n",
    "vt_mask = vt.get_support()   # Returns True for columns that are NOT constant\n",
    "\n",
    "# Print # of constant features\n",
    "print(f'There are {len(X_train.columns) - sum(vt_mask)} features with 0 variance.')"
   ]
  },
  {
   "cell_type": "code",
   "execution_count": null,
   "id": "automatic-cholesterol",
   "metadata": {
    "jupyter": {
     "source_hidden": true
    },
    "tags": []
   },
   "outputs": [],
   "source": [
    "# Normalized data approach\n",
    "'''normalized_df = X_train / X_train.mean()\n",
    "vt = VarianceThreshold(threshold=(.8*(1-.8)))\n",
    "vt.fit(normalized_df)\n",
    "vt_mask = var_thres.get_support()   # Returns True for columns that are NOT constant\n",
    "\n",
    "# Print # of constant features\n",
    "print(f'There are {len(normalized_df.columns) - sum(vt_mask)} features with 0 variance.')\n",
    "\n",
    "# Transform training df ----------\n",
    "X_train = X_train.loc[:, vt_mask]\n",
    "print(f'There are {len(X_train.columns)} features remaining having dropped features with 0 variance.')\n",
    "'''"
   ]
  },
  {
   "cell_type": "markdown",
   "id": "photographic-blend",
   "metadata": {},
   "source": [
    "**Drop Features Below Variance Threshold**"
   ]
  },
  {
   "cell_type": "code",
   "execution_count": 57,
   "id": "authorized-canyon",
   "metadata": {},
   "outputs": [
    {
     "name": "stdout",
     "output_type": "stream",
     "text": [
      "X_train shape: (10981, 491)\n",
      "X_test shape: (2746, 491)\n"
     ]
    }
   ],
   "source": [
    "# Transform train set\n",
    "X_train = X_train.loc[:, vt_mask]\n",
    "print(f'X_train shape: {X_train.shape}')\n",
    "\n",
    "# Transform test set\n",
    "X_test = X_test.loc[:, vt_mask]\n",
    "print(f'X_test shape: {X_test.shape}')"
   ]
  },
  {
   "cell_type": "markdown",
   "id": "violent-crystal",
   "metadata": {},
   "source": [
    "# Multivariate Selection"
   ]
  },
  {
   "cell_type": "markdown",
   "id": "amended-subdivision",
   "metadata": {},
   "source": [
    "## Pairwise Correlations\n",
    "* Evaluate correlation between independent variables.\n",
    "* Variable pairs that meet the threshold condition should be tested for correlation with the target variable, the more highly correlated independent variable of the pair should be kept.\n",
    "\n",
    "Vishal Patel suggests threshold of .65.<br>\n",
    "[A Practical Guide to Dimensionality Reduction Techniques](https://www.youtube.com/watch?v=ioXKxulmwVQ)"
   ]
  },
  {
   "cell_type": "markdown",
   "id": "integral-intelligence",
   "metadata": {},
   "source": [
    "**This function needs to be refined to return variables pairs so they may be tested with the target variable. Remove duplicate pairs of variables**"
   ]
  },
  {
   "cell_type": "code",
   "execution_count": 58,
   "id": "engaging-oasis",
   "metadata": {},
   "outputs": [],
   "source": [
    "def correlation(dataset, threshold):\n",
    "    '''\n",
    "    Iterates through variable pairs and returns set of feature names that are over provided threshold.\n",
    "    '''\n",
    "    col_corr = set()   # Set of all the names of correlated columns\n",
    "    corr_matrix = dataset.corr()\n",
    "    for i in range(len(corr_matrix.columns)):\n",
    "        for j in range(i):\n",
    "            if abs(corr_matrix.iloc[i, j]) > threshold:  # we are interested in absolute coeff value\n",
    "                colname = corr_matrix.columns[i]   # getting the name of column\n",
    "                col_corr.add(colname)\n",
    "    return col_corr"
   ]
  },
  {
   "cell_type": "code",
   "execution_count": null,
   "id": "seven-immune",
   "metadata": {
    "tags": []
   },
   "outputs": [],
   "source": [
    "# Create correlation matrix and plot heatmap\n",
    "## ----- NOTE: this will not run with too many dimensions. Does not run with sipp2018 ---------\n",
    "'''\n",
    "corr_matrix = X_train.corr()\n",
    "plt.figure(figsize=(12,10))\n",
    "sns.heatmap(corr_matrix, annot=True, cmap=plt.cm.CMRmap_r)\n",
    "plt.show()\n",
    "'''"
   ]
  },
  {
   "cell_type": "code",
   "execution_count": 59,
   "id": "literary-cinema",
   "metadata": {},
   "outputs": [
    {
     "name": "stdout",
     "output_type": "stream",
     "text": [
      "There are 80 pairs of features with a correlation > 0.95.\n"
     ]
    }
   ],
   "source": [
    "# Run correlation test for features\n",
    "corr_threshold = 0.95\n",
    "high_corr_features = correlation(X_train, corr_threshold)\n",
    "print(f'There are {len(high_corr_features)} pairs of features with a correlation > {corr_threshold}.')"
   ]
  },
  {
   "cell_type": "markdown",
   "id": "circular-bobby",
   "metadata": {},
   "source": [
    "**Drop Highly Correlated Features**"
   ]
  },
  {
   "cell_type": "code",
   "execution_count": 60,
   "id": "judicial-assembly",
   "metadata": {},
   "outputs": [
    {
     "name": "stdout",
     "output_type": "stream",
     "text": [
      "X_train shape: (10981, 411)\n",
      "X_test shape: (2746, 411)\n"
     ]
    }
   ],
   "source": [
    "# Transform train set\n",
    "X_train = X_train.drop(high_corr_features, axis='columns')\n",
    "print(f'X_train shape: {X_train.shape}')\n",
    "\n",
    "# Transform test set\n",
    "X_test = X_test.drop(high_corr_features, axis='columns')\n",
    "print(f'X_test shape: {X_test.shape}')"
   ]
  },
  {
   "cell_type": "markdown",
   "id": "sticky-exhaust",
   "metadata": {},
   "source": [
    "## Correlation w/the Target\n",
    "Drop variables that have a very low correlation with the target.<br>\n",
    "If a variable has a very low correlation w/target it wont be useful for the prediction model."
   ]
  },
  {
   "cell_type": "code",
   "execution_count": 61,
   "id": "electrical-frame",
   "metadata": {},
   "outputs": [
    {
     "data": {
      "text/html": [
       "<div>\n",
       "<style scoped>\n",
       "    .dataframe tbody tr th:only-of-type {\n",
       "        vertical-align: middle;\n",
       "    }\n",
       "\n",
       "    .dataframe tbody tr th {\n",
       "        vertical-align: top;\n",
       "    }\n",
       "\n",
       "    .dataframe thead th {\n",
       "        text-align: right;\n",
       "    }\n",
       "</style>\n",
       "<table border=\"1\" class=\"dataframe\">\n",
       "  <thead>\n",
       "    <tr style=\"text-align: right;\">\n",
       "      <th></th>\n",
       "      <th>variable</th>\n",
       "      <th>coefficient</th>\n",
       "    </tr>\n",
       "  </thead>\n",
       "  <tbody>\n",
       "    <tr>\n",
       "      <th>145</th>\n",
       "      <td>EOWN_MF</td>\n",
       "      <td>0.303519</td>\n",
       "    </tr>\n",
       "    <tr>\n",
       "      <th>144</th>\n",
       "      <td>EOWN_MM</td>\n",
       "      <td>0.236899</td>\n",
       "    </tr>\n",
       "    <tr>\n",
       "      <th>150</th>\n",
       "      <td>EOWN_IRAKEO</td>\n",
       "      <td>0.202131</td>\n",
       "    </tr>\n",
       "    <tr>\n",
       "      <th>410</th>\n",
       "      <td>EEDUC_X</td>\n",
       "      <td>0.180706</td>\n",
       "    </tr>\n",
       "    <tr>\n",
       "      <th>225</th>\n",
       "      <td>THVAL_RET</td>\n",
       "      <td>0.176203</td>\n",
       "    </tr>\n",
       "    <tr>\n",
       "      <th>151</th>\n",
       "      <td>EOWN_THR401</td>\n",
       "      <td>0.174566</td>\n",
       "    </tr>\n",
       "    <tr>\n",
       "      <th>214</th>\n",
       "      <td>THVAL_BANK</td>\n",
       "      <td>0.173682</td>\n",
       "    </tr>\n",
       "    <tr>\n",
       "      <th>201</th>\n",
       "      <td>TVAL_RET</td>\n",
       "      <td>0.172916</td>\n",
       "    </tr>\n",
       "    <tr>\n",
       "      <th>176</th>\n",
       "      <td>TLIFE_FVAL</td>\n",
       "      <td>0.168684</td>\n",
       "    </tr>\n",
       "    <tr>\n",
       "      <th>148</th>\n",
       "      <td>EOWN_GOVS</td>\n",
       "      <td>0.167155</td>\n",
       "    </tr>\n",
       "    <tr>\n",
       "      <th>186</th>\n",
       "      <td>TVAL_BANK</td>\n",
       "      <td>0.166322</td>\n",
       "    </tr>\n",
       "    <tr>\n",
       "      <th>408</th>\n",
       "      <td>TFCYINCPOV</td>\n",
       "      <td>0.161089</td>\n",
       "    </tr>\n",
       "    <tr>\n",
       "      <th>155</th>\n",
       "      <td>EOWN_ANNTR</td>\n",
       "      <td>0.157462</td>\n",
       "    </tr>\n",
       "    <tr>\n",
       "      <th>143</th>\n",
       "      <td>EOWN_CD</td>\n",
       "      <td>0.154818</td>\n",
       "    </tr>\n",
       "    <tr>\n",
       "      <th>122</th>\n",
       "      <td>TJB1_WKSUM1</td>\n",
       "      <td>0.148727</td>\n",
       "    </tr>\n",
       "    <tr>\n",
       "      <th>204</th>\n",
       "      <td>TVAL_HOME</td>\n",
       "      <td>0.137623</td>\n",
       "    </tr>\n",
       "    <tr>\n",
       "      <th>153</th>\n",
       "      <td>EOWN_LIFE</td>\n",
       "      <td>0.136118</td>\n",
       "    </tr>\n",
       "    <tr>\n",
       "      <th>205</th>\n",
       "      <td>TDEBT_HOME</td>\n",
       "      <td>0.131680</td>\n",
       "    </tr>\n",
       "    <tr>\n",
       "      <th>123</th>\n",
       "      <td>TJB1_MSUM</td>\n",
       "      <td>0.126648</td>\n",
       "    </tr>\n",
       "    <tr>\n",
       "      <th>112</th>\n",
       "      <td>TJB1_OCC</td>\n",
       "      <td>0.124753</td>\n",
       "    </tr>\n",
       "    <tr>\n",
       "      <th>407</th>\n",
       "      <td>TFINCPOV</td>\n",
       "      <td>0.124654</td>\n",
       "    </tr>\n",
       "    <tr>\n",
       "      <th>200</th>\n",
       "      <td>TVAL_OTH</td>\n",
       "      <td>0.120004</td>\n",
       "    </tr>\n",
       "    <tr>\n",
       "      <th>362</th>\n",
       "      <td>EPR_SCRNR</td>\n",
       "      <td>0.118620</td>\n",
       "    </tr>\n",
       "    <tr>\n",
       "      <th>146</th>\n",
       "      <td>EOWN_RP</td>\n",
       "      <td>0.118393</td>\n",
       "    </tr>\n",
       "    <tr>\n",
       "      <th>379</th>\n",
       "      <td>RPRIMTH</td>\n",
       "      <td>0.118216</td>\n",
       "    </tr>\n",
       "  </tbody>\n",
       "</table>\n",
       "</div>"
      ],
      "text/plain": [
       "        variable  coefficient\n",
       "145      EOWN_MF     0.303519\n",
       "144      EOWN_MM     0.236899\n",
       "150  EOWN_IRAKEO     0.202131\n",
       "410      EEDUC_X     0.180706\n",
       "225    THVAL_RET     0.176203\n",
       "151  EOWN_THR401     0.174566\n",
       "214   THVAL_BANK     0.173682\n",
       "201     TVAL_RET     0.172916\n",
       "176   TLIFE_FVAL     0.168684\n",
       "148    EOWN_GOVS     0.167155\n",
       "186    TVAL_BANK     0.166322\n",
       "408   TFCYINCPOV     0.161089\n",
       "155   EOWN_ANNTR     0.157462\n",
       "143      EOWN_CD     0.154818\n",
       "122  TJB1_WKSUM1     0.148727\n",
       "204    TVAL_HOME     0.137623\n",
       "153    EOWN_LIFE     0.136118\n",
       "205   TDEBT_HOME     0.131680\n",
       "123    TJB1_MSUM     0.126648\n",
       "112     TJB1_OCC     0.124753\n",
       "407     TFINCPOV     0.124654\n",
       "200     TVAL_OTH     0.120004\n",
       "362    EPR_SCRNR     0.118620\n",
       "146      EOWN_RP     0.118393\n",
       "379      RPRIMTH     0.118216"
      ]
     },
     "execution_count": 61,
     "metadata": {},
     "output_type": "execute_result"
    }
   ],
   "source": [
    "# Create dataframe with variables and correlation with target \n",
    "y_corr = pd.DataFrame(columns=['variable', 'coefficient'])\n",
    "\n",
    "# Iterate through each column in training set\n",
    "for col in X_train.columns:\n",
    "    y_corr.loc[len(y_corr.index)] = [col, abs(y.corr(X_train[col]))]\n",
    "    \n",
    "y_corr.sort_values(by='coefficient', ascending=False).head(25)"
   ]
  },
  {
   "cell_type": "markdown",
   "id": "driving-sarah",
   "metadata": {},
   "source": [
    "Plot the distribution to evaluate a coefficient cutoff for variables to keep or discard.<br>\n",
    "Consider the elbow in the curve and the number of variables retained."
   ]
  },
  {
   "cell_type": "code",
   "execution_count": 62,
   "id": "amateur-assessment",
   "metadata": {},
   "outputs": [
    {
     "data": {
      "image/png": "[encoded data removed]",
      "text/plain": [
       "<Figure size 432x288 with 1 Axes>"
      ]
     },
     "metadata": {
      "needs_background": "light"
     },
     "output_type": "display_data"
    }
   ],
   "source": [
    "plt.plot(y_corr\n",
    "         .sort_values(by='coefficient', ascending=False)\n",
    "         .coefficient\n",
    "         .to_list()\n",
    "        );"
   ]
  },
  {
   "cell_type": "code",
   "execution_count": 68,
   "id": "engaged-russell",
   "metadata": {},
   "outputs": [],
   "source": [
    "y_corr[y_corr.coefficient >= .10].sort_values(by='coefficient', ascending=False)\n",
    "y_corr_features = y_corr[y_corr.coefficient >= .10].variable.to_list()"
   ]
  },
  {
   "cell_type": "code",
   "execution_count": 69,
   "id": "continued-salad",
   "metadata": {},
   "outputs": [
    {
     "data": {
      "text/plain": [
       "['EJB1_WSHMWRK',\n",
       " 'TJB1_OCC',\n",
       " 'TJB1_WKSUM1',\n",
       " 'TJB1_MSUM',\n",
       " 'TPEARN',\n",
       " 'EOWN_SAV',\n",
       " 'EOWN_CD',\n",
       " 'EOWN_MM',\n",
       " 'EOWN_MF',\n",
       " 'EOWN_RP',\n",
       " 'EOWN_RE',\n",
       " 'EOWN_GOVS',\n",
       " 'EOWN_MCBD',\n",
       " 'EOWN_IRAKEO',\n",
       " 'EOWN_THR401',\n",
       " 'EOWN_PENSION',\n",
       " 'EOWN_LIFE',\n",
       " 'EOWN_ANNTR',\n",
       " 'TLIFE_FVAL',\n",
       " 'TPRLOANAMT',\n",
       " 'TINC_BANK',\n",
       " 'TVAL_BANK',\n",
       " 'TVAL_OTH',\n",
       " 'TVAL_RET',\n",
       " 'TVAL_HOME',\n",
       " 'TDEBT_HOME',\n",
       " 'TVAL_VEH',\n",
       " 'TEQ_VEH',\n",
       " 'TDEBT_SEC',\n",
       " 'THINC_BANK',\n",
       " 'THVAL_BANK',\n",
       " 'THVAL_OTH',\n",
       " 'THVAL_RET',\n",
       " 'THVAL_VEH',\n",
       " 'THEQ_VEH',\n",
       " 'EWHIPAYC',\n",
       " 'EWMDPAY',\n",
       " 'EPR_SCRNR',\n",
       " 'RPRIMTH',\n",
       " 'RPRITYPE1',\n",
       " 'THTOTINC',\n",
       " 'TFINCPOV',\n",
       " 'TFCYINCPOV',\n",
       " 'EEDUC_X']"
      ]
     },
     "execution_count": 69,
     "metadata": {},
     "output_type": "execute_result"
    }
   ],
   "source": [
    "y_corr_features"
   ]
  },
  {
   "cell_type": "code",
   "execution_count": null,
   "id": "korean-sight",
   "metadata": {},
   "outputs": [],
   "source": [
    "X_train = X_train.loc[:,y_corr_features]\n",
    "X_test = X_test.loc[:,y_corr_features]"
   ]
  },
  {
   "cell_type": "code",
   "execution_count": null,
   "id": "perceived-sleeping",
   "metadata": {},
   "outputs": [],
   "source": [
    "# drop features with NA's - go back and impute these\n",
    "X_train = X_train.drop(['ENJ_NOWRK4', 'TJB1_WKSUM1'], axis='columns')\n",
    "X_test = X_test.drop(['ENJ_NOWRK4', 'TJB1_WKSUM1'], axis='columns')"
   ]
  },
  {
   "cell_type": "code",
   "execution_count": null,
   "id": "protected-citation",
   "metadata": {},
   "outputs": [],
   "source": [
    "X_train"
   ]
  },
  {
   "cell_type": "code",
   "execution_count": null,
   "id": "suspended-promise",
   "metadata": {},
   "outputs": [],
   "source": [
    "from sklearn.linear_model import LogisticRegression\n",
    "from sklearn import metrics"
   ]
  },
  {
   "cell_type": "code",
   "execution_count": null,
   "id": "developed-delhi",
   "metadata": {},
   "outputs": [],
   "source": [
    "logreg = LogisticRegression(max_iter=1000)\n",
    "logreg.fit(X_train, y_train)"
   ]
  },
  {
   "cell_type": "code",
   "execution_count": null,
   "id": "lyric-console",
   "metadata": {
    "tags": []
   },
   "outputs": [],
   "source": [
    "y_pred = logreg.predict(X_test)"
   ]
  },
  {
   "cell_type": "code",
   "execution_count": null,
   "id": "flexible-glucose",
   "metadata": {},
   "outputs": [],
   "source": [
    "print('Accuracy of logistic regression classifier on test set: {:.2f}'.format(logreg.score(X_test, y_test)))"
   ]
  },
  {
   "cell_type": "code",
   "execution_count": null,
   "id": "adolescent-rouge",
   "metadata": {},
   "outputs": [],
   "source": [
    "from sklearn.metrics import confusion_matrix\n",
    "confusion_matrix = confusion_matrix(y_test, y_pred)\n",
    "print(confusion_matrix)"
   ]
  },
  {
   "cell_type": "code",
   "execution_count": null,
   "id": "painful-begin",
   "metadata": {},
   "outputs": [],
   "source": [
    "len(X_train.columns)"
   ]
  },
  {
   "cell_type": "code",
   "execution_count": 72,
   "id": "commercial-bacteria",
   "metadata": {},
   "outputs": [],
   "source": [
    "keep_cols = y_corr_features + ['EOWN_ST']\n",
    "sipp_2018.loc[race_mask, keep_cols].to_csv('../data/interim/model_baseline/baseline_hispanic_blk.csv', index=True)"
   ]
  },
  {
   "cell_type": "code",
   "execution_count": 71,
   "id": "suspended-gateway",
   "metadata": {},
   "outputs": [
    {
     "data": {
      "text/html": [
       "<div>\n",
       "<style scoped>\n",
       "    .dataframe tbody tr th:only-of-type {\n",
       "        vertical-align: middle;\n",
       "    }\n",
       "\n",
       "    .dataframe tbody tr th {\n",
       "        vertical-align: top;\n",
       "    }\n",
       "\n",
       "    .dataframe thead th {\n",
       "        text-align: right;\n",
       "    }\n",
       "</style>\n",
       "<table border=\"1\" class=\"dataframe\">\n",
       "  <thead>\n",
       "    <tr style=\"text-align: right;\">\n",
       "      <th></th>\n",
       "      <th>EJB1_WSHMWRK</th>\n",
       "      <th>TJB1_OCC</th>\n",
       "      <th>TJB1_WKSUM1</th>\n",
       "      <th>TJB1_MSUM</th>\n",
       "      <th>TPEARN</th>\n",
       "      <th>EOWN_SAV</th>\n",
       "      <th>EOWN_CD</th>\n",
       "      <th>EOWN_MM</th>\n",
       "      <th>EOWN_MF</th>\n",
       "      <th>EOWN_RP</th>\n",
       "      <th>...</th>\n",
       "      <th>EWHIPAYC</th>\n",
       "      <th>EWMDPAY</th>\n",
       "      <th>EPR_SCRNR</th>\n",
       "      <th>RPRIMTH</th>\n",
       "      <th>RPRITYPE1</th>\n",
       "      <th>THTOTINC</th>\n",
       "      <th>TFINCPOV</th>\n",
       "      <th>TFCYINCPOV</th>\n",
       "      <th>EEDUC_X</th>\n",
       "      <th>EOWN_ST</th>\n",
       "    </tr>\n",
       "  </thead>\n",
       "  <tbody>\n",
       "    <tr>\n",
       "      <th>0</th>\n",
       "      <td>2.0</td>\n",
       "      <td>9620.0</td>\n",
       "      <td>400.0</td>\n",
       "      <td>1771.0</td>\n",
       "      <td>1771.0</td>\n",
       "      <td>2</td>\n",
       "      <td>2</td>\n",
       "      <td>2</td>\n",
       "      <td>2</td>\n",
       "      <td>2</td>\n",
       "      <td>...</td>\n",
       "      <td>0</td>\n",
       "      <td>0</td>\n",
       "      <td>2</td>\n",
       "      <td>2</td>\n",
       "      <td>2</td>\n",
       "      <td>1738</td>\n",
       "      <td>1.627</td>\n",
       "      <td>1.635</td>\n",
       "      <td>5</td>\n",
       "      <td>2</td>\n",
       "    </tr>\n",
       "    <tr>\n",
       "      <th>2</th>\n",
       "      <td>NaN</td>\n",
       "      <td>NaN</td>\n",
       "      <td>NaN</td>\n",
       "      <td>NaN</td>\n",
       "      <td>1900.0</td>\n",
       "      <td>2</td>\n",
       "      <td>2</td>\n",
       "      <td>2</td>\n",
       "      <td>2</td>\n",
       "      <td>2</td>\n",
       "      <td>...</td>\n",
       "      <td>0</td>\n",
       "      <td>0</td>\n",
       "      <td>2</td>\n",
       "      <td>2</td>\n",
       "      <td>2</td>\n",
       "      <td>8114</td>\n",
       "      <td>3.768</td>\n",
       "      <td>3.358</td>\n",
       "      <td>6</td>\n",
       "      <td>2</td>\n",
       "    </tr>\n",
       "    <tr>\n",
       "      <th>4</th>\n",
       "      <td>2.0</td>\n",
       "      <td>6260.0</td>\n",
       "      <td>0.0</td>\n",
       "      <td>6250.0</td>\n",
       "      <td>6250.0</td>\n",
       "      <td>2</td>\n",
       "      <td>2</td>\n",
       "      <td>2</td>\n",
       "      <td>2</td>\n",
       "      <td>2</td>\n",
       "      <td>...</td>\n",
       "      <td>4</td>\n",
       "      <td>1</td>\n",
       "      <td>1</td>\n",
       "      <td>1</td>\n",
       "      <td>1</td>\n",
       "      <td>8114</td>\n",
       "      <td>3.768</td>\n",
       "      <td>3.358</td>\n",
       "      <td>5</td>\n",
       "      <td>2</td>\n",
       "    </tr>\n",
       "    <tr>\n",
       "      <th>11</th>\n",
       "      <td>2.0</td>\n",
       "      <td>2545.0</td>\n",
       "      <td>250.0</td>\n",
       "      <td>1107.0</td>\n",
       "      <td>1107.0</td>\n",
       "      <td>1</td>\n",
       "      <td>2</td>\n",
       "      <td>2</td>\n",
       "      <td>2</td>\n",
       "      <td>2</td>\n",
       "      <td>...</td>\n",
       "      <td>2</td>\n",
       "      <td>4</td>\n",
       "      <td>1</td>\n",
       "      <td>1</td>\n",
       "      <td>2</td>\n",
       "      <td>2768</td>\n",
       "      <td>2.013</td>\n",
       "      <td>2.336</td>\n",
       "      <td>9</td>\n",
       "      <td>2</td>\n",
       "    </tr>\n",
       "    <tr>\n",
       "      <th>12</th>\n",
       "      <td>2.0</td>\n",
       "      <td>860.0</td>\n",
       "      <td>387.0</td>\n",
       "      <td>1714.0</td>\n",
       "      <td>1714.0</td>\n",
       "      <td>2</td>\n",
       "      <td>2</td>\n",
       "      <td>2</td>\n",
       "      <td>2</td>\n",
       "      <td>2</td>\n",
       "      <td>...</td>\n",
       "      <td>0</td>\n",
       "      <td>0</td>\n",
       "      <td>1</td>\n",
       "      <td>1</td>\n",
       "      <td>2</td>\n",
       "      <td>2768</td>\n",
       "      <td>2.013</td>\n",
       "      <td>2.336</td>\n",
       "      <td>7</td>\n",
       "      <td>2</td>\n",
       "    </tr>\n",
       "    <tr>\n",
       "      <th>...</th>\n",
       "      <td>...</td>\n",
       "      <td>...</td>\n",
       "      <td>...</td>\n",
       "      <td>...</td>\n",
       "      <td>...</td>\n",
       "      <td>...</td>\n",
       "      <td>...</td>\n",
       "      <td>...</td>\n",
       "      <td>...</td>\n",
       "      <td>...</td>\n",
       "      <td>...</td>\n",
       "      <td>...</td>\n",
       "      <td>...</td>\n",
       "      <td>...</td>\n",
       "      <td>...</td>\n",
       "      <td>...</td>\n",
       "      <td>...</td>\n",
       "      <td>...</td>\n",
       "      <td>...</td>\n",
       "      <td>...</td>\n",
       "      <td>...</td>\n",
       "    </tr>\n",
       "    <tr>\n",
       "      <th>49699</th>\n",
       "      <td>2.0</td>\n",
       "      <td>8810.0</td>\n",
       "      <td>665.0</td>\n",
       "      <td>2945.0</td>\n",
       "      <td>2945.0</td>\n",
       "      <td>1</td>\n",
       "      <td>2</td>\n",
       "      <td>2</td>\n",
       "      <td>2</td>\n",
       "      <td>1</td>\n",
       "      <td>...</td>\n",
       "      <td>1</td>\n",
       "      <td>0</td>\n",
       "      <td>2</td>\n",
       "      <td>2</td>\n",
       "      <td>2</td>\n",
       "      <td>11315</td>\n",
       "      <td>2.538</td>\n",
       "      <td>2.462</td>\n",
       "      <td>6</td>\n",
       "      <td>2</td>\n",
       "    </tr>\n",
       "    <tr>\n",
       "      <th>49700</th>\n",
       "      <td>2.0</td>\n",
       "      <td>4720.0</td>\n",
       "      <td>0.0</td>\n",
       "      <td>3600.0</td>\n",
       "      <td>1256.0</td>\n",
       "      <td>1</td>\n",
       "      <td>2</td>\n",
       "      <td>2</td>\n",
       "      <td>2</td>\n",
       "      <td>2</td>\n",
       "      <td>...</td>\n",
       "      <td>0</td>\n",
       "      <td>0</td>\n",
       "      <td>1</td>\n",
       "      <td>1</td>\n",
       "      <td>1</td>\n",
       "      <td>11315</td>\n",
       "      <td>2.538</td>\n",
       "      <td>2.462</td>\n",
       "      <td>7</td>\n",
       "      <td>2</td>\n",
       "    </tr>\n",
       "    <tr>\n",
       "      <th>49701</th>\n",
       "      <td>NaN</td>\n",
       "      <td>NaN</td>\n",
       "      <td>NaN</td>\n",
       "      <td>NaN</td>\n",
       "      <td>NaN</td>\n",
       "      <td>2</td>\n",
       "      <td>2</td>\n",
       "      <td>2</td>\n",
       "      <td>2</td>\n",
       "      <td>2</td>\n",
       "      <td>...</td>\n",
       "      <td>1</td>\n",
       "      <td>0</td>\n",
       "      <td>2</td>\n",
       "      <td>2</td>\n",
       "      <td>2</td>\n",
       "      <td>11315</td>\n",
       "      <td>2.538</td>\n",
       "      <td>2.462</td>\n",
       "      <td>9</td>\n",
       "      <td>2</td>\n",
       "    </tr>\n",
       "    <tr>\n",
       "      <th>49702</th>\n",
       "      <td>NaN</td>\n",
       "      <td>NaN</td>\n",
       "      <td>NaN</td>\n",
       "      <td>NaN</td>\n",
       "      <td>NaN</td>\n",
       "      <td>1</td>\n",
       "      <td>2</td>\n",
       "      <td>2</td>\n",
       "      <td>2</td>\n",
       "      <td>2</td>\n",
       "      <td>...</td>\n",
       "      <td>1</td>\n",
       "      <td>1</td>\n",
       "      <td>2</td>\n",
       "      <td>2</td>\n",
       "      <td>2</td>\n",
       "      <td>11315</td>\n",
       "      <td>2.538</td>\n",
       "      <td>2.462</td>\n",
       "      <td>5</td>\n",
       "      <td>2</td>\n",
       "    </tr>\n",
       "    <tr>\n",
       "      <th>49703</th>\n",
       "      <td>2.0</td>\n",
       "      <td>8810.0</td>\n",
       "      <td>665.0</td>\n",
       "      <td>2945.0</td>\n",
       "      <td>2945.0</td>\n",
       "      <td>2</td>\n",
       "      <td>2</td>\n",
       "      <td>1</td>\n",
       "      <td>2</td>\n",
       "      <td>1</td>\n",
       "      <td>...</td>\n",
       "      <td>1</td>\n",
       "      <td>0</td>\n",
       "      <td>2</td>\n",
       "      <td>2</td>\n",
       "      <td>2</td>\n",
       "      <td>11315</td>\n",
       "      <td>2.538</td>\n",
       "      <td>2.462</td>\n",
       "      <td>6</td>\n",
       "      <td>1</td>\n",
       "    </tr>\n",
       "  </tbody>\n",
       "</table>\n",
       "<p>13727 rows × 45 columns</p>\n",
       "</div>"
      ],
      "text/plain": [
       "       EJB1_WSHMWRK  TJB1_OCC  TJB1_WKSUM1  TJB1_MSUM  TPEARN  EOWN_SAV  \\\n",
       "0               2.0    9620.0        400.0     1771.0  1771.0         2   \n",
       "2               NaN       NaN          NaN        NaN  1900.0         2   \n",
       "4               2.0    6260.0          0.0     6250.0  6250.0         2   \n",
       "11              2.0    2545.0        250.0     1107.0  1107.0         1   \n",
       "12              2.0     860.0        387.0     1714.0  1714.0         2   \n",
       "...             ...       ...          ...        ...     ...       ...   \n",
       "49699           2.0    8810.0        665.0     2945.0  2945.0         1   \n",
       "49700           2.0    4720.0          0.0     3600.0  1256.0         1   \n",
       "49701           NaN       NaN          NaN        NaN     NaN         2   \n",
       "49702           NaN       NaN          NaN        NaN     NaN         1   \n",
       "49703           2.0    8810.0        665.0     2945.0  2945.0         2   \n",
       "\n",
       "       EOWN_CD  EOWN_MM  EOWN_MF  EOWN_RP  ...  EWHIPAYC  EWMDPAY  EPR_SCRNR  \\\n",
       "0            2        2        2        2  ...         0        0          2   \n",
       "2            2        2        2        2  ...         0        0          2   \n",
       "4            2        2        2        2  ...         4        1          1   \n",
       "11           2        2        2        2  ...         2        4          1   \n",
       "12           2        2        2        2  ...         0        0          1   \n",
       "...        ...      ...      ...      ...  ...       ...      ...        ...   \n",
       "49699        2        2        2        1  ...         1        0          2   \n",
       "49700        2        2        2        2  ...         0        0          1   \n",
       "49701        2        2        2        2  ...         1        0          2   \n",
       "49702        2        2        2        2  ...         1        1          2   \n",
       "49703        2        1        2        1  ...         1        0          2   \n",
       "\n",
       "       RPRIMTH  RPRITYPE1  THTOTINC  TFINCPOV  TFCYINCPOV  EEDUC_X  EOWN_ST  \n",
       "0            2          2      1738     1.627       1.635        5        2  \n",
       "2            2          2      8114     3.768       3.358        6        2  \n",
       "4            1          1      8114     3.768       3.358        5        2  \n",
       "11           1          2      2768     2.013       2.336        9        2  \n",
       "12           1          2      2768     2.013       2.336        7        2  \n",
       "...        ...        ...       ...       ...         ...      ...      ...  \n",
       "49699        2          2     11315     2.538       2.462        6        2  \n",
       "49700        1          1     11315     2.538       2.462        7        2  \n",
       "49701        2          2     11315     2.538       2.462        9        2  \n",
       "49702        2          2     11315     2.538       2.462        5        2  \n",
       "49703        2          2     11315     2.538       2.462        6        1  \n",
       "\n",
       "[13727 rows x 45 columns]"
      ]
     },
     "execution_count": 71,
     "metadata": {},
     "output_type": "execute_result"
    }
   ],
   "source": [
    "sipp_2018.loc[race_mask, keep_cols]"
   ]
  },
  {
   "cell_type": "code",
   "execution_count": null,
   "id": "beginning-collins",
   "metadata": {},
   "outputs": [],
   "source": []
  }
 ],
 "metadata": {
  "kernelspec": {
   "display_name": "Team 107 Capstone Project",
   "language": "python",
   "name": "team_107_venv"
  },
  "language_info": {
   "codemirror_mode": {
    "name": "ipython",
    "version": 3
   },
   "file_extension": ".py",
   "mimetype": "text/x-python",
   "name": "python",
   "nbconvert_exporter": "python",
   "pygments_lexer": "ipython3",
   "version": "3.9.2"
  }
 },
 "nbformat": 4,
 "nbformat_minor": 5
}

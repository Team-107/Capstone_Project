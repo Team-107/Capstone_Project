{
 "cells": [
  {
   "cell_type": "code",
   "execution_count": 1,
   "id": "periodic-walnut",
   "metadata": {
    "tags": []
   },
   "outputs": [],
   "source": [
    "import time\n",
    "import numpy as np\n",
    "import pandas as pd"
   ]
  },
  {
   "cell_type": "markdown",
   "id": "regulation-wells",
   "metadata": {},
   "source": [
    "### Load Feature Schema & Response Code Dictionary from json"
   ]
  },
  {
   "cell_type": "code",
   "execution_count": 2,
   "id": "seven-dover",
   "metadata": {
    "tags": []
   },
   "outputs": [],
   "source": [
    "# Schema for import\n",
    "rd_schema = pd.read_json('../data/raw/sipp_2018/pu2018_schema.json')\n",
    "rd_schema['dtype'] = (['Int64' if x == 'integer'\n",
    "                       else 'object' if x == 'string'\n",
    "                       else 'Float64' if x == 'float'\n",
    "                       else 'ERROR'\n",
    "                       for x in rd_schema['dtype']]\n",
    "                     )\n",
    "\n",
    "# Response Code Dict for recoding factors to strings\n",
    "def load_response_code_dict():\n",
    "    import json\n",
    "    with open('../data/interim/response_code_dict.json') as jf:\n",
    "        response_code_dict = json.load(jf)\n",
    "    return response_code_dict\n",
    "\n",
    "rcode_dict = load_response_code_dict()"
   ]
  },
  {
   "cell_type": "markdown",
   "id": "cellular-refund",
   "metadata": {},
   "source": [
    "### Choose Features for Import\n",
    "#### Core Features"
   ]
  },
  {
   "cell_type": "code",
   "execution_count": 3,
   "id": "occupied-military",
   "metadata": {
    "tags": []
   },
   "outputs": [
    {
     "name": "stdout",
     "output_type": "stream",
     "text": [
      "You are importing 25 core columns\n"
     ]
    }
   ],
   "source": [
    "# This cell is for seleting which of the ~5,000 features to import\n",
    "\n",
    "# Initialize lists with column names to read from csv into df\n",
    "\n",
    "# Set of Standard columns suggested by SIPP documentation\n",
    "ref_cols = ['SSUID', 'PNUM', 'ERESIDENCEID', \n",
    "            'ERELRPE', 'RFAMNUM', 'RFAMREF', \n",
    "            'MONTHCODE', 'RIN_UNIV', 'WPFINWGT',\n",
    "           ]\n",
    "\n",
    "stock_core = ['EOWN_ST', 'TOSTVAL',\n",
    "              'EJOOWNST', 'TJOSTVAL',\n",
    "              'EJSOWNST', 'TJSSTVAL',\n",
    "             ]\n",
    "\n",
    "res_core = ['TEHC_ST', 'TEHC_METRO']\n",
    "\n",
    "demo_core = ['TAGE', 'EEDUC',\n",
    "             'EORIGIN', 'ERACE', 'TRACE',\n",
    "             'ESEX', 'TBORNPLACE', 'EBORNUS',\n",
    "            ]\n",
    "\n",
    "# Concatenate columns to import\n",
    "core_cols = (ref_cols\n",
    "            + res_core\n",
    "            + demo_core\n",
    "            + stock_core\n",
    "           )\n",
    "\n",
    "print(f'You are importing {len(core_cols)} core columns')"
   ]
  },
  {
   "cell_type": "markdown",
   "id": "developmental-rating",
   "metadata": {},
   "source": [
    "#### Optional Features"
   ]
  },
  {
   "cell_type": "code",
   "execution_count": 4,
   "id": "connected-pixel",
   "metadata": {
    "tags": []
   },
   "outputs": [
    {
     "name": "stdout",
     "output_type": "stream",
     "text": [
      "You are importing 19 optional columns\n"
     ]
    }
   ],
   "source": [
    "demo_explore = ['ESPEAK', 'RAFEVER', 'RANY5',\n",
    "                'RFAMKIND', 'RFPERSONS', 'RFPERSONSWT2',\n",
    "                'RFRELU18', 'RFRELU18WT2', 'RLNGISOL',\n",
    "                'EMS', 'ECITIZEN', 'ENATCIT',\n",
    "                'TIMSTAT', 'TYRENTRY', 'EHOWWELL',\n",
    "                'TLANG1', 'EDOB_BMONTH', 'RHNUM65OVER',\n",
    "                'RHNUM65OVRT2', \n",
    "               ]\n",
    "\n",
    "opt_cols = (demo_explore\n",
    "           )\n",
    "\n",
    "print(f'You are importing {len(opt_cols)} optional columns')"
   ]
  },
  {
   "cell_type": "markdown",
   "id": "nervous-access",
   "metadata": {},
   "source": [
    "#### Combine Core and Optional Features"
   ]
  },
  {
   "cell_type": "code",
   "execution_count": 5,
   "id": "successful-memphis",
   "metadata": {
    "tags": []
   },
   "outputs": [
    {
     "name": "stdout",
     "output_type": "stream",
     "text": [
      "You are importing 44 total columns\n"
     ]
    }
   ],
   "source": [
    "use_cols = core_cols + opt_cols\n",
    "print(f'You are importing {len(use_cols)} total columns')"
   ]
  },
  {
   "cell_type": "markdown",
   "id": "identical-novelty",
   "metadata": {},
   "source": [
    "### Load & Format"
   ]
  },
  {
   "cell_type": "code",
   "execution_count": 6,
   "id": "acceptable-dragon",
   "metadata": {},
   "outputs": [
    {
     "name": "stdout",
     "output_type": "stream",
     "text": [
      "Read with Pandas: 117.09956192970276 seconds.\n",
      "Imported dataframe has 763186 rows and 44 columns/s.\n"
     ]
    }
   ],
   "source": [
    "# Load dataset. This works on my computer (takes about 99 secs to load 26 columns).\n",
    "start = time.time()\n",
    "sipp_2018 = pd.read_csv(\"../data/raw/sipp_2018/pu2018.csv\",\n",
    "                      names=rd_schema['name'],\n",
    "                      dtype=dict([(i,v) for i,v in zip(rd_schema.name, rd_schema.dtype)]),\n",
    "                      sep='|',\n",
    "                      header=0,\n",
    "                      usecols=use_cols,\n",
    "                     )\n",
    "end = time.time()\n",
    "print(f'Read with Pandas: {end - start} seconds.')\n",
    "print(f'Imported dataframe has {sipp_2018.shape[0]} rows and {sipp_2018.shape[1]} columns/s.')\n",
    "\n",
    "# Set df column order & reformat column names\n",
    "sipp_2018 = sipp_2018[use_cols]\n",
    "sipp_2018.columns = [name.lower().replace(' ', '_') for name in sipp_2018.columns]"
   ]
  },
  {
   "cell_type": "markdown",
   "id": "bacterial-heater",
   "metadata": {},
   "source": [
    "### Recode Response Factors to Strings"
   ]
  },
  {
   "cell_type": "code",
   "execution_count": null,
   "id": "southern-africa",
   "metadata": {},
   "outputs": [],
   "source": [
    "sipp_2018_recode = sipp_2018.copy()\n",
    "for col in sipp_2018_recode.columns:\n",
    "    if col in rcode_dict:\n",
    "        sipp_2018_recode[col] = (sipp_2018_recode\n",
    "                                 [col]\n",
    "                                 .astype(str)\n",
    "                                 .map(rcode_dict.get(col), na_action='ignore')\n",
    "                                )    "
   ]
  },
  {
   "cell_type": "markdown",
   "id": "weekly-trout",
   "metadata": {},
   "source": [
    "### Collapse Observations to the Person Level\n",
    "* Keep all respondent observations in your sample universe\n",
    "    * Determine whether you need 1 obs per person or all 12"
   ]
  },
  {
   "cell_type": "code",
   "execution_count": 11,
   "id": "australian-shannon",
   "metadata": {
    "tags": []
   },
   "outputs": [
    {
     "name": "stdout",
     "output_type": "stream",
     "text": [
      "There are 63915 people in the sample.\n"
     ]
    }
   ],
   "source": [
    "sipp_2018_person = (sipp_2018\n",
    "                    .sort_values(by=['ssuid', 'pnum', 'monthcode'], \n",
    "                                 ascending=[True, True, False])\n",
    "                    .drop_duplicates(['ssuid', 'pnum'])\n",
    "                    .query('rin_univ > 0')\n",
    "                    .drop(['monthcode', 'rin_univ'], axis='columns')\n",
    "                   )\n",
    "\n",
    "print(f'There are {sipp_2018_person.shape[0]} people in the sample.')"
   ]
  },
  {
   "cell_type": "markdown",
   "id": "universal-upgrade",
   "metadata": {},
   "source": [
    "### Collapse Observations to the Family Level\n",
    "* Keep 1 observation per family\n",
    "* *rfamref*: pnum of family reference person\n",
    "* *rfamkind*: kind of family\n",
    "* *rfamnum*: family number\n",
    "\n",
    "**Family**: a set of people related by blood, marriage, or adoption.<br/>\n",
    "**Reference person**: the owner of renter of the housing unit (the first, if more than one)\n",
    "\n",
    "Household and family variables are recorded in each sample member's observation."
   ]
  },
  {
   "cell_type": "code",
   "execution_count": 12,
   "id": "found-yacht",
   "metadata": {},
   "outputs": [
    {
     "name": "stdout",
     "output_type": "stream",
     "text": [
      "There are 29689 families in the sample.\n"
     ]
    }
   ],
   "source": [
    "'''\n",
    "Multi-condition query instead of drop_duplicates because different persons may be the family ref person \n",
    "on different months. Take the person who is the family ref person for the final month of reference period.\n",
    "'''\n",
    "\n",
    "sipp_2018_family = (sipp_2018\n",
    "                    .sort_values(by=['ssuid', 'eresidenceid', 'rfamnum', 'rfamref', 'monthcode'], \n",
    "                                 ascending=[True, True, True, True, False])\n",
    "                    .query('pnum == rfamref and monthcode == 12')\n",
    "                    .drop(['monthcode', 'rfamref', 'rin_univ'], axis='columns')\n",
    "                   )\n",
    "\n",
    "print(f'There are {sipp_2018_family.shape[0]} families in the sample.')"
   ]
  },
  {
   "cell_type": "markdown",
   "id": "lesser-promise",
   "metadata": {},
   "source": [
    "### Collapse Observations to the Household Level\n",
    "+ Keep 1 observation per household\n",
    "+ Household heads are the 'owner or renter of note\n",
    "    + User *erelrpe* in (1,2)\n",
    "+ Can identify unique households with sample unit identifier (*ssuid*) + the household residence ID (*eresidenceid*)\n",
    "\n",
    "**Household**: a set of people living together<br/>\n",
    "**Reference person**: the owner of renter of the housing unit (the first, if more than one)\n",
    "\n",
    "Household and family variables are recorded in each sample member's observation."
   ]
  },
  {
   "cell_type": "code",
   "execution_count": 13,
   "id": "revised-holder",
   "metadata": {},
   "outputs": [
    {
     "name": "stdout",
     "output_type": "stream",
     "text": [
      "There are 26566 households in the sample.\n"
     ]
    }
   ],
   "source": [
    "sipp_2018_household = (sipp_2018\n",
    "                       .sort_values(by=['ssuid', 'eresidenceid', 'erelrpe', 'monthcode'], ascending=[True, True, True, False])\n",
    "                       .drop_duplicates(['ssuid', 'eresidenceid'])\n",
    "                       .query('monthcode == 12 and rin_univ > 0')\n",
    "                       #.drop(['pnum', 'monthcode', 'rfamref', 'rfamnum', 'erelrpe'], axis='columns')\n",
    "                      )\n",
    "\n",
    "print(f'There are {sipp_2018_household.shape[0]} households in the sample.')"
   ]
  },
  {
   "cell_type": "markdown",
   "id": "saving-secret",
   "metadata": {},
   "source": [
    "### Weights *(wpfinwft)*\n",
    "+ Weights provided at the person level\n",
    "\n",
    "#### Can create family/household weights by using:\n",
    "+ Person weight of family reference person\n",
    "    + *wpfinwgt* where *rfamref* = *pnum*\n",
    "+ Person weight of householder\n",
    "    + *wpfinwgt* where *erelrpe* in (1,2)\n",
    "+ Average person weights of family/household members\n",
    "\n",
    "#### And at multiple timeframes\n",
    "+ Monthly\n",
    "+ Calendar year (use the December monthly weight)\n",
    "+ Panel (*finpnl14* variable; waves 2+ only)"
   ]
  }
 ],
 "metadata": {
  "kernelspec": {
   "display_name": "Team 107 Capstone Project",
   "language": "python",
   "name": "team_107_venv"
  },
  "language_info": {
   "codemirror_mode": {
    "name": "ipython",
    "version": 3
   },
   "file_extension": ".py",
   "mimetype": "text/x-python",
   "name": "python",
   "nbconvert_exporter": "python",
   "pygments_lexer": "ipython3",
   "version": "3.9.2"
  }
 },
 "nbformat": 4,
 "nbformat_minor": 5
}

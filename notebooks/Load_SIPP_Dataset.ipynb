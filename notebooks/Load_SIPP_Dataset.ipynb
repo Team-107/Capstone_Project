{
 "cells": [
  {
   "cell_type": "code",
   "execution_count": 1,
   "id": "dental-stupid",
   "metadata": {},
   "outputs": [],
   "source": [
    "import time\n",
    "import numpy as np\n",
    "import pandas as pd\n",
    "import matplotlib.pyplot as plt\n",
    "import seaborn as sns\n",
    "import os"
   ]
  },
  {
   "cell_type": "markdown",
   "id": "moving-suspension",
   "metadata": {},
   "source": [
    "#### Load Feature Schema from json"
   ]
  },
  {
   "cell_type": "code",
   "execution_count": 2,
   "id": "green-floor",
   "metadata": {},
   "outputs": [],
   "source": [
    "rd_schema = pd.read_json('../data/raw/sipp_2018/pu2018_schema.json')\n",
    "rd_schema['dtype'] = (['Int64' if x == 'integer'\n",
    "                       else 'object' if x == 'string'\n",
    "                       else 'Float64' if x == 'float'\n",
    "                       else 'ERROR'\n",
    "                       for x in rd_schema['dtype']]\n",
    "                     )"
   ]
  },
  {
   "cell_type": "markdown",
   "id": "nonprofit-necessity",
   "metadata": {},
   "source": [
    "#### Choose Features for Import"
   ]
  },
  {
   "cell_type": "code",
   "execution_count": 3,
   "id": "norman-doctrine",
   "metadata": {},
   "outputs": [
    {
     "name": "stdout",
     "output_type": "stream",
     "text": [
      "You are importing 62 columns\n"
     ]
    }
   ],
   "source": [
    "# This cell is for seleting which of the ~5,000 features to import\n",
    "\n",
    "# Initialize lists with column names to read from csv into df\n",
    "\n",
    "# Set of Standard columns suggested by SIPP documentation\n",
    "std_cols = [#Common case-identification variables\n",
    "    'SSUID','PNUM','MONTHCODE','ERESIDENCEID','ERELRPE','SPANEL','SWAVE',\n",
    "    #The base weight and monthly in-survey-universe indicator\n",
    "    'WPFINWGT','RIN_UNIV',\n",
    "    #Additional variables for analysis\n",
    "    'TPTOTINC','RTANF_MNYN']\n",
    "\n",
    "# Set of Demographics columns\n",
    "demo_cols = ['ESEX', 'TAGE', 'TRACE',          # sex, age @interview, detailed race\n",
    "             'EORIGIN', 'TLANG1', 'EHOWWELL',  # hispanic origin, lang spoken @home, how well eng spoken\n",
    "             'EBORNUS', 'ECITIZEN', 'ESPEAK',  # US born, US citizen, lang other than eng at home\n",
    "             'RFAMKIND', 'EMS', 'EEDUC',       # family type, marital status, highest school/degree completed\n",
    "             'RLNGISOL', 'TLIVQTR', 'ETENURE', 'ERACE'  # ltd eng household, type livng qtr, own/rent/other livng qtr\n",
    "            ]\n",
    "\n",
    "# Set of Stock and 401k ownership columns\n",
    "st_own_cols = ['EOWN_ST', 'EOWN_THR401']       # own stocks, own 401k/tax-sheltered investment\n",
    "\n",
    "collateralized_debt = ['EBOATDEBT', 'EMCYCDEBT', 'EMHLOAN1SITE', 'EPRDEBT', 'EPRLOAN1FXVR', 'EPRLOAN1RATE',\n",
    "                      'EPRLOAN1TYPE', 'ERVDEBT', 'TBOATDEBTVAL', 'TBSI1DEBTVAL', 'TMCYCDEBTVAL', 'TDEBT_BUS', 'TDEBT_HOME',\n",
    "                       'TDEBT_RE', 'TDEBT_SEC', 'TDEBT_VEH', 'TPRLOANAMT', 'TRVDEBTVAL']\n",
    "\n",
    "unsecured_debt = ['EDEBT_CC', 'EDEBT_ED', 'EDEBT_MED', 'EJSCCDEBT', 'EJSEDDEBT', 'EJSOTDEBT', 'TDEBT_CC', 'TDEBT_ED',\n",
    "                 'TDEBT_OT', 'TDEBT_BUS', 'TDEBT_AST', 'TDEBT_RENT', 'TDEBT_USEC']\n",
    "\n",
    "arthur_boat_bonus = ['EREC_BOAT', 'TBOATVAL']\n",
    "\n",
    "harrison_cols = collateralized_debt + unsecured_debt + arthur_boat_bonus\n",
    "\n",
    "# Concatenate columns to import\n",
    "use_cols = std_cols + demo_cols + st_own_cols + harrison_cols\n",
    "\n",
    "print(f'You are importing {len(use_cols)} columns')"
   ]
  },
  {
   "cell_type": "markdown",
   "id": "absent-buying",
   "metadata": {},
   "source": [
    "#### Load Dataset to df"
   ]
  },
  {
   "cell_type": "code",
   "execution_count": 4,
   "id": "electric-columbus",
   "metadata": {},
   "outputs": [
    {
     "name": "stdout",
     "output_type": "stream",
     "text": [
      "Read with Pandas: 63.74114799499512 seconds\n"
     ]
    }
   ],
   "source": [
    "# Load dataset. This works on my computer (takes about 99 secs to load 26 columns).\n",
    "start = time.time()\n",
    "df = pd.read_csv(\"../data/raw/sipp_2018/pu2018-003.csv\",\n",
    "                      names=rd_schema['name'],\n",
    "                      dtype=dict([(i,v) for i,v in zip(rd_schema.name, rd_schema.dtype)]),\n",
    "                      sep='|',\n",
    "                      header=0,\n",
    "                      usecols=use_cols,\n",
    "                     )\n",
    "end = time.time()\n",
    "print(f'Read with Pandas: {end - start} seconds')"
   ]
  },
  {
   "cell_type": "markdown",
   "id": "unique-grant",
   "metadata": {},
   "source": [
    "#### Reformat df Column Names"
   ]
  },
  {
   "cell_type": "code",
   "execution_count": 5,
   "id": "placed-montana",
   "metadata": {},
   "outputs": [
    {
     "data": {
      "text/html": [
       "<div>\n",
       "<style scoped>\n",
       "    .dataframe tbody tr th:only-of-type {\n",
       "        vertical-align: middle;\n",
       "    }\n",
       "\n",
       "    .dataframe tbody tr th {\n",
       "        vertical-align: top;\n",
       "    }\n",
       "\n",
       "    .dataframe thead th {\n",
       "        text-align: right;\n",
       "    }\n",
       "</style>\n",
       "<table border=\"1\" class=\"dataframe\">\n",
       "  <thead>\n",
       "    <tr style=\"text-align: right;\">\n",
       "      <th></th>\n",
       "      <th>ssuid</th>\n",
       "      <th>spanel</th>\n",
       "      <th>swave</th>\n",
       "      <th>etenure</th>\n",
       "      <th>eprdebt</th>\n",
       "      <th>eprloan1rate</th>\n",
       "      <th>eprloan1fxvr</th>\n",
       "      <th>eprloan1type</th>\n",
       "      <th>emhloan1site</th>\n",
       "      <th>erec_boat</th>\n",
       "      <th>...</th>\n",
       "      <th>tdebt_cc</th>\n",
       "      <th>tdebt_ed</th>\n",
       "      <th>tdebt_ot</th>\n",
       "      <th>tdebt_usec</th>\n",
       "      <th>tdebt_bus</th>\n",
       "      <th>tdebt_home</th>\n",
       "      <th>tdebt_veh</th>\n",
       "      <th>tdebt_sec</th>\n",
       "      <th>tdebt_ast</th>\n",
       "      <th>tptotinc</th>\n",
       "    </tr>\n",
       "  </thead>\n",
       "  <tbody>\n",
       "    <tr>\n",
       "      <th>0</th>\n",
       "      <td>00011413607018</td>\n",
       "      <td>2018</td>\n",
       "      <td>1</td>\n",
       "      <td>2</td>\n",
       "      <td>&lt;NA&gt;</td>\n",
       "      <td>&lt;NA&gt;</td>\n",
       "      <td>&lt;NA&gt;</td>\n",
       "      <td>&lt;NA&gt;</td>\n",
       "      <td>&lt;NA&gt;</td>\n",
       "      <td>&lt;NA&gt;</td>\n",
       "      <td>...</td>\n",
       "      <td>0</td>\n",
       "      <td>0</td>\n",
       "      <td>0</td>\n",
       "      <td>0</td>\n",
       "      <td>0</td>\n",
       "      <td>0</td>\n",
       "      <td>0</td>\n",
       "      <td>0</td>\n",
       "      <td>0</td>\n",
       "      <td>1738</td>\n",
       "    </tr>\n",
       "    <tr>\n",
       "      <th>1</th>\n",
       "      <td>00011413607018</td>\n",
       "      <td>2018</td>\n",
       "      <td>1</td>\n",
       "      <td>2</td>\n",
       "      <td>&lt;NA&gt;</td>\n",
       "      <td>&lt;NA&gt;</td>\n",
       "      <td>&lt;NA&gt;</td>\n",
       "      <td>&lt;NA&gt;</td>\n",
       "      <td>&lt;NA&gt;</td>\n",
       "      <td>&lt;NA&gt;</td>\n",
       "      <td>...</td>\n",
       "      <td>0</td>\n",
       "      <td>0</td>\n",
       "      <td>0</td>\n",
       "      <td>0</td>\n",
       "      <td>0</td>\n",
       "      <td>0</td>\n",
       "      <td>0</td>\n",
       "      <td>0</td>\n",
       "      <td>0</td>\n",
       "      <td>1738</td>\n",
       "    </tr>\n",
       "    <tr>\n",
       "      <th>2</th>\n",
       "      <td>00011413607018</td>\n",
       "      <td>2018</td>\n",
       "      <td>1</td>\n",
       "      <td>2</td>\n",
       "      <td>&lt;NA&gt;</td>\n",
       "      <td>&lt;NA&gt;</td>\n",
       "      <td>&lt;NA&gt;</td>\n",
       "      <td>&lt;NA&gt;</td>\n",
       "      <td>&lt;NA&gt;</td>\n",
       "      <td>&lt;NA&gt;</td>\n",
       "      <td>...</td>\n",
       "      <td>0</td>\n",
       "      <td>0</td>\n",
       "      <td>0</td>\n",
       "      <td>0</td>\n",
       "      <td>0</td>\n",
       "      <td>0</td>\n",
       "      <td>0</td>\n",
       "      <td>0</td>\n",
       "      <td>0</td>\n",
       "      <td>1738</td>\n",
       "    </tr>\n",
       "    <tr>\n",
       "      <th>3</th>\n",
       "      <td>00011413607018</td>\n",
       "      <td>2018</td>\n",
       "      <td>1</td>\n",
       "      <td>2</td>\n",
       "      <td>&lt;NA&gt;</td>\n",
       "      <td>&lt;NA&gt;</td>\n",
       "      <td>&lt;NA&gt;</td>\n",
       "      <td>&lt;NA&gt;</td>\n",
       "      <td>&lt;NA&gt;</td>\n",
       "      <td>&lt;NA&gt;</td>\n",
       "      <td>...</td>\n",
       "      <td>0</td>\n",
       "      <td>0</td>\n",
       "      <td>0</td>\n",
       "      <td>0</td>\n",
       "      <td>0</td>\n",
       "      <td>0</td>\n",
       "      <td>0</td>\n",
       "      <td>0</td>\n",
       "      <td>0</td>\n",
       "      <td>1738</td>\n",
       "    </tr>\n",
       "    <tr>\n",
       "      <th>4</th>\n",
       "      <td>00011413607018</td>\n",
       "      <td>2018</td>\n",
       "      <td>1</td>\n",
       "      <td>2</td>\n",
       "      <td>&lt;NA&gt;</td>\n",
       "      <td>&lt;NA&gt;</td>\n",
       "      <td>&lt;NA&gt;</td>\n",
       "      <td>&lt;NA&gt;</td>\n",
       "      <td>&lt;NA&gt;</td>\n",
       "      <td>&lt;NA&gt;</td>\n",
       "      <td>...</td>\n",
       "      <td>0</td>\n",
       "      <td>0</td>\n",
       "      <td>0</td>\n",
       "      <td>0</td>\n",
       "      <td>0</td>\n",
       "      <td>0</td>\n",
       "      <td>0</td>\n",
       "      <td>0</td>\n",
       "      <td>0</td>\n",
       "      <td>1738</td>\n",
       "    </tr>\n",
       "  </tbody>\n",
       "</table>\n",
       "<p>5 rows × 61 columns</p>\n",
       "</div>"
      ],
      "text/plain": [
       "            ssuid  spanel  swave  etenure  eprdebt  eprloan1rate  \\\n",
       "0  00011413607018    2018      1        2     <NA>          <NA>   \n",
       "1  00011413607018    2018      1        2     <NA>          <NA>   \n",
       "2  00011413607018    2018      1        2     <NA>          <NA>   \n",
       "3  00011413607018    2018      1        2     <NA>          <NA>   \n",
       "4  00011413607018    2018      1        2     <NA>          <NA>   \n",
       "\n",
       "   eprloan1fxvr  eprloan1type  emhloan1site  erec_boat  ...  tdebt_cc  \\\n",
       "0          <NA>          <NA>          <NA>       <NA>  ...         0   \n",
       "1          <NA>          <NA>          <NA>       <NA>  ...         0   \n",
       "2          <NA>          <NA>          <NA>       <NA>  ...         0   \n",
       "3          <NA>          <NA>          <NA>       <NA>  ...         0   \n",
       "4          <NA>          <NA>          <NA>       <NA>  ...         0   \n",
       "\n",
       "   tdebt_ed  tdebt_ot  tdebt_usec  tdebt_bus  tdebt_home  tdebt_veh  \\\n",
       "0         0         0           0          0           0          0   \n",
       "1         0         0           0          0           0          0   \n",
       "2         0         0           0          0           0          0   \n",
       "3         0         0           0          0           0          0   \n",
       "4         0         0           0          0           0          0   \n",
       "\n",
       "   tdebt_sec  tdebt_ast  tptotinc  \n",
       "0          0          0      1738  \n",
       "1          0          0      1738  \n",
       "2          0          0      1738  \n",
       "3          0          0      1738  \n",
       "4          0          0      1738  \n",
       "\n",
       "[5 rows x 61 columns]"
      ]
     },
     "execution_count": 5,
     "metadata": {},
     "output_type": "execute_result"
    }
   ],
   "source": [
    "# Rename columns to Python friendly format and display df\n",
    "df.columns = [name.lower().replace(' ', '_') for name in df.columns]\n",
    "df.head()"
   ]
  },
  {
   "cell_type": "code",
   "execution_count": 130,
   "id": "f92e09d1",
   "metadata": {},
   "outputs": [
    {
     "data": {
      "text/html": [
       "<div>\n",
       "<style scoped>\n",
       "    .dataframe tbody tr th:only-of-type {\n",
       "        vertical-align: middle;\n",
       "    }\n",
       "\n",
       "    .dataframe tbody tr th {\n",
       "        vertical-align: top;\n",
       "    }\n",
       "\n",
       "    .dataframe thead th {\n",
       "        text-align: right;\n",
       "    }\n",
       "</style>\n",
       "<table border=\"1\" class=\"dataframe\">\n",
       "  <thead>\n",
       "    <tr style=\"text-align: right;\">\n",
       "      <th></th>\n",
       "      <th>ssuid</th>\n",
       "      <th>spanel</th>\n",
       "      <th>swave</th>\n",
       "      <th>etenure</th>\n",
       "      <th>eprdebt</th>\n",
       "      <th>eprloan1rate</th>\n",
       "      <th>eprloan1fxvr</th>\n",
       "      <th>eprloan1type</th>\n",
       "      <th>emhloan1site</th>\n",
       "      <th>erec_boat</th>\n",
       "      <th>...</th>\n",
       "      <th>tdebt_cc</th>\n",
       "      <th>tdebt_ed</th>\n",
       "      <th>tdebt_ot</th>\n",
       "      <th>tdebt_usec</th>\n",
       "      <th>tdebt_bus</th>\n",
       "      <th>tdebt_home</th>\n",
       "      <th>tdebt_veh</th>\n",
       "      <th>tdebt_sec</th>\n",
       "      <th>tdebt_ast</th>\n",
       "      <th>tptotinc</th>\n",
       "    </tr>\n",
       "  </thead>\n",
       "  <tbody>\n",
       "    <tr>\n",
       "      <th>0</th>\n",
       "      <td>00011413607018</td>\n",
       "      <td>2018</td>\n",
       "      <td>1</td>\n",
       "      <td>2</td>\n",
       "      <td>0</td>\n",
       "      <td>0.0</td>\n",
       "      <td>0</td>\n",
       "      <td>0</td>\n",
       "      <td>0</td>\n",
       "      <td>0</td>\n",
       "      <td>...</td>\n",
       "      <td>0</td>\n",
       "      <td>0</td>\n",
       "      <td>0</td>\n",
       "      <td>0</td>\n",
       "      <td>0</td>\n",
       "      <td>0</td>\n",
       "      <td>0</td>\n",
       "      <td>0</td>\n",
       "      <td>0</td>\n",
       "      <td>1738</td>\n",
       "    </tr>\n",
       "    <tr>\n",
       "      <th>1</th>\n",
       "      <td>00011413607018</td>\n",
       "      <td>2018</td>\n",
       "      <td>1</td>\n",
       "      <td>2</td>\n",
       "      <td>0</td>\n",
       "      <td>0.0</td>\n",
       "      <td>0</td>\n",
       "      <td>0</td>\n",
       "      <td>0</td>\n",
       "      <td>0</td>\n",
       "      <td>...</td>\n",
       "      <td>0</td>\n",
       "      <td>0</td>\n",
       "      <td>0</td>\n",
       "      <td>0</td>\n",
       "      <td>0</td>\n",
       "      <td>0</td>\n",
       "      <td>0</td>\n",
       "      <td>0</td>\n",
       "      <td>0</td>\n",
       "      <td>1738</td>\n",
       "    </tr>\n",
       "    <tr>\n",
       "      <th>2</th>\n",
       "      <td>00011413607018</td>\n",
       "      <td>2018</td>\n",
       "      <td>1</td>\n",
       "      <td>2</td>\n",
       "      <td>0</td>\n",
       "      <td>0.0</td>\n",
       "      <td>0</td>\n",
       "      <td>0</td>\n",
       "      <td>0</td>\n",
       "      <td>0</td>\n",
       "      <td>...</td>\n",
       "      <td>0</td>\n",
       "      <td>0</td>\n",
       "      <td>0</td>\n",
       "      <td>0</td>\n",
       "      <td>0</td>\n",
       "      <td>0</td>\n",
       "      <td>0</td>\n",
       "      <td>0</td>\n",
       "      <td>0</td>\n",
       "      <td>1738</td>\n",
       "    </tr>\n",
       "    <tr>\n",
       "      <th>3</th>\n",
       "      <td>00011413607018</td>\n",
       "      <td>2018</td>\n",
       "      <td>1</td>\n",
       "      <td>2</td>\n",
       "      <td>0</td>\n",
       "      <td>0.0</td>\n",
       "      <td>0</td>\n",
       "      <td>0</td>\n",
       "      <td>0</td>\n",
       "      <td>0</td>\n",
       "      <td>...</td>\n",
       "      <td>0</td>\n",
       "      <td>0</td>\n",
       "      <td>0</td>\n",
       "      <td>0</td>\n",
       "      <td>0</td>\n",
       "      <td>0</td>\n",
       "      <td>0</td>\n",
       "      <td>0</td>\n",
       "      <td>0</td>\n",
       "      <td>1738</td>\n",
       "    </tr>\n",
       "    <tr>\n",
       "      <th>4</th>\n",
       "      <td>00011413607018</td>\n",
       "      <td>2018</td>\n",
       "      <td>1</td>\n",
       "      <td>2</td>\n",
       "      <td>0</td>\n",
       "      <td>0.0</td>\n",
       "      <td>0</td>\n",
       "      <td>0</td>\n",
       "      <td>0</td>\n",
       "      <td>0</td>\n",
       "      <td>...</td>\n",
       "      <td>0</td>\n",
       "      <td>0</td>\n",
       "      <td>0</td>\n",
       "      <td>0</td>\n",
       "      <td>0</td>\n",
       "      <td>0</td>\n",
       "      <td>0</td>\n",
       "      <td>0</td>\n",
       "      <td>0</td>\n",
       "      <td>1738</td>\n",
       "    </tr>\n",
       "  </tbody>\n",
       "</table>\n",
       "<p>5 rows × 61 columns</p>\n",
       "</div>"
      ],
      "text/plain": [
       "            ssuid  spanel  swave  etenure  eprdebt  eprloan1rate  \\\n",
       "0  00011413607018    2018      1        2        0           0.0   \n",
       "1  00011413607018    2018      1        2        0           0.0   \n",
       "2  00011413607018    2018      1        2        0           0.0   \n",
       "3  00011413607018    2018      1        2        0           0.0   \n",
       "4  00011413607018    2018      1        2        0           0.0   \n",
       "\n",
       "   eprloan1fxvr  eprloan1type  emhloan1site  erec_boat  ...  tdebt_cc  \\\n",
       "0             0             0             0          0  ...         0   \n",
       "1             0             0             0          0  ...         0   \n",
       "2             0             0             0          0  ...         0   \n",
       "3             0             0             0          0  ...         0   \n",
       "4             0             0             0          0  ...         0   \n",
       "\n",
       "   tdebt_ed  tdebt_ot  tdebt_usec  tdebt_bus  tdebt_home  tdebt_veh  \\\n",
       "0         0         0           0          0           0          0   \n",
       "1         0         0           0          0           0          0   \n",
       "2         0         0           0          0           0          0   \n",
       "3         0         0           0          0           0          0   \n",
       "4         0         0           0          0           0          0   \n",
       "\n",
       "   tdebt_sec  tdebt_ast  tptotinc  \n",
       "0          0          0      1738  \n",
       "1          0          0      1738  \n",
       "2          0          0      1738  \n",
       "3          0          0      1738  \n",
       "4          0          0      1738  \n",
       "\n",
       "[5 rows x 61 columns]"
      ]
     },
     "execution_count": 130,
     "metadata": {},
     "output_type": "execute_result"
    }
   ],
   "source": [
    "cols_to_exclude = [\"spanel\"]\n",
    "\n",
    "for col in df.columns:\n",
    "    if col not in cols_to_exclude:\n",
    "        df[col] = df[col].fillna(0)\n",
    "    #df.eprdebt.fillna(0).head(5)\n",
    "\n",
    "df.head(5)"
   ]
  },
  {
   "cell_type": "code",
   "execution_count": 6,
   "id": "settled-magic",
   "metadata": {},
   "outputs": [
    {
     "data": {
      "text/html": [
       "<div>\n",
       "<style scoped>\n",
       "    .dataframe tbody tr th:only-of-type {\n",
       "        vertical-align: middle;\n",
       "    }\n",
       "\n",
       "    .dataframe tbody tr th {\n",
       "        vertical-align: top;\n",
       "    }\n",
       "\n",
       "    .dataframe thead th {\n",
       "        text-align: right;\n",
       "    }\n",
       "</style>\n",
       "<table border=\"1\" class=\"dataframe\">\n",
       "  <thead>\n",
       "    <tr style=\"text-align: right;\">\n",
       "      <th></th>\n",
       "      <th>eown_st</th>\n",
       "    </tr>\n",
       "  </thead>\n",
       "  <tbody>\n",
       "    <tr>\n",
       "      <th>2</th>\n",
       "      <td>0.888283</td>\n",
       "    </tr>\n",
       "    <tr>\n",
       "      <th>1</th>\n",
       "      <td>0.111717</td>\n",
       "    </tr>\n",
       "  </tbody>\n",
       "</table>\n",
       "</div>"
      ],
      "text/plain": [
       "    eown_st\n",
       "2  0.888283\n",
       "1  0.111717"
      ]
     },
     "execution_count": 6,
     "metadata": {},
     "output_type": "execute_result"
    }
   ],
   "source": [
    "(df\n",
    " .drop_duplicates()\n",
    " .eown_st\n",
    " .value_counts(normalize=True)\n",
    " .to_frame()\n",
    ")"
   ]
  },
  {
   "cell_type": "code",
   "execution_count": 7,
   "id": "be8f3e86",
   "metadata": {},
   "outputs": [
    {
     "data": {
      "text/plain": [
       "Index(['ssuid', 'spanel', 'swave', 'etenure', 'eprdebt', 'eprloan1rate',\n",
       "       'eprloan1fxvr', 'eprloan1type', 'emhloan1site', 'erec_boat',\n",
       "       'emcycdebt', 'eboatdebt', 'ervdebt', 'pnum', 'ems', 'erelrpe', 'esex',\n",
       "       'eorigin', 'erace', 'eeduc', 'espeak', 'ehowwell', 'rlngisol',\n",
       "       'ebornus', 'ecitizen', 'eown_st', 'eown_thr401', 'edebt_cc', 'edebt_ed',\n",
       "       'edebt_med', 'ejsccdebt', 'ejseddebt', 'ejsotdebt', 'monthcode',\n",
       "       'wpfinwgt', 'eresidenceid', 'rfamkind', 'rtanf_mnyn', 'rin_univ',\n",
       "       'tlang1', 'trace', 'tlivqtr', 'tboatval', 'tmcycdebtval',\n",
       "       'tboatdebtval', 'trvdebtval', 'tbsi1debtval', 'tage', 'tprloanamt',\n",
       "       'tdebt_rent', 'tdebt_re', 'tdebt_cc', 'tdebt_ed', 'tdebt_ot',\n",
       "       'tdebt_usec', 'tdebt_bus', 'tdebt_home', 'tdebt_veh', 'tdebt_sec',\n",
       "       'tdebt_ast', 'tptotinc'],\n",
       "      dtype='object')"
      ]
     },
     "execution_count": 7,
     "metadata": {},
     "output_type": "execute_result"
    }
   ],
   "source": [
    "df.columns"
   ]
  },
  {
   "cell_type": "code",
   "execution_count": 8,
   "id": "rubber-luxury",
   "metadata": {},
   "outputs": [
    {
     "data": {
      "text/html": [
       "<div>\n",
       "<style scoped>\n",
       "    .dataframe tbody tr th:only-of-type {\n",
       "        vertical-align: middle;\n",
       "    }\n",
       "\n",
       "    .dataframe tbody tr th {\n",
       "        vertical-align: top;\n",
       "    }\n",
       "\n",
       "    .dataframe thead th {\n",
       "        text-align: right;\n",
       "    }\n",
       "</style>\n",
       "<table border=\"1\" class=\"dataframe\">\n",
       "  <thead>\n",
       "    <tr style=\"text-align: right;\">\n",
       "      <th></th>\n",
       "      <th>spanel</th>\n",
       "      <th>swave</th>\n",
       "      <th>etenure</th>\n",
       "      <th>eprdebt</th>\n",
       "      <th>eprloan1rate</th>\n",
       "      <th>eprloan1fxvr</th>\n",
       "      <th>eprloan1type</th>\n",
       "      <th>emhloan1site</th>\n",
       "      <th>erec_boat</th>\n",
       "      <th>emcycdebt</th>\n",
       "      <th>...</th>\n",
       "      <th>tdebt_cc</th>\n",
       "      <th>tdebt_ed</th>\n",
       "      <th>tdebt_ot</th>\n",
       "      <th>tdebt_usec</th>\n",
       "      <th>tdebt_bus</th>\n",
       "      <th>tdebt_home</th>\n",
       "      <th>tdebt_veh</th>\n",
       "      <th>tdebt_sec</th>\n",
       "      <th>tdebt_ast</th>\n",
       "      <th>tptotinc</th>\n",
       "    </tr>\n",
       "  </thead>\n",
       "  <tbody>\n",
       "    <tr>\n",
       "      <th>count</th>\n",
       "      <td>763186.0</td>\n",
       "      <td>763186.0</td>\n",
       "      <td>763186.000000</td>\n",
       "      <td>470013.000000</td>\n",
       "      <td>317315.000000</td>\n",
       "      <td>317315.000000</td>\n",
       "      <td>317315.000000</td>\n",
       "      <td>8334.000000</td>\n",
       "      <td>110788.000000</td>\n",
       "      <td>41720.000000</td>\n",
       "      <td>...</td>\n",
       "      <td>622464.000000</td>\n",
       "      <td>622464.000000</td>\n",
       "      <td>622464.000000</td>\n",
       "      <td>622464.000000</td>\n",
       "      <td>6.224640e+05</td>\n",
       "      <td>6.224640e+05</td>\n",
       "      <td>622464.000000</td>\n",
       "      <td>6.224640e+05</td>\n",
       "      <td>6.224640e+05</td>\n",
       "      <td>620018.000000</td>\n",
       "    </tr>\n",
       "    <tr>\n",
       "      <th>mean</th>\n",
       "      <td>2018.0</td>\n",
       "      <td>1.0</td>\n",
       "      <td>1.360748</td>\n",
       "      <td>1.324880</td>\n",
       "      <td>4.055775</td>\n",
       "      <td>1.095309</td>\n",
       "      <td>3.006155</td>\n",
       "      <td>2.504680</td>\n",
       "      <td>1.611510</td>\n",
       "      <td>1.864238</td>\n",
       "      <td>...</td>\n",
       "      <td>1699.454523</td>\n",
       "      <td>3573.963988</td>\n",
       "      <td>1026.797251</td>\n",
       "      <td>8252.094579</td>\n",
       "      <td>6.714226e+03</td>\n",
       "      <td>3.008260e+04</td>\n",
       "      <td>3165.297097</td>\n",
       "      <td>4.715519e+04</td>\n",
       "      <td>5.540728e+04</td>\n",
       "      <td>3575.846667</td>\n",
       "    </tr>\n",
       "    <tr>\n",
       "      <th>std</th>\n",
       "      <td>0.0</td>\n",
       "      <td>0.0</td>\n",
       "      <td>0.518481</td>\n",
       "      <td>0.468331</td>\n",
       "      <td>1.452144</td>\n",
       "      <td>0.356042</td>\n",
       "      <td>1.180132</td>\n",
       "      <td>0.541489</td>\n",
       "      <td>0.487409</td>\n",
       "      <td>0.342540</td>\n",
       "      <td>...</td>\n",
       "      <td>5212.404696</td>\n",
       "      <td>16939.253821</td>\n",
       "      <td>14900.177012</td>\n",
       "      <td>35066.451421</td>\n",
       "      <td>1.682829e+05</td>\n",
       "      <td>7.226394e+04</td>\n",
       "      <td>8970.198525</td>\n",
       "      <td>2.181896e+05</td>\n",
       "      <td>2.227698e+05</td>\n",
       "      <td>6822.266449</td>\n",
       "    </tr>\n",
       "    <tr>\n",
       "      <th>min</th>\n",
       "      <td>2018.0</td>\n",
       "      <td>1.0</td>\n",
       "      <td>1.000000</td>\n",
       "      <td>1.000000</td>\n",
       "      <td>0.010000</td>\n",
       "      <td>1.000000</td>\n",
       "      <td>1.000000</td>\n",
       "      <td>1.000000</td>\n",
       "      <td>1.000000</td>\n",
       "      <td>1.000000</td>\n",
       "      <td>...</td>\n",
       "      <td>0.000000</td>\n",
       "      <td>0.000000</td>\n",
       "      <td>0.000000</td>\n",
       "      <td>0.000000</td>\n",
       "      <td>0.000000e+00</td>\n",
       "      <td>0.000000e+00</td>\n",
       "      <td>0.000000</td>\n",
       "      <td>0.000000e+00</td>\n",
       "      <td>0.000000e+00</td>\n",
       "      <td>-126633.000000</td>\n",
       "    </tr>\n",
       "    <tr>\n",
       "      <th>25%</th>\n",
       "      <td>2018.0</td>\n",
       "      <td>1.0</td>\n",
       "      <td>1.000000</td>\n",
       "      <td>1.000000</td>\n",
       "      <td>3.400000</td>\n",
       "      <td>1.000000</td>\n",
       "      <td>2.000000</td>\n",
       "      <td>2.000000</td>\n",
       "      <td>1.000000</td>\n",
       "      <td>2.000000</td>\n",
       "      <td>...</td>\n",
       "      <td>0.000000</td>\n",
       "      <td>0.000000</td>\n",
       "      <td>0.000000</td>\n",
       "      <td>0.000000</td>\n",
       "      <td>0.000000e+00</td>\n",
       "      <td>0.000000e+00</td>\n",
       "      <td>0.000000</td>\n",
       "      <td>0.000000e+00</td>\n",
       "      <td>0.000000e+00</td>\n",
       "      <td>722.000000</td>\n",
       "    </tr>\n",
       "    <tr>\n",
       "      <th>50%</th>\n",
       "      <td>2018.0</td>\n",
       "      <td>1.0</td>\n",
       "      <td>1.000000</td>\n",
       "      <td>1.000000</td>\n",
       "      <td>4.000000</td>\n",
       "      <td>1.000000</td>\n",
       "      <td>3.000000</td>\n",
       "      <td>3.000000</td>\n",
       "      <td>2.000000</td>\n",
       "      <td>2.000000</td>\n",
       "      <td>...</td>\n",
       "      <td>0.000000</td>\n",
       "      <td>0.000000</td>\n",
       "      <td>0.000000</td>\n",
       "      <td>0.000000</td>\n",
       "      <td>0.000000e+00</td>\n",
       "      <td>0.000000e+00</td>\n",
       "      <td>0.000000</td>\n",
       "      <td>0.000000e+00</td>\n",
       "      <td>4.500000e+03</td>\n",
       "      <td>2112.000000</td>\n",
       "    </tr>\n",
       "    <tr>\n",
       "      <th>75%</th>\n",
       "      <td>2018.0</td>\n",
       "      <td>1.0</td>\n",
       "      <td>2.000000</td>\n",
       "      <td>2.000000</td>\n",
       "      <td>4.500000</td>\n",
       "      <td>1.000000</td>\n",
       "      <td>4.000000</td>\n",
       "      <td>3.000000</td>\n",
       "      <td>2.000000</td>\n",
       "      <td>2.000000</td>\n",
       "      <td>...</td>\n",
       "      <td>500.000000</td>\n",
       "      <td>0.000000</td>\n",
       "      <td>0.000000</td>\n",
       "      <td>3554.750000</td>\n",
       "      <td>0.000000e+00</td>\n",
       "      <td>2.350000e+04</td>\n",
       "      <td>0.000000</td>\n",
       "      <td>3.900000e+04</td>\n",
       "      <td>5.350000e+04</td>\n",
       "      <td>4336.000000</td>\n",
       "    </tr>\n",
       "    <tr>\n",
       "      <th>max</th>\n",
       "      <td>2018.0</td>\n",
       "      <td>1.0</td>\n",
       "      <td>3.000000</td>\n",
       "      <td>2.000000</td>\n",
       "      <td>25.000000</td>\n",
       "      <td>3.000000</td>\n",
       "      <td>4.000000</td>\n",
       "      <td>3.000000</td>\n",
       "      <td>2.000000</td>\n",
       "      <td>2.000000</td>\n",
       "      <td>...</td>\n",
       "      <td>72200.000000</td>\n",
       "      <td>235000.000000</td>\n",
       "      <td>417000.000000</td>\n",
       "      <td>892500.000000</td>\n",
       "      <td>8.401600e+06</td>\n",
       "      <td>1.070000e+06</td>\n",
       "      <td>361000.000000</td>\n",
       "      <td>1.041900e+07</td>\n",
       "      <td>1.083200e+07</td>\n",
       "      <td>518825.000000</td>\n",
       "    </tr>\n",
       "  </tbody>\n",
       "</table>\n",
       "<p>8 rows × 59 columns</p>\n",
       "</div>"
      ],
      "text/plain": [
       "         spanel     swave        etenure        eprdebt   eprloan1rate  \\\n",
       "count  763186.0  763186.0  763186.000000  470013.000000  317315.000000   \n",
       "mean     2018.0       1.0       1.360748       1.324880       4.055775   \n",
       "std         0.0       0.0       0.518481       0.468331       1.452144   \n",
       "min      2018.0       1.0       1.000000       1.000000       0.010000   \n",
       "25%      2018.0       1.0       1.000000       1.000000       3.400000   \n",
       "50%      2018.0       1.0       1.000000       1.000000       4.000000   \n",
       "75%      2018.0       1.0       2.000000       2.000000       4.500000   \n",
       "max      2018.0       1.0       3.000000       2.000000      25.000000   \n",
       "\n",
       "        eprloan1fxvr   eprloan1type  emhloan1site      erec_boat  \\\n",
       "count  317315.000000  317315.000000   8334.000000  110788.000000   \n",
       "mean        1.095309       3.006155      2.504680       1.611510   \n",
       "std         0.356042       1.180132      0.541489       0.487409   \n",
       "min         1.000000       1.000000      1.000000       1.000000   \n",
       "25%         1.000000       2.000000      2.000000       1.000000   \n",
       "50%         1.000000       3.000000      3.000000       2.000000   \n",
       "75%         1.000000       4.000000      3.000000       2.000000   \n",
       "max         3.000000       4.000000      3.000000       2.000000   \n",
       "\n",
       "          emcycdebt  ...       tdebt_cc       tdebt_ed       tdebt_ot  \\\n",
       "count  41720.000000  ...  622464.000000  622464.000000  622464.000000   \n",
       "mean       1.864238  ...    1699.454523    3573.963988    1026.797251   \n",
       "std        0.342540  ...    5212.404696   16939.253821   14900.177012   \n",
       "min        1.000000  ...       0.000000       0.000000       0.000000   \n",
       "25%        2.000000  ...       0.000000       0.000000       0.000000   \n",
       "50%        2.000000  ...       0.000000       0.000000       0.000000   \n",
       "75%        2.000000  ...     500.000000       0.000000       0.000000   \n",
       "max        2.000000  ...   72200.000000  235000.000000  417000.000000   \n",
       "\n",
       "          tdebt_usec     tdebt_bus    tdebt_home      tdebt_veh     tdebt_sec  \\\n",
       "count  622464.000000  6.224640e+05  6.224640e+05  622464.000000  6.224640e+05   \n",
       "mean     8252.094579  6.714226e+03  3.008260e+04    3165.297097  4.715519e+04   \n",
       "std     35066.451421  1.682829e+05  7.226394e+04    8970.198525  2.181896e+05   \n",
       "min         0.000000  0.000000e+00  0.000000e+00       0.000000  0.000000e+00   \n",
       "25%         0.000000  0.000000e+00  0.000000e+00       0.000000  0.000000e+00   \n",
       "50%         0.000000  0.000000e+00  0.000000e+00       0.000000  0.000000e+00   \n",
       "75%      3554.750000  0.000000e+00  2.350000e+04       0.000000  3.900000e+04   \n",
       "max    892500.000000  8.401600e+06  1.070000e+06  361000.000000  1.041900e+07   \n",
       "\n",
       "          tdebt_ast       tptotinc  \n",
       "count  6.224640e+05  620018.000000  \n",
       "mean   5.540728e+04    3575.846667  \n",
       "std    2.227698e+05    6822.266449  \n",
       "min    0.000000e+00 -126633.000000  \n",
       "25%    0.000000e+00     722.000000  \n",
       "50%    4.500000e+03    2112.000000  \n",
       "75%    5.350000e+04    4336.000000  \n",
       "max    1.083200e+07  518825.000000  \n",
       "\n",
       "[8 rows x 59 columns]"
      ]
     },
     "execution_count": 8,
     "metadata": {},
     "output_type": "execute_result"
    }
   ],
   "source": [
    "df.describe()"
   ]
  },
  {
   "cell_type": "code",
   "execution_count": 119,
   "id": "1d715a7d",
   "metadata": {},
   "outputs": [],
   "source": [
    "sipp_2018_person = df.drop_duplicates(['ssuid', 'pnum'])"
   ]
  },
  {
   "cell_type": "code",
   "execution_count": 9,
   "id": "013b43b2",
   "metadata": {},
   "outputs": [
    {
     "data": {
      "text/plain": [
       "1     0.777548\n",
       "2     0.123085\n",
       "4     0.056121\n",
       "3     0.011453\n",
       "7     0.009247\n",
       "6     0.008308\n",
       "8     0.004897\n",
       "5     0.003114\n",
       "10    0.001721\n",
       "15    0.001299\n",
       "9     0.001095\n",
       "11    0.000501\n",
       "14    0.000454\n",
       "18    0.000297\n",
       "16    0.000282\n",
       "17    0.000219\n",
       "19    0.000125\n",
       "20    0.000094\n",
       "12    0.000078\n",
       "13    0.000031\n",
       "21    0.000031\n",
       "Name: trace, dtype: Float64"
      ]
     },
     "execution_count": 9,
     "metadata": {},
     "output_type": "execute_result"
    }
   ],
   "source": [
    "df.drop_duplicates(['ssuid', 'pnum']).trace.value_counts(normalize = True)\n",
    "#corresponds to each person rather than households"
   ]
  },
  {
   "cell_type": "code",
   "execution_count": 120,
   "id": "d3abf415",
   "metadata": {},
   "outputs": [
    {
     "data": {
      "text/plain": [
       "1     0.777548\n",
       "2     0.123085\n",
       "4     0.056121\n",
       "3     0.011453\n",
       "7     0.009247\n",
       "6     0.008308\n",
       "8     0.004897\n",
       "5     0.003114\n",
       "10    0.001721\n",
       "15    0.001299\n",
       "9     0.001095\n",
       "11    0.000501\n",
       "14    0.000454\n",
       "18    0.000297\n",
       "16    0.000282\n",
       "17    0.000219\n",
       "19    0.000125\n",
       "20    0.000094\n",
       "12    0.000078\n",
       "13    0.000031\n",
       "21    0.000031\n",
       "Name: trace, dtype: Float64"
      ]
     },
     "execution_count": 120,
     "metadata": {},
     "output_type": "execute_result"
    }
   ],
   "source": [
    "sipp_2018_person.trace.value_counts(normalize = True)"
   ]
  },
  {
   "cell_type": "code",
   "execution_count": 10,
   "id": "c6582d5e",
   "metadata": {},
   "outputs": [
    {
     "data": {
      "text/html": [
       "<div>\n",
       "<style scoped>\n",
       "    .dataframe tbody tr th:only-of-type {\n",
       "        vertical-align: middle;\n",
       "    }\n",
       "\n",
       "    .dataframe tbody tr th {\n",
       "        vertical-align: top;\n",
       "    }\n",
       "\n",
       "    .dataframe thead th {\n",
       "        text-align: right;\n",
       "    }\n",
       "</style>\n",
       "<table border=\"1\" class=\"dataframe\">\n",
       "  <thead>\n",
       "    <tr style=\"text-align: right;\">\n",
       "      <th>eown_st</th>\n",
       "      <th>1</th>\n",
       "      <th>2</th>\n",
       "    </tr>\n",
       "    <tr>\n",
       "      <th>trace</th>\n",
       "      <th></th>\n",
       "      <th></th>\n",
       "    </tr>\n",
       "  </thead>\n",
       "  <tbody>\n",
       "    <tr>\n",
       "      <th>15</th>\n",
       "      <td>0.020833</td>\n",
       "      <td>0.979167</td>\n",
       "    </tr>\n",
       "    <tr>\n",
       "      <th>10</th>\n",
       "      <td>0.023529</td>\n",
       "      <td>0.976471</td>\n",
       "    </tr>\n",
       "    <tr>\n",
       "      <th>9</th>\n",
       "      <td>0.023810</td>\n",
       "      <td>0.976190</td>\n",
       "    </tr>\n",
       "    <tr>\n",
       "      <th>3</th>\n",
       "      <td>0.033392</td>\n",
       "      <td>0.966608</td>\n",
       "    </tr>\n",
       "    <tr>\n",
       "      <th>2</th>\n",
       "      <td>0.036264</td>\n",
       "      <td>0.963736</td>\n",
       "    </tr>\n",
       "    <tr>\n",
       "      <th>7</th>\n",
       "      <td>0.052854</td>\n",
       "      <td>0.947146</td>\n",
       "    </tr>\n",
       "    <tr>\n",
       "      <th>6</th>\n",
       "      <td>0.056818</td>\n",
       "      <td>0.943182</td>\n",
       "    </tr>\n",
       "    <tr>\n",
       "      <th>11</th>\n",
       "      <td>0.066667</td>\n",
       "      <td>0.933333</td>\n",
       "    </tr>\n",
       "    <tr>\n",
       "      <th>16</th>\n",
       "      <td>0.090909</td>\n",
       "      <td>0.909091</td>\n",
       "    </tr>\n",
       "    <tr>\n",
       "      <th>8</th>\n",
       "      <td>0.093750</td>\n",
       "      <td>0.906250</td>\n",
       "    </tr>\n",
       "    <tr>\n",
       "      <th>5</th>\n",
       "      <td>0.101266</td>\n",
       "      <td>0.898734</td>\n",
       "    </tr>\n",
       "    <tr>\n",
       "      <th>14</th>\n",
       "      <td>0.115385</td>\n",
       "      <td>0.884615</td>\n",
       "    </tr>\n",
       "    <tr>\n",
       "      <th>4</th>\n",
       "      <td>0.117269</td>\n",
       "      <td>0.882731</td>\n",
       "    </tr>\n",
       "    <tr>\n",
       "      <th>1</th>\n",
       "      <td>0.125334</td>\n",
       "      <td>0.874666</td>\n",
       "    </tr>\n",
       "    <tr>\n",
       "      <th>18</th>\n",
       "      <td>0.300000</td>\n",
       "      <td>0.700000</td>\n",
       "    </tr>\n",
       "    <tr>\n",
       "      <th>13</th>\n",
       "      <td>0.500000</td>\n",
       "      <td>0.500000</td>\n",
       "    </tr>\n",
       "    <tr>\n",
       "      <th>21</th>\n",
       "      <td>0.500000</td>\n",
       "      <td>0.500000</td>\n",
       "    </tr>\n",
       "    <tr>\n",
       "      <th>12</th>\n",
       "      <td>NaN</td>\n",
       "      <td>1.000000</td>\n",
       "    </tr>\n",
       "    <tr>\n",
       "      <th>17</th>\n",
       "      <td>NaN</td>\n",
       "      <td>1.000000</td>\n",
       "    </tr>\n",
       "    <tr>\n",
       "      <th>19</th>\n",
       "      <td>NaN</td>\n",
       "      <td>1.000000</td>\n",
       "    </tr>\n",
       "    <tr>\n",
       "      <th>20</th>\n",
       "      <td>NaN</td>\n",
       "      <td>1.000000</td>\n",
       "    </tr>\n",
       "  </tbody>\n",
       "</table>\n",
       "</div>"
      ],
      "text/plain": [
       "eown_st         1         2\n",
       "trace                      \n",
       "15       0.020833  0.979167\n",
       "10       0.023529  0.976471\n",
       "9        0.023810  0.976190\n",
       "3        0.033392  0.966608\n",
       "2        0.036264  0.963736\n",
       "7        0.052854  0.947146\n",
       "6        0.056818  0.943182\n",
       "11       0.066667  0.933333\n",
       "16       0.090909  0.909091\n",
       "8        0.093750  0.906250\n",
       "5        0.101266  0.898734\n",
       "14       0.115385  0.884615\n",
       "4        0.117269  0.882731\n",
       "1        0.125334  0.874666\n",
       "18       0.300000  0.700000\n",
       "13       0.500000  0.500000\n",
       "21       0.500000  0.500000\n",
       "12            NaN  1.000000\n",
       "17            NaN  1.000000\n",
       "19            NaN  1.000000\n",
       "20            NaN  1.000000"
      ]
     },
     "execution_count": 10,
     "metadata": {},
     "output_type": "execute_result"
    }
   ],
   "source": [
    "df.drop_duplicates(['ssuid', 'pnum']).groupby(['trace']).eown_st.value_counts(normalize = True).unstack().sort_values(by = 1)"
   ]
  },
  {
   "cell_type": "code",
   "execution_count": 11,
   "id": "3ab07df1",
   "metadata": {},
   "outputs": [
    {
     "data": {
      "text/html": [
       "<div>\n",
       "<style scoped>\n",
       "    .dataframe tbody tr th:only-of-type {\n",
       "        vertical-align: middle;\n",
       "    }\n",
       "\n",
       "    .dataframe tbody tr th {\n",
       "        vertical-align: top;\n",
       "    }\n",
       "\n",
       "    .dataframe thead th {\n",
       "        text-align: right;\n",
       "    }\n",
       "</style>\n",
       "<table border=\"1\" class=\"dataframe\">\n",
       "  <thead>\n",
       "    <tr style=\"text-align: right;\">\n",
       "      <th>eown_st</th>\n",
       "      <th>1</th>\n",
       "      <th>2</th>\n",
       "    </tr>\n",
       "    <tr>\n",
       "      <th>erace</th>\n",
       "      <th></th>\n",
       "      <th></th>\n",
       "    </tr>\n",
       "  </thead>\n",
       "  <tbody>\n",
       "    <tr>\n",
       "      <th>2</th>\n",
       "      <td>0.036264</td>\n",
       "      <td>0.963736</td>\n",
       "    </tr>\n",
       "    <tr>\n",
       "      <th>4</th>\n",
       "      <td>0.055172</td>\n",
       "      <td>0.944828</td>\n",
       "    </tr>\n",
       "    <tr>\n",
       "      <th>3</th>\n",
       "      <td>0.117269</td>\n",
       "      <td>0.882731</td>\n",
       "    </tr>\n",
       "    <tr>\n",
       "      <th>1</th>\n",
       "      <td>0.125334</td>\n",
       "      <td>0.874666</td>\n",
       "    </tr>\n",
       "  </tbody>\n",
       "</table>\n",
       "</div>"
      ],
      "text/plain": [
       "eown_st         1         2\n",
       "erace                      \n",
       "2        0.036264  0.963736\n",
       "4        0.055172  0.944828\n",
       "3        0.117269  0.882731\n",
       "1        0.125334  0.874666"
      ]
     },
     "execution_count": 11,
     "metadata": {},
     "output_type": "execute_result"
    }
   ],
   "source": [
    "df.drop_duplicates(['ssuid', 'pnum']).groupby(['erace']).eown_st.value_counts(normalize = True).unstack().sort_values(by = 1)"
   ]
  },
  {
   "cell_type": "code",
   "execution_count": 12,
   "id": "bd90e7c8",
   "metadata": {},
   "outputs": [
    {
     "data": {
      "text/html": [
       "<div>\n",
       "<style scoped>\n",
       "    .dataframe tbody tr th:only-of-type {\n",
       "        vertical-align: middle;\n",
       "    }\n",
       "\n",
       "    .dataframe tbody tr th {\n",
       "        vertical-align: top;\n",
       "    }\n",
       "\n",
       "    .dataframe thead th {\n",
       "        text-align: right;\n",
       "    }\n",
       "</style>\n",
       "<table border=\"1\" class=\"dataframe\">\n",
       "  <thead>\n",
       "    <tr style=\"text-align: right;\">\n",
       "      <th>etenure</th>\n",
       "      <th>1</th>\n",
       "      <th>2</th>\n",
       "      <th>3</th>\n",
       "    </tr>\n",
       "    <tr>\n",
       "      <th>erace</th>\n",
       "      <th></th>\n",
       "      <th></th>\n",
       "      <th></th>\n",
       "    </tr>\n",
       "  </thead>\n",
       "  <tbody>\n",
       "    <tr>\n",
       "      <th>2</th>\n",
       "      <td>0.440575</td>\n",
       "      <td>0.531461</td>\n",
       "      <td>0.027965</td>\n",
       "    </tr>\n",
       "    <tr>\n",
       "      <th>4</th>\n",
       "      <td>0.543777</td>\n",
       "      <td>0.429088</td>\n",
       "      <td>0.027135</td>\n",
       "    </tr>\n",
       "    <tr>\n",
       "      <th>3</th>\n",
       "      <td>0.605799</td>\n",
       "      <td>0.377474</td>\n",
       "      <td>0.016727</td>\n",
       "    </tr>\n",
       "    <tr>\n",
       "      <th>1</th>\n",
       "      <td>0.701914</td>\n",
       "      <td>0.280600</td>\n",
       "      <td>0.017486</td>\n",
       "    </tr>\n",
       "  </tbody>\n",
       "</table>\n",
       "</div>"
      ],
      "text/plain": [
       "etenure         1         2         3\n",
       "erace                                \n",
       "2        0.440575  0.531461  0.027965\n",
       "4        0.543777  0.429088  0.027135\n",
       "3        0.605799  0.377474  0.016727\n",
       "1        0.701914  0.280600  0.017486"
      ]
     },
     "execution_count": 12,
     "metadata": {},
     "output_type": "execute_result"
    }
   ],
   "source": [
    "df.drop_duplicates(['ssuid', 'pnum']).groupby(['erace']).etenure.value_counts(normalize = True).unstack().sort_values(by = 1)\n",
    "#df.drop_duplicates(['ssuid', 'pnum']).groupby(['erace']).etenure.value_counts(normalize = True)\n",
    "#etenure: 1 = White alone, 2 = Black alone, 3 = Asian alone, 4 = Residual\n"
   ]
  },
  {
   "cell_type": "markdown",
   "id": "3b4a2495",
   "metadata": {},
   "source": [
    "70% of Whites are buying, 60.5% of Asians, and only 44% of Blacks own their own housing! An important way to increase and maintain wealth is through real estate, and this data shows that there is a disparity between white and colored home ownership rates"
   ]
  },
  {
   "cell_type": "code",
   "execution_count": 13,
   "id": "b15c5d3e",
   "metadata": {},
   "outputs": [
    {
     "data": {
      "text/html": [
       "<div>\n",
       "<style scoped>\n",
       "    .dataframe tbody tr th:only-of-type {\n",
       "        vertical-align: middle;\n",
       "    }\n",
       "\n",
       "    .dataframe tbody tr th {\n",
       "        vertical-align: top;\n",
       "    }\n",
       "\n",
       "    .dataframe thead th {\n",
       "        text-align: right;\n",
       "    }\n",
       "</style>\n",
       "<table border=\"1\" class=\"dataframe\">\n",
       "  <thead>\n",
       "    <tr style=\"text-align: right;\">\n",
       "      <th>ems</th>\n",
       "      <th>1</th>\n",
       "      <th>2</th>\n",
       "      <th>3</th>\n",
       "      <th>4</th>\n",
       "      <th>5</th>\n",
       "      <th>6</th>\n",
       "    </tr>\n",
       "    <tr>\n",
       "      <th>erace</th>\n",
       "      <th></th>\n",
       "      <th></th>\n",
       "      <th></th>\n",
       "      <th></th>\n",
       "      <th></th>\n",
       "      <th></th>\n",
       "    </tr>\n",
       "  </thead>\n",
       "  <tbody>\n",
       "    <tr>\n",
       "      <th>1</th>\n",
       "      <td>0.508156</td>\n",
       "      <td>0.014000</td>\n",
       "      <td>0.067881</td>\n",
       "      <td>0.115529</td>\n",
       "      <td>0.015680</td>\n",
       "      <td>0.278754</td>\n",
       "    </tr>\n",
       "    <tr>\n",
       "      <th>3</th>\n",
       "      <td>0.567586</td>\n",
       "      <td>0.032952</td>\n",
       "      <td>0.040013</td>\n",
       "      <td>0.048756</td>\n",
       "      <td>0.011096</td>\n",
       "      <td>0.299597</td>\n",
       "    </tr>\n",
       "    <tr>\n",
       "      <th>4</th>\n",
       "      <td>0.359515</td>\n",
       "      <td>0.018450</td>\n",
       "      <td>0.062203</td>\n",
       "      <td>0.119135</td>\n",
       "      <td>0.018977</td>\n",
       "      <td>0.421719</td>\n",
       "    </tr>\n",
       "    <tr>\n",
       "      <th>2</th>\n",
       "      <td>0.295575</td>\n",
       "      <td>0.022043</td>\n",
       "      <td>0.073049</td>\n",
       "      <td>0.132743</td>\n",
       "      <td>0.035720</td>\n",
       "      <td>0.440869</td>\n",
       "    </tr>\n",
       "  </tbody>\n",
       "</table>\n",
       "</div>"
      ],
      "text/plain": [
       "ems           1         2         3         4         5         6\n",
       "erace                                                            \n",
       "1      0.508156  0.014000  0.067881  0.115529  0.015680  0.278754\n",
       "3      0.567586  0.032952  0.040013  0.048756  0.011096  0.299597\n",
       "4      0.359515  0.018450  0.062203  0.119135  0.018977  0.421719\n",
       "2      0.295575  0.022043  0.073049  0.132743  0.035720  0.440869"
      ]
     },
     "execution_count": 13,
     "metadata": {},
     "output_type": "execute_result"
    }
   ],
   "source": [
    "df.drop_duplicates(['ssuid', 'pnum']).groupby(['erace']).ems.value_counts(normalize = True).unstack().sort_values(by = 6)"
   ]
  },
  {
   "cell_type": "markdown",
   "id": "9525b993",
   "metadata": {},
   "source": [
    "White people have the lowest rates of 'Never married.' Having a partner is an important way to build financial wealth. Asians have the highest rate of married, spouse present"
   ]
  },
  {
   "cell_type": "code",
   "execution_count": 14,
   "id": "71d58ada",
   "metadata": {},
   "outputs": [
    {
     "data": {
      "text/html": [
       "<div>\n",
       "<style scoped>\n",
       "    .dataframe tbody tr th:only-of-type {\n",
       "        vertical-align: middle;\n",
       "    }\n",
       "\n",
       "    .dataframe tbody tr th {\n",
       "        vertical-align: top;\n",
       "    }\n",
       "\n",
       "    .dataframe thead th {\n",
       "        text-align: right;\n",
       "    }\n",
       "</style>\n",
       "<table border=\"1\" class=\"dataframe\">\n",
       "  <thead>\n",
       "    <tr style=\"text-align: right;\">\n",
       "      <th>eown_thr401</th>\n",
       "      <th>1</th>\n",
       "      <th>2</th>\n",
       "    </tr>\n",
       "    <tr>\n",
       "      <th>erace</th>\n",
       "      <th></th>\n",
       "      <th></th>\n",
       "    </tr>\n",
       "  </thead>\n",
       "  <tbody>\n",
       "    <tr>\n",
       "      <th>3</th>\n",
       "      <td>0.301115</td>\n",
       "      <td>0.698885</td>\n",
       "    </tr>\n",
       "    <tr>\n",
       "      <th>1</th>\n",
       "      <td>0.297447</td>\n",
       "      <td>0.702553</td>\n",
       "    </tr>\n",
       "    <tr>\n",
       "      <th>2</th>\n",
       "      <td>0.232961</td>\n",
       "      <td>0.767039</td>\n",
       "    </tr>\n",
       "    <tr>\n",
       "      <th>4</th>\n",
       "      <td>0.217507</td>\n",
       "      <td>0.782493</td>\n",
       "    </tr>\n",
       "  </tbody>\n",
       "</table>\n",
       "</div>"
      ],
      "text/plain": [
       "eown_thr401         1         2\n",
       "erace                          \n",
       "3            0.301115  0.698885\n",
       "1            0.297447  0.702553\n",
       "2            0.232961  0.767039\n",
       "4            0.217507  0.782493"
      ]
     },
     "execution_count": 14,
     "metadata": {},
     "output_type": "execute_result"
    }
   ],
   "source": [
    "df.drop_duplicates(['ssuid', 'pnum']).groupby(['erace']).eown_thr401.value_counts(normalize = True).unstack().sort_values(by = 1, ascending = False)"
   ]
  },
  {
   "cell_type": "markdown",
   "id": "463a25e9",
   "metadata": {},
   "source": [
    "It appears that all races are having trouble engaging with 401k, 403b, etc. However, Asians are most likely to have these tax-advantaged retirement accounts followed by whites, blacks, then residuals"
   ]
  },
  {
   "cell_type": "code",
   "execution_count": 15,
   "id": "c642e64a",
   "metadata": {},
   "outputs": [
    {
     "data": {
      "text/html": [
       "<div>\n",
       "<style scoped>\n",
       "    .dataframe tbody tr th:only-of-type {\n",
       "        vertical-align: middle;\n",
       "    }\n",
       "\n",
       "    .dataframe tbody tr th {\n",
       "        vertical-align: top;\n",
       "    }\n",
       "\n",
       "    .dataframe thead th {\n",
       "        text-align: right;\n",
       "    }\n",
       "</style>\n",
       "<table border=\"1\" class=\"dataframe\">\n",
       "  <thead>\n",
       "    <tr style=\"text-align: right;\">\n",
       "      <th>ems</th>\n",
       "      <th>1</th>\n",
       "      <th>2</th>\n",
       "      <th>3</th>\n",
       "      <th>4</th>\n",
       "      <th>5</th>\n",
       "      <th>6</th>\n",
       "    </tr>\n",
       "    <tr>\n",
       "      <th>etenure</th>\n",
       "      <th></th>\n",
       "      <th></th>\n",
       "      <th></th>\n",
       "      <th></th>\n",
       "      <th></th>\n",
       "      <th></th>\n",
       "    </tr>\n",
       "  </thead>\n",
       "  <tbody>\n",
       "    <tr>\n",
       "      <th>2</th>\n",
       "      <td>0.296204</td>\n",
       "      <td>0.023102</td>\n",
       "      <td>0.058754</td>\n",
       "      <td>0.141171</td>\n",
       "      <td>0.030844</td>\n",
       "      <td>0.449925</td>\n",
       "    </tr>\n",
       "    <tr>\n",
       "      <th>3</th>\n",
       "      <td>0.292089</td>\n",
       "      <td>0.018256</td>\n",
       "      <td>0.087221</td>\n",
       "      <td>0.159229</td>\n",
       "      <td>0.027383</td>\n",
       "      <td>0.415822</td>\n",
       "    </tr>\n",
       "    <tr>\n",
       "      <th>1</th>\n",
       "      <td>0.570201</td>\n",
       "      <td>0.012999</td>\n",
       "      <td>0.069746</td>\n",
       "      <td>0.100210</td>\n",
       "      <td>0.011776</td>\n",
       "      <td>0.235067</td>\n",
       "    </tr>\n",
       "  </tbody>\n",
       "</table>\n",
       "</div>"
      ],
      "text/plain": [
       "ems             1         2         3         4         5         6\n",
       "etenure                                                            \n",
       "2        0.296204  0.023102  0.058754  0.141171  0.030844  0.449925\n",
       "3        0.292089  0.018256  0.087221  0.159229  0.027383  0.415822\n",
       "1        0.570201  0.012999  0.069746  0.100210  0.011776  0.235067"
      ]
     },
     "execution_count": 15,
     "metadata": {},
     "output_type": "execute_result"
    }
   ],
   "source": [
    "df.drop_duplicates(['ssuid', 'pnum']).groupby(['etenure']).ems.value_counts(normalize = True).unstack().sort_values(by = 6, ascending = False)"
   ]
  },
  {
   "cell_type": "markdown",
   "id": "10342af6",
   "metadata": {},
   "source": [
    "This is showing me that people that have never been married before are renting or occupying without paying rent! Only about a quarter of people that have never been married own a home??? Take another look at this one later"
   ]
  },
  {
   "cell_type": "code",
   "execution_count": 16,
   "id": "fff659d3",
   "metadata": {},
   "outputs": [
    {
     "data": {
      "text/html": [
       "<div>\n",
       "<style scoped>\n",
       "    .dataframe tbody tr th:only-of-type {\n",
       "        vertical-align: middle;\n",
       "    }\n",
       "\n",
       "    .dataframe tbody tr th {\n",
       "        vertical-align: top;\n",
       "    }\n",
       "\n",
       "    .dataframe thead th {\n",
       "        text-align: right;\n",
       "    }\n",
       "</style>\n",
       "<table border=\"1\" class=\"dataframe\">\n",
       "  <thead>\n",
       "    <tr style=\"text-align: right;\">\n",
       "      <th>rfamkind</th>\n",
       "      <th>1</th>\n",
       "      <th>2</th>\n",
       "      <th>3</th>\n",
       "    </tr>\n",
       "    <tr>\n",
       "      <th>erace</th>\n",
       "      <th></th>\n",
       "      <th></th>\n",
       "      <th></th>\n",
       "    </tr>\n",
       "  </thead>\n",
       "  <tbody>\n",
       "    <tr>\n",
       "      <th>3</th>\n",
       "      <td>0.873159</td>\n",
       "      <td>0.103414</td>\n",
       "      <td>0.023427</td>\n",
       "    </tr>\n",
       "    <tr>\n",
       "      <th>1</th>\n",
       "      <td>0.785534</td>\n",
       "      <td>0.175809</td>\n",
       "      <td>0.038657</td>\n",
       "    </tr>\n",
       "    <tr>\n",
       "      <th>4</th>\n",
       "      <td>0.646105</td>\n",
       "      <td>0.296713</td>\n",
       "      <td>0.057181</td>\n",
       "    </tr>\n",
       "    <tr>\n",
       "      <th>2</th>\n",
       "      <td>0.492839</td>\n",
       "      <td>0.451390</td>\n",
       "      <td>0.055771</td>\n",
       "    </tr>\n",
       "  </tbody>\n",
       "</table>\n",
       "</div>"
      ],
      "text/plain": [
       "rfamkind         1         2         3\n",
       "erace                                 \n",
       "3         0.873159  0.103414  0.023427\n",
       "1         0.785534  0.175809  0.038657\n",
       "4         0.646105  0.296713  0.057181\n",
       "2         0.492839  0.451390  0.055771"
      ]
     },
     "execution_count": 16,
     "metadata": {},
     "output_type": "execute_result"
    }
   ],
   "source": [
    "df.drop_duplicates(['ssuid', 'pnum']).groupby(['erace']).rfamkind.value_counts(normalize = True).unstack().sort_values(by = 1, ascending = False)"
   ]
  },
  {
   "cell_type": "markdown",
   "id": "45d2b5b7",
   "metadata": {},
   "source": [
    "Asians are most likely to live together as a married couple, followed by whites. What stands out to me is the black alone group. The black family is least likely to have a family unit. Hoever, 45% of black people that responded to this survey were Females with no spouse present, compared to only 5.5% male no spouse present!!"
   ]
  },
  {
   "cell_type": "code",
   "execution_count": 17,
   "id": "ffb6aeaf",
   "metadata": {},
   "outputs": [
    {
     "data": {
      "text/html": [
       "<div>\n",
       "<style scoped>\n",
       "    .dataframe tbody tr th:only-of-type {\n",
       "        vertical-align: middle;\n",
       "    }\n",
       "\n",
       "    .dataframe tbody tr th {\n",
       "        vertical-align: top;\n",
       "    }\n",
       "\n",
       "    .dataframe thead th {\n",
       "        text-align: right;\n",
       "    }\n",
       "</style>\n",
       "<table border=\"1\" class=\"dataframe\">\n",
       "  <thead>\n",
       "    <tr style=\"text-align: right;\">\n",
       "      <th>eown_thr401</th>\n",
       "      <th>1</th>\n",
       "      <th>2</th>\n",
       "    </tr>\n",
       "    <tr>\n",
       "      <th>rfamkind</th>\n",
       "      <th></th>\n",
       "      <th></th>\n",
       "    </tr>\n",
       "  </thead>\n",
       "  <tbody>\n",
       "    <tr>\n",
       "      <th>1</th>\n",
       "      <td>0.329278</td>\n",
       "      <td>0.670722</td>\n",
       "    </tr>\n",
       "    <tr>\n",
       "      <th>3</th>\n",
       "      <td>0.211514</td>\n",
       "      <td>0.788486</td>\n",
       "    </tr>\n",
       "    <tr>\n",
       "      <th>2</th>\n",
       "      <td>0.180283</td>\n",
       "      <td>0.819717</td>\n",
       "    </tr>\n",
       "  </tbody>\n",
       "</table>\n",
       "</div>"
      ],
      "text/plain": [
       "eown_thr401         1         2\n",
       "rfamkind                       \n",
       "1            0.329278  0.670722\n",
       "3            0.211514  0.788486\n",
       "2            0.180283  0.819717"
      ]
     },
     "execution_count": 17,
     "metadata": {},
     "output_type": "execute_result"
    }
   ],
   "source": [
    "df.drop_duplicates(['ssuid', 'pnum']).groupby(['rfamkind']).eown_thr401.value_counts(normalize = True).unstack().sort_values(by = 1, ascending = False)"
   ]
  },
  {
   "cell_type": "markdown",
   "id": "aa1c0422",
   "metadata": {},
   "source": [
    "Married couples are much much much better at utilizing tax-advantage retirement accounts compared to people without spouses! Single women are not utilizing these 401ks in comparison to single men"
   ]
  },
  {
   "cell_type": "code",
   "execution_count": 18,
   "id": "21ffddb8",
   "metadata": {},
   "outputs": [
    {
     "data": {
      "text/html": [
       "<div>\n",
       "<style scoped>\n",
       "    .dataframe tbody tr th:only-of-type {\n",
       "        vertical-align: middle;\n",
       "    }\n",
       "\n",
       "    .dataframe tbody tr th {\n",
       "        vertical-align: top;\n",
       "    }\n",
       "\n",
       "    .dataframe thead th {\n",
       "        text-align: right;\n",
       "    }\n",
       "</style>\n",
       "<table border=\"1\" class=\"dataframe\">\n",
       "  <thead>\n",
       "    <tr style=\"text-align: right;\">\n",
       "      <th></th>\n",
       "      <th>eown_thr401</th>\n",
       "      <th>1</th>\n",
       "      <th>2</th>\n",
       "    </tr>\n",
       "    <tr>\n",
       "      <th>erace</th>\n",
       "      <th>rfamkind</th>\n",
       "      <th></th>\n",
       "      <th></th>\n",
       "    </tr>\n",
       "  </thead>\n",
       "  <tbody>\n",
       "    <tr>\n",
       "      <th>1</th>\n",
       "      <th>1</th>\n",
       "      <td>0.333644</td>\n",
       "      <td>0.666356</td>\n",
       "    </tr>\n",
       "    <tr>\n",
       "      <th>3</th>\n",
       "      <th>1</th>\n",
       "      <td>0.323671</td>\n",
       "      <td>0.676329</td>\n",
       "    </tr>\n",
       "    <tr>\n",
       "      <th>2</th>\n",
       "      <th>1</th>\n",
       "      <td>0.309754</td>\n",
       "      <td>0.690246</td>\n",
       "    </tr>\n",
       "    <tr>\n",
       "      <th>4</th>\n",
       "      <th>1</th>\n",
       "      <td>0.273123</td>\n",
       "      <td>0.726877</td>\n",
       "    </tr>\n",
       "    <tr>\n",
       "      <th rowspan=\"2\" valign=\"top\">3</th>\n",
       "      <th>3</th>\n",
       "      <td>0.262295</td>\n",
       "      <td>0.737705</td>\n",
       "    </tr>\n",
       "    <tr>\n",
       "      <th>2</th>\n",
       "      <td>0.224138</td>\n",
       "      <td>0.775862</td>\n",
       "    </tr>\n",
       "    <tr>\n",
       "      <th>1</th>\n",
       "      <th>3</th>\n",
       "      <td>0.220426</td>\n",
       "      <td>0.779574</td>\n",
       "    </tr>\n",
       "    <tr>\n",
       "      <th>2</th>\n",
       "      <th>3</th>\n",
       "      <td>0.190299</td>\n",
       "      <td>0.809701</td>\n",
       "    </tr>\n",
       "    <tr>\n",
       "      <th>1</th>\n",
       "      <th>2</th>\n",
       "      <td>0.186623</td>\n",
       "      <td>0.813377</td>\n",
       "    </tr>\n",
       "    <tr>\n",
       "      <th>2</th>\n",
       "      <th>2</th>\n",
       "      <td>0.164931</td>\n",
       "      <td>0.835069</td>\n",
       "    </tr>\n",
       "    <tr>\n",
       "      <th rowspan=\"2\" valign=\"top\">4</th>\n",
       "      <th>2</th>\n",
       "      <td>0.144092</td>\n",
       "      <td>0.855908</td>\n",
       "    </tr>\n",
       "    <tr>\n",
       "      <th>3</th>\n",
       "      <td>0.127660</td>\n",
       "      <td>0.872340</td>\n",
       "    </tr>\n",
       "  </tbody>\n",
       "</table>\n",
       "</div>"
      ],
      "text/plain": [
       "eown_thr401            1         2\n",
       "erace rfamkind                    \n",
       "1     1         0.333644  0.666356\n",
       "3     1         0.323671  0.676329\n",
       "2     1         0.309754  0.690246\n",
       "4     1         0.273123  0.726877\n",
       "3     3         0.262295  0.737705\n",
       "      2         0.224138  0.775862\n",
       "1     3         0.220426  0.779574\n",
       "2     3         0.190299  0.809701\n",
       "1     2         0.186623  0.813377\n",
       "2     2         0.164931  0.835069\n",
       "4     2         0.144092  0.855908\n",
       "      3         0.127660  0.872340"
      ]
     },
     "execution_count": 18,
     "metadata": {},
     "output_type": "execute_result"
    }
   ],
   "source": [
    "df.drop_duplicates(['ssuid', 'pnum']).groupby(['erace', 'rfamkind']).eown_thr401.value_counts(normalize = True).unstack().sort_values(by = 1, ascending = False)"
   ]
  },
  {
   "cell_type": "markdown",
   "id": "040815f0",
   "metadata": {},
   "source": [
    "Couples accross the board that are married have very similar rates of tax-advantaged retirement accounts regardless of race. Whites as a family take most advantage of these accounts followed by asians then blacks, it's not by much though. It appears that asian men and residual men are better at getting 401ks compared to asian women. However, there is a significant disparity between black men and women"
   ]
  },
  {
   "cell_type": "code",
   "execution_count": 121,
   "id": "dbe09b82",
   "metadata": {},
   "outputs": [
    {
     "data": {
      "text/html": [
       "<div>\n",
       "<style scoped>\n",
       "    .dataframe tbody tr th:only-of-type {\n",
       "        vertical-align: middle;\n",
       "    }\n",
       "\n",
       "    .dataframe tbody tr th {\n",
       "        vertical-align: top;\n",
       "    }\n",
       "\n",
       "    .dataframe thead th {\n",
       "        text-align: right;\n",
       "    }\n",
       "</style>\n",
       "<table border=\"1\" class=\"dataframe\">\n",
       "  <thead>\n",
       "    <tr style=\"text-align: right;\">\n",
       "      <th></th>\n",
       "      <th>eown_st</th>\n",
       "      <th>1</th>\n",
       "      <th>2</th>\n",
       "    </tr>\n",
       "    <tr>\n",
       "      <th>erace</th>\n",
       "      <th>eown_thr401</th>\n",
       "      <th></th>\n",
       "      <th></th>\n",
       "    </tr>\n",
       "  </thead>\n",
       "  <tbody>\n",
       "    <tr>\n",
       "      <th>3</th>\n",
       "      <th>1</th>\n",
       "      <td>0.259259</td>\n",
       "      <td>0.740741</td>\n",
       "    </tr>\n",
       "    <tr>\n",
       "      <th>1</th>\n",
       "      <th>1</th>\n",
       "      <td>0.201136</td>\n",
       "      <td>0.798864</td>\n",
       "    </tr>\n",
       "    <tr>\n",
       "      <th>4</th>\n",
       "      <th>1</th>\n",
       "      <td>0.124390</td>\n",
       "      <td>0.875610</td>\n",
       "    </tr>\n",
       "    <tr>\n",
       "      <th>2</th>\n",
       "      <th>1</th>\n",
       "      <td>0.099375</td>\n",
       "      <td>0.900625</td>\n",
       "    </tr>\n",
       "    <tr>\n",
       "      <th>1</th>\n",
       "      <th>2</th>\n",
       "      <td>0.093240</td>\n",
       "      <td>0.906760</td>\n",
       "    </tr>\n",
       "    <tr>\n",
       "      <th>3</th>\n",
       "      <th>2</th>\n",
       "      <td>0.056093</td>\n",
       "      <td>0.943907</td>\n",
       "    </tr>\n",
       "    <tr>\n",
       "      <th>4</th>\n",
       "      <th>2</th>\n",
       "      <td>0.035932</td>\n",
       "      <td>0.964068</td>\n",
       "    </tr>\n",
       "    <tr>\n",
       "      <th>2</th>\n",
       "      <th>2</th>\n",
       "      <td>0.017096</td>\n",
       "      <td>0.982904</td>\n",
       "    </tr>\n",
       "  </tbody>\n",
       "</table>\n",
       "</div>"
      ],
      "text/plain": [
       "eown_st                   1         2\n",
       "erace eown_thr401                    \n",
       "3     1            0.259259  0.740741\n",
       "1     1            0.201136  0.798864\n",
       "4     1            0.124390  0.875610\n",
       "2     1            0.099375  0.900625\n",
       "1     2            0.093240  0.906760\n",
       "3     2            0.056093  0.943907\n",
       "4     2            0.035932  0.964068\n",
       "2     2            0.017096  0.982904"
      ]
     },
     "execution_count": 121,
     "metadata": {},
     "output_type": "execute_result"
    }
   ],
   "source": [
    "sipp_2018_person.groupby(['erace', 'eown_thr401']).eown_st.value_counts(normalize = True).unstack().sort_values(by = 1, ascending = False)"
   ]
  },
  {
   "cell_type": "markdown",
   "id": "d9c130d7",
   "metadata": {},
   "source": [
    "Race, 401k, and stocks. Asians that have a 401k are most likely to have stock, followed by whites with a 401k. Blacks with a 401k are least likely to own stock compared to other races with a 401k. Blacks without a 401k are least likely to own stock"
   ]
  },
  {
   "cell_type": "code",
   "execution_count": 122,
   "id": "467e284c",
   "metadata": {},
   "outputs": [
    {
     "data": {
      "text/html": [
       "<div>\n",
       "<style scoped>\n",
       "    .dataframe tbody tr th:only-of-type {\n",
       "        vertical-align: middle;\n",
       "    }\n",
       "\n",
       "    .dataframe tbody tr th {\n",
       "        vertical-align: top;\n",
       "    }\n",
       "\n",
       "    .dataframe thead th {\n",
       "        text-align: right;\n",
       "    }\n",
       "</style>\n",
       "<table border=\"1\" class=\"dataframe\">\n",
       "  <thead>\n",
       "    <tr style=\"text-align: right;\">\n",
       "      <th></th>\n",
       "      <th>eown_st</th>\n",
       "      <th>1</th>\n",
       "      <th>2</th>\n",
       "    </tr>\n",
       "    <tr>\n",
       "      <th>erace</th>\n",
       "      <th>rfamkind</th>\n",
       "      <th></th>\n",
       "      <th></th>\n",
       "    </tr>\n",
       "  </thead>\n",
       "  <tbody>\n",
       "    <tr>\n",
       "      <th>1</th>\n",
       "      <th>1</th>\n",
       "      <td>0.144978</td>\n",
       "      <td>0.855022</td>\n",
       "    </tr>\n",
       "    <tr>\n",
       "      <th rowspan=\"2\" valign=\"top\">3</th>\n",
       "      <th>1</th>\n",
       "      <td>0.126570</td>\n",
       "      <td>0.873430</td>\n",
       "    </tr>\n",
       "    <tr>\n",
       "      <th>3</th>\n",
       "      <td>0.081967</td>\n",
       "      <td>0.918033</td>\n",
       "    </tr>\n",
       "    <tr>\n",
       "      <th>1</th>\n",
       "      <th>3</th>\n",
       "      <td>0.074894</td>\n",
       "      <td>0.925106</td>\n",
       "    </tr>\n",
       "    <tr>\n",
       "      <th>4</th>\n",
       "      <th>1</th>\n",
       "      <td>0.067465</td>\n",
       "      <td>0.932535</td>\n",
       "    </tr>\n",
       "    <tr>\n",
       "      <th>3</th>\n",
       "      <th>2</th>\n",
       "      <td>0.064655</td>\n",
       "      <td>0.935345</td>\n",
       "    </tr>\n",
       "    <tr>\n",
       "      <th>2</th>\n",
       "      <th>1</th>\n",
       "      <td>0.053163</td>\n",
       "      <td>0.946837</td>\n",
       "    </tr>\n",
       "    <tr>\n",
       "      <th>1</th>\n",
       "      <th>2</th>\n",
       "      <td>0.041667</td>\n",
       "      <td>0.958333</td>\n",
       "    </tr>\n",
       "    <tr>\n",
       "      <th>2</th>\n",
       "      <th>3</th>\n",
       "      <td>0.033582</td>\n",
       "      <td>0.966418</td>\n",
       "    </tr>\n",
       "    <tr>\n",
       "      <th rowspan=\"2\" valign=\"top\">4</th>\n",
       "      <th>3</th>\n",
       "      <td>0.021277</td>\n",
       "      <td>0.978723</td>\n",
       "    </tr>\n",
       "    <tr>\n",
       "      <th>2</th>\n",
       "      <td>0.017291</td>\n",
       "      <td>0.982709</td>\n",
       "    </tr>\n",
       "    <tr>\n",
       "      <th>2</th>\n",
       "      <th>2</th>\n",
       "      <td>0.015625</td>\n",
       "      <td>0.984375</td>\n",
       "    </tr>\n",
       "  </tbody>\n",
       "</table>\n",
       "</div>"
      ],
      "text/plain": [
       "eown_st                1         2\n",
       "erace rfamkind                    \n",
       "1     1         0.144978  0.855022\n",
       "3     1         0.126570  0.873430\n",
       "      3         0.081967  0.918033\n",
       "1     3         0.074894  0.925106\n",
       "4     1         0.067465  0.932535\n",
       "3     2         0.064655  0.935345\n",
       "2     1         0.053163  0.946837\n",
       "1     2         0.041667  0.958333\n",
       "2     3         0.033582  0.966418\n",
       "4     3         0.021277  0.978723\n",
       "      2         0.017291  0.982709\n",
       "2     2         0.015625  0.984375"
      ]
     },
     "execution_count": 122,
     "metadata": {},
     "output_type": "execute_result"
    }
   ],
   "source": [
    "sipp_2018_person.groupby(['erace', 'rfamkind']).eown_st.value_counts(normalize = True).unstack().sort_values(by = 1, ascending = False)"
   ]
  },
  {
   "cell_type": "code",
   "execution_count": null,
   "id": "ff6bf3a7",
   "metadata": {},
   "outputs": [],
   "source": [
    "Race, family kind, and stock"
   ]
  },
  {
   "cell_type": "code",
   "execution_count": 115,
   "id": "c54ae24c",
   "metadata": {},
   "outputs": [
    {
     "data": {
      "text/html": [
       "<div>\n",
       "<style scoped>\n",
       "    .dataframe tbody tr th:only-of-type {\n",
       "        vertical-align: middle;\n",
       "    }\n",
       "\n",
       "    .dataframe tbody tr th {\n",
       "        vertical-align: top;\n",
       "    }\n",
       "\n",
       "    .dataframe thead th {\n",
       "        text-align: right;\n",
       "    }\n",
       "</style>\n",
       "<table border=\"1\" class=\"dataframe\">\n",
       "  <thead>\n",
       "    <tr style=\"text-align: right;\">\n",
       "      <th>eeduc</th>\n",
       "      <th>31</th>\n",
       "      <th>32</th>\n",
       "      <th>33</th>\n",
       "      <th>34</th>\n",
       "      <th>35</th>\n",
       "      <th>36</th>\n",
       "      <th>37</th>\n",
       "      <th>38</th>\n",
       "      <th>39</th>\n",
       "      <th>40</th>\n",
       "      <th>41</th>\n",
       "      <th>42</th>\n",
       "      <th>43</th>\n",
       "      <th>44</th>\n",
       "      <th>45</th>\n",
       "      <th>46</th>\n",
       "    </tr>\n",
       "    <tr>\n",
       "      <th>erace</th>\n",
       "      <th></th>\n",
       "      <th></th>\n",
       "      <th></th>\n",
       "      <th></th>\n",
       "      <th></th>\n",
       "      <th></th>\n",
       "      <th></th>\n",
       "      <th></th>\n",
       "      <th></th>\n",
       "      <th></th>\n",
       "      <th></th>\n",
       "      <th></th>\n",
       "      <th></th>\n",
       "      <th></th>\n",
       "      <th></th>\n",
       "      <th></th>\n",
       "    </tr>\n",
       "  </thead>\n",
       "  <tbody>\n",
       "    <tr>\n",
       "      <th>3</th>\n",
       "      <td>0.010087</td>\n",
       "      <td>0.005044</td>\n",
       "      <td>0.013786</td>\n",
       "      <td>0.014459</td>\n",
       "      <td>0.017485</td>\n",
       "      <td>0.026564</td>\n",
       "      <td>0.017149</td>\n",
       "      <td>0.022192</td>\n",
       "      <td>0.183255</td>\n",
       "      <td>0.043376</td>\n",
       "      <td>0.091459</td>\n",
       "      <td>0.062542</td>\n",
       "      <td>0.280767</td>\n",
       "      <td>0.144923</td>\n",
       "      <td>0.030262</td>\n",
       "      <td>0.036651</td>\n",
       "    </tr>\n",
       "    <tr>\n",
       "      <th>1</th>\n",
       "      <td>0.003287</td>\n",
       "      <td>0.007816</td>\n",
       "      <td>0.014073</td>\n",
       "      <td>0.021937</td>\n",
       "      <td>0.026685</td>\n",
       "      <td>0.030507</td>\n",
       "      <td>0.031920</td>\n",
       "      <td>0.020501</td>\n",
       "      <td>0.274007</td>\n",
       "      <td>0.065154</td>\n",
       "      <td>0.120520</td>\n",
       "      <td>0.088430</td>\n",
       "      <td>0.186137</td>\n",
       "      <td>0.080079</td>\n",
       "      <td>0.014852</td>\n",
       "      <td>0.014097</td>\n",
       "    </tr>\n",
       "    <tr>\n",
       "      <th>2</th>\n",
       "      <td>0.003057</td>\n",
       "      <td>0.003862</td>\n",
       "      <td>0.007080</td>\n",
       "      <td>0.022365</td>\n",
       "      <td>0.027031</td>\n",
       "      <td>0.039903</td>\n",
       "      <td>0.057924</td>\n",
       "      <td>0.029606</td>\n",
       "      <td>0.304425</td>\n",
       "      <td>0.071440</td>\n",
       "      <td>0.134996</td>\n",
       "      <td>0.094127</td>\n",
       "      <td>0.127916</td>\n",
       "      <td>0.060499</td>\n",
       "      <td>0.006114</td>\n",
       "      <td>0.009654</td>\n",
       "    </tr>\n",
       "    <tr>\n",
       "      <th>4</th>\n",
       "      <td>0.001054</td>\n",
       "      <td>0.008962</td>\n",
       "      <td>0.008962</td>\n",
       "      <td>0.033210</td>\n",
       "      <td>0.033210</td>\n",
       "      <td>0.040063</td>\n",
       "      <td>0.041645</td>\n",
       "      <td>0.036373</td>\n",
       "      <td>0.280970</td>\n",
       "      <td>0.091197</td>\n",
       "      <td>0.130206</td>\n",
       "      <td>0.093832</td>\n",
       "      <td>0.132314</td>\n",
       "      <td>0.050606</td>\n",
       "      <td>0.009489</td>\n",
       "      <td>0.007907</td>\n",
       "    </tr>\n",
       "  </tbody>\n",
       "</table>\n",
       "</div>"
      ],
      "text/plain": [
       "eeduc        31        32        33        34        35        36        37  \\\n",
       "erace                                                                         \n",
       "3      0.010087  0.005044  0.013786  0.014459  0.017485  0.026564  0.017149   \n",
       "1      0.003287  0.007816  0.014073  0.021937  0.026685  0.030507  0.031920   \n",
       "2      0.003057  0.003862  0.007080  0.022365  0.027031  0.039903  0.057924   \n",
       "4      0.001054  0.008962  0.008962  0.033210  0.033210  0.040063  0.041645   \n",
       "\n",
       "eeduc        38        39        40        41        42        43        44  \\\n",
       "erace                                                                         \n",
       "3      0.022192  0.183255  0.043376  0.091459  0.062542  0.280767  0.144923   \n",
       "1      0.020501  0.274007  0.065154  0.120520  0.088430  0.186137  0.080079   \n",
       "2      0.029606  0.304425  0.071440  0.134996  0.094127  0.127916  0.060499   \n",
       "4      0.036373  0.280970  0.091197  0.130206  0.093832  0.132314  0.050606   \n",
       "\n",
       "eeduc        45        46  \n",
       "erace                      \n",
       "3      0.030262  0.036651  \n",
       "1      0.014852  0.014097  \n",
       "2      0.006114  0.009654  \n",
       "4      0.009489  0.007907  "
      ]
     },
     "execution_count": 115,
     "metadata": {},
     "output_type": "execute_result"
    }
   ],
   "source": [
    "df.drop_duplicates(['ssuid', 'pnum']).groupby(['erace']).eeduc.value_counts(normalize = True).unstack().sort_values(by = 31, ascending = False)"
   ]
  },
  {
   "cell_type": "code",
   "execution_count": 118,
   "id": "546689b1",
   "metadata": {},
   "outputs": [],
   "source": [
    "df.drop_duplicates(['ssuid', 'pnum']).groupby(['erace', 'eeduc']).eown_st.value_counts(normalize = True).unstack().to_csv('test.csv')"
   ]
  },
  {
   "cell_type": "markdown",
   "id": "168fddd9",
   "metadata": {},
   "source": [
    "Blacks are less likely to go for higher education. Is the upfront cost too much?"
   ]
  },
  {
   "cell_type": "code",
   "execution_count": 20,
   "id": "19cc5408",
   "metadata": {},
   "outputs": [
    {
     "data": {
      "text/html": [
       "<div>\n",
       "<style scoped>\n",
       "    .dataframe tbody tr th:only-of-type {\n",
       "        vertical-align: middle;\n",
       "    }\n",
       "\n",
       "    .dataframe tbody tr th {\n",
       "        vertical-align: top;\n",
       "    }\n",
       "\n",
       "    .dataframe thead th {\n",
       "        text-align: right;\n",
       "    }\n",
       "</style>\n",
       "<table border=\"1\" class=\"dataframe\">\n",
       "  <thead>\n",
       "    <tr style=\"text-align: right;\">\n",
       "      <th>eeduc</th>\n",
       "      <th>31</th>\n",
       "      <th>32</th>\n",
       "      <th>33</th>\n",
       "      <th>34</th>\n",
       "      <th>35</th>\n",
       "      <th>36</th>\n",
       "      <th>37</th>\n",
       "      <th>38</th>\n",
       "      <th>39</th>\n",
       "      <th>40</th>\n",
       "      <th>41</th>\n",
       "      <th>42</th>\n",
       "      <th>43</th>\n",
       "      <th>44</th>\n",
       "      <th>45</th>\n",
       "      <th>46</th>\n",
       "    </tr>\n",
       "    <tr>\n",
       "      <th>eown_thr401</th>\n",
       "      <th></th>\n",
       "      <th></th>\n",
       "      <th></th>\n",
       "      <th></th>\n",
       "      <th></th>\n",
       "      <th></th>\n",
       "      <th></th>\n",
       "      <th></th>\n",
       "      <th></th>\n",
       "      <th></th>\n",
       "      <th></th>\n",
       "      <th></th>\n",
       "      <th></th>\n",
       "      <th></th>\n",
       "      <th></th>\n",
       "      <th></th>\n",
       "    </tr>\n",
       "  </thead>\n",
       "  <tbody>\n",
       "    <tr>\n",
       "      <th>1</th>\n",
       "      <td>0.000940</td>\n",
       "      <td>0.001477</td>\n",
       "      <td>0.003089</td>\n",
       "      <td>0.003492</td>\n",
       "      <td>0.003828</td>\n",
       "      <td>0.004096</td>\n",
       "      <td>0.007588</td>\n",
       "      <td>0.007656</td>\n",
       "      <td>0.202874</td>\n",
       "      <td>0.057014</td>\n",
       "      <td>0.102679</td>\n",
       "      <td>0.108119</td>\n",
       "      <td>0.294876</td>\n",
       "      <td>0.146263</td>\n",
       "      <td>0.026660</td>\n",
       "      <td>0.029347</td>\n",
       "    </tr>\n",
       "    <tr>\n",
       "      <th>2</th>\n",
       "      <td>0.004651</td>\n",
       "      <td>0.009600</td>\n",
       "      <td>0.017117</td>\n",
       "      <td>0.026771</td>\n",
       "      <td>0.032368</td>\n",
       "      <td>0.041778</td>\n",
       "      <td>0.045537</td>\n",
       "      <td>0.028258</td>\n",
       "      <td>0.302939</td>\n",
       "      <td>0.069576</td>\n",
       "      <td>0.129229</td>\n",
       "      <td>0.080339</td>\n",
       "      <td>0.138855</td>\n",
       "      <td>0.054460</td>\n",
       "      <td>0.009708</td>\n",
       "      <td>0.008815</td>\n",
       "    </tr>\n",
       "  </tbody>\n",
       "</table>\n",
       "</div>"
      ],
      "text/plain": [
       "eeduc              31        32        33        34        35        36  \\\n",
       "eown_thr401                                                               \n",
       "1            0.000940  0.001477  0.003089  0.003492  0.003828  0.004096   \n",
       "2            0.004651  0.009600  0.017117  0.026771  0.032368  0.041778   \n",
       "\n",
       "eeduc              37        38        39        40        41        42  \\\n",
       "eown_thr401                                                               \n",
       "1            0.007588  0.007656  0.202874  0.057014  0.102679  0.108119   \n",
       "2            0.045537  0.028258  0.302939  0.069576  0.129229  0.080339   \n",
       "\n",
       "eeduc              43        44        45        46  \n",
       "eown_thr401                                          \n",
       "1            0.294876  0.146263  0.026660  0.029347  \n",
       "2            0.138855  0.054460  0.009708  0.008815  "
      ]
     },
     "execution_count": 20,
     "metadata": {},
     "output_type": "execute_result"
    }
   ],
   "source": [
    "df.drop_duplicates(['ssuid', 'pnum']).groupby(['eown_thr401']).eeduc.value_counts(normalize = True).unstack().sort_values(by = 31)"
   ]
  },
  {
   "cell_type": "markdown",
   "id": "1f9586e2",
   "metadata": {},
   "source": [
    "It makes sense that as one becomes more educated, they are increasingly more likely to have a 401k account. However, after acheiving a Bachelor's, people with a Master's and higher are less likely to have them. Maybe it ahs to do with the fact that people willing to go for advanced degrees are more financially sound (rich parents)?"
   ]
  },
  {
   "cell_type": "code",
   "execution_count": 21,
   "id": "0971c914",
   "metadata": {},
   "outputs": [
    {
     "data": {
      "text/html": [
       "<div>\n",
       "<style scoped>\n",
       "    .dataframe tbody tr th:only-of-type {\n",
       "        vertical-align: middle;\n",
       "    }\n",
       "\n",
       "    .dataframe tbody tr th {\n",
       "        vertical-align: top;\n",
       "    }\n",
       "\n",
       "    .dataframe thead th {\n",
       "        text-align: right;\n",
       "    }\n",
       "</style>\n",
       "<table border=\"1\" class=\"dataframe\">\n",
       "  <thead>\n",
       "    <tr style=\"text-align: right;\">\n",
       "      <th>rtanf_mnyn</th>\n",
       "      <th>1</th>\n",
       "      <th>2</th>\n",
       "    </tr>\n",
       "    <tr>\n",
       "      <th>erace</th>\n",
       "      <th></th>\n",
       "      <th></th>\n",
       "    </tr>\n",
       "  </thead>\n",
       "  <tbody>\n",
       "    <tr>\n",
       "      <th>2</th>\n",
       "      <td>0.015254</td>\n",
       "      <td>0.984746</td>\n",
       "    </tr>\n",
       "    <tr>\n",
       "      <th>4</th>\n",
       "      <td>0.009045</td>\n",
       "      <td>0.990955</td>\n",
       "    </tr>\n",
       "    <tr>\n",
       "      <th>1</th>\n",
       "      <td>0.004065</td>\n",
       "      <td>0.995935</td>\n",
       "    </tr>\n",
       "    <tr>\n",
       "      <th>3</th>\n",
       "      <td>0.002230</td>\n",
       "      <td>0.997770</td>\n",
       "    </tr>\n",
       "  </tbody>\n",
       "</table>\n",
       "</div>"
      ],
      "text/plain": [
       "rtanf_mnyn         1         2\n",
       "erace                         \n",
       "2           0.015254  0.984746\n",
       "4           0.009045  0.990955\n",
       "1           0.004065  0.995935\n",
       "3           0.002230  0.997770"
      ]
     },
     "execution_count": 21,
     "metadata": {},
     "output_type": "execute_result"
    }
   ],
   "source": [
    "df.drop_duplicates(['ssuid', 'pnum']).groupby(['erace']).rtanf_mnyn.value_counts(normalize = True).unstack().sort_values(by = 1, ascending = False)"
   ]
  },
  {
   "cell_type": "markdown",
   "id": "bb1258d7",
   "metadata": {},
   "source": [
    "Blacks have a higher rate of recieve government assistance compared to whites. Asians get the least from the government"
   ]
  },
  {
   "cell_type": "code",
   "execution_count": 123,
   "id": "a80b1d0c",
   "metadata": {},
   "outputs": [
    {
     "data": {
      "text/html": [
       "<div>\n",
       "<style scoped>\n",
       "    .dataframe tbody tr th:only-of-type {\n",
       "        vertical-align: middle;\n",
       "    }\n",
       "\n",
       "    .dataframe tbody tr th {\n",
       "        vertical-align: top;\n",
       "    }\n",
       "\n",
       "    .dataframe thead th {\n",
       "        text-align: right;\n",
       "    }\n",
       "</style>\n",
       "<table border=\"1\" class=\"dataframe\">\n",
       "  <thead>\n",
       "    <tr style=\"text-align: right;\">\n",
       "      <th></th>\n",
       "      <th>eown_st</th>\n",
       "      <th>1</th>\n",
       "      <th>2</th>\n",
       "    </tr>\n",
       "    <tr>\n",
       "      <th>erace</th>\n",
       "      <th>rtanf_mnyn</th>\n",
       "      <th></th>\n",
       "      <th></th>\n",
       "    </tr>\n",
       "  </thead>\n",
       "  <tbody>\n",
       "    <tr>\n",
       "      <th>3</th>\n",
       "      <th>1</th>\n",
       "      <td>0.200000</td>\n",
       "      <td>0.800000</td>\n",
       "    </tr>\n",
       "    <tr>\n",
       "      <th>1</th>\n",
       "      <th>2</th>\n",
       "      <td>0.125509</td>\n",
       "      <td>0.874491</td>\n",
       "    </tr>\n",
       "    <tr>\n",
       "      <th>3</th>\n",
       "      <th>2</th>\n",
       "      <td>0.117129</td>\n",
       "      <td>0.882871</td>\n",
       "    </tr>\n",
       "    <tr>\n",
       "      <th>4</th>\n",
       "      <th>2</th>\n",
       "      <td>0.055467</td>\n",
       "      <td>0.944533</td>\n",
       "    </tr>\n",
       "    <tr>\n",
       "      <th>2</th>\n",
       "      <th>2</th>\n",
       "      <td>0.036464</td>\n",
       "      <td>0.963536</td>\n",
       "    </tr>\n",
       "    <tr>\n",
       "      <th>1</th>\n",
       "      <th>1</th>\n",
       "      <td>0.015385</td>\n",
       "      <td>0.984615</td>\n",
       "    </tr>\n",
       "    <tr>\n",
       "      <th>2</th>\n",
       "      <th>1</th>\n",
       "      <td>NaN</td>\n",
       "      <td>1.000000</td>\n",
       "    </tr>\n",
       "    <tr>\n",
       "      <th>4</th>\n",
       "      <th>1</th>\n",
       "      <td>NaN</td>\n",
       "      <td>1.000000</td>\n",
       "    </tr>\n",
       "  </tbody>\n",
       "</table>\n",
       "</div>"
      ],
      "text/plain": [
       "eown_st                  1         2\n",
       "erace rtanf_mnyn                    \n",
       "3     1           0.200000  0.800000\n",
       "1     2           0.125509  0.874491\n",
       "3     2           0.117129  0.882871\n",
       "4     2           0.055467  0.944533\n",
       "2     2           0.036464  0.963536\n",
       "1     1           0.015385  0.984615\n",
       "2     1                NaN  1.000000\n",
       "4     1                NaN  1.000000"
      ]
     },
     "execution_count": 123,
     "metadata": {},
     "output_type": "execute_result"
    }
   ],
   "source": [
    "sipp_2018_person.groupby(['erace', 'rtanf_mnyn']).eown_st.value_counts(normalize = True).unstack().sort_values(by = 1, ascending = False)"
   ]
  },
  {
   "cell_type": "code",
   "execution_count": null,
   "id": "2a229842",
   "metadata": {},
   "outputs": [],
   "source": [
    "Relationship between race, tanf, beniefits, and stock"
   ]
  },
  {
   "cell_type": "code",
   "execution_count": 22,
   "id": "873c2150",
   "metadata": {},
   "outputs": [
    {
     "data": {
      "text/html": [
       "<div>\n",
       "<style scoped>\n",
       "    .dataframe tbody tr th:only-of-type {\n",
       "        vertical-align: middle;\n",
       "    }\n",
       "\n",
       "    .dataframe tbody tr th {\n",
       "        vertical-align: top;\n",
       "    }\n",
       "\n",
       "    .dataframe thead th {\n",
       "        text-align: right;\n",
       "    }\n",
       "</style>\n",
       "<table border=\"1\" class=\"dataframe\">\n",
       "  <thead>\n",
       "    <tr style=\"text-align: right;\">\n",
       "      <th></th>\n",
       "      <th>spanel</th>\n",
       "      <th>swave</th>\n",
       "      <th>etenure</th>\n",
       "      <th>eprdebt</th>\n",
       "      <th>eprloan1rate</th>\n",
       "      <th>eprloan1fxvr</th>\n",
       "      <th>eprloan1type</th>\n",
       "      <th>emhloan1site</th>\n",
       "      <th>erec_boat</th>\n",
       "      <th>emcycdebt</th>\n",
       "      <th>...</th>\n",
       "      <th>tdebt_cc</th>\n",
       "      <th>tdebt_ed</th>\n",
       "      <th>tdebt_ot</th>\n",
       "      <th>tdebt_usec</th>\n",
       "      <th>tdebt_bus</th>\n",
       "      <th>tdebt_home</th>\n",
       "      <th>tdebt_veh</th>\n",
       "      <th>tdebt_sec</th>\n",
       "      <th>tdebt_ast</th>\n",
       "      <th>tptotinc</th>\n",
       "    </tr>\n",
       "  </thead>\n",
       "  <tbody>\n",
       "    <tr>\n",
       "      <th>count</th>\n",
       "      <td>763186.0</td>\n",
       "      <td>763186.0</td>\n",
       "      <td>763186.000000</td>\n",
       "      <td>470013.000000</td>\n",
       "      <td>317315.000000</td>\n",
       "      <td>317315.000000</td>\n",
       "      <td>317315.000000</td>\n",
       "      <td>8334.000000</td>\n",
       "      <td>110788.000000</td>\n",
       "      <td>41720.000000</td>\n",
       "      <td>...</td>\n",
       "      <td>622464.000000</td>\n",
       "      <td>622464.000000</td>\n",
       "      <td>622464.000000</td>\n",
       "      <td>622464.000000</td>\n",
       "      <td>6.224640e+05</td>\n",
       "      <td>6.224640e+05</td>\n",
       "      <td>622464.000000</td>\n",
       "      <td>6.224640e+05</td>\n",
       "      <td>6.224640e+05</td>\n",
       "      <td>620018.000000</td>\n",
       "    </tr>\n",
       "    <tr>\n",
       "      <th>mean</th>\n",
       "      <td>2018.0</td>\n",
       "      <td>1.0</td>\n",
       "      <td>1.360748</td>\n",
       "      <td>1.324880</td>\n",
       "      <td>4.055775</td>\n",
       "      <td>1.095309</td>\n",
       "      <td>3.006155</td>\n",
       "      <td>2.504680</td>\n",
       "      <td>1.611510</td>\n",
       "      <td>1.864238</td>\n",
       "      <td>...</td>\n",
       "      <td>1699.454523</td>\n",
       "      <td>3573.963988</td>\n",
       "      <td>1026.797251</td>\n",
       "      <td>8252.094579</td>\n",
       "      <td>6.714226e+03</td>\n",
       "      <td>3.008260e+04</td>\n",
       "      <td>3165.297097</td>\n",
       "      <td>4.715519e+04</td>\n",
       "      <td>5.540728e+04</td>\n",
       "      <td>3575.846667</td>\n",
       "    </tr>\n",
       "    <tr>\n",
       "      <th>std</th>\n",
       "      <td>0.0</td>\n",
       "      <td>0.0</td>\n",
       "      <td>0.518481</td>\n",
       "      <td>0.468331</td>\n",
       "      <td>1.452144</td>\n",
       "      <td>0.356042</td>\n",
       "      <td>1.180132</td>\n",
       "      <td>0.541489</td>\n",
       "      <td>0.487409</td>\n",
       "      <td>0.342540</td>\n",
       "      <td>...</td>\n",
       "      <td>5212.404696</td>\n",
       "      <td>16939.253821</td>\n",
       "      <td>14900.177012</td>\n",
       "      <td>35066.451421</td>\n",
       "      <td>1.682829e+05</td>\n",
       "      <td>7.226394e+04</td>\n",
       "      <td>8970.198525</td>\n",
       "      <td>2.181896e+05</td>\n",
       "      <td>2.227698e+05</td>\n",
       "      <td>6822.266449</td>\n",
       "    </tr>\n",
       "    <tr>\n",
       "      <th>min</th>\n",
       "      <td>2018.0</td>\n",
       "      <td>1.0</td>\n",
       "      <td>1.000000</td>\n",
       "      <td>1.000000</td>\n",
       "      <td>0.010000</td>\n",
       "      <td>1.000000</td>\n",
       "      <td>1.000000</td>\n",
       "      <td>1.000000</td>\n",
       "      <td>1.000000</td>\n",
       "      <td>1.000000</td>\n",
       "      <td>...</td>\n",
       "      <td>0.000000</td>\n",
       "      <td>0.000000</td>\n",
       "      <td>0.000000</td>\n",
       "      <td>0.000000</td>\n",
       "      <td>0.000000e+00</td>\n",
       "      <td>0.000000e+00</td>\n",
       "      <td>0.000000</td>\n",
       "      <td>0.000000e+00</td>\n",
       "      <td>0.000000e+00</td>\n",
       "      <td>-126633.000000</td>\n",
       "    </tr>\n",
       "    <tr>\n",
       "      <th>25%</th>\n",
       "      <td>2018.0</td>\n",
       "      <td>1.0</td>\n",
       "      <td>1.000000</td>\n",
       "      <td>1.000000</td>\n",
       "      <td>3.400000</td>\n",
       "      <td>1.000000</td>\n",
       "      <td>2.000000</td>\n",
       "      <td>2.000000</td>\n",
       "      <td>1.000000</td>\n",
       "      <td>2.000000</td>\n",
       "      <td>...</td>\n",
       "      <td>0.000000</td>\n",
       "      <td>0.000000</td>\n",
       "      <td>0.000000</td>\n",
       "      <td>0.000000</td>\n",
       "      <td>0.000000e+00</td>\n",
       "      <td>0.000000e+00</td>\n",
       "      <td>0.000000</td>\n",
       "      <td>0.000000e+00</td>\n",
       "      <td>0.000000e+00</td>\n",
       "      <td>722.000000</td>\n",
       "    </tr>\n",
       "    <tr>\n",
       "      <th>50%</th>\n",
       "      <td>2018.0</td>\n",
       "      <td>1.0</td>\n",
       "      <td>1.000000</td>\n",
       "      <td>1.000000</td>\n",
       "      <td>4.000000</td>\n",
       "      <td>1.000000</td>\n",
       "      <td>3.000000</td>\n",
       "      <td>3.000000</td>\n",
       "      <td>2.000000</td>\n",
       "      <td>2.000000</td>\n",
       "      <td>...</td>\n",
       "      <td>0.000000</td>\n",
       "      <td>0.000000</td>\n",
       "      <td>0.000000</td>\n",
       "      <td>0.000000</td>\n",
       "      <td>0.000000e+00</td>\n",
       "      <td>0.000000e+00</td>\n",
       "      <td>0.000000</td>\n",
       "      <td>0.000000e+00</td>\n",
       "      <td>4.500000e+03</td>\n",
       "      <td>2112.000000</td>\n",
       "    </tr>\n",
       "    <tr>\n",
       "      <th>75%</th>\n",
       "      <td>2018.0</td>\n",
       "      <td>1.0</td>\n",
       "      <td>2.000000</td>\n",
       "      <td>2.000000</td>\n",
       "      <td>4.500000</td>\n",
       "      <td>1.000000</td>\n",
       "      <td>4.000000</td>\n",
       "      <td>3.000000</td>\n",
       "      <td>2.000000</td>\n",
       "      <td>2.000000</td>\n",
       "      <td>...</td>\n",
       "      <td>500.000000</td>\n",
       "      <td>0.000000</td>\n",
       "      <td>0.000000</td>\n",
       "      <td>3554.750000</td>\n",
       "      <td>0.000000e+00</td>\n",
       "      <td>2.350000e+04</td>\n",
       "      <td>0.000000</td>\n",
       "      <td>3.900000e+04</td>\n",
       "      <td>5.350000e+04</td>\n",
       "      <td>4336.000000</td>\n",
       "    </tr>\n",
       "    <tr>\n",
       "      <th>max</th>\n",
       "      <td>2018.0</td>\n",
       "      <td>1.0</td>\n",
       "      <td>3.000000</td>\n",
       "      <td>2.000000</td>\n",
       "      <td>25.000000</td>\n",
       "      <td>3.000000</td>\n",
       "      <td>4.000000</td>\n",
       "      <td>3.000000</td>\n",
       "      <td>2.000000</td>\n",
       "      <td>2.000000</td>\n",
       "      <td>...</td>\n",
       "      <td>72200.000000</td>\n",
       "      <td>235000.000000</td>\n",
       "      <td>417000.000000</td>\n",
       "      <td>892500.000000</td>\n",
       "      <td>8.401600e+06</td>\n",
       "      <td>1.070000e+06</td>\n",
       "      <td>361000.000000</td>\n",
       "      <td>1.041900e+07</td>\n",
       "      <td>1.083200e+07</td>\n",
       "      <td>518825.000000</td>\n",
       "    </tr>\n",
       "  </tbody>\n",
       "</table>\n",
       "<p>8 rows × 59 columns</p>\n",
       "</div>"
      ],
      "text/plain": [
       "         spanel     swave        etenure        eprdebt   eprloan1rate  \\\n",
       "count  763186.0  763186.0  763186.000000  470013.000000  317315.000000   \n",
       "mean     2018.0       1.0       1.360748       1.324880       4.055775   \n",
       "std         0.0       0.0       0.518481       0.468331       1.452144   \n",
       "min      2018.0       1.0       1.000000       1.000000       0.010000   \n",
       "25%      2018.0       1.0       1.000000       1.000000       3.400000   \n",
       "50%      2018.0       1.0       1.000000       1.000000       4.000000   \n",
       "75%      2018.0       1.0       2.000000       2.000000       4.500000   \n",
       "max      2018.0       1.0       3.000000       2.000000      25.000000   \n",
       "\n",
       "        eprloan1fxvr   eprloan1type  emhloan1site      erec_boat  \\\n",
       "count  317315.000000  317315.000000   8334.000000  110788.000000   \n",
       "mean        1.095309       3.006155      2.504680       1.611510   \n",
       "std         0.356042       1.180132      0.541489       0.487409   \n",
       "min         1.000000       1.000000      1.000000       1.000000   \n",
       "25%         1.000000       2.000000      2.000000       1.000000   \n",
       "50%         1.000000       3.000000      3.000000       2.000000   \n",
       "75%         1.000000       4.000000      3.000000       2.000000   \n",
       "max         3.000000       4.000000      3.000000       2.000000   \n",
       "\n",
       "          emcycdebt  ...       tdebt_cc       tdebt_ed       tdebt_ot  \\\n",
       "count  41720.000000  ...  622464.000000  622464.000000  622464.000000   \n",
       "mean       1.864238  ...    1699.454523    3573.963988    1026.797251   \n",
       "std        0.342540  ...    5212.404696   16939.253821   14900.177012   \n",
       "min        1.000000  ...       0.000000       0.000000       0.000000   \n",
       "25%        2.000000  ...       0.000000       0.000000       0.000000   \n",
       "50%        2.000000  ...       0.000000       0.000000       0.000000   \n",
       "75%        2.000000  ...     500.000000       0.000000       0.000000   \n",
       "max        2.000000  ...   72200.000000  235000.000000  417000.000000   \n",
       "\n",
       "          tdebt_usec     tdebt_bus    tdebt_home      tdebt_veh     tdebt_sec  \\\n",
       "count  622464.000000  6.224640e+05  6.224640e+05  622464.000000  6.224640e+05   \n",
       "mean     8252.094579  6.714226e+03  3.008260e+04    3165.297097  4.715519e+04   \n",
       "std     35066.451421  1.682829e+05  7.226394e+04    8970.198525  2.181896e+05   \n",
       "min         0.000000  0.000000e+00  0.000000e+00       0.000000  0.000000e+00   \n",
       "25%         0.000000  0.000000e+00  0.000000e+00       0.000000  0.000000e+00   \n",
       "50%         0.000000  0.000000e+00  0.000000e+00       0.000000  0.000000e+00   \n",
       "75%      3554.750000  0.000000e+00  2.350000e+04       0.000000  3.900000e+04   \n",
       "max    892500.000000  8.401600e+06  1.070000e+06  361000.000000  1.041900e+07   \n",
       "\n",
       "          tdebt_ast       tptotinc  \n",
       "count  6.224640e+05  620018.000000  \n",
       "mean   5.540728e+04    3575.846667  \n",
       "std    2.227698e+05    6822.266449  \n",
       "min    0.000000e+00 -126633.000000  \n",
       "25%    0.000000e+00     722.000000  \n",
       "50%    4.500000e+03    2112.000000  \n",
       "75%    5.350000e+04    4336.000000  \n",
       "max    1.083200e+07  518825.000000  \n",
       "\n",
       "[8 rows x 59 columns]"
      ]
     },
     "execution_count": 22,
     "metadata": {},
     "output_type": "execute_result"
    }
   ],
   "source": [
    "df.describe()"
   ]
  },
  {
   "cell_type": "code",
   "execution_count": 23,
   "id": "7a023132",
   "metadata": {},
   "outputs": [
    {
     "data": {
      "image/png": "[encoded data removed]",
      "text/plain": [
       "<Figure size 432x288 with 1 Axes>"
      ]
     },
     "metadata": {
      "needs_background": "light"
     },
     "output_type": "display_data"
    }
   ],
   "source": [
    "df.erace.hist();"
   ]
  },
  {
   "cell_type": "code",
   "execution_count": 24,
   "id": "92557f8f",
   "metadata": {},
   "outputs": [
    {
     "data": {
      "image/png": "[encoded data removed]",
      "text/plain": [
       "<Figure size 432x288 with 1 Axes>"
      ]
     },
     "metadata": {
      "needs_background": "light"
     },
     "output_type": "display_data"
    }
   ],
   "source": [
    "df.boxplot(column = ['eeduc'], by = 'erace');"
   ]
  },
  {
   "cell_type": "code",
   "execution_count": 25,
   "id": "017701d0",
   "metadata": {},
   "outputs": [
    {
     "data": {
      "image/png": "[encoded data removed]",
      "text/plain": [
       "<Figure size 432x288 with 1 Axes>"
      ]
     },
     "metadata": {
      "needs_background": "light"
     },
     "output_type": "display_data"
    }
   ],
   "source": [
    "df.boxplot(column = ['eown_thr401'], by = 'erace');"
   ]
  },
  {
   "cell_type": "code",
   "execution_count": 26,
   "id": "fae212d0",
   "metadata": {},
   "outputs": [
    {
     "data": {
      "image/png": "[encoded data removed]",
      "text/plain": [
       "<Figure size 432x288 with 1 Axes>"
      ]
     },
     "metadata": {
      "needs_background": "light"
     },
     "output_type": "display_data"
    }
   ],
   "source": [
    "df.boxplot(column = ['eown_st'], by = 'erace');"
   ]
  },
  {
   "cell_type": "code",
   "execution_count": 27,
   "id": "4b0e7b64",
   "metadata": {},
   "outputs": [
    {
     "data": {
      "text/html": [
       "<div>\n",
       "<style scoped>\n",
       "    .dataframe tbody tr th:only-of-type {\n",
       "        vertical-align: middle;\n",
       "    }\n",
       "\n",
       "    .dataframe tbody tr th {\n",
       "        vertical-align: top;\n",
       "    }\n",
       "\n",
       "    .dataframe thead th {\n",
       "        text-align: right;\n",
       "    }\n",
       "</style>\n",
       "<table border=\"1\" class=\"dataframe\">\n",
       "  <thead>\n",
       "    <tr style=\"text-align: right;\">\n",
       "      <th></th>\n",
       "      <th>erace</th>\n",
       "      <th>eown_thr401</th>\n",
       "      <th>eown_st</th>\n",
       "      <th>eeduc</th>\n",
       "      <th>ems</th>\n",
       "    </tr>\n",
       "  </thead>\n",
       "  <tbody>\n",
       "    <tr>\n",
       "      <th>erace</th>\n",
       "      <td>1.000000</td>\n",
       "      <td>0.036794</td>\n",
       "      <td>0.061731</td>\n",
       "      <td>0.002867</td>\n",
       "      <td>0.080065</td>\n",
       "    </tr>\n",
       "    <tr>\n",
       "      <th>eown_thr401</th>\n",
       "      <td>0.036794</td>\n",
       "      <td>1.000000</td>\n",
       "      <td>0.163061</td>\n",
       "      <td>-0.311507</td>\n",
       "      <td>0.191793</td>\n",
       "    </tr>\n",
       "    <tr>\n",
       "      <th>eown_st</th>\n",
       "      <td>0.061731</td>\n",
       "      <td>0.163061</td>\n",
       "      <td>1.000000</td>\n",
       "      <td>-0.229056</td>\n",
       "      <td>0.144108</td>\n",
       "    </tr>\n",
       "    <tr>\n",
       "      <th>eeduc</th>\n",
       "      <td>0.002867</td>\n",
       "      <td>-0.311507</td>\n",
       "      <td>-0.229056</td>\n",
       "      <td>1.000000</td>\n",
       "      <td>-0.196764</td>\n",
       "    </tr>\n",
       "    <tr>\n",
       "      <th>ems</th>\n",
       "      <td>0.080065</td>\n",
       "      <td>0.191793</td>\n",
       "      <td>0.144108</td>\n",
       "      <td>-0.196764</td>\n",
       "      <td>1.000000</td>\n",
       "    </tr>\n",
       "  </tbody>\n",
       "</table>\n",
       "</div>"
      ],
      "text/plain": [
       "                erace  eown_thr401   eown_st     eeduc       ems\n",
       "erace        1.000000     0.036794  0.061731  0.002867  0.080065\n",
       "eown_thr401  0.036794     1.000000  0.163061 -0.311507  0.191793\n",
       "eown_st      0.061731     0.163061  1.000000 -0.229056  0.144108\n",
       "eeduc        0.002867    -0.311507 -0.229056  1.000000 -0.196764\n",
       "ems          0.080065     0.191793  0.144108 -0.196764  1.000000"
      ]
     },
     "execution_count": 27,
     "metadata": {},
     "output_type": "execute_result"
    }
   ],
   "source": [
    "df[['erace', 'eown_thr401', 'eown_st', 'eeduc', 'ems']].corr()"
   ]
  },
  {
   "cell_type": "code",
   "execution_count": 28,
   "id": "efc65e88",
   "metadata": {},
   "outputs": [
    {
     "data": {
      "image/png": "[encoded data removed]",
      "text/plain": [
       "<Figure size 432x288 with 2 Axes>"
      ]
     },
     "metadata": {
      "needs_background": "light"
     },
     "output_type": "display_data"
    }
   ],
   "source": [
    "cmap = sns.diverging_palette(220, 10, as_cmap = True)\n",
    "sns.heatmap(df[['erace', 'eown_thr401', 'eown_st', 'eeduc', 'ems']].corr(), vmax = 0.3, center = 0, cmap = cmap,\n",
    "           square = True, linewidths = 0.5, cbar_kws = {\"shrink\": 0.5});"
   ]
  },
  {
   "cell_type": "code",
   "execution_count": 29,
   "id": "7b9ff3d8",
   "metadata": {},
   "outputs": [
    {
     "data": {
      "text/html": [
       "<div>\n",
       "<style scoped>\n",
       "    .dataframe tbody tr th:only-of-type {\n",
       "        vertical-align: middle;\n",
       "    }\n",
       "\n",
       "    .dataframe tbody tr th {\n",
       "        vertical-align: top;\n",
       "    }\n",
       "\n",
       "    .dataframe thead th {\n",
       "        text-align: right;\n",
       "    }\n",
       "</style>\n",
       "<table border=\"1\" class=\"dataframe\">\n",
       "  <thead>\n",
       "    <tr style=\"text-align: right;\">\n",
       "      <th>edebt_cc</th>\n",
       "      <th>1</th>\n",
       "      <th>2</th>\n",
       "    </tr>\n",
       "    <tr>\n",
       "      <th>erace</th>\n",
       "      <th></th>\n",
       "      <th></th>\n",
       "    </tr>\n",
       "  </thead>\n",
       "  <tbody>\n",
       "    <tr>\n",
       "      <th>3</th>\n",
       "      <td>0.267658</td>\n",
       "      <td>0.732342</td>\n",
       "    </tr>\n",
       "    <tr>\n",
       "      <th>2</th>\n",
       "      <td>0.314068</td>\n",
       "      <td>0.685932</td>\n",
       "    </tr>\n",
       "    <tr>\n",
       "      <th>1</th>\n",
       "      <td>0.320066</td>\n",
       "      <td>0.679934</td>\n",
       "    </tr>\n",
       "    <tr>\n",
       "      <th>4</th>\n",
       "      <td>0.320424</td>\n",
       "      <td>0.679576</td>\n",
       "    </tr>\n",
       "  </tbody>\n",
       "</table>\n",
       "</div>"
      ],
      "text/plain": [
       "edebt_cc         1         2\n",
       "erace                       \n",
       "3         0.267658  0.732342\n",
       "2         0.314068  0.685932\n",
       "1         0.320066  0.679934\n",
       "4         0.320424  0.679576"
      ]
     },
     "execution_count": 29,
     "metadata": {},
     "output_type": "execute_result"
    }
   ],
   "source": [
    "df.drop_duplicates(['ssuid', 'pnum']).groupby(['erace']).edebt_cc.value_counts(normalize = True).unstack().sort_values(by = 1)"
   ]
  },
  {
   "cell_type": "code",
   "execution_count": 49,
   "id": "c59784bf",
   "metadata": {},
   "outputs": [
    {
     "data": {
      "text/plain": [
       "26215"
      ]
     },
     "execution_count": 49,
     "metadata": {},
     "output_type": "execute_result"
    }
   ],
   "source": [
    "df.ssuid.nunique()"
   ]
  },
  {
   "cell_type": "markdown",
   "id": "109bd2d0",
   "metadata": {},
   "source": [
    "# NEW EDA"
   ]
  },
  {
   "cell_type": "markdown",
   "id": "6aeff7c6",
   "metadata": {},
   "source": [
    "collateralized_debt = ['EBOATDEBT', 'EMCYCDEBT', 'EMHLOAN1SITE', 'EPRDEBT', 'EPRLOAN1FXVR', 'EPRLOAN1RATE',\n",
    "                      'EPRLOAN1TYPE', 'ERVDEBT', 'TBOATDEBTVAL', 'TBSI1DEBTVAL', 'TMCYCDEBTVAL', 'TDEBT_BUS', 'TDEBT_HOME',\n",
    "                       'TDEBT_RE', 'TDEBT_SEC', 'TDEBT_VEH', 'TPRLOANAMT', 'TRVDEBTVAL']"
   ]
  },
  {
   "cell_type": "code",
   "execution_count": 36,
   "id": "7c5d6b97",
   "metadata": {},
   "outputs": [
    {
     "data": {
      "text/html": [
       "<div>\n",
       "<style scoped>\n",
       "    .dataframe tbody tr th:only-of-type {\n",
       "        vertical-align: middle;\n",
       "    }\n",
       "\n",
       "    .dataframe tbody tr th {\n",
       "        vertical-align: top;\n",
       "    }\n",
       "\n",
       "    .dataframe thead th {\n",
       "        text-align: right;\n",
       "    }\n",
       "</style>\n",
       "<table border=\"1\" class=\"dataframe\">\n",
       "  <thead>\n",
       "    <tr style=\"text-align: right;\">\n",
       "      <th></th>\n",
       "      <th>ssuid</th>\n",
       "      <th>spanel</th>\n",
       "      <th>swave</th>\n",
       "      <th>etenure</th>\n",
       "      <th>eprdebt</th>\n",
       "      <th>eprloan1rate</th>\n",
       "      <th>eprloan1fxvr</th>\n",
       "      <th>eprloan1type</th>\n",
       "      <th>emhloan1site</th>\n",
       "      <th>erec_boat</th>\n",
       "      <th>...</th>\n",
       "      <th>tdebt_cc</th>\n",
       "      <th>tdebt_ed</th>\n",
       "      <th>tdebt_ot</th>\n",
       "      <th>tdebt_usec</th>\n",
       "      <th>tdebt_bus</th>\n",
       "      <th>tdebt_home</th>\n",
       "      <th>tdebt_veh</th>\n",
       "      <th>tdebt_sec</th>\n",
       "      <th>tdebt_ast</th>\n",
       "      <th>tptotinc</th>\n",
       "    </tr>\n",
       "  </thead>\n",
       "  <tbody>\n",
       "    <tr>\n",
       "      <th>0</th>\n",
       "      <td>00011413607018</td>\n",
       "      <td>2018</td>\n",
       "      <td>1</td>\n",
       "      <td>2</td>\n",
       "      <td>&lt;NA&gt;</td>\n",
       "      <td>&lt;NA&gt;</td>\n",
       "      <td>&lt;NA&gt;</td>\n",
       "      <td>&lt;NA&gt;</td>\n",
       "      <td>&lt;NA&gt;</td>\n",
       "      <td>&lt;NA&gt;</td>\n",
       "      <td>...</td>\n",
       "      <td>0</td>\n",
       "      <td>0</td>\n",
       "      <td>0</td>\n",
       "      <td>0</td>\n",
       "      <td>0</td>\n",
       "      <td>0</td>\n",
       "      <td>0</td>\n",
       "      <td>0</td>\n",
       "      <td>0</td>\n",
       "      <td>1738</td>\n",
       "    </tr>\n",
       "    <tr>\n",
       "      <th>1</th>\n",
       "      <td>00011413607018</td>\n",
       "      <td>2018</td>\n",
       "      <td>1</td>\n",
       "      <td>2</td>\n",
       "      <td>&lt;NA&gt;</td>\n",
       "      <td>&lt;NA&gt;</td>\n",
       "      <td>&lt;NA&gt;</td>\n",
       "      <td>&lt;NA&gt;</td>\n",
       "      <td>&lt;NA&gt;</td>\n",
       "      <td>&lt;NA&gt;</td>\n",
       "      <td>...</td>\n",
       "      <td>0</td>\n",
       "      <td>0</td>\n",
       "      <td>0</td>\n",
       "      <td>0</td>\n",
       "      <td>0</td>\n",
       "      <td>0</td>\n",
       "      <td>0</td>\n",
       "      <td>0</td>\n",
       "      <td>0</td>\n",
       "      <td>1738</td>\n",
       "    </tr>\n",
       "    <tr>\n",
       "      <th>2</th>\n",
       "      <td>00011413607018</td>\n",
       "      <td>2018</td>\n",
       "      <td>1</td>\n",
       "      <td>2</td>\n",
       "      <td>&lt;NA&gt;</td>\n",
       "      <td>&lt;NA&gt;</td>\n",
       "      <td>&lt;NA&gt;</td>\n",
       "      <td>&lt;NA&gt;</td>\n",
       "      <td>&lt;NA&gt;</td>\n",
       "      <td>&lt;NA&gt;</td>\n",
       "      <td>...</td>\n",
       "      <td>0</td>\n",
       "      <td>0</td>\n",
       "      <td>0</td>\n",
       "      <td>0</td>\n",
       "      <td>0</td>\n",
       "      <td>0</td>\n",
       "      <td>0</td>\n",
       "      <td>0</td>\n",
       "      <td>0</td>\n",
       "      <td>1738</td>\n",
       "    </tr>\n",
       "    <tr>\n",
       "      <th>3</th>\n",
       "      <td>00011413607018</td>\n",
       "      <td>2018</td>\n",
       "      <td>1</td>\n",
       "      <td>2</td>\n",
       "      <td>&lt;NA&gt;</td>\n",
       "      <td>&lt;NA&gt;</td>\n",
       "      <td>&lt;NA&gt;</td>\n",
       "      <td>&lt;NA&gt;</td>\n",
       "      <td>&lt;NA&gt;</td>\n",
       "      <td>&lt;NA&gt;</td>\n",
       "      <td>...</td>\n",
       "      <td>0</td>\n",
       "      <td>0</td>\n",
       "      <td>0</td>\n",
       "      <td>0</td>\n",
       "      <td>0</td>\n",
       "      <td>0</td>\n",
       "      <td>0</td>\n",
       "      <td>0</td>\n",
       "      <td>0</td>\n",
       "      <td>1738</td>\n",
       "    </tr>\n",
       "    <tr>\n",
       "      <th>4</th>\n",
       "      <td>00011413607018</td>\n",
       "      <td>2018</td>\n",
       "      <td>1</td>\n",
       "      <td>2</td>\n",
       "      <td>&lt;NA&gt;</td>\n",
       "      <td>&lt;NA&gt;</td>\n",
       "      <td>&lt;NA&gt;</td>\n",
       "      <td>&lt;NA&gt;</td>\n",
       "      <td>&lt;NA&gt;</td>\n",
       "      <td>&lt;NA&gt;</td>\n",
       "      <td>...</td>\n",
       "      <td>0</td>\n",
       "      <td>0</td>\n",
       "      <td>0</td>\n",
       "      <td>0</td>\n",
       "      <td>0</td>\n",
       "      <td>0</td>\n",
       "      <td>0</td>\n",
       "      <td>0</td>\n",
       "      <td>0</td>\n",
       "      <td>1738</td>\n",
       "    </tr>\n",
       "    <tr>\n",
       "      <th>...</th>\n",
       "      <td>...</td>\n",
       "      <td>...</td>\n",
       "      <td>...</td>\n",
       "      <td>...</td>\n",
       "      <td>...</td>\n",
       "      <td>...</td>\n",
       "      <td>...</td>\n",
       "      <td>...</td>\n",
       "      <td>...</td>\n",
       "      <td>...</td>\n",
       "      <td>...</td>\n",
       "      <td>...</td>\n",
       "      <td>...</td>\n",
       "      <td>...</td>\n",
       "      <td>...</td>\n",
       "      <td>...</td>\n",
       "      <td>...</td>\n",
       "      <td>...</td>\n",
       "      <td>...</td>\n",
       "      <td>...</td>\n",
       "      <td>...</td>\n",
       "    </tr>\n",
       "    <tr>\n",
       "      <th>763181</th>\n",
       "      <td>91092598868818</td>\n",
       "      <td>2018</td>\n",
       "      <td>1</td>\n",
       "      <td>2</td>\n",
       "      <td>&lt;NA&gt;</td>\n",
       "      <td>&lt;NA&gt;</td>\n",
       "      <td>&lt;NA&gt;</td>\n",
       "      <td>&lt;NA&gt;</td>\n",
       "      <td>&lt;NA&gt;</td>\n",
       "      <td>&lt;NA&gt;</td>\n",
       "      <td>...</td>\n",
       "      <td>&lt;NA&gt;</td>\n",
       "      <td>&lt;NA&gt;</td>\n",
       "      <td>&lt;NA&gt;</td>\n",
       "      <td>&lt;NA&gt;</td>\n",
       "      <td>&lt;NA&gt;</td>\n",
       "      <td>&lt;NA&gt;</td>\n",
       "      <td>&lt;NA&gt;</td>\n",
       "      <td>&lt;NA&gt;</td>\n",
       "      <td>&lt;NA&gt;</td>\n",
       "      <td>&lt;NA&gt;</td>\n",
       "    </tr>\n",
       "    <tr>\n",
       "      <th>763182</th>\n",
       "      <td>91092598868818</td>\n",
       "      <td>2018</td>\n",
       "      <td>1</td>\n",
       "      <td>2</td>\n",
       "      <td>&lt;NA&gt;</td>\n",
       "      <td>&lt;NA&gt;</td>\n",
       "      <td>&lt;NA&gt;</td>\n",
       "      <td>&lt;NA&gt;</td>\n",
       "      <td>&lt;NA&gt;</td>\n",
       "      <td>&lt;NA&gt;</td>\n",
       "      <td>...</td>\n",
       "      <td>&lt;NA&gt;</td>\n",
       "      <td>&lt;NA&gt;</td>\n",
       "      <td>&lt;NA&gt;</td>\n",
       "      <td>&lt;NA&gt;</td>\n",
       "      <td>&lt;NA&gt;</td>\n",
       "      <td>&lt;NA&gt;</td>\n",
       "      <td>&lt;NA&gt;</td>\n",
       "      <td>&lt;NA&gt;</td>\n",
       "      <td>&lt;NA&gt;</td>\n",
       "      <td>&lt;NA&gt;</td>\n",
       "    </tr>\n",
       "    <tr>\n",
       "      <th>763183</th>\n",
       "      <td>91092598868818</td>\n",
       "      <td>2018</td>\n",
       "      <td>1</td>\n",
       "      <td>2</td>\n",
       "      <td>&lt;NA&gt;</td>\n",
       "      <td>&lt;NA&gt;</td>\n",
       "      <td>&lt;NA&gt;</td>\n",
       "      <td>&lt;NA&gt;</td>\n",
       "      <td>&lt;NA&gt;</td>\n",
       "      <td>&lt;NA&gt;</td>\n",
       "      <td>...</td>\n",
       "      <td>&lt;NA&gt;</td>\n",
       "      <td>&lt;NA&gt;</td>\n",
       "      <td>&lt;NA&gt;</td>\n",
       "      <td>&lt;NA&gt;</td>\n",
       "      <td>&lt;NA&gt;</td>\n",
       "      <td>&lt;NA&gt;</td>\n",
       "      <td>&lt;NA&gt;</td>\n",
       "      <td>&lt;NA&gt;</td>\n",
       "      <td>&lt;NA&gt;</td>\n",
       "      <td>&lt;NA&gt;</td>\n",
       "    </tr>\n",
       "    <tr>\n",
       "      <th>763184</th>\n",
       "      <td>91092598868818</td>\n",
       "      <td>2018</td>\n",
       "      <td>1</td>\n",
       "      <td>2</td>\n",
       "      <td>&lt;NA&gt;</td>\n",
       "      <td>&lt;NA&gt;</td>\n",
       "      <td>&lt;NA&gt;</td>\n",
       "      <td>&lt;NA&gt;</td>\n",
       "      <td>&lt;NA&gt;</td>\n",
       "      <td>&lt;NA&gt;</td>\n",
       "      <td>...</td>\n",
       "      <td>&lt;NA&gt;</td>\n",
       "      <td>&lt;NA&gt;</td>\n",
       "      <td>&lt;NA&gt;</td>\n",
       "      <td>&lt;NA&gt;</td>\n",
       "      <td>&lt;NA&gt;</td>\n",
       "      <td>&lt;NA&gt;</td>\n",
       "      <td>&lt;NA&gt;</td>\n",
       "      <td>&lt;NA&gt;</td>\n",
       "      <td>&lt;NA&gt;</td>\n",
       "      <td>&lt;NA&gt;</td>\n",
       "    </tr>\n",
       "    <tr>\n",
       "      <th>763185</th>\n",
       "      <td>91092598868818</td>\n",
       "      <td>2018</td>\n",
       "      <td>1</td>\n",
       "      <td>2</td>\n",
       "      <td>&lt;NA&gt;</td>\n",
       "      <td>&lt;NA&gt;</td>\n",
       "      <td>&lt;NA&gt;</td>\n",
       "      <td>&lt;NA&gt;</td>\n",
       "      <td>&lt;NA&gt;</td>\n",
       "      <td>&lt;NA&gt;</td>\n",
       "      <td>...</td>\n",
       "      <td>&lt;NA&gt;</td>\n",
       "      <td>&lt;NA&gt;</td>\n",
       "      <td>&lt;NA&gt;</td>\n",
       "      <td>&lt;NA&gt;</td>\n",
       "      <td>&lt;NA&gt;</td>\n",
       "      <td>&lt;NA&gt;</td>\n",
       "      <td>&lt;NA&gt;</td>\n",
       "      <td>&lt;NA&gt;</td>\n",
       "      <td>&lt;NA&gt;</td>\n",
       "      <td>&lt;NA&gt;</td>\n",
       "    </tr>\n",
       "  </tbody>\n",
       "</table>\n",
       "<p>763186 rows × 61 columns</p>\n",
       "</div>"
      ],
      "text/plain": [
       "                 ssuid  spanel  swave  etenure  eprdebt  eprloan1rate  \\\n",
       "0       00011413607018    2018      1        2     <NA>          <NA>   \n",
       "1       00011413607018    2018      1        2     <NA>          <NA>   \n",
       "2       00011413607018    2018      1        2     <NA>          <NA>   \n",
       "3       00011413607018    2018      1        2     <NA>          <NA>   \n",
       "4       00011413607018    2018      1        2     <NA>          <NA>   \n",
       "...                ...     ...    ...      ...      ...           ...   \n",
       "763181  91092598868818    2018      1        2     <NA>          <NA>   \n",
       "763182  91092598868818    2018      1        2     <NA>          <NA>   \n",
       "763183  91092598868818    2018      1        2     <NA>          <NA>   \n",
       "763184  91092598868818    2018      1        2     <NA>          <NA>   \n",
       "763185  91092598868818    2018      1        2     <NA>          <NA>   \n",
       "\n",
       "        eprloan1fxvr  eprloan1type  emhloan1site  erec_boat  ...  tdebt_cc  \\\n",
       "0               <NA>          <NA>          <NA>       <NA>  ...         0   \n",
       "1               <NA>          <NA>          <NA>       <NA>  ...         0   \n",
       "2               <NA>          <NA>          <NA>       <NA>  ...         0   \n",
       "3               <NA>          <NA>          <NA>       <NA>  ...         0   \n",
       "4               <NA>          <NA>          <NA>       <NA>  ...         0   \n",
       "...              ...           ...           ...        ...  ...       ...   \n",
       "763181          <NA>          <NA>          <NA>       <NA>  ...      <NA>   \n",
       "763182          <NA>          <NA>          <NA>       <NA>  ...      <NA>   \n",
       "763183          <NA>          <NA>          <NA>       <NA>  ...      <NA>   \n",
       "763184          <NA>          <NA>          <NA>       <NA>  ...      <NA>   \n",
       "763185          <NA>          <NA>          <NA>       <NA>  ...      <NA>   \n",
       "\n",
       "        tdebt_ed  tdebt_ot  tdebt_usec  tdebt_bus  tdebt_home  tdebt_veh  \\\n",
       "0              0         0           0          0           0          0   \n",
       "1              0         0           0          0           0          0   \n",
       "2              0         0           0          0           0          0   \n",
       "3              0         0           0          0           0          0   \n",
       "4              0         0           0          0           0          0   \n",
       "...          ...       ...         ...        ...         ...        ...   \n",
       "763181      <NA>      <NA>        <NA>       <NA>        <NA>       <NA>   \n",
       "763182      <NA>      <NA>        <NA>       <NA>        <NA>       <NA>   \n",
       "763183      <NA>      <NA>        <NA>       <NA>        <NA>       <NA>   \n",
       "763184      <NA>      <NA>        <NA>       <NA>        <NA>       <NA>   \n",
       "763185      <NA>      <NA>        <NA>       <NA>        <NA>       <NA>   \n",
       "\n",
       "        tdebt_sec  tdebt_ast  tptotinc  \n",
       "0               0          0      1738  \n",
       "1               0          0      1738  \n",
       "2               0          0      1738  \n",
       "3               0          0      1738  \n",
       "4               0          0      1738  \n",
       "...           ...        ...       ...  \n",
       "763181       <NA>       <NA>      <NA>  \n",
       "763182       <NA>       <NA>      <NA>  \n",
       "763183       <NA>       <NA>      <NA>  \n",
       "763184       <NA>       <NA>      <NA>  \n",
       "763185       <NA>       <NA>      <NA>  \n",
       "\n",
       "[763186 rows x 61 columns]"
      ]
     },
     "execution_count": 36,
     "metadata": {},
     "output_type": "execute_result"
    }
   ],
   "source": [
    "df"
   ]
  },
  {
   "cell_type": "code",
   "execution_count": 69,
   "id": "94a4e04a",
   "metadata": {},
   "outputs": [
    {
     "data": {
      "image/png": "[encoded data removed]",
      "text/plain": [
       "<Figure size 432x288 with 1 Axes>"
      ]
     },
     "metadata": {
      "needs_background": "light"
     },
     "output_type": "display_data"
    }
   ],
   "source": [
    "df['erace'].plot.hist();"
   ]
  },
  {
   "cell_type": "code",
   "execution_count": 92,
   "id": "f2f1a9d1",
   "metadata": {},
   "outputs": [
    {
     "data": {
      "text/html": [
       "<div>\n",
       "<style scoped>\n",
       "    .dataframe tbody tr th:only-of-type {\n",
       "        vertical-align: middle;\n",
       "    }\n",
       "\n",
       "    .dataframe tbody tr th {\n",
       "        vertical-align: top;\n",
       "    }\n",
       "\n",
       "    .dataframe thead th {\n",
       "        text-align: right;\n",
       "    }\n",
       "</style>\n",
       "<table border=\"1\" class=\"dataframe\">\n",
       "  <thead>\n",
       "    <tr style=\"text-align: right;\">\n",
       "      <th>eboatdebt</th>\n",
       "      <th>1</th>\n",
       "      <th>2</th>\n",
       "    </tr>\n",
       "    <tr>\n",
       "      <th>erace</th>\n",
       "      <th></th>\n",
       "      <th></th>\n",
       "    </tr>\n",
       "  </thead>\n",
       "  <tbody>\n",
       "    <tr>\n",
       "      <th>3</th>\n",
       "      <td>0.240000</td>\n",
       "      <td>0.760000</td>\n",
       "    </tr>\n",
       "    <tr>\n",
       "      <th>4</th>\n",
       "      <td>0.119565</td>\n",
       "      <td>0.880435</td>\n",
       "    </tr>\n",
       "    <tr>\n",
       "      <th>1</th>\n",
       "      <td>0.099223</td>\n",
       "      <td>0.900777</td>\n",
       "    </tr>\n",
       "    <tr>\n",
       "      <th>2</th>\n",
       "      <td>0.083333</td>\n",
       "      <td>0.916667</td>\n",
       "    </tr>\n",
       "  </tbody>\n",
       "</table>\n",
       "</div>"
      ],
      "text/plain": [
       "eboatdebt         1         2\n",
       "erace                        \n",
       "3          0.240000  0.760000\n",
       "4          0.119565  0.880435\n",
       "1          0.099223  0.900777\n",
       "2          0.083333  0.916667"
      ]
     },
     "execution_count": 92,
     "metadata": {},
     "output_type": "execute_result"
    },
    {
     "data": {
      "image/png": "[encoded data removed]",
      "text/plain": [
       "<Figure size 432x288 with 1 Axes>"
      ]
     },
     "metadata": {
      "needs_background": "light"
     },
     "output_type": "display_data"
    }
   ],
   "source": [
    "df['eboatdebt'].plot.hist(); #not enough respondents\n",
    "df.drop_duplicates(['ssuid', 'pnum']).groupby(['erace']).eboatdebt.value_counts(normalize = True).unstack().sort_values(by = 1, ascending = False)"
   ]
  },
  {
   "cell_type": "code",
   "execution_count": 91,
   "id": "511acf22",
   "metadata": {},
   "outputs": [
    {
     "data": {
      "text/html": [
       "<div>\n",
       "<style scoped>\n",
       "    .dataframe tbody tr th:only-of-type {\n",
       "        vertical-align: middle;\n",
       "    }\n",
       "\n",
       "    .dataframe tbody tr th {\n",
       "        vertical-align: top;\n",
       "    }\n",
       "\n",
       "    .dataframe thead th {\n",
       "        text-align: right;\n",
       "    }\n",
       "</style>\n",
       "<table border=\"1\" class=\"dataframe\">\n",
       "  <thead>\n",
       "    <tr style=\"text-align: right;\">\n",
       "      <th>emcycdebt</th>\n",
       "      <th>1</th>\n",
       "      <th>2</th>\n",
       "    </tr>\n",
       "    <tr>\n",
       "      <th>erace</th>\n",
       "      <th></th>\n",
       "      <th></th>\n",
       "    </tr>\n",
       "  </thead>\n",
       "  <tbody>\n",
       "    <tr>\n",
       "      <th>3</th>\n",
       "      <td>0.156627</td>\n",
       "      <td>0.843373</td>\n",
       "    </tr>\n",
       "    <tr>\n",
       "      <th>4</th>\n",
       "      <td>0.139073</td>\n",
       "      <td>0.860927</td>\n",
       "    </tr>\n",
       "    <tr>\n",
       "      <th>1</th>\n",
       "      <td>0.135822</td>\n",
       "      <td>0.864178</td>\n",
       "    </tr>\n",
       "    <tr>\n",
       "      <th>2</th>\n",
       "      <td>0.126667</td>\n",
       "      <td>0.873333</td>\n",
       "    </tr>\n",
       "  </tbody>\n",
       "</table>\n",
       "</div>"
      ],
      "text/plain": [
       "emcycdebt         1         2\n",
       "erace                        \n",
       "3          0.156627  0.843373\n",
       "4          0.139073  0.860927\n",
       "1          0.135822  0.864178\n",
       "2          0.126667  0.873333"
      ]
     },
     "execution_count": 91,
     "metadata": {},
     "output_type": "execute_result"
    },
    {
     "data": {
      "image/png": "[encoded data removed]",
      "text/plain": [
       "<Figure size 432x288 with 1 Axes>"
      ]
     },
     "metadata": {
      "needs_background": "light"
     },
     "output_type": "display_data"
    }
   ],
   "source": [
    "df['emcycdebt'].plot.hist(); #not enough respondents\n",
    "df.drop_duplicates(['ssuid', 'pnum']).groupby(['erace']).emcycdebt.value_counts(normalize = True).unstack().sort_values(by = 1, ascending = False)"
   ]
  },
  {
   "cell_type": "code",
   "execution_count": 90,
   "id": "f74bc1ab",
   "metadata": {},
   "outputs": [
    {
     "data": {
      "text/html": [
       "<div>\n",
       "<style scoped>\n",
       "    .dataframe tbody tr th:only-of-type {\n",
       "        vertical-align: middle;\n",
       "    }\n",
       "\n",
       "    .dataframe tbody tr th {\n",
       "        vertical-align: top;\n",
       "    }\n",
       "\n",
       "    .dataframe thead th {\n",
       "        text-align: right;\n",
       "    }\n",
       "</style>\n",
       "<table border=\"1\" class=\"dataframe\">\n",
       "  <thead>\n",
       "    <tr style=\"text-align: right;\">\n",
       "      <th>emhloan1site</th>\n",
       "      <th>1</th>\n",
       "      <th>2</th>\n",
       "      <th>3</th>\n",
       "    </tr>\n",
       "    <tr>\n",
       "      <th>erace</th>\n",
       "      <th></th>\n",
       "      <th></th>\n",
       "      <th></th>\n",
       "    </tr>\n",
       "  </thead>\n",
       "  <tbody>\n",
       "    <tr>\n",
       "      <th>2</th>\n",
       "      <td>0.041667</td>\n",
       "      <td>0.645833</td>\n",
       "      <td>0.312500</td>\n",
       "    </tr>\n",
       "    <tr>\n",
       "      <th>1</th>\n",
       "      <td>0.021242</td>\n",
       "      <td>0.436275</td>\n",
       "      <td>0.542484</td>\n",
       "    </tr>\n",
       "    <tr>\n",
       "      <th>3</th>\n",
       "      <td>NaN</td>\n",
       "      <td>NaN</td>\n",
       "      <td>1.000000</td>\n",
       "    </tr>\n",
       "    <tr>\n",
       "      <th>4</th>\n",
       "      <td>NaN</td>\n",
       "      <td>0.457143</td>\n",
       "      <td>0.542857</td>\n",
       "    </tr>\n",
       "  </tbody>\n",
       "</table>\n",
       "</div>"
      ],
      "text/plain": [
       "emhloan1site         1         2         3\n",
       "erace                                     \n",
       "2             0.041667  0.645833  0.312500\n",
       "1             0.021242  0.436275  0.542484\n",
       "3                  NaN       NaN  1.000000\n",
       "4                  NaN  0.457143  0.542857"
      ]
     },
     "execution_count": 90,
     "metadata": {},
     "output_type": "execute_result"
    },
    {
     "data": {
      "image/png": "[encoded data removed]",
      "text/plain": [
       "<Figure size 432x288 with 1 Axes>"
      ]
     },
     "metadata": {
      "needs_background": "light"
     },
     "output_type": "display_data"
    }
   ],
   "source": [
    "df['emhloan1site'].plot.hist(); #not enough respondents\n",
    "df.drop_duplicates(['ssuid', 'pnum']).groupby(['erace']).emhloan1site.value_counts(normalize = True).unstack().sort_values(by = 1, ascending = False)"
   ]
  },
  {
   "cell_type": "code",
   "execution_count": 89,
   "id": "cda83052",
   "metadata": {},
   "outputs": [
    {
     "data": {
      "text/html": [
       "<div>\n",
       "<style scoped>\n",
       "    .dataframe tbody tr th:only-of-type {\n",
       "        vertical-align: middle;\n",
       "    }\n",
       "\n",
       "    .dataframe tbody tr th {\n",
       "        vertical-align: top;\n",
       "    }\n",
       "\n",
       "    .dataframe thead th {\n",
       "        text-align: right;\n",
       "    }\n",
       "</style>\n",
       "<table border=\"1\" class=\"dataframe\">\n",
       "  <thead>\n",
       "    <tr style=\"text-align: right;\">\n",
       "      <th>eprdebt</th>\n",
       "      <th>1</th>\n",
       "      <th>2</th>\n",
       "    </tr>\n",
       "    <tr>\n",
       "      <th>erace</th>\n",
       "      <th></th>\n",
       "      <th></th>\n",
       "    </tr>\n",
       "  </thead>\n",
       "  <tbody>\n",
       "    <tr>\n",
       "      <th>3</th>\n",
       "      <td>0.739906</td>\n",
       "      <td>0.260094</td>\n",
       "    </tr>\n",
       "    <tr>\n",
       "      <th>4</th>\n",
       "      <td>0.695873</td>\n",
       "      <td>0.304127</td>\n",
       "    </tr>\n",
       "    <tr>\n",
       "      <th>1</th>\n",
       "      <td>0.671795</td>\n",
       "      <td>0.328205</td>\n",
       "    </tr>\n",
       "    <tr>\n",
       "      <th>2</th>\n",
       "      <td>0.662546</td>\n",
       "      <td>0.337454</td>\n",
       "    </tr>\n",
       "  </tbody>\n",
       "</table>\n",
       "</div>"
      ],
      "text/plain": [
       "eprdebt         1         2\n",
       "erace                      \n",
       "3        0.739906  0.260094\n",
       "4        0.695873  0.304127\n",
       "1        0.671795  0.328205\n",
       "2        0.662546  0.337454"
      ]
     },
     "execution_count": 89,
     "metadata": {},
     "output_type": "execute_result"
    },
    {
     "data": {
      "image/png": "[encoded data removed]",
      "text/plain": [
       "<Figure size 432x288 with 1 Axes>"
      ]
     },
     "metadata": {
      "needs_background": "light"
     },
     "output_type": "display_data"
    }
   ],
   "source": [
    "df['eprdebt'].plot.hist(); #check\n",
    "df.drop_duplicates(['ssuid', 'pnum']).groupby(['erace']).eprdebt.value_counts(normalize = True).unstack().sort_values(by = 1, ascending = False)"
   ]
  },
  {
   "cell_type": "code",
   "execution_count": 88,
   "id": "71f708a2",
   "metadata": {},
   "outputs": [
    {
     "data": {
      "text/html": [
       "<div>\n",
       "<style scoped>\n",
       "    .dataframe tbody tr th:only-of-type {\n",
       "        vertical-align: middle;\n",
       "    }\n",
       "\n",
       "    .dataframe tbody tr th {\n",
       "        vertical-align: top;\n",
       "    }\n",
       "\n",
       "    .dataframe thead th {\n",
       "        text-align: right;\n",
       "    }\n",
       "</style>\n",
       "<table border=\"1\" class=\"dataframe\">\n",
       "  <thead>\n",
       "    <tr style=\"text-align: right;\">\n",
       "      <th>eprloan1fxvr</th>\n",
       "      <th>1</th>\n",
       "      <th>2</th>\n",
       "      <th>3</th>\n",
       "    </tr>\n",
       "    <tr>\n",
       "      <th>erace</th>\n",
       "      <th></th>\n",
       "      <th></th>\n",
       "      <th></th>\n",
       "    </tr>\n",
       "  </thead>\n",
       "  <tbody>\n",
       "    <tr>\n",
       "      <th>2</th>\n",
       "      <td>0.927239</td>\n",
       "      <td>0.048507</td>\n",
       "      <td>0.024254</td>\n",
       "    </tr>\n",
       "    <tr>\n",
       "      <th>1</th>\n",
       "      <td>0.925264</td>\n",
       "      <td>0.055995</td>\n",
       "      <td>0.018741</td>\n",
       "    </tr>\n",
       "    <tr>\n",
       "      <th>3</th>\n",
       "      <td>0.922589</td>\n",
       "      <td>0.044416</td>\n",
       "      <td>0.032995</td>\n",
       "    </tr>\n",
       "    <tr>\n",
       "      <th>4</th>\n",
       "      <td>0.919875</td>\n",
       "      <td>0.056191</td>\n",
       "      <td>0.023933</td>\n",
       "    </tr>\n",
       "  </tbody>\n",
       "</table>\n",
       "</div>"
      ],
      "text/plain": [
       "eprloan1fxvr         1         2         3\n",
       "erace                                     \n",
       "2             0.927239  0.048507  0.024254\n",
       "1             0.925264  0.055995  0.018741\n",
       "3             0.922589  0.044416  0.032995\n",
       "4             0.919875  0.056191  0.023933"
      ]
     },
     "execution_count": 88,
     "metadata": {},
     "output_type": "execute_result"
    },
    {
     "data": {
      "image/png": "[encoded data removed]",
      "text/plain": [
       "<Figure size 432x288 with 1 Axes>"
      ]
     },
     "metadata": {
      "needs_background": "light"
     },
     "output_type": "display_data"
    }
   ],
   "source": [
    "df['eprloan1fxvr'].plot.hist();\n",
    "df.drop_duplicates(['ssuid', 'pnum']).groupby(['erace']).eprloan1fxvr.value_counts(normalize = True).unstack().sort_values(by = 1, ascending = False)"
   ]
  },
  {
   "cell_type": "code",
   "execution_count": 78,
   "id": "e9c3e7ce",
   "metadata": {},
   "outputs": [
    {
     "data": {
      "image/png": "[encoded data removed]",
      "text/plain": [
       "<Figure size 432x288 with 1 Axes>"
      ]
     },
     "metadata": {
      "needs_background": "light"
     },
     "output_type": "display_data"
    }
   ],
   "source": [
    "df['eprloan1rate'].plot.hist(); #check"
   ]
  },
  {
   "cell_type": "code",
   "execution_count": 79,
   "id": "0f243ccc",
   "metadata": {},
   "outputs": [
    {
     "data": {
      "text/html": [
       "<div>\n",
       "<style scoped>\n",
       "    .dataframe tbody tr th:only-of-type {\n",
       "        vertical-align: middle;\n",
       "    }\n",
       "\n",
       "    .dataframe tbody tr th {\n",
       "        vertical-align: top;\n",
       "    }\n",
       "\n",
       "    .dataframe thead th {\n",
       "        text-align: right;\n",
       "    }\n",
       "</style>\n",
       "<table border=\"1\" class=\"dataframe\">\n",
       "  <thead>\n",
       "    <tr style=\"text-align: right;\">\n",
       "      <th>eprloan1type</th>\n",
       "      <th>1</th>\n",
       "      <th>2</th>\n",
       "      <th>3</th>\n",
       "      <th>4</th>\n",
       "    </tr>\n",
       "    <tr>\n",
       "      <th>erace</th>\n",
       "      <th></th>\n",
       "      <th></th>\n",
       "      <th></th>\n",
       "      <th></th>\n",
       "    </tr>\n",
       "  </thead>\n",
       "  <tbody>\n",
       "    <tr>\n",
       "      <th>3</th>\n",
       "      <td>0.152919</td>\n",
       "      <td>0.032360</td>\n",
       "      <td>0.219543</td>\n",
       "      <td>0.595178</td>\n",
       "    </tr>\n",
       "    <tr>\n",
       "      <th>1</th>\n",
       "      <td>0.197970</td>\n",
       "      <td>0.068382</td>\n",
       "      <td>0.233030</td>\n",
       "      <td>0.500617</td>\n",
       "    </tr>\n",
       "    <tr>\n",
       "      <th>4</th>\n",
       "      <td>0.247659</td>\n",
       "      <td>0.096774</td>\n",
       "      <td>0.262227</td>\n",
       "      <td>0.393340</td>\n",
       "    </tr>\n",
       "    <tr>\n",
       "      <th>2</th>\n",
       "      <td>0.340019</td>\n",
       "      <td>0.090485</td>\n",
       "      <td>0.210354</td>\n",
       "      <td>0.359142</td>\n",
       "    </tr>\n",
       "  </tbody>\n",
       "</table>\n",
       "</div>"
      ],
      "text/plain": [
       "eprloan1type         1         2         3         4\n",
       "erace                                               \n",
       "3             0.152919  0.032360  0.219543  0.595178\n",
       "1             0.197970  0.068382  0.233030  0.500617\n",
       "4             0.247659  0.096774  0.262227  0.393340\n",
       "2             0.340019  0.090485  0.210354  0.359142"
      ]
     },
     "execution_count": 79,
     "metadata": {},
     "output_type": "execute_result"
    },
    {
     "data": {
      "image/png": "[encoded data removed]",
      "text/plain": [
       "<Figure size 432x288 with 1 Axes>"
      ]
     },
     "metadata": {
      "needs_background": "light"
     },
     "output_type": "display_data"
    }
   ],
   "source": [
    "df['eprloan1type'].plot.hist(); #check\n",
    "df.drop_duplicates(['ssuid', 'pnum']).groupby(['erace']).eprloan1type.value_counts(normalize = True).unstack().sort_values(by = 1)"
   ]
  },
  {
   "cell_type": "code",
   "execution_count": 87,
   "id": "e3554051",
   "metadata": {},
   "outputs": [
    {
     "data": {
      "text/html": [
       "<div>\n",
       "<style scoped>\n",
       "    .dataframe tbody tr th:only-of-type {\n",
       "        vertical-align: middle;\n",
       "    }\n",
       "\n",
       "    .dataframe tbody tr th {\n",
       "        vertical-align: top;\n",
       "    }\n",
       "\n",
       "    .dataframe thead th {\n",
       "        text-align: right;\n",
       "    }\n",
       "</style>\n",
       "<table border=\"1\" class=\"dataframe\">\n",
       "  <thead>\n",
       "    <tr style=\"text-align: right;\">\n",
       "      <th>ervdebt</th>\n",
       "      <th>1</th>\n",
       "      <th>2</th>\n",
       "    </tr>\n",
       "    <tr>\n",
       "      <th>erace</th>\n",
       "      <th></th>\n",
       "      <th></th>\n",
       "    </tr>\n",
       "  </thead>\n",
       "  <tbody>\n",
       "    <tr>\n",
       "      <th>2</th>\n",
       "      <td>0.280000</td>\n",
       "      <td>0.720000</td>\n",
       "    </tr>\n",
       "    <tr>\n",
       "      <th>1</th>\n",
       "      <td>0.276802</td>\n",
       "      <td>0.723198</td>\n",
       "    </tr>\n",
       "    <tr>\n",
       "      <th>4</th>\n",
       "      <td>0.220930</td>\n",
       "      <td>0.779070</td>\n",
       "    </tr>\n",
       "    <tr>\n",
       "      <th>3</th>\n",
       "      <td>0.083333</td>\n",
       "      <td>0.916667</td>\n",
       "    </tr>\n",
       "  </tbody>\n",
       "</table>\n",
       "</div>"
      ],
      "text/plain": [
       "ervdebt         1         2\n",
       "erace                      \n",
       "2        0.280000  0.720000\n",
       "1        0.276802  0.723198\n",
       "4        0.220930  0.779070\n",
       "3        0.083333  0.916667"
      ]
     },
     "execution_count": 87,
     "metadata": {},
     "output_type": "execute_result"
    },
    {
     "data": {
      "image/png": "[encoded data removed]",
      "text/plain": [
       "<Figure size 432x288 with 1 Axes>"
      ]
     },
     "metadata": {
      "needs_background": "light"
     },
     "output_type": "display_data"
    }
   ],
   "source": [
    "df['ervdebt'].plot.hist();\n",
    "df.drop_duplicates(['ssuid', 'pnum']).groupby(['erace']).ervdebt.value_counts(normalize = True).unstack().sort_values(by = 1, ascending = False)"
   ]
  },
  {
   "cell_type": "code",
   "execution_count": 44,
   "id": "9cceb0b4",
   "metadata": {},
   "outputs": [
    {
     "data": {
      "image/png": "[encoded data removed]",
      "text/plain": [
       "<Figure size 432x288 with 1 Axes>"
      ]
     },
     "metadata": {
      "needs_background": "light"
     },
     "output_type": "display_data"
    }
   ],
   "source": [
    "df['tboatdebtval'].plot.hist();"
   ]
  },
  {
   "cell_type": "code",
   "execution_count": 45,
   "id": "c4fce50a",
   "metadata": {},
   "outputs": [
    {
     "data": {
      "image/png": "[encoded data removed]",
      "text/plain": [
       "<Figure size 432x288 with 1 Axes>"
      ]
     },
     "metadata": {
      "needs_background": "light"
     },
     "output_type": "display_data"
    }
   ],
   "source": [
    "df['tbsi1debtval'].plot.hist(); #1.6 would be about 16m, not many respondents"
   ]
  },
  {
   "cell_type": "code",
   "execution_count": 46,
   "id": "3e1d7437",
   "metadata": {},
   "outputs": [
    {
     "data": {
      "image/png": "[encoded data removed]",
      "text/plain": [
       "<Figure size 432x288 with 1 Axes>"
      ]
     },
     "metadata": {
      "needs_background": "light"
     },
     "output_type": "display_data"
    }
   ],
   "source": [
    "df['tmcycdebtval'].plot.hist(); #not many respondents"
   ]
  },
  {
   "cell_type": "code",
   "execution_count": 82,
   "id": "39e28ba2",
   "metadata": {},
   "outputs": [
    {
     "data": {
      "text/html": [
       "<div>\n",
       "<style scoped>\n",
       "    .dataframe tbody tr th:only-of-type {\n",
       "        vertical-align: middle;\n",
       "    }\n",
       "\n",
       "    .dataframe tbody tr th {\n",
       "        vertical-align: top;\n",
       "    }\n",
       "\n",
       "    .dataframe thead th {\n",
       "        text-align: right;\n",
       "    }\n",
       "</style>\n",
       "<table border=\"1\" class=\"dataframe\">\n",
       "  <thead>\n",
       "    <tr style=\"text-align: right;\">\n",
       "      <th>tdebt_bus</th>\n",
       "      <th>0</th>\n",
       "      <th>1</th>\n",
       "      <th>2</th>\n",
       "      <th>9</th>\n",
       "      <th>10</th>\n",
       "      <th>45</th>\n",
       "      <th>50</th>\n",
       "      <th>55</th>\n",
       "      <th>89</th>\n",
       "      <th>100</th>\n",
       "      <th>...</th>\n",
       "      <th>3835200</th>\n",
       "      <th>3900000</th>\n",
       "      <th>4730000</th>\n",
       "      <th>5148000</th>\n",
       "      <th>5184000</th>\n",
       "      <th>6671000</th>\n",
       "      <th>6673600</th>\n",
       "      <th>7520000</th>\n",
       "      <th>7559000</th>\n",
       "      <th>8401600</th>\n",
       "    </tr>\n",
       "    <tr>\n",
       "      <th>erace</th>\n",
       "      <th></th>\n",
       "      <th></th>\n",
       "      <th></th>\n",
       "      <th></th>\n",
       "      <th></th>\n",
       "      <th></th>\n",
       "      <th></th>\n",
       "      <th></th>\n",
       "      <th></th>\n",
       "      <th></th>\n",
       "      <th></th>\n",
       "      <th></th>\n",
       "      <th></th>\n",
       "      <th></th>\n",
       "      <th></th>\n",
       "      <th></th>\n",
       "      <th></th>\n",
       "      <th></th>\n",
       "      <th></th>\n",
       "      <th></th>\n",
       "      <th></th>\n",
       "    </tr>\n",
       "  </thead>\n",
       "  <tbody>\n",
       "    <tr>\n",
       "      <th>2</th>\n",
       "      <td>0.989315</td>\n",
       "      <td>0.000162</td>\n",
       "      <td>0.000162</td>\n",
       "      <td>NaN</td>\n",
       "      <td>NaN</td>\n",
       "      <td>NaN</td>\n",
       "      <td>NaN</td>\n",
       "      <td>NaN</td>\n",
       "      <td>NaN</td>\n",
       "      <td>NaN</td>\n",
       "      <td>...</td>\n",
       "      <td>0.000162</td>\n",
       "      <td>NaN</td>\n",
       "      <td>NaN</td>\n",
       "      <td>NaN</td>\n",
       "      <td>NaN</td>\n",
       "      <td>NaN</td>\n",
       "      <td>NaN</td>\n",
       "      <td>0.000162</td>\n",
       "      <td>NaN</td>\n",
       "      <td>NaN</td>\n",
       "    </tr>\n",
       "    <tr>\n",
       "      <th>3</th>\n",
       "      <td>0.981413</td>\n",
       "      <td>0.001352</td>\n",
       "      <td>NaN</td>\n",
       "      <td>NaN</td>\n",
       "      <td>NaN</td>\n",
       "      <td>NaN</td>\n",
       "      <td>NaN</td>\n",
       "      <td>NaN</td>\n",
       "      <td>NaN</td>\n",
       "      <td>NaN</td>\n",
       "      <td>...</td>\n",
       "      <td>NaN</td>\n",
       "      <td>0.000338</td>\n",
       "      <td>NaN</td>\n",
       "      <td>NaN</td>\n",
       "      <td>NaN</td>\n",
       "      <td>0.000338</td>\n",
       "      <td>NaN</td>\n",
       "      <td>NaN</td>\n",
       "      <td>NaN</td>\n",
       "      <td>NaN</td>\n",
       "    </tr>\n",
       "    <tr>\n",
       "      <th>1</th>\n",
       "      <td>0.977650</td>\n",
       "      <td>0.001542</td>\n",
       "      <td>0.000563</td>\n",
       "      <td>0.000024</td>\n",
       "      <td>0.000073</td>\n",
       "      <td>0.000024</td>\n",
       "      <td>0.000024</td>\n",
       "      <td>0.000024</td>\n",
       "      <td>NaN</td>\n",
       "      <td>0.000049</td>\n",
       "      <td>...</td>\n",
       "      <td>0.000024</td>\n",
       "      <td>NaN</td>\n",
       "      <td>0.000024</td>\n",
       "      <td>0.000024</td>\n",
       "      <td>0.000024</td>\n",
       "      <td>NaN</td>\n",
       "      <td>0.000024</td>\n",
       "      <td>0.000343</td>\n",
       "      <td>0.000024</td>\n",
       "      <td>0.000024</td>\n",
       "    </tr>\n",
       "    <tr>\n",
       "      <th>4</th>\n",
       "      <td>0.985146</td>\n",
       "      <td>0.001592</td>\n",
       "      <td>0.000531</td>\n",
       "      <td>NaN</td>\n",
       "      <td>NaN</td>\n",
       "      <td>NaN</td>\n",
       "      <td>NaN</td>\n",
       "      <td>NaN</td>\n",
       "      <td>0.000531</td>\n",
       "      <td>NaN</td>\n",
       "      <td>...</td>\n",
       "      <td>NaN</td>\n",
       "      <td>NaN</td>\n",
       "      <td>NaN</td>\n",
       "      <td>NaN</td>\n",
       "      <td>NaN</td>\n",
       "      <td>NaN</td>\n",
       "      <td>NaN</td>\n",
       "      <td>NaN</td>\n",
       "      <td>NaN</td>\n",
       "      <td>NaN</td>\n",
       "    </tr>\n",
       "  </tbody>\n",
       "</table>\n",
       "<p>4 rows × 310 columns</p>\n",
       "</div>"
      ],
      "text/plain": [
       "tdebt_bus   0         1         2         9         10        45       \\\n",
       "erace                                                                   \n",
       "2          0.989315  0.000162  0.000162       NaN       NaN       NaN   \n",
       "3          0.981413  0.001352       NaN       NaN       NaN       NaN   \n",
       "1          0.977650  0.001542  0.000563  0.000024  0.000073  0.000024   \n",
       "4          0.985146  0.001592  0.000531       NaN       NaN       NaN   \n",
       "\n",
       "tdebt_bus   50        55        89        100      ...   3835200   3900000  \\\n",
       "erace                                              ...                       \n",
       "2               NaN       NaN       NaN       NaN  ...  0.000162       NaN   \n",
       "3               NaN       NaN       NaN       NaN  ...       NaN  0.000338   \n",
       "1          0.000024  0.000024       NaN  0.000049  ...  0.000024       NaN   \n",
       "4               NaN       NaN  0.000531       NaN  ...       NaN       NaN   \n",
       "\n",
       "tdebt_bus   4730000   5148000   5184000   6671000   6673600   7520000  \\\n",
       "erace                                                                   \n",
       "2               NaN       NaN       NaN       NaN       NaN  0.000162   \n",
       "3               NaN       NaN       NaN  0.000338       NaN       NaN   \n",
       "1          0.000024  0.000024  0.000024       NaN  0.000024  0.000343   \n",
       "4               NaN       NaN       NaN       NaN       NaN       NaN   \n",
       "\n",
       "tdebt_bus   7559000   8401600  \n",
       "erace                          \n",
       "2               NaN       NaN  \n",
       "3               NaN       NaN  \n",
       "1          0.000024  0.000024  \n",
       "4               NaN       NaN  \n",
       "\n",
       "[4 rows x 310 columns]"
      ]
     },
     "execution_count": 82,
     "metadata": {},
     "output_type": "execute_result"
    },
    {
     "data": {
      "image/png": "[encoded data removed]",
      "text/plain": [
       "<Figure size 432x288 with 1 Axes>"
      ]
     },
     "metadata": {
      "needs_background": "light"
     },
     "output_type": "display_data"
    }
   ],
   "source": [
    "df['tdebt_bus'].plot.hist(); #not much debt against businesses\n",
    "df.drop_duplicates(['ssuid', 'pnum']).groupby(['erace']).tdebt_bus.value_counts(normalize = True).unstack().sort_values(by = 1)"
   ]
  },
  {
   "cell_type": "code",
   "execution_count": 50,
   "id": "229b5e96",
   "metadata": {},
   "outputs": [
    {
     "data": {
      "image/png": "[encoded data removed]",
      "text/plain": [
       "<Figure size 432x288 with 1 Axes>"
      ]
     },
     "metadata": {
      "needs_background": "light"
     },
     "output_type": "display_data"
    }
   ],
   "source": [
    "df['tdebt_home'].plot.hist(); #check"
   ]
  },
  {
   "cell_type": "code",
   "execution_count": 51,
   "id": "bf56e79b",
   "metadata": {},
   "outputs": [
    {
     "data": {
      "image/png": "[encoded data removed]",
      "text/plain": [
       "<Figure size 432x288 with 1 Axes>"
      ]
     },
     "metadata": {
      "needs_background": "light"
     },
     "output_type": "display_data"
    }
   ],
   "source": [
    "df['tdebt_re'].plot.hist(); #seems like a max of half a million"
   ]
  },
  {
   "cell_type": "code",
   "execution_count": 52,
   "id": "c6a9e492",
   "metadata": {},
   "outputs": [
    {
     "data": {
      "image/png": "[encoded data removed]",
      "text/plain": [
       "<Figure size 432x288 with 1 Axes>"
      ]
     },
     "metadata": {
      "needs_background": "light"
     },
     "output_type": "display_data"
    }
   ],
   "source": [
    "df['tdebt_sec'].plot.hist(); #Check! Person-level sum of all secured debt (TDEBT_HOME, TDEBT_VEH, TDEBT_RENT, TDEBT_RE, TDEBT_BUS)."
   ]
  },
  {
   "cell_type": "code",
   "execution_count": 53,
   "id": "409f7612",
   "metadata": {},
   "outputs": [
    {
     "data": {
      "image/png": "[encoded data removed]",
      "text/plain": [
       "<Figure size 432x288 with 1 Axes>"
      ]
     },
     "metadata": {
      "needs_background": "light"
     },
     "output_type": "display_data"
    }
   ],
   "source": [
    "df['tdebt_veh'].plot.hist(); #check"
   ]
  },
  {
   "cell_type": "code",
   "execution_count": 54,
   "id": "1ff27d11",
   "metadata": {},
   "outputs": [
    {
     "data": {
      "image/png": "[encoded data removed]",
      "text/plain": [
       "<Figure size 432x288 with 1 Axes>"
      ]
     },
     "metadata": {
      "needs_background": "light"
     },
     "output_type": "display_data"
    }
   ],
   "source": [
    "df['tprloanamt'].plot.hist(); #1e6 = 1million; check"
   ]
  },
  {
   "cell_type": "code",
   "execution_count": 55,
   "id": "13999a4a",
   "metadata": {},
   "outputs": [
    {
     "data": {
      "image/png": "[encoded data removed]",
      "text/plain": [
       "<Figure size 432x288 with 1 Axes>"
      ]
     },
     "metadata": {
      "needs_background": "light"
     },
     "output_type": "display_data"
    }
   ],
   "source": [
    "df['trvdebtval'].plot.hist(); #check"
   ]
  },
  {
   "cell_type": "markdown",
   "id": "6d12c6ca",
   "metadata": {},
   "source": [
    "unsecured_debt = ['EDEBT_CC', 'EDEBT_ED', 'EDEBT_MED', 'EJSCCDEBT', 'EJSEDDEBT', 'EJSOTDEBT', 'TDEBT_CC', 'TDEBT_ED',\n",
    "                 'TDEBT_OT', 'TDEBT_BUS', 'TDEBT_AST', 'TDEBT_RENT', 'TDEBT_USEC']"
   ]
  },
  {
   "cell_type": "code",
   "execution_count": 85,
   "id": "0b7790df",
   "metadata": {},
   "outputs": [
    {
     "data": {
      "text/html": [
       "<div>\n",
       "<style scoped>\n",
       "    .dataframe tbody tr th:only-of-type {\n",
       "        vertical-align: middle;\n",
       "    }\n",
       "\n",
       "    .dataframe tbody tr th {\n",
       "        vertical-align: top;\n",
       "    }\n",
       "\n",
       "    .dataframe thead th {\n",
       "        text-align: right;\n",
       "    }\n",
       "</style>\n",
       "<table border=\"1\" class=\"dataframe\">\n",
       "  <thead>\n",
       "    <tr style=\"text-align: right;\">\n",
       "      <th>edebt_cc</th>\n",
       "      <th>1</th>\n",
       "      <th>2</th>\n",
       "    </tr>\n",
       "    <tr>\n",
       "      <th>erace</th>\n",
       "      <th></th>\n",
       "      <th></th>\n",
       "    </tr>\n",
       "  </thead>\n",
       "  <tbody>\n",
       "    <tr>\n",
       "      <th>4</th>\n",
       "      <td>0.320424</td>\n",
       "      <td>0.679576</td>\n",
       "    </tr>\n",
       "    <tr>\n",
       "      <th>1</th>\n",
       "      <td>0.320066</td>\n",
       "      <td>0.679934</td>\n",
       "    </tr>\n",
       "    <tr>\n",
       "      <th>2</th>\n",
       "      <td>0.314068</td>\n",
       "      <td>0.685932</td>\n",
       "    </tr>\n",
       "    <tr>\n",
       "      <th>3</th>\n",
       "      <td>0.267658</td>\n",
       "      <td>0.732342</td>\n",
       "    </tr>\n",
       "  </tbody>\n",
       "</table>\n",
       "</div>"
      ],
      "text/plain": [
       "edebt_cc         1         2\n",
       "erace                       \n",
       "4         0.320424  0.679576\n",
       "1         0.320066  0.679934\n",
       "2         0.314068  0.685932\n",
       "3         0.267658  0.732342"
      ]
     },
     "execution_count": 85,
     "metadata": {},
     "output_type": "execute_result"
    },
    {
     "data": {
      "image/png": "[encoded data removed]",
      "text/plain": [
       "<Figure size 432x288 with 1 Axes>"
      ]
     },
     "metadata": {
      "needs_background": "light"
     },
     "output_type": "display_data"
    }
   ],
   "source": [
    "df['edebt_cc'].plot.hist(); #check\n",
    "df.drop_duplicates(['ssuid', 'pnum']).groupby(['erace']).edebt_cc.value_counts(normalize = True).unstack().sort_values(by = 1, ascending = False)"
   ]
  },
  {
   "cell_type": "code",
   "execution_count": 86,
   "id": "aa207bf9",
   "metadata": {},
   "outputs": [
    {
     "data": {
      "text/html": [
       "<div>\n",
       "<style scoped>\n",
       "    .dataframe tbody tr th:only-of-type {\n",
       "        vertical-align: middle;\n",
       "    }\n",
       "\n",
       "    .dataframe tbody tr th {\n",
       "        vertical-align: top;\n",
       "    }\n",
       "\n",
       "    .dataframe thead th {\n",
       "        text-align: right;\n",
       "    }\n",
       "</style>\n",
       "<table border=\"1\" class=\"dataframe\">\n",
       "  <thead>\n",
       "    <tr style=\"text-align: right;\">\n",
       "      <th>edebt_ed</th>\n",
       "      <th>1</th>\n",
       "      <th>2</th>\n",
       "    </tr>\n",
       "    <tr>\n",
       "      <th>erace</th>\n",
       "      <th></th>\n",
       "      <th></th>\n",
       "    </tr>\n",
       "  </thead>\n",
       "  <tbody>\n",
       "    <tr>\n",
       "      <th>2</th>\n",
       "      <td>0.168690</td>\n",
       "      <td>0.831310</td>\n",
       "    </tr>\n",
       "    <tr>\n",
       "      <th>4</th>\n",
       "      <td>0.159151</td>\n",
       "      <td>0.840849</td>\n",
       "    </tr>\n",
       "    <tr>\n",
       "      <th>1</th>\n",
       "      <td>0.124183</td>\n",
       "      <td>0.875817</td>\n",
       "    </tr>\n",
       "    <tr>\n",
       "      <th>3</th>\n",
       "      <td>0.099358</td>\n",
       "      <td>0.900642</td>\n",
       "    </tr>\n",
       "  </tbody>\n",
       "</table>\n",
       "</div>"
      ],
      "text/plain": [
       "edebt_ed         1         2\n",
       "erace                       \n",
       "2         0.168690  0.831310\n",
       "4         0.159151  0.840849\n",
       "1         0.124183  0.875817\n",
       "3         0.099358  0.900642"
      ]
     },
     "execution_count": 86,
     "metadata": {},
     "output_type": "execute_result"
    },
    {
     "data": {
      "image/png": "[encoded data removed]",
      "text/plain": [
       "<Figure size 432x288 with 1 Axes>"
      ]
     },
     "metadata": {
      "needs_background": "light"
     },
     "output_type": "display_data"
    }
   ],
   "source": [
    "df['edebt_ed'].plot.hist(); #check\n",
    "df.drop_duplicates(['ssuid', 'pnum']).groupby(['erace']).edebt_ed.value_counts(normalize = True).unstack().sort_values(by = 1, ascending = False)"
   ]
  },
  {
   "cell_type": "code",
   "execution_count": 95,
   "id": "73f6562f",
   "metadata": {},
   "outputs": [
    {
     "data": {
      "text/html": [
       "<div>\n",
       "<style scoped>\n",
       "    .dataframe tbody tr th:only-of-type {\n",
       "        vertical-align: middle;\n",
       "    }\n",
       "\n",
       "    .dataframe tbody tr th {\n",
       "        vertical-align: top;\n",
       "    }\n",
       "\n",
       "    .dataframe thead th {\n",
       "        text-align: right;\n",
       "    }\n",
       "</style>\n",
       "<table border=\"1\" class=\"dataframe\">\n",
       "  <thead>\n",
       "    <tr style=\"text-align: right;\">\n",
       "      <th>edebt_med</th>\n",
       "      <th>1</th>\n",
       "      <th>2</th>\n",
       "    </tr>\n",
       "    <tr>\n",
       "      <th>erace</th>\n",
       "      <th></th>\n",
       "      <th></th>\n",
       "    </tr>\n",
       "  </thead>\n",
       "  <tbody>\n",
       "    <tr>\n",
       "      <th>2</th>\n",
       "      <td>0.176137</td>\n",
       "      <td>0.823863</td>\n",
       "    </tr>\n",
       "    <tr>\n",
       "      <th>4</th>\n",
       "      <td>0.142706</td>\n",
       "      <td>0.857294</td>\n",
       "    </tr>\n",
       "    <tr>\n",
       "      <th>1</th>\n",
       "      <td>0.110499</td>\n",
       "      <td>0.889501</td>\n",
       "    </tr>\n",
       "    <tr>\n",
       "      <th>3</th>\n",
       "      <td>0.048665</td>\n",
       "      <td>0.951335</td>\n",
       "    </tr>\n",
       "  </tbody>\n",
       "</table>\n",
       "</div>"
      ],
      "text/plain": [
       "edebt_med         1         2\n",
       "erace                        \n",
       "2          0.176137  0.823863\n",
       "4          0.142706  0.857294\n",
       "1          0.110499  0.889501\n",
       "3          0.048665  0.951335"
      ]
     },
     "execution_count": 95,
     "metadata": {},
     "output_type": "execute_result"
    },
    {
     "data": {
      "image/png": "[encoded data removed]",
      "text/plain": [
       "<Figure size 432x288 with 1 Axes>"
      ]
     },
     "metadata": {
      "needs_background": "light"
     },
     "output_type": "display_data"
    }
   ],
   "source": [
    "df['edebt_med'].plot.hist(); #check\n",
    "df.drop_duplicates(['ssuid', 'pnum']).groupby(['erace']).edebt_med.value_counts(normalize = True).unstack().sort_values(by = 1, ascending = False)"
   ]
  },
  {
   "cell_type": "code",
   "execution_count": 96,
   "id": "e0207b7c",
   "metadata": {},
   "outputs": [
    {
     "data": {
      "text/html": [
       "<div>\n",
       "<style scoped>\n",
       "    .dataframe tbody tr th:only-of-type {\n",
       "        vertical-align: middle;\n",
       "    }\n",
       "\n",
       "    .dataframe tbody tr th {\n",
       "        vertical-align: top;\n",
       "    }\n",
       "\n",
       "    .dataframe thead th {\n",
       "        text-align: right;\n",
       "    }\n",
       "</style>\n",
       "<table border=\"1\" class=\"dataframe\">\n",
       "  <thead>\n",
       "    <tr style=\"text-align: right;\">\n",
       "      <th>ejsccdebt</th>\n",
       "      <th>1</th>\n",
       "      <th>2</th>\n",
       "    </tr>\n",
       "    <tr>\n",
       "      <th>erace</th>\n",
       "      <th></th>\n",
       "      <th></th>\n",
       "    </tr>\n",
       "  </thead>\n",
       "  <tbody>\n",
       "    <tr>\n",
       "      <th>1</th>\n",
       "      <td>0.413016</td>\n",
       "      <td>0.586984</td>\n",
       "    </tr>\n",
       "    <tr>\n",
       "      <th>4</th>\n",
       "      <td>0.360000</td>\n",
       "      <td>0.640000</td>\n",
       "    </tr>\n",
       "    <tr>\n",
       "      <th>3</th>\n",
       "      <td>0.340726</td>\n",
       "      <td>0.659274</td>\n",
       "    </tr>\n",
       "    <tr>\n",
       "      <th>2</th>\n",
       "      <td>0.249377</td>\n",
       "      <td>0.750623</td>\n",
       "    </tr>\n",
       "  </tbody>\n",
       "</table>\n",
       "</div>"
      ],
      "text/plain": [
       "ejsccdebt         1         2\n",
       "erace                        \n",
       "1          0.413016  0.586984\n",
       "4          0.360000  0.640000\n",
       "3          0.340726  0.659274\n",
       "2          0.249377  0.750623"
      ]
     },
     "execution_count": 96,
     "metadata": {},
     "output_type": "execute_result"
    },
    {
     "data": {
      "image/png": "[encoded data removed]",
      "text/plain": [
       "<Figure size 432x288 with 1 Axes>"
      ]
     },
     "metadata": {
      "needs_background": "light"
     },
     "output_type": "display_data"
    }
   ],
   "source": [
    "df['ejsccdebt'].plot.hist();\n",
    "df.drop_duplicates(['ssuid', 'pnum']).groupby(['erace']).ejsccdebt.value_counts(normalize = True).unstack().sort_values(by = 1, ascending = False)"
   ]
  },
  {
   "cell_type": "code",
   "execution_count": 62,
   "id": "542aac0e",
   "metadata": {},
   "outputs": [
    {
     "data": {
      "image/png": "[encoded data removed]",
      "text/plain": [
       "<Figure size 432x288 with 1 Axes>"
      ]
     },
     "metadata": {
      "needs_background": "light"
     },
     "output_type": "display_data"
    }
   ],
   "source": [
    "df['ejseddebt'].plot.hist(); #not as much info, but still check"
   ]
  },
  {
   "cell_type": "code",
   "execution_count": 63,
   "id": "b8d4b00f",
   "metadata": {},
   "outputs": [
    {
     "data": {
      "image/png": "[encoded data removed]",
      "text/plain": [
       "<Figure size 432x288 with 1 Axes>"
      ]
     },
     "metadata": {
      "needs_background": "light"
     },
     "output_type": "display_data"
    }
   ],
   "source": [
    "df['ejsotdebt'].plot.hist(); #not much info here"
   ]
  },
  {
   "cell_type": "code",
   "execution_count": 64,
   "id": "d3a73c50",
   "metadata": {},
   "outputs": [
    {
     "data": {
      "image/png": "[encoded data removed]",
      "text/plain": [
       "<Figure size 432x288 with 1 Axes>"
      ]
     },
     "metadata": {
      "needs_background": "light"
     },
     "output_type": "display_data"
    }
   ],
   "source": [
    "df['tdebt_cc'].plot.hist(); #check"
   ]
  },
  {
   "cell_type": "code",
   "execution_count": 65,
   "id": "932b0a22",
   "metadata": {},
   "outputs": [
    {
     "data": {
      "image/png": "[encoded data removed]",
      "text/plain": [
       "<Figure size 432x288 with 1 Axes>"
      ]
     },
     "metadata": {
      "needs_background": "light"
     },
     "output_type": "display_data"
    }
   ],
   "source": [
    "df['tdebt_ed'].plot.hist(); #check"
   ]
  },
  {
   "cell_type": "code",
   "execution_count": 66,
   "id": "b2622e26",
   "metadata": {},
   "outputs": [
    {
     "data": {
      "image/png": "[encoded data removed]",
      "text/plain": [
       "<Figure size 432x288 with 1 Axes>"
      ]
     },
     "metadata": {
      "needs_background": "light"
     },
     "output_type": "display_data"
    }
   ],
   "source": [
    "df['tdebt_ot'].plot.hist(); #check"
   ]
  },
  {
   "cell_type": "code",
   "execution_count": 67,
   "id": "2b168b95",
   "metadata": {},
   "outputs": [
    {
     "data": {
      "image/png": "[encoded data removed]",
      "text/plain": [
       "<Figure size 432x288 with 1 Axes>"
      ]
     },
     "metadata": {
      "needs_background": "light"
     },
     "output_type": "display_data"
    }
   ],
   "source": [
    "df['tdebt_bus'].plot.hist();"
   ]
  },
  {
   "cell_type": "code",
   "execution_count": 68,
   "id": "fc57a4f5",
   "metadata": {},
   "outputs": [
    {
     "data": {
      "image/png": "[encoded data removed]",
      "text/plain": [
       "<Figure size 432x288 with 1 Axes>"
      ]
     },
     "metadata": {
      "needs_background": "light"
     },
     "output_type": "display_data"
    }
   ],
   "source": [
    "df['tdebt_ast'].plot.hist();"
   ]
  },
  {
   "cell_type": "code",
   "execution_count": 93,
   "id": "c8c79278",
   "metadata": {},
   "outputs": [
    {
     "data": {
      "image/png": "[encoded data removed]",
      "text/plain": [
       "<Figure size 432x288 with 1 Axes>"
      ]
     },
     "metadata": {
      "needs_background": "light"
     },
     "output_type": "display_data"
    }
   ],
   "source": [
    "df['tdebt_rent'].plot.hist();"
   ]
  },
  {
   "cell_type": "code",
   "execution_count": 94,
   "id": "11f2a3b8",
   "metadata": {},
   "outputs": [
    {
     "data": {
      "image/png": "[encoded data removed]",
      "text/plain": [
       "<Figure size 432x288 with 1 Axes>"
      ]
     },
     "metadata": {
      "needs_background": "light"
     },
     "output_type": "display_data"
    }
   ],
   "source": [
    "df['tdebt_usec'].plot.hist();"
   ]
  },
  {
   "cell_type": "markdown",
   "id": "70f67805",
   "metadata": {},
   "source": [
    "arthur_boat_bonus = ['EREC_BOAT', 'TBOATVAL']"
   ]
  },
  {
   "cell_type": "code",
   "execution_count": 98,
   "id": "ce60b88f",
   "metadata": {},
   "outputs": [
    {
     "data": {
      "text/html": [
       "<div>\n",
       "<style scoped>\n",
       "    .dataframe tbody tr th:only-of-type {\n",
       "        vertical-align: middle;\n",
       "    }\n",
       "\n",
       "    .dataframe tbody tr th {\n",
       "        vertical-align: top;\n",
       "    }\n",
       "\n",
       "    .dataframe thead th {\n",
       "        text-align: right;\n",
       "    }\n",
       "</style>\n",
       "<table border=\"1\" class=\"dataframe\">\n",
       "  <thead>\n",
       "    <tr style=\"text-align: right;\">\n",
       "      <th>erec_boat</th>\n",
       "      <th>1</th>\n",
       "      <th>2</th>\n",
       "    </tr>\n",
       "    <tr>\n",
       "      <th>erace</th>\n",
       "      <th></th>\n",
       "      <th></th>\n",
       "    </tr>\n",
       "  </thead>\n",
       "  <tbody>\n",
       "    <tr>\n",
       "      <th>1</th>\n",
       "      <td>0.401674</td>\n",
       "      <td>0.598326</td>\n",
       "    </tr>\n",
       "    <tr>\n",
       "      <th>2</th>\n",
       "      <td>0.268657</td>\n",
       "      <td>0.731343</td>\n",
       "    </tr>\n",
       "    <tr>\n",
       "      <th>4</th>\n",
       "      <td>0.244681</td>\n",
       "      <td>0.755319</td>\n",
       "    </tr>\n",
       "    <tr>\n",
       "      <th>3</th>\n",
       "      <td>0.185185</td>\n",
       "      <td>0.814815</td>\n",
       "    </tr>\n",
       "  </tbody>\n",
       "</table>\n",
       "</div>"
      ],
      "text/plain": [
       "erec_boat         1         2\n",
       "erace                        \n",
       "1          0.401674  0.598326\n",
       "2          0.268657  0.731343\n",
       "4          0.244681  0.755319\n",
       "3          0.185185  0.814815"
      ]
     },
     "execution_count": 98,
     "metadata": {},
     "output_type": "execute_result"
    },
    {
     "data": {
      "image/png": "[encoded data removed]",
      "text/plain": [
       "<Figure size 432x288 with 1 Axes>"
      ]
     },
     "metadata": {
      "needs_background": "light"
     },
     "output_type": "display_data"
    }
   ],
   "source": [
    "df['erec_boat'].plot.hist();\n",
    "df.drop_duplicates(['ssuid', 'pnum']).groupby(['erace']).erec_boat.value_counts(normalize = True).unstack().sort_values(by = 1, ascending = False)"
   ]
  },
  {
   "cell_type": "markdown",
   "id": "6ad8a8ec",
   "metadata": {},
   "source": [
    "# TWO DIMENSIONAL"
   ]
  },
  {
   "cell_type": "code",
   "execution_count": 110,
   "id": "02372947",
   "metadata": {},
   "outputs": [
    {
     "ename": "TypeError",
     "evalue": "No loop matching the specified signature and casting was found for ufunc add",
     "output_type": "error",
     "traceback": [
      "\u001b[1;31m---------------------------------------------------------------------------\u001b[0m",
      "\u001b[1;31mTypeError\u001b[0m                                 Traceback (most recent call last)",
      "\u001b[1;32m<ipython-input-110-0835d90339ff>\u001b[0m in \u001b[0;36m<module>\u001b[1;34m\u001b[0m\n\u001b[1;32m----> 1\u001b[1;33m \u001b[0msns\u001b[0m\u001b[1;33m.\u001b[0m\u001b[0mkdeplot\u001b[0m\u001b[1;33m(\u001b[0m\u001b[0mx\u001b[0m \u001b[1;33m=\u001b[0m \u001b[1;34m'erace'\u001b[0m\u001b[1;33m,\u001b[0m \u001b[0my\u001b[0m\u001b[1;33m=\u001b[0m \u001b[1;34m'tdebt_ast'\u001b[0m\u001b[1;33m,\u001b[0m \u001b[0mdata\u001b[0m \u001b[1;33m=\u001b[0m \u001b[0mdf\u001b[0m\u001b[1;33m)\u001b[0m\u001b[1;33m;\u001b[0m\u001b[1;33m\u001b[0m\u001b[1;33m\u001b[0m\u001b[0m\n\u001b[0m",
      "\u001b[1;32m~\\anaconda3\\lib\\site-packages\\seaborn\\_decorators.py\u001b[0m in \u001b[0;36minner_f\u001b[1;34m(*args, **kwargs)\u001b[0m\n\u001b[0;32m     44\u001b[0m             )\n\u001b[0;32m     45\u001b[0m         \u001b[0mkwargs\u001b[0m\u001b[1;33m.\u001b[0m\u001b[0mupdate\u001b[0m\u001b[1;33m(\u001b[0m\u001b[1;33m{\u001b[0m\u001b[0mk\u001b[0m\u001b[1;33m:\u001b[0m \u001b[0marg\u001b[0m \u001b[1;32mfor\u001b[0m \u001b[0mk\u001b[0m\u001b[1;33m,\u001b[0m \u001b[0marg\u001b[0m \u001b[1;32min\u001b[0m \u001b[0mzip\u001b[0m\u001b[1;33m(\u001b[0m\u001b[0msig\u001b[0m\u001b[1;33m.\u001b[0m\u001b[0mparameters\u001b[0m\u001b[1;33m,\u001b[0m \u001b[0margs\u001b[0m\u001b[1;33m)\u001b[0m\u001b[1;33m}\u001b[0m\u001b[1;33m)\u001b[0m\u001b[1;33m\u001b[0m\u001b[1;33m\u001b[0m\u001b[0m\n\u001b[1;32m---> 46\u001b[1;33m         \u001b[1;32mreturn\u001b[0m \u001b[0mf\u001b[0m\u001b[1;33m(\u001b[0m\u001b[1;33m**\u001b[0m\u001b[0mkwargs\u001b[0m\u001b[1;33m)\u001b[0m\u001b[1;33m\u001b[0m\u001b[1;33m\u001b[0m\u001b[0m\n\u001b[0m\u001b[0;32m     47\u001b[0m     \u001b[1;32mreturn\u001b[0m \u001b[0minner_f\u001b[0m\u001b[1;33m\u001b[0m\u001b[1;33m\u001b[0m\u001b[0m\n\u001b[0;32m     48\u001b[0m \u001b[1;33m\u001b[0m\u001b[0m\n",
      "\u001b[1;32m~\\anaconda3\\lib\\site-packages\\seaborn\\distributions.py\u001b[0m in \u001b[0;36mkdeplot\u001b[1;34m(x, y, shade, vertical, kernel, bw, gridsize, cut, clip, legend, cumulative, shade_lowest, cbar, cbar_ax, cbar_kws, ax, weights, hue, palette, hue_order, hue_norm, multiple, common_norm, common_grid, levels, thresh, bw_method, bw_adjust, log_scale, color, fill, data, data2, **kwargs)\u001b[0m\n\u001b[0;32m   1738\u001b[0m     \u001b[1;32melse\u001b[0m\u001b[1;33m:\u001b[0m\u001b[1;33m\u001b[0m\u001b[1;33m\u001b[0m\u001b[0m\n\u001b[0;32m   1739\u001b[0m \u001b[1;33m\u001b[0m\u001b[0m\n\u001b[1;32m-> 1740\u001b[1;33m         p.plot_bivariate_density(\n\u001b[0m\u001b[0;32m   1741\u001b[0m             \u001b[0mcommon_norm\u001b[0m\u001b[1;33m=\u001b[0m\u001b[0mcommon_norm\u001b[0m\u001b[1;33m,\u001b[0m\u001b[1;33m\u001b[0m\u001b[1;33m\u001b[0m\u001b[0m\n\u001b[0;32m   1742\u001b[0m             \u001b[0mfill\u001b[0m\u001b[1;33m=\u001b[0m\u001b[0mfill\u001b[0m\u001b[1;33m,\u001b[0m\u001b[1;33m\u001b[0m\u001b[1;33m\u001b[0m\u001b[0m\n",
      "\u001b[1;32m~\\anaconda3\\lib\\site-packages\\seaborn\\distributions.py\u001b[0m in \u001b[0;36mplot_bivariate_density\u001b[1;34m(self, common_norm, fill, levels, thresh, color, legend, cbar, cbar_ax, cbar_kws, estimate_kws, **contour_kws)\u001b[0m\n\u001b[0;32m   1081\u001b[0m             \u001b[1;31m# Estimate the density of observations at this level\u001b[0m\u001b[1;33m\u001b[0m\u001b[1;33m\u001b[0m\u001b[1;33m\u001b[0m\u001b[0m\n\u001b[0;32m   1082\u001b[0m             \u001b[0mobservations\u001b[0m \u001b[1;33m=\u001b[0m \u001b[0mobservations\u001b[0m\u001b[1;33m[\u001b[0m\u001b[1;34m\"x\"\u001b[0m\u001b[1;33m]\u001b[0m\u001b[1;33m,\u001b[0m \u001b[0mobservations\u001b[0m\u001b[1;33m[\u001b[0m\u001b[1;34m\"y\"\u001b[0m\u001b[1;33m]\u001b[0m\u001b[1;33m\u001b[0m\u001b[1;33m\u001b[0m\u001b[0m\n\u001b[1;32m-> 1083\u001b[1;33m             \u001b[0mdensity\u001b[0m\u001b[1;33m,\u001b[0m \u001b[0msupport\u001b[0m \u001b[1;33m=\u001b[0m \u001b[0mestimator\u001b[0m\u001b[1;33m(\u001b[0m\u001b[1;33m*\u001b[0m\u001b[0mobservations\u001b[0m\u001b[1;33m,\u001b[0m \u001b[0mweights\u001b[0m\u001b[1;33m=\u001b[0m\u001b[0mweights\u001b[0m\u001b[1;33m)\u001b[0m\u001b[1;33m\u001b[0m\u001b[1;33m\u001b[0m\u001b[0m\n\u001b[0m\u001b[0;32m   1084\u001b[0m \u001b[1;33m\u001b[0m\u001b[0m\n\u001b[0;32m   1085\u001b[0m             \u001b[1;31m# Transform the support grid back to the original scale\u001b[0m\u001b[1;33m\u001b[0m\u001b[1;33m\u001b[0m\u001b[1;33m\u001b[0m\u001b[0m\n",
      "\u001b[1;32m~\\anaconda3\\lib\\site-packages\\seaborn\\_statistics.py\u001b[0m in \u001b[0;36m__call__\u001b[1;34m(self, x1, x2, weights)\u001b[0m\n\u001b[0;32m    187\u001b[0m             \u001b[1;32mreturn\u001b[0m \u001b[0mself\u001b[0m\u001b[1;33m.\u001b[0m\u001b[0m_eval_univariate\u001b[0m\u001b[1;33m(\u001b[0m\u001b[0mx1\u001b[0m\u001b[1;33m,\u001b[0m \u001b[0mweights\u001b[0m\u001b[1;33m)\u001b[0m\u001b[1;33m\u001b[0m\u001b[1;33m\u001b[0m\u001b[0m\n\u001b[0;32m    188\u001b[0m         \u001b[1;32melse\u001b[0m\u001b[1;33m:\u001b[0m\u001b[1;33m\u001b[0m\u001b[1;33m\u001b[0m\u001b[0m\n\u001b[1;32m--> 189\u001b[1;33m             \u001b[1;32mreturn\u001b[0m \u001b[0mself\u001b[0m\u001b[1;33m.\u001b[0m\u001b[0m_eval_bivariate\u001b[0m\u001b[1;33m(\u001b[0m\u001b[0mx1\u001b[0m\u001b[1;33m,\u001b[0m \u001b[0mx2\u001b[0m\u001b[1;33m,\u001b[0m \u001b[0mweights\u001b[0m\u001b[1;33m)\u001b[0m\u001b[1;33m\u001b[0m\u001b[1;33m\u001b[0m\u001b[0m\n\u001b[0m\u001b[0;32m    190\u001b[0m \u001b[1;33m\u001b[0m\u001b[0m\n\u001b[0;32m    191\u001b[0m \u001b[1;33m\u001b[0m\u001b[0m\n",
      "\u001b[1;32m~\\anaconda3\\lib\\site-packages\\seaborn\\_statistics.py\u001b[0m in \u001b[0;36m_eval_bivariate\u001b[1;34m(self, x1, x2, weights)\u001b[0m\n\u001b[0;32m    162\u001b[0m         \u001b[0msupport\u001b[0m \u001b[1;33m=\u001b[0m \u001b[0mself\u001b[0m\u001b[1;33m.\u001b[0m\u001b[0msupport\u001b[0m\u001b[1;33m\u001b[0m\u001b[1;33m\u001b[0m\u001b[0m\n\u001b[0;32m    163\u001b[0m         \u001b[1;32mif\u001b[0m \u001b[0msupport\u001b[0m \u001b[1;32mis\u001b[0m \u001b[1;32mNone\u001b[0m\u001b[1;33m:\u001b[0m\u001b[1;33m\u001b[0m\u001b[1;33m\u001b[0m\u001b[0m\n\u001b[1;32m--> 164\u001b[1;33m             \u001b[0msupport\u001b[0m \u001b[1;33m=\u001b[0m \u001b[0mself\u001b[0m\u001b[1;33m.\u001b[0m\u001b[0mdefine_support\u001b[0m\u001b[1;33m(\u001b[0m\u001b[0mx1\u001b[0m\u001b[1;33m,\u001b[0m \u001b[0mx2\u001b[0m\u001b[1;33m,\u001b[0m \u001b[0mcache\u001b[0m\u001b[1;33m=\u001b[0m\u001b[1;32mFalse\u001b[0m\u001b[1;33m)\u001b[0m\u001b[1;33m\u001b[0m\u001b[1;33m\u001b[0m\u001b[0m\n\u001b[0m\u001b[0;32m    165\u001b[0m \u001b[1;33m\u001b[0m\u001b[0m\n\u001b[0;32m    166\u001b[0m         \u001b[0mkde\u001b[0m \u001b[1;33m=\u001b[0m \u001b[0mself\u001b[0m\u001b[1;33m.\u001b[0m\u001b[0m_fit\u001b[0m\u001b[1;33m(\u001b[0m\u001b[1;33m[\u001b[0m\u001b[0mx1\u001b[0m\u001b[1;33m,\u001b[0m \u001b[0mx2\u001b[0m\u001b[1;33m]\u001b[0m\u001b[1;33m,\u001b[0m \u001b[0mweights\u001b[0m\u001b[1;33m)\u001b[0m\u001b[1;33m\u001b[0m\u001b[1;33m\u001b[0m\u001b[0m\n",
      "\u001b[1;32m~\\anaconda3\\lib\\site-packages\\seaborn\\_statistics.py\u001b[0m in \u001b[0;36mdefine_support\u001b[1;34m(self, x1, x2, weights, cache)\u001b[0m\n\u001b[0;32m    119\u001b[0m             \u001b[0msupport\u001b[0m \u001b[1;33m=\u001b[0m \u001b[0mself\u001b[0m\u001b[1;33m.\u001b[0m\u001b[0m_define_support_univariate\u001b[0m\u001b[1;33m(\u001b[0m\u001b[0mx1\u001b[0m\u001b[1;33m,\u001b[0m \u001b[0mweights\u001b[0m\u001b[1;33m)\u001b[0m\u001b[1;33m\u001b[0m\u001b[1;33m\u001b[0m\u001b[0m\n\u001b[0;32m    120\u001b[0m         \u001b[1;32melse\u001b[0m\u001b[1;33m:\u001b[0m\u001b[1;33m\u001b[0m\u001b[1;33m\u001b[0m\u001b[0m\n\u001b[1;32m--> 121\u001b[1;33m             \u001b[0msupport\u001b[0m \u001b[1;33m=\u001b[0m \u001b[0mself\u001b[0m\u001b[1;33m.\u001b[0m\u001b[0m_define_support_bivariate\u001b[0m\u001b[1;33m(\u001b[0m\u001b[0mx1\u001b[0m\u001b[1;33m,\u001b[0m \u001b[0mx2\u001b[0m\u001b[1;33m,\u001b[0m \u001b[0mweights\u001b[0m\u001b[1;33m)\u001b[0m\u001b[1;33m\u001b[0m\u001b[1;33m\u001b[0m\u001b[0m\n\u001b[0m\u001b[0;32m    122\u001b[0m \u001b[1;33m\u001b[0m\u001b[0m\n\u001b[0;32m    123\u001b[0m         \u001b[1;32mif\u001b[0m \u001b[0mcache\u001b[0m\u001b[1;33m:\u001b[0m\u001b[1;33m\u001b[0m\u001b[1;33m\u001b[0m\u001b[0m\n",
      "\u001b[1;32m~\\anaconda3\\lib\\site-packages\\seaborn\\_statistics.py\u001b[0m in \u001b[0;36m_define_support_bivariate\u001b[1;34m(self, x1, x2, weights)\u001b[0m\n\u001b[0;32m    102\u001b[0m             \u001b[0mclip\u001b[0m \u001b[1;33m=\u001b[0m \u001b[1;33m(\u001b[0m\u001b[0mclip\u001b[0m\u001b[1;33m,\u001b[0m \u001b[0mclip\u001b[0m\u001b[1;33m)\u001b[0m\u001b[1;33m\u001b[0m\u001b[1;33m\u001b[0m\u001b[0m\n\u001b[0;32m    103\u001b[0m \u001b[1;33m\u001b[0m\u001b[0m\n\u001b[1;32m--> 104\u001b[1;33m         \u001b[0mkde\u001b[0m \u001b[1;33m=\u001b[0m \u001b[0mself\u001b[0m\u001b[1;33m.\u001b[0m\u001b[0m_fit\u001b[0m\u001b[1;33m(\u001b[0m\u001b[1;33m[\u001b[0m\u001b[0mx1\u001b[0m\u001b[1;33m,\u001b[0m \u001b[0mx2\u001b[0m\u001b[1;33m]\u001b[0m\u001b[1;33m,\u001b[0m \u001b[0mweights\u001b[0m\u001b[1;33m)\u001b[0m\u001b[1;33m\u001b[0m\u001b[1;33m\u001b[0m\u001b[0m\n\u001b[0m\u001b[0;32m    105\u001b[0m         \u001b[0mbw\u001b[0m \u001b[1;33m=\u001b[0m \u001b[0mnp\u001b[0m\u001b[1;33m.\u001b[0m\u001b[0msqrt\u001b[0m\u001b[1;33m(\u001b[0m\u001b[0mnp\u001b[0m\u001b[1;33m.\u001b[0m\u001b[0mdiag\u001b[0m\u001b[1;33m(\u001b[0m\u001b[0mkde\u001b[0m\u001b[1;33m.\u001b[0m\u001b[0mcovariance\u001b[0m\u001b[1;33m)\u001b[0m\u001b[1;33m.\u001b[0m\u001b[0msqueeze\u001b[0m\u001b[1;33m(\u001b[0m\u001b[1;33m)\u001b[0m\u001b[1;33m)\u001b[0m\u001b[1;33m\u001b[0m\u001b[1;33m\u001b[0m\u001b[0m\n\u001b[0;32m    106\u001b[0m \u001b[1;33m\u001b[0m\u001b[0m\n",
      "\u001b[1;32m~\\anaconda3\\lib\\site-packages\\seaborn\\_statistics.py\u001b[0m in \u001b[0;36m_fit\u001b[1;34m(self, fit_data, weights)\u001b[0m\n\u001b[0;32m    135\u001b[0m             \u001b[0mfit_kws\u001b[0m\u001b[1;33m[\u001b[0m\u001b[1;34m\"weights\"\u001b[0m\u001b[1;33m]\u001b[0m \u001b[1;33m=\u001b[0m \u001b[0mweights\u001b[0m\u001b[1;33m\u001b[0m\u001b[1;33m\u001b[0m\u001b[0m\n\u001b[0;32m    136\u001b[0m \u001b[1;33m\u001b[0m\u001b[0m\n\u001b[1;32m--> 137\u001b[1;33m         \u001b[0mkde\u001b[0m \u001b[1;33m=\u001b[0m \u001b[0mstats\u001b[0m\u001b[1;33m.\u001b[0m\u001b[0mgaussian_kde\u001b[0m\u001b[1;33m(\u001b[0m\u001b[0mfit_data\u001b[0m\u001b[1;33m,\u001b[0m \u001b[1;33m**\u001b[0m\u001b[0mfit_kws\u001b[0m\u001b[1;33m)\u001b[0m\u001b[1;33m\u001b[0m\u001b[1;33m\u001b[0m\u001b[0m\n\u001b[0m\u001b[0;32m    138\u001b[0m         \u001b[0mkde\u001b[0m\u001b[1;33m.\u001b[0m\u001b[0mset_bandwidth\u001b[0m\u001b[1;33m(\u001b[0m\u001b[0mkde\u001b[0m\u001b[1;33m.\u001b[0m\u001b[0mfactor\u001b[0m \u001b[1;33m*\u001b[0m \u001b[0mself\u001b[0m\u001b[1;33m.\u001b[0m\u001b[0mbw_adjust\u001b[0m\u001b[1;33m)\u001b[0m\u001b[1;33m\u001b[0m\u001b[1;33m\u001b[0m\u001b[0m\n\u001b[0;32m    139\u001b[0m \u001b[1;33m\u001b[0m\u001b[0m\n",
      "\u001b[1;32m~\\anaconda3\\lib\\site-packages\\scipy\\stats\\kde.py\u001b[0m in \u001b[0;36m__init__\u001b[1;34m(self, dataset, bw_method, weights)\u001b[0m\n\u001b[0;32m    204\u001b[0m             \u001b[0mself\u001b[0m\u001b[1;33m.\u001b[0m\u001b[0m_neff\u001b[0m \u001b[1;33m=\u001b[0m \u001b[1;36m1\u001b[0m\u001b[1;33m/\u001b[0m\u001b[0msum\u001b[0m\u001b[1;33m(\u001b[0m\u001b[0mself\u001b[0m\u001b[1;33m.\u001b[0m\u001b[0m_weights\u001b[0m\u001b[1;33m**\u001b[0m\u001b[1;36m2\u001b[0m\u001b[1;33m)\u001b[0m\u001b[1;33m\u001b[0m\u001b[1;33m\u001b[0m\u001b[0m\n\u001b[0;32m    205\u001b[0m \u001b[1;33m\u001b[0m\u001b[0m\n\u001b[1;32m--> 206\u001b[1;33m         \u001b[0mself\u001b[0m\u001b[1;33m.\u001b[0m\u001b[0mset_bandwidth\u001b[0m\u001b[1;33m(\u001b[0m\u001b[0mbw_method\u001b[0m\u001b[1;33m=\u001b[0m\u001b[0mbw_method\u001b[0m\u001b[1;33m)\u001b[0m\u001b[1;33m\u001b[0m\u001b[1;33m\u001b[0m\u001b[0m\n\u001b[0m\u001b[0;32m    207\u001b[0m \u001b[1;33m\u001b[0m\u001b[0m\n\u001b[0;32m    208\u001b[0m     \u001b[1;32mdef\u001b[0m \u001b[0mevaluate\u001b[0m\u001b[1;33m(\u001b[0m\u001b[0mself\u001b[0m\u001b[1;33m,\u001b[0m \u001b[0mpoints\u001b[0m\u001b[1;33m)\u001b[0m\u001b[1;33m:\u001b[0m\u001b[1;33m\u001b[0m\u001b[1;33m\u001b[0m\u001b[0m\n",
      "\u001b[1;32m~\\anaconda3\\lib\\site-packages\\scipy\\stats\\kde.py\u001b[0m in \u001b[0;36mset_bandwidth\u001b[1;34m(self, bw_method)\u001b[0m\n\u001b[0;32m    554\u001b[0m             \u001b[1;32mraise\u001b[0m \u001b[0mValueError\u001b[0m\u001b[1;33m(\u001b[0m\u001b[0mmsg\u001b[0m\u001b[1;33m)\u001b[0m\u001b[1;33m\u001b[0m\u001b[1;33m\u001b[0m\u001b[0m\n\u001b[0;32m    555\u001b[0m \u001b[1;33m\u001b[0m\u001b[0m\n\u001b[1;32m--> 556\u001b[1;33m         \u001b[0mself\u001b[0m\u001b[1;33m.\u001b[0m\u001b[0m_compute_covariance\u001b[0m\u001b[1;33m(\u001b[0m\u001b[1;33m)\u001b[0m\u001b[1;33m\u001b[0m\u001b[1;33m\u001b[0m\u001b[0m\n\u001b[0m\u001b[0;32m    557\u001b[0m \u001b[1;33m\u001b[0m\u001b[0m\n\u001b[0;32m    558\u001b[0m     \u001b[1;32mdef\u001b[0m \u001b[0m_compute_covariance\u001b[0m\u001b[1;33m(\u001b[0m\u001b[0mself\u001b[0m\u001b[1;33m)\u001b[0m\u001b[1;33m:\u001b[0m\u001b[1;33m\u001b[0m\u001b[1;33m\u001b[0m\u001b[0m\n",
      "\u001b[1;32m~\\anaconda3\\lib\\site-packages\\scipy\\stats\\kde.py\u001b[0m in \u001b[0;36m_compute_covariance\u001b[1;34m(self)\u001b[0m\n\u001b[0;32m    563\u001b[0m         \u001b[1;31m# Cache covariance and inverse covariance of the data\u001b[0m\u001b[1;33m\u001b[0m\u001b[1;33m\u001b[0m\u001b[1;33m\u001b[0m\u001b[0m\n\u001b[0;32m    564\u001b[0m         \u001b[1;32mif\u001b[0m \u001b[1;32mnot\u001b[0m \u001b[0mhasattr\u001b[0m\u001b[1;33m(\u001b[0m\u001b[0mself\u001b[0m\u001b[1;33m,\u001b[0m \u001b[1;34m'_data_inv_cov'\u001b[0m\u001b[1;33m)\u001b[0m\u001b[1;33m:\u001b[0m\u001b[1;33m\u001b[0m\u001b[1;33m\u001b[0m\u001b[0m\n\u001b[1;32m--> 565\u001b[1;33m             self._data_covariance = atleast_2d(cov(self.dataset, rowvar=1,\n\u001b[0m\u001b[0;32m    566\u001b[0m                                                \u001b[0mbias\u001b[0m\u001b[1;33m=\u001b[0m\u001b[1;32mFalse\u001b[0m\u001b[1;33m,\u001b[0m\u001b[1;33m\u001b[0m\u001b[1;33m\u001b[0m\u001b[0m\n\u001b[0;32m    567\u001b[0m                                                aweights=self.weights))\n",
      "\u001b[1;32m<__array_function__ internals>\u001b[0m in \u001b[0;36mcov\u001b[1;34m(*args, **kwargs)\u001b[0m\n",
      "\u001b[1;32m~\\anaconda3\\lib\\site-packages\\numpy\\lib\\function_base.py\u001b[0m in \u001b[0;36mcov\u001b[1;34m(m, y, rowvar, bias, ddof, fweights, aweights, dtype)\u001b[0m\n\u001b[0;32m   2467\u001b[0m             \u001b[0mw\u001b[0m \u001b[1;33m*=\u001b[0m \u001b[0maweights\u001b[0m\u001b[1;33m\u001b[0m\u001b[1;33m\u001b[0m\u001b[0m\n\u001b[0;32m   2468\u001b[0m \u001b[1;33m\u001b[0m\u001b[0m\n\u001b[1;32m-> 2469\u001b[1;33m     \u001b[0mavg\u001b[0m\u001b[1;33m,\u001b[0m \u001b[0mw_sum\u001b[0m \u001b[1;33m=\u001b[0m \u001b[0maverage\u001b[0m\u001b[1;33m(\u001b[0m\u001b[0mX\u001b[0m\u001b[1;33m,\u001b[0m \u001b[0maxis\u001b[0m\u001b[1;33m=\u001b[0m\u001b[1;36m1\u001b[0m\u001b[1;33m,\u001b[0m \u001b[0mweights\u001b[0m\u001b[1;33m=\u001b[0m\u001b[0mw\u001b[0m\u001b[1;33m,\u001b[0m \u001b[0mreturned\u001b[0m\u001b[1;33m=\u001b[0m\u001b[1;32mTrue\u001b[0m\u001b[1;33m)\u001b[0m\u001b[1;33m\u001b[0m\u001b[1;33m\u001b[0m\u001b[0m\n\u001b[0m\u001b[0;32m   2470\u001b[0m     \u001b[0mw_sum\u001b[0m \u001b[1;33m=\u001b[0m \u001b[0mw_sum\u001b[0m\u001b[1;33m[\u001b[0m\u001b[1;36m0\u001b[0m\u001b[1;33m]\u001b[0m\u001b[1;33m\u001b[0m\u001b[1;33m\u001b[0m\u001b[0m\n\u001b[0;32m   2471\u001b[0m \u001b[1;33m\u001b[0m\u001b[0m\n",
      "\u001b[1;32m<__array_function__ internals>\u001b[0m in \u001b[0;36maverage\u001b[1;34m(*args, **kwargs)\u001b[0m\n",
      "\u001b[1;32m~\\anaconda3\\lib\\site-packages\\numpy\\lib\\function_base.py\u001b[0m in \u001b[0;36maverage\u001b[1;34m(a, axis, weights, returned)\u001b[0m\n\u001b[0;32m    405\u001b[0m             \u001b[0mwgt\u001b[0m \u001b[1;33m=\u001b[0m \u001b[0mwgt\u001b[0m\u001b[1;33m.\u001b[0m\u001b[0mswapaxes\u001b[0m\u001b[1;33m(\u001b[0m\u001b[1;33m-\u001b[0m\u001b[1;36m1\u001b[0m\u001b[1;33m,\u001b[0m \u001b[0maxis\u001b[0m\u001b[1;33m)\u001b[0m\u001b[1;33m\u001b[0m\u001b[1;33m\u001b[0m\u001b[0m\n\u001b[0;32m    406\u001b[0m \u001b[1;33m\u001b[0m\u001b[0m\n\u001b[1;32m--> 407\u001b[1;33m         \u001b[0mscl\u001b[0m \u001b[1;33m=\u001b[0m \u001b[0mwgt\u001b[0m\u001b[1;33m.\u001b[0m\u001b[0msum\u001b[0m\u001b[1;33m(\u001b[0m\u001b[0maxis\u001b[0m\u001b[1;33m=\u001b[0m\u001b[0maxis\u001b[0m\u001b[1;33m,\u001b[0m \u001b[0mdtype\u001b[0m\u001b[1;33m=\u001b[0m\u001b[0mresult_dtype\u001b[0m\u001b[1;33m)\u001b[0m\u001b[1;33m\u001b[0m\u001b[1;33m\u001b[0m\u001b[0m\n\u001b[0m\u001b[0;32m    408\u001b[0m         \u001b[1;32mif\u001b[0m \u001b[0mnp\u001b[0m\u001b[1;33m.\u001b[0m\u001b[0many\u001b[0m\u001b[1;33m(\u001b[0m\u001b[0mscl\u001b[0m \u001b[1;33m==\u001b[0m \u001b[1;36m0.0\u001b[0m\u001b[1;33m)\u001b[0m\u001b[1;33m:\u001b[0m\u001b[1;33m\u001b[0m\u001b[1;33m\u001b[0m\u001b[0m\n\u001b[0;32m    409\u001b[0m             raise ZeroDivisionError(\n",
      "\u001b[1;32m~\\anaconda3\\lib\\site-packages\\numpy\\core\\_methods.py\u001b[0m in \u001b[0;36m_sum\u001b[1;34m(a, axis, dtype, out, keepdims, initial, where)\u001b[0m\n\u001b[0;32m     45\u001b[0m def _sum(a, axis=None, dtype=None, out=None, keepdims=False,\n\u001b[0;32m     46\u001b[0m          initial=_NoValue, where=True):\n\u001b[1;32m---> 47\u001b[1;33m     \u001b[1;32mreturn\u001b[0m \u001b[0mumr_sum\u001b[0m\u001b[1;33m(\u001b[0m\u001b[0ma\u001b[0m\u001b[1;33m,\u001b[0m \u001b[0maxis\u001b[0m\u001b[1;33m,\u001b[0m \u001b[0mdtype\u001b[0m\u001b[1;33m,\u001b[0m \u001b[0mout\u001b[0m\u001b[1;33m,\u001b[0m \u001b[0mkeepdims\u001b[0m\u001b[1;33m,\u001b[0m \u001b[0minitial\u001b[0m\u001b[1;33m,\u001b[0m \u001b[0mwhere\u001b[0m\u001b[1;33m)\u001b[0m\u001b[1;33m\u001b[0m\u001b[1;33m\u001b[0m\u001b[0m\n\u001b[0m\u001b[0;32m     48\u001b[0m \u001b[1;33m\u001b[0m\u001b[0m\n\u001b[0;32m     49\u001b[0m def _prod(a, axis=None, dtype=None, out=None, keepdims=False,\n",
      "\u001b[1;31mTypeError\u001b[0m: No loop matching the specified signature and casting was found for ufunc add"
     ]
    },
    {
     "data": {
      "image/png": "[encoded data removed]",
      "text/plain": [
       "<Figure size 432x288 with 1 Axes>"
      ]
     },
     "metadata": {
      "needs_background": "light"
     },
     "output_type": "display_data"
    }
   ],
   "source": [
    "#sns.kdeplot(x = 'erace', y= 'tdebt_ast', data = df);"
   ]
  },
  {
   "cell_type": "code",
   "execution_count": 107,
   "id": "3a9d3747",
   "metadata": {},
   "outputs": [
    {
     "data": {
      "text/html": [
       "<div>\n",
       "<style scoped>\n",
       "    .dataframe tbody tr th:only-of-type {\n",
       "        vertical-align: middle;\n",
       "    }\n",
       "\n",
       "    .dataframe tbody tr th {\n",
       "        vertical-align: top;\n",
       "    }\n",
       "\n",
       "    .dataframe thead th {\n",
       "        text-align: right;\n",
       "    }\n",
       "</style>\n",
       "<table border=\"1\" class=\"dataframe\">\n",
       "  <thead>\n",
       "    <tr style=\"text-align: right;\">\n",
       "      <th></th>\n",
       "      <th>erace</th>\n",
       "      <th>tdebt_ast</th>\n",
       "      <th>eown_thr401</th>\n",
       "      <th>eown_st</th>\n",
       "      <th>eeduc</th>\n",
       "    </tr>\n",
       "  </thead>\n",
       "  <tbody>\n",
       "    <tr>\n",
       "      <th>erace</th>\n",
       "      <td>1.000000</td>\n",
       "      <td>-0.008511</td>\n",
       "      <td>0.036794</td>\n",
       "      <td>0.061731</td>\n",
       "      <td>0.002867</td>\n",
       "    </tr>\n",
       "    <tr>\n",
       "      <th>tdebt_ast</th>\n",
       "      <td>-0.008511</td>\n",
       "      <td>1.000000</td>\n",
       "      <td>-0.108608</td>\n",
       "      <td>-0.091770</td>\n",
       "      <td>0.129247</td>\n",
       "    </tr>\n",
       "    <tr>\n",
       "      <th>eown_thr401</th>\n",
       "      <td>0.036794</td>\n",
       "      <td>-0.108608</td>\n",
       "      <td>1.000000</td>\n",
       "      <td>0.163061</td>\n",
       "      <td>-0.311507</td>\n",
       "    </tr>\n",
       "    <tr>\n",
       "      <th>eown_st</th>\n",
       "      <td>0.061731</td>\n",
       "      <td>-0.091770</td>\n",
       "      <td>0.163061</td>\n",
       "      <td>1.000000</td>\n",
       "      <td>-0.229056</td>\n",
       "    </tr>\n",
       "    <tr>\n",
       "      <th>eeduc</th>\n",
       "      <td>0.002867</td>\n",
       "      <td>0.129247</td>\n",
       "      <td>-0.311507</td>\n",
       "      <td>-0.229056</td>\n",
       "      <td>1.000000</td>\n",
       "    </tr>\n",
       "  </tbody>\n",
       "</table>\n",
       "</div>"
      ],
      "text/plain": [
       "                erace  tdebt_ast  eown_thr401   eown_st     eeduc\n",
       "erace        1.000000  -0.008511     0.036794  0.061731  0.002867\n",
       "tdebt_ast   -0.008511   1.000000    -0.108608 -0.091770  0.129247\n",
       "eown_thr401  0.036794  -0.108608     1.000000  0.163061 -0.311507\n",
       "eown_st      0.061731  -0.091770     0.163061  1.000000 -0.229056\n",
       "eeduc        0.002867   0.129247    -0.311507 -0.229056  1.000000"
      ]
     },
     "execution_count": 107,
     "metadata": {},
     "output_type": "execute_result"
    }
   ],
   "source": [
    "df[['erace', 'tdebt_ast', 'eown_thr401', 'eown_st', 'eeduc']].corr()"
   ]
  },
  {
   "cell_type": "code",
   "execution_count": 106,
   "id": "a1e6c5e4",
   "metadata": {},
   "outputs": [
    {
     "data": {
      "image/png": "[encoded data removed]",
      "text/plain": [
       "<Figure size 432x288 with 2 Axes>"
      ]
     },
     "metadata": {
      "needs_background": "light"
     },
     "output_type": "display_data"
    }
   ],
   "source": [
    "sns.heatmap(df[['erace', 'tdebt_ast', 'eown_thr401', 'eown_st', 'eeduc']].corr(), vmax = 0.3, center = 0, cmap = cmap,\n",
    "           square = True, linewidths = 0.5, cbar_kws = {\"shrink\": 0.5});"
   ]
  }
 ],
 "metadata": {
  "kernelspec": {
   "display_name": "Python 3",
   "language": "python",
   "name": "python3"
  },
  "language_info": {
   "codemirror_mode": {
    "name": "ipython",
    "version": 3
   },
   "file_extension": ".py",
   "mimetype": "text/x-python",
   "name": "python",
   "nbconvert_exporter": "python",
   "pygments_lexer": "ipython3",
   "version": "3.8.8"
  }
 },
 "nbformat": 4,
 "nbformat_minor": 5
}

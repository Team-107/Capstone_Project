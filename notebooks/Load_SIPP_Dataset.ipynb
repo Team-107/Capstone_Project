{
 "cells": [
  {
   "cell_type": "code",
   "execution_count": 1,
   "id": "dental-stupid",
   "metadata": {},
   "outputs": [],
   "source": [
    "import time\n",
    "import numpy as np\n",
    "import pandas as pd"
   ]
  },
  {
   "cell_type": "markdown",
   "id": "moving-suspension",
   "metadata": {},
   "source": [
    "#### Load Feature Schema from json"
   ]
  },
  {
   "cell_type": "code",
   "execution_count": 6,
   "id": "green-floor",
   "metadata": {},
   "outputs": [],
   "source": [
    "rd_schema = pd.read_json('../data/raw/sipp_2018/pu2018_schema.json')\n",
    "rd_schema['dtype'] = (['Int64' if x == 'integer'\n",
    "                       else 'object' if x == 'string'\n",
    "                       else 'Float64' if x == 'float'\n",
    "                       else 'ERROR'\n",
    "                       for x in rd_schema['dtype']]\n",
    "                     )"
   ]
  },
  {
   "cell_type": "markdown",
   "id": "nonprofit-necessity",
   "metadata": {},
   "source": [
    "#### Choose Features for Import"
   ]
  },
  {
   "cell_type": "code",
   "execution_count": 5,
   "id": "norman-doctrine",
   "metadata": {},
   "outputs": [
    {
     "name": "stdout",
     "output_type": "stream",
     "text": [
      "You are importing 28 columns\n"
     ]
    }
   ],
   "source": [
    "# This cell is for seleting which of the ~5,000 features to import\n",
    "\n",
    "# Initialize lists with column names to read from csv into df\n",
    "\n",
    "# Set of Standard columns suggested by SIPP documentation\n",
    "std_cols = [#Common case-identification variables\n",
    "    'SSUID','PNUM','MONTHCODE','ERESIDENCEID','ERELRPE','SPANEL','SWAVE',\n",
    "    #The base weight and monthly in-survey-universe indicator\n",
    "    'WPFINWGT','RIN_UNIV',\n",
    "    #Additional variables for analysis\n",
    "    'TPTOTINC','RTANF_MNYN']\n",
    "\n",
    "# Set of Demographics columns\n",
    "demo_cols = ['ESEX', 'TAGE', 'TRACE',          # sex, age @interview, detailed race\n",
    "             'EORIGIN', 'TLANG1', 'EHOWWELL',  # hispanic origin, lang spoken @home, how well eng spoken\n",
    "             'EBORNUS', 'ECITIZEN', 'ESPEAK',  # US born, US citizen, lang other than eng at home\n",
    "             'RFAMKIND', 'EMS', 'EEDUC',       # family type, marital status, highest school/degree completed\n",
    "             'RLNGISOL', 'TLIVQTR', 'ETENURE'  # ltd eng household, type livng qtr, own/rent/other livng qtr\n",
    "            ]\n",
    "\n",
    "# Set of Stock and 401k ownership columns\n",
    "st_own_cols = ['EOWN_ST', 'EOWN_THR401']       # own stocks, own 401k/tax-sheltered investment\n",
    "\n",
    "# Concatenate columns to import\n",
    "use_cols = std_cols + demo_cols + st_own_cols\n",
    "\n",
    "print(f'You are importing {len(use_cols)} columns')"
   ]
  },
  {
   "cell_type": "markdown",
   "id": "absent-buying",
   "metadata": {},
   "source": [
    "#### Load Dataset to df"
   ]
  },
  {
   "cell_type": "code",
   "execution_count": 4,
   "id": "electric-columbus",
   "metadata": {},
   "outputs": [
    {
     "name": "stdout",
     "output_type": "stream",
     "text": [
      "Read with Pandas: 99.26237273216248 seconds\n"
     ]
    }
   ],
   "source": [
    "# Load dataset. This works on my computer (takes about 99 secs to load 26 columns).\n",
    "start = time.time()\n",
    "df = pd.read_csv(\"../data/raw/sipp_2018/pu2018.csv\",\n",
    "                      names=rd_schema['name'],\n",
    "                      dtype=dict([(i,v) for i,v in zip(rd_schema.name, rd_schema.dtype)]),\n",
    "                      sep='|',\n",
    "                      header=0,\n",
    "                      usecols=use_cols,\n",
    "                     )\n",
    "end = time.time()\n",
    "print(f'Read with Pandas: {end - start} seconds')"
   ]
  },
  {
   "cell_type": "markdown",
   "id": "unique-grant",
   "metadata": {},
   "source": [
    "#### Reformat df Column Names"
   ]
  },
  {
   "cell_type": "code",
   "execution_count": 5,
   "id": "placed-montana",
   "metadata": {},
   "outputs": [
    {
     "data": {
      "text/html": [
       "<div>\n",
       "<style scoped>\n",
       "    .dataframe tbody tr th:only-of-type {\n",
       "        vertical-align: middle;\n",
       "    }\n",
       "\n",
       "    .dataframe tbody tr th {\n",
       "        vertical-align: top;\n",
       "    }\n",
       "\n",
       "    .dataframe thead th {\n",
       "        text-align: right;\n",
       "    }\n",
       "</style>\n",
       "<table border=\"1\" class=\"dataframe\">\n",
       "  <thead>\n",
       "    <tr style=\"text-align: right;\">\n",
       "      <th></th>\n",
       "      <th>ssuid</th>\n",
       "      <th>spanel</th>\n",
       "      <th>swave</th>\n",
       "      <th>pnum</th>\n",
       "      <th>ems</th>\n",
       "      <th>erelrpe</th>\n",
       "      <th>esex</th>\n",
       "      <th>eorigin</th>\n",
       "      <th>erace</th>\n",
       "      <th>eeduc</th>\n",
       "      <th>...</th>\n",
       "      <th>wpfinwgt</th>\n",
       "      <th>eresidenceid</th>\n",
       "      <th>rfamkind</th>\n",
       "      <th>rtanf_mnyn</th>\n",
       "      <th>rin_univ</th>\n",
       "      <th>tlang1</th>\n",
       "      <th>trace</th>\n",
       "      <th>tage</th>\n",
       "      <th>tage_ehc</th>\n",
       "      <th>tptotinc</th>\n",
       "    </tr>\n",
       "  </thead>\n",
       "  <tbody>\n",
       "    <tr>\n",
       "      <th>0</th>\n",
       "      <td>00011413607018</td>\n",
       "      <td>2018</td>\n",
       "      <td>1</td>\n",
       "      <td>101</td>\n",
       "      <td>6</td>\n",
       "      <td>2</td>\n",
       "      <td>1</td>\n",
       "      <td>1</td>\n",
       "      <td>1</td>\n",
       "      <td>38</td>\n",
       "      <td>...</td>\n",
       "      <td>5971.747954</td>\n",
       "      <td>100002</td>\n",
       "      <td>&lt;NA&gt;</td>\n",
       "      <td>2</td>\n",
       "      <td>1</td>\n",
       "      <td>&lt;NA&gt;</td>\n",
       "      <td>1</td>\n",
       "      <td>33</td>\n",
       "      <td>32</td>\n",
       "      <td>1738</td>\n",
       "    </tr>\n",
       "    <tr>\n",
       "      <th>1</th>\n",
       "      <td>00011413607018</td>\n",
       "      <td>2018</td>\n",
       "      <td>1</td>\n",
       "      <td>101</td>\n",
       "      <td>6</td>\n",
       "      <td>2</td>\n",
       "      <td>1</td>\n",
       "      <td>1</td>\n",
       "      <td>1</td>\n",
       "      <td>38</td>\n",
       "      <td>...</td>\n",
       "      <td>5896.534769</td>\n",
       "      <td>100002</td>\n",
       "      <td>&lt;NA&gt;</td>\n",
       "      <td>2</td>\n",
       "      <td>1</td>\n",
       "      <td>&lt;NA&gt;</td>\n",
       "      <td>1</td>\n",
       "      <td>33</td>\n",
       "      <td>32</td>\n",
       "      <td>1738</td>\n",
       "    </tr>\n",
       "    <tr>\n",
       "      <th>2</th>\n",
       "      <td>00011413607018</td>\n",
       "      <td>2018</td>\n",
       "      <td>1</td>\n",
       "      <td>101</td>\n",
       "      <td>6</td>\n",
       "      <td>2</td>\n",
       "      <td>1</td>\n",
       "      <td>1</td>\n",
       "      <td>1</td>\n",
       "      <td>38</td>\n",
       "      <td>...</td>\n",
       "      <td>5845.211127</td>\n",
       "      <td>100002</td>\n",
       "      <td>&lt;NA&gt;</td>\n",
       "      <td>2</td>\n",
       "      <td>1</td>\n",
       "      <td>&lt;NA&gt;</td>\n",
       "      <td>1</td>\n",
       "      <td>33</td>\n",
       "      <td>32</td>\n",
       "      <td>1738</td>\n",
       "    </tr>\n",
       "    <tr>\n",
       "      <th>3</th>\n",
       "      <td>00011413607018</td>\n",
       "      <td>2018</td>\n",
       "      <td>1</td>\n",
       "      <td>101</td>\n",
       "      <td>6</td>\n",
       "      <td>2</td>\n",
       "      <td>1</td>\n",
       "      <td>1</td>\n",
       "      <td>1</td>\n",
       "      <td>38</td>\n",
       "      <td>...</td>\n",
       "      <td>5794.719891</td>\n",
       "      <td>100002</td>\n",
       "      <td>&lt;NA&gt;</td>\n",
       "      <td>2</td>\n",
       "      <td>1</td>\n",
       "      <td>&lt;NA&gt;</td>\n",
       "      <td>1</td>\n",
       "      <td>33</td>\n",
       "      <td>32</td>\n",
       "      <td>1738</td>\n",
       "    </tr>\n",
       "    <tr>\n",
       "      <th>4</th>\n",
       "      <td>00011413607018</td>\n",
       "      <td>2018</td>\n",
       "      <td>1</td>\n",
       "      <td>101</td>\n",
       "      <td>6</td>\n",
       "      <td>2</td>\n",
       "      <td>1</td>\n",
       "      <td>1</td>\n",
       "      <td>1</td>\n",
       "      <td>38</td>\n",
       "      <td>...</td>\n",
       "      <td>5790.817291</td>\n",
       "      <td>100002</td>\n",
       "      <td>&lt;NA&gt;</td>\n",
       "      <td>2</td>\n",
       "      <td>1</td>\n",
       "      <td>&lt;NA&gt;</td>\n",
       "      <td>1</td>\n",
       "      <td>33</td>\n",
       "      <td>32</td>\n",
       "      <td>1738</td>\n",
       "    </tr>\n",
       "  </tbody>\n",
       "</table>\n",
       "<p>5 rows × 28 columns</p>\n",
       "</div>"
      ],
      "text/plain": [
       "            ssuid  spanel  swave  pnum  ems  erelrpe  esex  eorigin  erace  \\\n",
       "0  00011413607018    2018      1   101    6        2     1        1      1   \n",
       "1  00011413607018    2018      1   101    6        2     1        1      1   \n",
       "2  00011413607018    2018      1   101    6        2     1        1      1   \n",
       "3  00011413607018    2018      1   101    6        2     1        1      1   \n",
       "4  00011413607018    2018      1   101    6        2     1        1      1   \n",
       "\n",
       "   eeduc  ...     wpfinwgt  eresidenceid  rfamkind  rtanf_mnyn  rin_univ  \\\n",
       "0     38  ...  5971.747954        100002      <NA>           2         1   \n",
       "1     38  ...  5896.534769        100002      <NA>           2         1   \n",
       "2     38  ...  5845.211127        100002      <NA>           2         1   \n",
       "3     38  ...  5794.719891        100002      <NA>           2         1   \n",
       "4     38  ...  5790.817291        100002      <NA>           2         1   \n",
       "\n",
       "   tlang1  trace  tage  tage_ehc tptotinc  \n",
       "0    <NA>      1    33        32     1738  \n",
       "1    <NA>      1    33        32     1738  \n",
       "2    <NA>      1    33        32     1738  \n",
       "3    <NA>      1    33        32     1738  \n",
       "4    <NA>      1    33        32     1738  \n",
       "\n",
       "[5 rows x 28 columns]"
      ]
     },
     "execution_count": 5,
     "metadata": {},
     "output_type": "execute_result"
    }
   ],
   "source": [
    "# Rename columns to Python friendly format and display df\n",
    "df.columns = [name.lower().replace(' ', '_') for name in df.columns]\n",
    "df.head()"
   ]
  },
  {
   "cell_type": "code",
   "execution_count": 8,
   "id": "settled-magic",
   "metadata": {},
   "outputs": [
    {
     "data": {
      "text/html": [
       "<div>\n",
       "<style scoped>\n",
       "    .dataframe tbody tr th:only-of-type {\n",
       "        vertical-align: middle;\n",
       "    }\n",
       "\n",
       "    .dataframe tbody tr th {\n",
       "        vertical-align: top;\n",
       "    }\n",
       "\n",
       "    .dataframe thead th {\n",
       "        text-align: right;\n",
       "    }\n",
       "</style>\n",
       "<table border=\"1\" class=\"dataframe\">\n",
       "  <thead>\n",
       "    <tr style=\"text-align: right;\">\n",
       "      <th></th>\n",
       "      <th>eown_st</th>\n",
       "    </tr>\n",
       "  </thead>\n",
       "  <tbody>\n",
       "    <tr>\n",
       "      <th>2</th>\n",
       "      <td>0.888283</td>\n",
       "    </tr>\n",
       "    <tr>\n",
       "      <th>1</th>\n",
       "      <td>0.111717</td>\n",
       "    </tr>\n",
       "  </tbody>\n",
       "</table>\n",
       "</div>"
      ],
      "text/plain": [
       "    eown_st\n",
       "2  0.888283\n",
       "1  0.111717"
      ]
     },
     "execution_count": 8,
     "metadata": {},
     "output_type": "execute_result"
    }
   ],
   "source": [
    "(df\n",
    " .drop_duplicates()\n",
    " .eown_st\n",
    " .value_counts(normalize=True)\n",
    " .to_frame()\n",
    ")"
   ]
  },
  {
   "cell_type": "code",
   "execution_count": null,
   "id": "rubber-luxury",
   "metadata": {},
   "outputs": [],
   "source": [
    "df.describe()"
   ]
  }
 ],
 "metadata": {
  "kernelspec": {
   "display_name": "Team 107 Capstone Project",
   "language": "python",
   "name": "team_107_venv"
  },
  "language_info": {
   "codemirror_mode": {
    "name": "ipython",
    "version": 3
   },
   "file_extension": ".py",
   "mimetype": "text/x-python",
   "name": "python",
   "nbconvert_exporter": "python",
   "pygments_lexer": "ipython3",
   "version": "3.9.2"
  }
 },
 "nbformat": 4,
 "nbformat_minor": 5
}

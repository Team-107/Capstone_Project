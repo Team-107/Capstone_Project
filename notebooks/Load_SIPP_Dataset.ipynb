{
 "cells": [
  {
   "cell_type": "code",
   "execution_count": null,
   "id": "endless-latitude",
   "metadata": {},
   "outputs": [],
   "source": [
    "import time\n",
    "import numpy as np\n",
    "import pandas as pd"
   ]
  },
  {
   "cell_type": "code",
   "execution_count": null,
   "id": "transsexual-ribbon",
   "metadata": {},
   "outputs": [],
   "source": [
    "rd_schema = pd.read_json('../data/raw/pu2018_schema.json')"
   ]
  },
  {
   "cell_type": "code",
   "execution_count": null,
   "id": "amended-concrete",
   "metadata": {},
   "outputs": [],
   "source": [
    "rd_schema.dtype.value_counts()"
   ]
  },
  {
   "cell_type": "code",
   "execution_count": null,
   "id": "multiple-sequence",
   "metadata": {},
   "outputs": [],
   "source": [
    "rd_schema['dtype'] = (['Int64' if x == 'integer'\n",
    "                       else 'object' if x == 'string'\n",
    "                       else 'Float64' if x == 'float'\n",
    "                       else 'ERROR'\n",
    "                       for x in rd_schema['dtype']]\n",
    "                     )"
   ]
  },
  {
   "cell_type": "code",
   "execution_count": null,
   "id": "continental-billy",
   "metadata": {},
   "outputs": [],
   "source": [
    "rd_schema.dtype.value_counts()"
   ]
  },
  {
   "cell_type": "code",
   "execution_count": null,
   "id": "dated-hormone",
   "metadata": {},
   "outputs": [],
   "source": [
    "# Standard columns suggested by SIPP documentation\n",
    "base_cols = [#Common case-identification variables\n",
    "    'SSUID','PNUM','MONTHCODE','ERESIDENCEID','ERELRPE','SPANEL','SWAVE',\n",
    "    #The base weight and monthly in-survey-universe indicator\n",
    "    'WPFINWGT','RIN_UNIV',\n",
    "    #Common demographics variables, including age at time of interview (TAGE)\n",
    "    #and monthly age during the reference period (TAGE_EHC)\n",
    "    'ESEX','TAGE','TAGE_EHC','ERACE','EORIGIN','EEDUC',\n",
    "    #Additional variables for analysis\n",
    "    'TPTOTINC','RTANF_MNYN']\n",
    "\n",
    "# Stock and 401k ownership columns\n",
    "st_own_cols = ['EOWN_ST', 'EOWN_THR401']\n",
    "\n",
    "# Combine columns to import\n",
    "use_cols = base_cols + st_own_cols\n"
   ]
  },
  {
   "cell_type": "code",
   "execution_count": null,
   "id": "magnetic-specific",
   "metadata": {},
   "outputs": [],
   "source": [
    "# Load dataset using Pandas. This works on my computer - takes about 66 seconds to read.\n",
    "start = time.time()\n",
    "df = pd.read_csv(\"../data/raw/pu2018.csv\",\n",
    "                      names=rd_schema['name'],\n",
    "                      dtype=dict([(i,v) for i,v in zip(rd_schema.name, rd_schema.dtype)]),\n",
    "                      sep='|',\n",
    "                      header=0,\n",
    "                      usecols=use_cols,\n",
    "                     )\n",
    "end = time.time()\n",
    "print(f'Read with Pandas: {end - start} seconds')"
   ]
  },
  {
   "cell_type": "code",
   "execution_count": null,
   "id": "possible-wallet",
   "metadata": {},
   "outputs": [],
   "source": [
    "# Python friendly column name formatting\n",
    "df.columns = [name.lower().replace(' ', '_') for name in df.columns]\n",
    "df.head()"
   ]
  },
  {
   "cell_type": "code",
   "execution_count": null,
   "id": "pleasant-charter",
   "metadata": {},
   "outputs": [],
   "source": [
    "(df\n",
    " .groupby(['monthcode'])\n",
    " .eown_st\n",
    " .value_counts(normalize=True)\n",
    " .to_frame()\n",
    ")"
   ]
  },
  {
   "cell_type": "code",
   "execution_count": null,
   "id": "pleased-dining",
   "metadata": {},
   "outputs": [],
   "source": [
    "df.describe()"
   ]
  },
  {
   "cell_type": "code",
   "execution_count": null,
   "id": "second-tragedy",
   "metadata": {},
   "outputs": [],
   "source": [
    "# Read and combine SIPP Data Dictionaries and format columns names to python friendly format\n",
    "sipp_dict_1 = pd.read_csv('../data/raw/sippdict_1_of_2.csv')\n",
    "sipp_dict_2 = pd.read_csv('../data/raw/sippdict_2_of_2.csv')\n",
    "sipp_dict = pd.concat([sipp_dict_1, sipp_dict_2])\n",
    "sipp_dict.columns = [name.lower().replace(' ', '_') for name in SIPP_dict.columns]\n",
    "sipp_dict.head()"
   ]
  }
 ],
 "metadata": {
  "kernelspec": {
   "display_name": "Team 107 Capstone Project",
   "language": "python",
   "name": "team_107_venv"
  },
  "language_info": {
   "codemirror_mode": {
    "name": "ipython",
    "version": 3
   },
   "file_extension": ".py",
   "mimetype": "text/x-python",
   "name": "python",
   "nbconvert_exporter": "python",
   "pygments_lexer": "ipython3",
   "version": "3.9.2"
  }
 },
 "nbformat": 4,
 "nbformat_minor": 5
}

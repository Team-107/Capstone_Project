{
 "cells": [
  {
   "cell_type": "code",
   "execution_count": 2,
   "id": "accompanied-colombia",
   "metadata": {
    "tags": []
   },
   "outputs": [],
   "source": [
    "import time\n",
    "import numpy as np\n",
    "import pandas as pd"
   ]
  },
  {
   "cell_type": "markdown",
   "id": "victorian-kernel",
   "metadata": {
    "tags": []
   },
   "source": [
    "### Define Functions for Creating Recoded DF's"
   ]
  },
  {
   "cell_type": "code",
   "execution_count": 4,
   "id": "alien-rhythm",
   "metadata": {
    "tags": []
   },
   "outputs": [],
   "source": [
    "def load_response_code_dict():\n",
    "    import json\n",
    "    with open('../data/interim/response_code_dict.json') as jf:\n",
    "        response_code_dict = json.load(jf)\n",
    "    return response_code_dict\n",
    "\n",
    "def recode_df(df):\n",
    "    df2 = df.copy()\n",
    "    rcode_dict = load_response_code_dict()\n",
    "    for col in df2.columns:\n",
    "        if col in rcode_dict:\n",
    "            df2[col] = (df2[col]\n",
    "                        .astype(str)\n",
    "                        .map(rcode_dict.get(col), na_action='ignore')\n",
    "                        .fillna(df2[col])\n",
    "                        .astype('category')\n",
    "                       )\n",
    "    if 'eorigin' in df2.columns:\n",
    "        df2['eorigin'] = df2['eorigin'].map({'Yes':'Hispanic', 'No':'Not Hispanic'})\n",
    "                        \n",
    "                      \n",
    "    return df2"
   ]
  },
  {
   "cell_type": "markdown",
   "id": "accompanied-cooking",
   "metadata": {
    "tags": []
   },
   "source": [
    "### Load DF"
   ]
  },
  {
   "cell_type": "code",
   "execution_count": 3,
   "id": "analyzed-landing",
   "metadata": {
    "tags": []
   },
   "outputs": [],
   "source": [
    "sipp2018_person = pd.read_csv('../data/interim/sipp2018_person/sipp2018_person.csv')\n",
    "sipp2018_person.columns = [name.lower().replace(' ', '_') for name in sipp2018_person.columns]"
   ]
  },
  {
   "cell_type": "code",
   "execution_count": 10,
   "id": "normal-highlight",
   "metadata": {},
   "outputs": [
    {
     "data": {
      "text/plain": [
       "ssuid          int64\n",
       "pnum           int64\n",
       "exmar       category\n",
       "everwid     category\n",
       "everdiv     category\n",
       "              ...   \n",
       "erentsub    category\n",
       "evoucher    category\n",
       "tlivqtr     category\n",
       "tage           int64\n",
       "wpfinwgt     float64\n",
       "Length: 2127, dtype: object"
      ]
     },
     "execution_count": 10,
     "metadata": {},
     "output_type": "execute_result"
    }
   ],
   "source": [
    "recoded_df = recode_df(sipp2018_person)\n",
    "recoded_df.dtypes"
   ]
  },
  {
   "cell_type": "code",
   "execution_count": 12,
   "id": "interracial-offer",
   "metadata": {},
   "outputs": [
    {
     "data": {
      "text/plain": [
       "(49704, 2127)"
      ]
     },
     "execution_count": 12,
     "metadata": {},
     "output_type": "execute_result"
    }
   ],
   "source": [
    "recoded_df.shape"
   ]
  },
  {
   "cell_type": "markdown",
   "id": "loving-raising",
   "metadata": {
    "tags": []
   },
   "source": [
    "### Load & select_dtypes"
   ]
  },
  {
   "cell_type": "code",
   "execution_count": 7,
   "id": "medical-police",
   "metadata": {
    "tags": []
   },
   "outputs": [
    {
     "name": "stdout",
     "output_type": "stream",
     "text": [
      "Read with Pandas: 116.20518016815186 seconds.\n",
      "Imported dataframe has 763186 rows and 46 columns/s.\n"
     ]
    }
   ],
   "source": [
    "# Load dataset. This works on my computer (takes about 99 secs to load 26 columns).\n",
    "start = time.time()\n",
    "sipp_2018 = pd.read_csv(\"../data/raw/sipp_2018/pu2018.csv\",\n",
    "                      names=rd_schema['name'],\n",
    "                      dtype=dict([(i,v) for i,v in zip(rd_schema.name, rd_schema.dtype)]),\n",
    "                      sep='|',\n",
    "                      header=0,\n",
    "                      usecols=use_cols,\n",
    "                     )\n",
    "end = time.time()\n",
    "print(f'Read with Pandas: {end - start} seconds.')\n",
    "print(f'Imported dataframe has {sipp_2018.shape[0]} rows and {sipp_2018.shape[1]} columns/s.')\n",
    "\n",
    "# Set df column order & reformat column names\n",
    "sipp_2018 = sipp_2018[use_cols]\n",
    "sipp_2018.columns = [name.lower().replace(' ', '_') for name in sipp_2018.columns]"
   ]
  },
  {
   "cell_type": "markdown",
   "id": "athletic-scroll",
   "metadata": {},
   "source": [
    "### Collapse Observations to the Person Level\n",
    "* Keep all respondent observations in your sample universe\n",
    "    * Determine whether you need 1 obs per person or all 12\n",
    "* Keep only 18 and over and month 12"
   ]
  },
  {
   "cell_type": "code",
   "execution_count": 8,
   "id": "original-baking",
   "metadata": {
    "tags": []
   },
   "outputs": [
    {
     "name": "stdout",
     "output_type": "stream",
     "text": [
      "There are 49704 people in the sample.\n"
     ]
    }
   ],
   "source": [
    "# Create person level dataset\n",
    "sipp_2018_person = (sipp_2018\n",
    "                    .sort_values(by=['ssuid', 'pnum', 'monthcode'], \n",
    "                                 ascending=[True, True, False])\n",
    "                    .drop_duplicates(['ssuid', 'pnum'])\n",
    "                    .query('rin_univ > 0 and tage >= 18')\n",
    "                    .drop(['monthcode', 'rin_univ'], axis='columns')\n",
    "                   )\n",
    "\n",
    "print(f'There are {sipp_2018_person.shape[0]} people in the sample.')"
   ]
  },
  {
   "cell_type": "markdown",
   "id": "stuck-circus",
   "metadata": {},
   "source": [
    "### Collapse Observations to the Family Level\n",
    "* Keep 1 observation per family\n",
    "* *rfamref*: pnum of family reference person\n",
    "* *rfamkind*: kind of family\n",
    "* *rfamnum*: family number\n",
    "\n",
    "**Family**: a set of people related by blood, marriage, or adoption.<br/>\n",
    "**Reference person**: the owner of renter of the housing unit (the first, if more than one)\n",
    "\n",
    "Household and family variables are recorded in each sample member's observation."
   ]
  },
  {
   "cell_type": "code",
   "execution_count": 9,
   "id": "supported-knock",
   "metadata": {},
   "outputs": [
    {
     "name": "stdout",
     "output_type": "stream",
     "text": [
      "There are 29689 families in the sample.\n"
     ]
    }
   ],
   "source": [
    "'''\n",
    "Multi-condition query instead of drop_duplicates because different persons may be the family ref person \n",
    "on different months. Take the person who is the family ref person for the final month of reference period.\n",
    "'''\n",
    "\n",
    "sipp_2018_family = (sipp_2018\n",
    "                    .sort_values(by=['ssuid', 'eresidenceid', 'rfamnum', 'rfamref', 'monthcode'], \n",
    "                                 ascending=[True, True, True, True, False])\n",
    "                    .query('pnum == rfamref and monthcode == 12')\n",
    "                    .drop(['monthcode', 'rfamref', 'rin_univ'], axis='columns')\n",
    "                   )\n",
    "\n",
    "sipp_2018_family_recode = recode_df(sipp_2018_family)\n",
    "\n",
    "print(f'There are {sipp_2018_family.shape[0]} families in the sample.')"
   ]
  },
  {
   "cell_type": "markdown",
   "id": "promising-horizontal",
   "metadata": {},
   "source": [
    "### Collapse Observations to the Household Level\n",
    "+ Keep 1 observation per household\n",
    "+ Household heads are the 'owner or renter of note\n",
    "    + User *erelrpe* in (1,2)\n",
    "+ Can identify unique households with sample unit identifier (*ssuid*) + the household residence ID (*eresidenceid*)\n",
    "\n",
    "**Household**: a set of people living together<br/>\n",
    "**Reference person**: the owner of renter of the housing unit (the first, if more than one)\n",
    "\n",
    "Household and family variables are recorded in each sample member's observation."
   ]
  },
  {
   "cell_type": "code",
   "execution_count": 10,
   "id": "incredible-oklahoma",
   "metadata": {},
   "outputs": [
    {
     "name": "stdout",
     "output_type": "stream",
     "text": [
      "There are 26566 households in the sample.\n"
     ]
    }
   ],
   "source": [
    "sipp_2018_household = (sipp_2018\n",
    "                       .sort_values(by=['ssuid', 'eresidenceid', 'erelrpe', 'monthcode'], ascending=[True, True, True, False])\n",
    "                       .drop_duplicates(['ssuid', 'eresidenceid'])\n",
    "                       .query('monthcode == 12 and rin_univ > 0')\n",
    "                       #.drop(['pnum', 'monthcode', 'rfamref', 'rfamnum', 'erelrpe'], axis='columns')\n",
    "                      )\n",
    "\n",
    "sipp_2018_household_recode = recode_df(sipp_2018_household)\n",
    "\n",
    "print(f'There are {sipp_2018_household.shape[0]} households in the sample.')"
   ]
  },
  {
   "cell_type": "markdown",
   "id": "collect-payment",
   "metadata": {
    "tags": []
   },
   "source": [
    "### Weights *(wpfinwft)*\n",
    "+ Weights provided at the person level\n",
    "\n",
    "#### Can create family/household weights by using:\n",
    "+ Person weight of family reference person\n",
    "    + *wpfinwgt* where *rfamref* = *pnum*\n",
    "+ Person weight of householder\n",
    "    + *wpfinwgt* where *erelrpe* in (1,2)\n",
    "+ Average person weights of family/household members\n",
    "\n",
    "#### And at multiple timeframes\n",
    "+ Monthly\n",
    "+ Calendar year (use the December monthly weight)\n",
    "+ Panel (*finpnl14* variable; waves 2+ only)"
   ]
  },
  {
   "cell_type": "markdown",
   "id": "racial-packaging",
   "metadata": {},
   "source": [
    "### Descriptive Statistics: *Adult Person Level*"
   ]
  },
  {
   "cell_type": "code",
   "execution_count": 11,
   "id": "excited-nomination",
   "metadata": {
    "tags": []
   },
   "outputs": [],
   "source": [
    "def cat_summary(df, feature):\n",
    "    '''\n",
    "    This function displays a frequency table, relative freq table, and bar chart for the chosen feature.\n",
    "    inputs: \n",
    "    df - enter df variable name\n",
    "    feature - enter feature name as string\n",
    "    outputs:\n",
    "    None\n",
    "    All display items\n",
    "    '''\n",
    "    \n",
    "    display(df\n",
    "            [feature]\n",
    "            .value_counts()\n",
    "            .to_frame()\n",
    "            .sort_index()\n",
    "           )\n",
    "\n",
    "    display(df\n",
    "            [feature]\n",
    "            .value_counts(normalize=True, dropna=False)\n",
    "            .mul(100)\n",
    "            .round(1)\n",
    "            .to_frame()\n",
    "            .sort_index()\n",
    "           )\n",
    "\n",
    "    (df\n",
    "     [feature]\n",
    "     .value_counts()\n",
    "     .to_frame()\n",
    "     .sort_index()\n",
    "     .plot.bar(legend=False)\n",
    "    );"
   ]
  },
  {
   "cell_type": "markdown",
   "id": "empirical-occupation",
   "metadata": {},
   "source": [
    "#### Individual Recodes"
   ]
  },
  {
   "cell_type": "code",
   "execution_count": 12,
   "id": "defensive-afghanistan",
   "metadata": {},
   "outputs": [
    {
     "ename": "NameError",
     "evalue": "name 'sipp_2018_person_recode' is not defined",
     "output_type": "error",
     "traceback": [
      "\u001b[0;31m---------------------------------------------------------------------------\u001b[0m",
      "\u001b[0;31mNameError\u001b[0m                                 Traceback (most recent call last)",
      "\u001b[0;32m<ipython-input-12-c7d3b2690829>\u001b[0m in \u001b[0;36m<module>\u001b[0;34m\u001b[0m\n\u001b[0;32m----> 1\u001b[0;31m sipp_2018_person_recode['tage_bin'] = pd.cut(sipp_2018_person_recode.tage, \n\u001b[0m\u001b[1;32m      2\u001b[0m                                              \u001b[0mbins\u001b[0m\u001b[0;34m=\u001b[0m\u001b[0;34m[\u001b[0m\u001b[0;36m18\u001b[0m\u001b[0;34m,\u001b[0m \u001b[0;36m20\u001b[0m\u001b[0;34m,\u001b[0m \u001b[0;36m30\u001b[0m\u001b[0;34m,\u001b[0m \u001b[0;36m40\u001b[0m\u001b[0;34m,\u001b[0m \u001b[0;36m50\u001b[0m\u001b[0;34m,\u001b[0m \u001b[0;36m60\u001b[0m\u001b[0;34m,\u001b[0m \u001b[0;36m70\u001b[0m\u001b[0;34m,\u001b[0m \u001b[0mnp\u001b[0m\u001b[0;34m.\u001b[0m\u001b[0minf\u001b[0m\u001b[0;34m]\u001b[0m\u001b[0;34m,\u001b[0m\u001b[0;34m\u001b[0m\u001b[0;34m\u001b[0m\u001b[0m\n\u001b[1;32m      3\u001b[0m                                              \u001b[0mlabels\u001b[0m\u001b[0;34m=\u001b[0m\u001b[0;34m[\u001b[0m\u001b[0;34m'< 20'\u001b[0m\u001b[0;34m,\u001b[0m \u001b[0;34m'20\\'s'\u001b[0m\u001b[0;34m,\u001b[0m \u001b[0;34m'30\\'s'\u001b[0m\u001b[0;34m,\u001b[0m \u001b[0;34m'40\\'s'\u001b[0m\u001b[0;34m,\u001b[0m \u001b[0;34m'50\\'s'\u001b[0m\u001b[0;34m,\u001b[0m \u001b[0;34m'60\\'s'\u001b[0m\u001b[0;34m,\u001b[0m \u001b[0;34m'70+'\u001b[0m\u001b[0;34m]\u001b[0m\u001b[0;34m,\u001b[0m\u001b[0;34m\u001b[0m\u001b[0;34m\u001b[0m\u001b[0m\n\u001b[1;32m      4\u001b[0m                                              \u001b[0minclude_lowest\u001b[0m\u001b[0;34m=\u001b[0m\u001b[0;32mTrue\u001b[0m\u001b[0;34m,\u001b[0m\u001b[0;34m\u001b[0m\u001b[0;34m\u001b[0m\u001b[0m\n\u001b[1;32m      5\u001b[0m                                             )\n",
      "\u001b[0;31mNameError\u001b[0m: name 'sipp_2018_person_recode' is not defined"
     ]
    }
   ],
   "source": [
    "sipp_2018_person_recode['tage_bin'] = pd.cut(sipp_2018_person_recode.tage, \n",
    "                                             bins=[18, 20, 30, 40, 50, 60, 70, np.inf],\n",
    "                                             labels=['< 20', '20\\'s', '30\\'s', '40\\'s', '50\\'s', '60\\'s', '70+'],                                                \n",
    "                                             include_lowest=True,\n",
    "                                            )\n",
    "\n",
    "eeduc_cats = {'12th grade, no diploma': 'No HS Degree',\n",
    "              '1 or more years of college, no degree (regular Jr.coll./coll./univ.)': 'Some College',\n",
    "              'High School Graduate (diploma or GED or equivalent)': 'HS Degree/GED',\n",
    "              '9th grade':'No HS Degree', '5th or 6th grade': 'No HS Degree', \n",
    "              '10th grade': 'No HS Degree', '7th or 8th grade': 'No HS Degree',\n",
    "              '1st, 2nd, 3rd or 4th grade': 'Some College',\n",
    "              \"Master's degree (for example: MA, MS, MBA, MSW)\": 'Master\\'s degree',\n",
    "              'Some college credit, but less than 1 year (regular Jr.coll./coll./univ.)': 'Some College',\n",
    "              '11th grade': 'Some College', \"Bachelor's degree (for example: BA, AB, BS)\": 'Bachelor\\'s degree',\n",
    "              \"Associate's degree (2-year college)\": 'Some College',  \n",
    "              'Doctorate degree (for example: Ph.D., Ed.D.)': 'Doctorate degree',\n",
    "              'Professional School degree (for example: MD (doctor), DDS (dentist), JD (lawyer))': 'Professional School degree',\n",
    "              'Less than 1st grade': 'No HS Degree'}\n",
    "\n",
    "sipp_2018_person_recode['eeduc_bin'] = sipp_2018_person_recode['eeduc'].map(eeduc_cats)"
   ]
  },
  {
   "cell_type": "code",
   "execution_count": null,
   "id": "recorded-teaching",
   "metadata": {},
   "outputs": [],
   "source": [
    "cat_summary(sipp_2018_person_recode, 'tage_bin')"
   ]
  },
  {
   "cell_type": "code",
   "execution_count": null,
   "id": "quiet-potential",
   "metadata": {},
   "outputs": [],
   "source": [
    "cat_summary(sipp_2018_person_recode, 'eorigin')"
   ]
  },
  {
   "cell_type": "code",
   "execution_count": null,
   "id": "unnecessary-answer",
   "metadata": {},
   "outputs": [],
   "source": [
    "cat_summary(sipp_2018_person_recode, 'eeduc_bin')"
   ]
  },
  {
   "cell_type": "code",
   "execution_count": null,
   "id": "appropriate-association",
   "metadata": {},
   "outputs": [],
   "source": []
  }
 ],
 "metadata": {
  "kernelspec": {
   "display_name": "Team 107 Capstone Project",
   "language": "python",
   "name": "team_107_venv"
  },
  "language_info": {
   "codemirror_mode": {
    "name": "ipython",
    "version": 3
   },
   "file_extension": ".py",
   "mimetype": "text/x-python",
   "name": "python",
   "nbconvert_exporter": "python",
   "pygments_lexer": "ipython3",
   "version": "3.9.2"
  }
 },
 "nbformat": 4,
 "nbformat_minor": 5
}

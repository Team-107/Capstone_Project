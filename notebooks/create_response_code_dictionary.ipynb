{
 "cells": [
  {
   "cell_type": "code",
   "execution_count": 1,
   "id": "dependent-person",
   "metadata": {},
   "outputs": [],
   "source": [
    "import pandas as pd, numpy as np, json"
   ]
  },
  {
   "cell_type": "markdown",
   "id": "brazilian-screen",
   "metadata": {},
   "source": [
    "#### Define code extraction function"
   ]
  },
  {
   "cell_type": "code",
   "execution_count": 2,
   "id": "banner-father",
   "metadata": {},
   "outputs": [],
   "source": [
    "def code_string_to_dict(string):\n",
    "    code_dict = {}\n",
    "    code_pairs = string.split('||')\n",
    "    for pair in code_pairs:\n",
    "        split_pair = pair.split('. ')\n",
    "        try:\n",
    "            code_dict.update({split_pair[0]:split_pair[-1]})\n",
    "        except:\n",
    "            continue\n",
    "\n",
    "    return code_dict"
   ]
  },
  {
   "cell_type": "markdown",
   "id": "incorporated-accountability",
   "metadata": {},
   "source": [
    "#### Load metadata csv's"
   ]
  },
  {
   "cell_type": "code",
   "execution_count": 3,
   "id": "changed-waters",
   "metadata": {},
   "outputs": [],
   "source": [
    "# load sipp feature metadata\n",
    "sipp_meta_1 = pd.read_csv('../data/raw/sipp_2018/sippdict_1_of_2.csv')\n",
    "sipp_meta_2 = pd.read_csv('../data/raw/sipp_2018/sippdict_2_of_2.csv')\n",
    "sipp_meta = pd.concat([sipp_meta_1, sipp_meta_2])\n",
    "sipp_meta.columns = [name.lower().replace(' ', '_') for name in sipp_meta.columns]"
   ]
  },
  {
   "cell_type": "markdown",
   "id": "unsigned-nicholas",
   "metadata": {},
   "source": [
    "#### Create Metadata DF and Assign Dictionary Column"
   ]
  },
  {
   "cell_type": "code",
   "execution_count": 13,
   "id": "animal-oliver",
   "metadata": {},
   "outputs": [
    {
     "data": {
      "text/html": [
       "<div>\n",
       "<style scoped>\n",
       "    .dataframe tbody tr th:only-of-type {\n",
       "        vertical-align: middle;\n",
       "    }\n",
       "\n",
       "    .dataframe tbody tr th {\n",
       "        vertical-align: top;\n",
       "    }\n",
       "\n",
       "    .dataframe thead th {\n",
       "        text-align: right;\n",
       "    }\n",
       "</style>\n",
       "<table border=\"1\" class=\"dataframe\">\n",
       "  <thead>\n",
       "    <tr style=\"text-align: right;\">\n",
       "      <th></th>\n",
       "      <th>variable</th>\n",
       "      <th>response_code</th>\n",
       "      <th>response_code_dict</th>\n",
       "    </tr>\n",
       "  </thead>\n",
       "  <tbody>\n",
       "    <tr>\n",
       "      <th>1997</th>\n",
       "      <td>eeduc</td>\n",
       "      <td>31. Less than 1st grade||32. 1st, 2nd, 3rd or ...</td>\n",
       "      <td>{'31': 'Less than 1st grade', '32': '1st, 2nd,...</td>\n",
       "    </tr>\n",
       "  </tbody>\n",
       "</table>\n",
       "</div>"
      ],
      "text/plain": [
       "     variable                                      response_code  \\\n",
       "1997    eeduc  31. Less than 1st grade||32. 1st, 2nd, 3rd or ...   \n",
       "\n",
       "                                     response_code_dict  \n",
       "1997  {'31': 'Less than 1st grade', '32': '1st, 2nd,...  "
      ]
     },
     "execution_count": 13,
     "metadata": {},
     "output_type": "execute_result"
    }
   ],
   "source": [
    "# mask response codes that don't apply\n",
    "mask = (sipp_meta.response_code.str.contains('||')\n",
    "        & ~(sipp_meta.response_code.str.contains('\\$\\d+:|\\d+:', regex=True, na=True))\n",
    "        & sipp_meta.survey_years.str.contains('2018')\n",
    "       )\n",
    "       \n",
    "\n",
    "response_code_df = sipp_meta[mask].filter(['variable', 'response_code'])\n",
    "\n",
    "response_code_df = (response_code_df\n",
    "                    .assign(response_code_dict = response_code_df.response_code.map(code_string_to_dict),\n",
    "                           variable = response_code_df.variable.str.lower()\n",
    "                          )\n",
    "                   \n",
    "                   )\n",
    "\n",
    "response_code_df[response_code_df.variable == 'eeduc']"
   ]
  },
  {
   "cell_type": "markdown",
   "id": "centered-advertiser",
   "metadata": {},
   "source": [
    "#### Initialize Dictionary and Save to json"
   ]
  },
  {
   "cell_type": "code",
   "execution_count": 14,
   "id": "australian-resistance",
   "metadata": {},
   "outputs": [],
   "source": [
    "response_code_dict = {}\n",
    "for index, row in response_code_df.iterrows():\n",
    "    response_code_dict.update({row['variable']:row['response_code_dict']})\n",
    "    \n",
    "# Remove empty dict key:value pairs\n",
    "response_code_dict = {k: v for k, v in response_code_dict.items() if len(v) > 0}\n",
    "\n",
    "filepath = '../data/interim/response_code_dict.json'\n",
    "\n",
    "with open(filepath, 'w') as f:\n",
    "    json.dump(response_code_dict, f, indent=4)"
   ]
  },
  {
   "cell_type": "code",
   "execution_count": null,
   "id": "broad-siemens",
   "metadata": {},
   "outputs": [],
   "source": []
  }
 ],
 "metadata": {
  "kernelspec": {
   "display_name": "Team 107 Capstone Project",
   "language": "python",
   "name": "team_107_venv"
  },
  "language_info": {
   "codemirror_mode": {
    "name": "ipython",
    "version": 3
   },
   "file_extension": ".py",
   "mimetype": "text/x-python",
   "name": "python",
   "nbconvert_exporter": "python",
   "pygments_lexer": "ipython3",
   "version": "3.9.2"
  }
 },
 "nbformat": 4,
 "nbformat_minor": 5
}

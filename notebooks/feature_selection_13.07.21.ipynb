{
 "cells": [
  {
   "cell_type": "code",
   "execution_count": 31,
   "id": "dedicated-dominant",
   "metadata": {},
   "outputs": [],
   "source": [
    "import pandas as pd\n",
    "import numpy as np\n",
    "from sklearn.feature_selection import VarianceThreshold\n",
    "from sklearn.model_selection import train_test_split\n",
    "from matplotlib import pyplot as plt"
   ]
  },
  {
   "cell_type": "code",
   "execution_count": 32,
   "id": "genuine-buffalo",
   "metadata": {},
   "outputs": [
    {
     "data": {
      "text/plain": [
       "(49704, 2127)"
      ]
     },
     "execution_count": 32,
     "metadata": {},
     "output_type": "execute_result"
    }
   ],
   "source": [
    "sipp_2018 = pd.read_csv('../data/interim/sipp2018_person/sipp2018_person.csv')\n",
    "sipp_2018.shape"
   ]
  },
  {
   "cell_type": "markdown",
   "id": "cordless-enclosure",
   "metadata": {},
   "source": [
    "## Feature Engineering/Transformation"
   ]
  },
  {
   "cell_type": "code",
   "execution_count": 3,
   "id": "portable-farming",
   "metadata": {},
   "outputs": [],
   "source": [
    "# collapse eeduc categories\n",
    "\n",
    "m1 = {5:[31,32,33,34,35,36,37,38], \n",
    "      6:[39],\n",
    "      7:[40,41,42],\n",
    "      8:[45],\n",
    "      9:[43],\n",
    "      10:[44,46],\n",
    "     }\n",
    "m2 = {v: k for k,vv in m1.items() for v in vv}\n",
    "m2\n",
    "sipp_2018['EEDUC_X'] = (sipp_2018\n",
    "                        .EEDUC\n",
    "                        .map(m2)\n",
    "                        .astype('category')\n",
    "                       )\n",
    "sipp_2018.EEDUC_X.value_counts()\n",
    "\n",
    "# create debt to income feature\n",
    "\n",
    "sipp_2018.loc[sipp_2018.TFTOTINC < 0, 'TFTOTINC'] = 0   # bottom code negative income values\n",
    "\n",
    "sipp_2018 = (sipp_2018\n",
    "             .assign(debt_income_ratio = sipp_2018.TDEBT_AST / (sipp_2018.TFTOTINC * 12))\n",
    "            )\n",
    "sipp_2018.debt_income_ratio.describe()\n",
    "\n",
    "# income to category\n",
    "sipp_2018['income_cut'] = pd.cut(sipp_2018.TFTOTINC, bins=10, labels=np.arange(1,11,1))"
   ]
  },
  {
   "cell_type": "code",
   "execution_count": 33,
   "id": "stretch-journal",
   "metadata": {},
   "outputs": [],
   "source": [
    "# Initialize Independent and Target Features \n",
    "y = sipp_2018.EOWN_ST.copy()\n",
    "X = sipp_2018.drop(['SSUID', 'PNUM', 'EOWN_ST', 'TRACE', 'EEDUC'], axis='columns')"
   ]
  },
  {
   "cell_type": "code",
   "execution_count": 34,
   "id": "classical-memory",
   "metadata": {},
   "outputs": [],
   "source": [
    "X_train, X_test, y_train, y_test = train_test_split(X, y, test_size=0.20, random_state=23,)\n",
    "train_survey_weight = X_train.WPFINWGT.copy()\n",
    "X_train = X_train.drop('WPFINWGT', axis='columns')"
   ]
  },
  {
   "cell_type": "markdown",
   "id": "tough-plumbing",
   "metadata": {},
   "source": [
    "# Univariate Selection"
   ]
  },
  {
   "cell_type": "markdown",
   "id": "little-palestinian",
   "metadata": {},
   "source": [
    "## Percent Missing Values\n",
    "* Drop variables that have a high ratio of missing values.\n",
    "* Create binary indicators to denote miss (or non-missing) values.\n",
    "* Review of visualize variables with high ratio of missing values.\n",
    "***\n",
    "#### Thresholds\n",
    "* \\> 95% Discard\n",
    "* 50% - 95% No Imputation\n",
    "* \\< 50% Impute\n",
    "\n",
    "*Other sources recommend discarding nulls above ~65%*\n",
    "\n",
    "Missing values may also be converted or imputed, depending on variable. <br>\n",
    "**Example:** Primary language spoken if respondent doesn't speak English. Na's can be converted to 'Speaks English'."
   ]
  },
  {
   "cell_type": "code",
   "execution_count": 35,
   "id": "legitimate-repeat",
   "metadata": {},
   "outputs": [
    {
     "data": {
      "text/html": [
       "<div>\n",
       "<style scoped>\n",
       "    .dataframe tbody tr th:only-of-type {\n",
       "        vertical-align: middle;\n",
       "    }\n",
       "\n",
       "    .dataframe tbody tr th {\n",
       "        vertical-align: top;\n",
       "    }\n",
       "\n",
       "    .dataframe thead th {\n",
       "        text-align: right;\n",
       "    }\n",
       "</style>\n",
       "<table border=\"1\" class=\"dataframe\">\n",
       "  <thead>\n",
       "    <tr style=\"text-align: right;\">\n",
       "      <th></th>\n",
       "      <th>percent_missing</th>\n",
       "    </tr>\n",
       "  </thead>\n",
       "  <tbody>\n",
       "    <tr>\n",
       "      <th>EJB6_PVWKTR7</th>\n",
       "      <td>1.000000</td>\n",
       "    </tr>\n",
       "    <tr>\n",
       "      <th>EJB5_RENDB</th>\n",
       "      <td>1.000000</td>\n",
       "    </tr>\n",
       "    <tr>\n",
       "      <th>TJB3_WKLY3</th>\n",
       "      <td>1.000000</td>\n",
       "    </tr>\n",
       "    <tr>\n",
       "      <th>EJB6_INCPB</th>\n",
       "      <td>1.000000</td>\n",
       "    </tr>\n",
       "    <tr>\n",
       "      <th>EJB6_CLWRK</th>\n",
       "      <td>1.000000</td>\n",
       "    </tr>\n",
       "    <tr>\n",
       "      <th>...</th>\n",
       "      <td>...</td>\n",
       "    </tr>\n",
       "    <tr>\n",
       "      <th>TEHC_REGION</th>\n",
       "      <td>0.001207</td>\n",
       "    </tr>\n",
       "    <tr>\n",
       "      <th>EFOOD_MNYN</th>\n",
       "      <td>0.001207</td>\n",
       "    </tr>\n",
       "    <tr>\n",
       "      <th>EOTHAS_MNYN</th>\n",
       "      <td>0.001207</td>\n",
       "    </tr>\n",
       "    <tr>\n",
       "      <th>ETRANS_MNYN</th>\n",
       "      <td>0.001207</td>\n",
       "    </tr>\n",
       "    <tr>\n",
       "      <th>RSNAP_MNYN</th>\n",
       "      <td>0.000025</td>\n",
       "    </tr>\n",
       "  </tbody>\n",
       "</table>\n",
       "<p>1833 rows × 1 columns</p>\n",
       "</div>"
      ],
      "text/plain": [
       "              percent_missing\n",
       "EJB6_PVWKTR7         1.000000\n",
       "EJB5_RENDB           1.000000\n",
       "TJB3_WKLY3           1.000000\n",
       "EJB6_INCPB           1.000000\n",
       "EJB6_CLWRK           1.000000\n",
       "...                       ...\n",
       "TEHC_REGION          0.001207\n",
       "EFOOD_MNYN           0.001207\n",
       "EOTHAS_MNYN          0.001207\n",
       "ETRANS_MNYN          0.001207\n",
       "RSNAP_MNYN           0.000025\n",
       "\n",
       "[1833 rows x 1 columns]"
      ]
     },
     "execution_count": 35,
     "metadata": {},
     "output_type": "execute_result"
    }
   ],
   "source": [
    "# Return df with all features with % missing values more than 80%\n",
    "desc = X_train.describe().T\n",
    "desc = (desc\n",
    "        .assign(percent_missing = 1 - (desc['count'] / len(X_train)))\n",
    "        .percent_missing\n",
    "        .sort_values(ascending=False)\n",
    "        .to_frame()\n",
    "        .query('percent_missing > 0')\n",
    "       )\n",
    "desc"
   ]
  },
  {
   "cell_type": "markdown",
   "id": "forced-reunion",
   "metadata": {},
   "source": [
    "**Drop Features w/ High % Missing Values**"
   ]
  },
  {
   "cell_type": "code",
   "execution_count": 7,
   "id": "manual-compression",
   "metadata": {},
   "outputs": [
    {
     "name": "stdout",
     "output_type": "stream",
     "text": [
      "X_train shape: (39763, 290)\n"
     ]
    }
   ],
   "source": [
    "high_nan_features = list(desc.T.columns)\n",
    "\n",
    "# Transform train set\n",
    "X_train = X_train.drop(high_nan_features, axis='columns')\n",
    "print(f'X_train shape: {X_train.shape}')"
   ]
  },
  {
   "cell_type": "markdown",
   "id": "distributed-gregory",
   "metadata": {},
   "source": [
    "## Variance Threshold"
   ]
  },
  {
   "cell_type": "code",
   "execution_count": 8,
   "id": "grand-inspection",
   "metadata": {},
   "outputs": [
    {
     "name": "stdout",
     "output_type": "stream",
     "text": [
      "There are 5 features with 0 variance.\n"
     ]
    }
   ],
   "source": [
    "# Initialize estimator and fit to training data ----------\n",
    "vt = VarianceThreshold(threshold=0)\n",
    "vt.fit(X_train)\n",
    "vt_mask = vt.get_support()   # Returns True for columns that are NOT constant\n",
    "\n",
    "# Print # of constant features\n",
    "print(f'There are {len(X_train.columns) - sum(vt_mask)} features with 0 variance.')"
   ]
  },
  {
   "cell_type": "code",
   "execution_count": 9,
   "id": "drawn-salvation",
   "metadata": {
    "jupyter": {
     "source_hidden": true
    },
    "tags": []
   },
   "outputs": [
    {
     "data": {
      "text/plain": [
       "\"normalized_df = X_train / X_train.mean()\\nvt = VarianceThreshold(threshold=(.8*(1-.8)))\\nvt.fit(normalized_df)\\nvt_mask = var_thres.get_support()   # Returns True for columns that are NOT constant\\n\\n# Print # of constant features\\nprint(f'There are {len(normalized_df.columns) - sum(vt_mask)} features with 0 variance.')\\n\\n# Transform training df ----------\\nX_train = X_train.loc[:, vt_mask]\\nprint(f'There are {len(X_train.columns)} features remaining having dropped features with 0 variance.')\\n\""
      ]
     },
     "execution_count": 9,
     "metadata": {},
     "output_type": "execute_result"
    }
   ],
   "source": [
    "# Normalized data approach\n",
    "'''normalized_df = X_train / X_train.mean()\n",
    "vt = VarianceThreshold(threshold=(.8*(1-.8)))\n",
    "vt.fit(normalized_df)\n",
    "vt_mask = var_thres.get_support()   # Returns True for columns that are NOT constant\n",
    "\n",
    "# Print # of constant features\n",
    "print(f'There are {len(normalized_df.columns) - sum(vt_mask)} features with 0 variance.')\n",
    "\n",
    "# Transform training df ----------\n",
    "X_train = X_train.loc[:, vt_mask]\n",
    "print(f'There are {len(X_train.columns)} features remaining having dropped features with 0 variance.')\n",
    "'''"
   ]
  },
  {
   "cell_type": "markdown",
   "id": "unavailable-ebony",
   "metadata": {},
   "source": [
    "**Drop Features Below Variance Threshold**"
   ]
  },
  {
   "cell_type": "code",
   "execution_count": 10,
   "id": "eastern-madagascar",
   "metadata": {},
   "outputs": [
    {
     "name": "stdout",
     "output_type": "stream",
     "text": [
      "X_train shape: (39763, 285)\n"
     ]
    }
   ],
   "source": [
    "# Transform train set\n",
    "X_train = X_train.loc[:, vt_mask]\n",
    "print(f'X_train shape: {X_train.shape}')"
   ]
  },
  {
   "cell_type": "markdown",
   "id": "cubic-nation",
   "metadata": {},
   "source": [
    "# Multivariate Selection"
   ]
  },
  {
   "cell_type": "markdown",
   "id": "unique-astronomy",
   "metadata": {},
   "source": [
    "## Pairwise Correlations\n",
    "* Evaluate correlation between independent variables.\n",
    "* Variable pairs that meet the threshold condition should be tested for correlation with the target variable, the more highly correlated independent variable of the pair should be kept.\n",
    "\n",
    "Vishal Patel suggests threshold of .65.<br>\n",
    "[A Practical Guide to Dimensionality Reduction Techniques](https://www.youtube.com/watch?v=ioXKxulmwVQ)"
   ]
  },
  {
   "cell_type": "markdown",
   "id": "enclosed-melissa",
   "metadata": {},
   "source": [
    "**This function needs to be refined to return variables pairs so they may be tested with the target variable. Remove duplicate pairs of variables**"
   ]
  },
  {
   "cell_type": "code",
   "execution_count": 11,
   "id": "final-celebrity",
   "metadata": {},
   "outputs": [],
   "source": [
    "def correlation(dataset, threshold):\n",
    "    '''\n",
    "    Iterates through variable pairs and returns set of feature names that are over provided threshold.\n",
    "    '''\n",
    "    col_corr = set()   # Set of all the names of correlated columns\n",
    "    corr_matrix = dataset.corr()\n",
    "    for i in range(len(corr_matrix.columns)):\n",
    "        for j in range(i):\n",
    "            if abs(corr_matrix.iloc[i, j]) > threshold:  # we are interested in absolute coeff value\n",
    "                colname = corr_matrix.columns[i]   # getting the name of column\n",
    "                col_corr.add(colname)\n",
    "    return col_corr"
   ]
  },
  {
   "cell_type": "code",
   "execution_count": 12,
   "id": "swedish-productivity",
   "metadata": {
    "jupyter": {
     "source_hidden": true
    },
    "tags": []
   },
   "outputs": [
    {
     "data": {
      "text/plain": [
       "'\\ncorr_matrix = X_train.corr()\\nplt.figure(figsize=(12,10))\\nsns.heatmap(corr_matrix, annot=True, cmap=plt.cm.CMRmap_r)\\nplt.show()\\n'"
      ]
     },
     "execution_count": 12,
     "metadata": {},
     "output_type": "execute_result"
    }
   ],
   "source": [
    "# Create correlation matrix and plot heatmap\n",
    "## ----- NOTE: this will not run with too many dimensions. Does not run with sipp2018 ---------\n",
    "'''\n",
    "corr_matrix = X_train.corr()\n",
    "plt.figure(figsize=(12,10))\n",
    "sns.heatmap(corr_matrix, annot=True, cmap=plt.cm.CMRmap_r)\n",
    "plt.show()\n",
    "'''"
   ]
  },
  {
   "cell_type": "code",
   "execution_count": 13,
   "id": "welcome-economics",
   "metadata": {},
   "outputs": [
    {
     "name": "stdout",
     "output_type": "stream",
     "text": [
      "There are 48 pairs of features with a correlation > 0.95.\n"
     ]
    }
   ],
   "source": [
    "# Run correlation test for features\n",
    "corr_threshold = 0.95\n",
    "high_corr_features = correlation(X_train, corr_threshold)\n",
    "print(f'There are {len(high_corr_features)} pairs of features with a correlation > {corr_threshold}.')"
   ]
  },
  {
   "cell_type": "markdown",
   "id": "powerful-portable",
   "metadata": {},
   "source": [
    "**Drop Highly Correlated Features**"
   ]
  },
  {
   "cell_type": "code",
   "execution_count": 14,
   "id": "cathedral-azerbaijan",
   "metadata": {},
   "outputs": [
    {
     "name": "stdout",
     "output_type": "stream",
     "text": [
      "X_train shape: (39763, 237)\n"
     ]
    }
   ],
   "source": [
    "# Transform train set\n",
    "X_train = X_train.drop(high_corr_features, axis='columns')\n",
    "print(f'X_train shape: {X_train.shape}')"
   ]
  },
  {
   "cell_type": "markdown",
   "id": "fatal-theology",
   "metadata": {},
   "source": [
    "## Correlation w/the Target\n",
    "Drop variables that have a very low correlation with the target.<br>\n",
    "If a variable has a very low correlation w/target it wont be useful for the prediction model."
   ]
  },
  {
   "cell_type": "code",
   "execution_count": 15,
   "id": "ignored-southeast",
   "metadata": {},
   "outputs": [
    {
     "data": {
      "text/html": [
       "<div>\n",
       "<style scoped>\n",
       "    .dataframe tbody tr th:only-of-type {\n",
       "        vertical-align: middle;\n",
       "    }\n",
       "\n",
       "    .dataframe tbody tr th {\n",
       "        vertical-align: top;\n",
       "    }\n",
       "\n",
       "    .dataframe thead th {\n",
       "        text-align: right;\n",
       "    }\n",
       "</style>\n",
       "<table border=\"1\" class=\"dataframe\">\n",
       "  <thead>\n",
       "    <tr style=\"text-align: right;\">\n",
       "      <th></th>\n",
       "      <th>variable</th>\n",
       "      <th>coefficient</th>\n",
       "    </tr>\n",
       "  </thead>\n",
       "  <tbody>\n",
       "    <tr>\n",
       "      <th>44</th>\n",
       "      <td>EOWN_MF</td>\n",
       "      <td>0.452637</td>\n",
       "    </tr>\n",
       "    <tr>\n",
       "      <th>65</th>\n",
       "      <td>TVAL_STMF</td>\n",
       "      <td>0.343188</td>\n",
       "    </tr>\n",
       "    <tr>\n",
       "      <th>43</th>\n",
       "      <td>EOWN_MM</td>\n",
       "      <td>0.336387</td>\n",
       "    </tr>\n",
       "    <tr>\n",
       "      <th>97</th>\n",
       "      <td>THVAL_STMF</td>\n",
       "      <td>0.309525</td>\n",
       "    </tr>\n",
       "    <tr>\n",
       "      <th>49</th>\n",
       "      <td>EOWN_IRAKEO</td>\n",
       "      <td>0.305594</td>\n",
       "    </tr>\n",
       "    <tr>\n",
       "      <th>109</th>\n",
       "      <td>THVAL_RET</td>\n",
       "      <td>0.255799</td>\n",
       "    </tr>\n",
       "    <tr>\n",
       "      <th>64</th>\n",
       "      <td>TINC_STMF</td>\n",
       "      <td>0.253046</td>\n",
       "    </tr>\n",
       "    <tr>\n",
       "      <th>81</th>\n",
       "      <td>TVAL_RET</td>\n",
       "      <td>0.249591</td>\n",
       "    </tr>\n",
       "    <tr>\n",
       "      <th>235</th>\n",
       "      <td>EEDUC_X</td>\n",
       "      <td>0.236743</td>\n",
       "    </tr>\n",
       "    <tr>\n",
       "      <th>63</th>\n",
       "      <td>TVAL_BANK</td>\n",
       "      <td>0.236125</td>\n",
       "    </tr>\n",
       "    <tr>\n",
       "      <th>84</th>\n",
       "      <td>TVAL_HOME</td>\n",
       "      <td>0.232405</td>\n",
       "    </tr>\n",
       "    <tr>\n",
       "      <th>232</th>\n",
       "      <td>TFCYINCPOV</td>\n",
       "      <td>0.226374</td>\n",
       "    </tr>\n",
       "    <tr>\n",
       "      <th>93</th>\n",
       "      <td>TVAL_AST</td>\n",
       "      <td>0.224541</td>\n",
       "    </tr>\n",
       "    <tr>\n",
       "      <th>48</th>\n",
       "      <td>EOWN_MCBD</td>\n",
       "      <td>0.222320</td>\n",
       "    </tr>\n",
       "    <tr>\n",
       "      <th>95</th>\n",
       "      <td>THVAL_BANK</td>\n",
       "      <td>0.220547</td>\n",
       "    </tr>\n",
       "    <tr>\n",
       "      <th>96</th>\n",
       "      <td>THINC_STMF</td>\n",
       "      <td>0.218569</td>\n",
       "    </tr>\n",
       "    <tr>\n",
       "      <th>86</th>\n",
       "      <td>TEQ_HOME</td>\n",
       "      <td>0.217219</td>\n",
       "    </tr>\n",
       "    <tr>\n",
       "      <th>116</th>\n",
       "      <td>THVAL_HOME</td>\n",
       "      <td>0.213176</td>\n",
       "    </tr>\n",
       "    <tr>\n",
       "      <th>54</th>\n",
       "      <td>EOWN_ANNTR</td>\n",
       "      <td>0.210304</td>\n",
       "    </tr>\n",
       "    <tr>\n",
       "      <th>42</th>\n",
       "      <td>EOWN_CD</td>\n",
       "      <td>0.204985</td>\n",
       "    </tr>\n",
       "    <tr>\n",
       "      <th>118</th>\n",
       "      <td>THEQ_HOME</td>\n",
       "      <td>0.204496</td>\n",
       "    </tr>\n",
       "    <tr>\n",
       "      <th>125</th>\n",
       "      <td>THVAL_AST</td>\n",
       "      <td>0.200380</td>\n",
       "    </tr>\n",
       "    <tr>\n",
       "      <th>231</th>\n",
       "      <td>TFINCPOV</td>\n",
       "      <td>0.193166</td>\n",
       "    </tr>\n",
       "    <tr>\n",
       "      <th>229</th>\n",
       "      <td>TPTOTINC</td>\n",
       "      <td>0.187558</td>\n",
       "    </tr>\n",
       "    <tr>\n",
       "      <th>47</th>\n",
       "      <td>EOWN_GOVS</td>\n",
       "      <td>0.187051</td>\n",
       "    </tr>\n",
       "  </tbody>\n",
       "</table>\n",
       "</div>"
      ],
      "text/plain": [
       "        variable  coefficient\n",
       "44       EOWN_MF     0.452637\n",
       "65     TVAL_STMF     0.343188\n",
       "43       EOWN_MM     0.336387\n",
       "97    THVAL_STMF     0.309525\n",
       "49   EOWN_IRAKEO     0.305594\n",
       "109    THVAL_RET     0.255799\n",
       "64     TINC_STMF     0.253046\n",
       "81      TVAL_RET     0.249591\n",
       "235      EEDUC_X     0.236743\n",
       "63     TVAL_BANK     0.236125\n",
       "84     TVAL_HOME     0.232405\n",
       "232   TFCYINCPOV     0.226374\n",
       "93      TVAL_AST     0.224541\n",
       "48     EOWN_MCBD     0.222320\n",
       "95    THVAL_BANK     0.220547\n",
       "96    THINC_STMF     0.218569\n",
       "86      TEQ_HOME     0.217219\n",
       "116   THVAL_HOME     0.213176\n",
       "54    EOWN_ANNTR     0.210304\n",
       "42       EOWN_CD     0.204985\n",
       "118    THEQ_HOME     0.204496\n",
       "125    THVAL_AST     0.200380\n",
       "231     TFINCPOV     0.193166\n",
       "229     TPTOTINC     0.187558\n",
       "47     EOWN_GOVS     0.187051"
      ]
     },
     "execution_count": 15,
     "metadata": {},
     "output_type": "execute_result"
    }
   ],
   "source": [
    "# Create dataframe with variables and correlation with target \n",
    "y_corr = pd.DataFrame(columns=['variable', 'coefficient'])\n",
    "\n",
    "# Iterate through each column in training set\n",
    "for col in X_train.columns:\n",
    "    y_corr.loc[len(y_corr.index)] = [col, abs(y.corr(X_train[col]))]\n",
    "    \n",
    "y_corr.sort_values(by='coefficient', ascending=False).head(25)"
   ]
  },
  {
   "cell_type": "markdown",
   "id": "incomplete-auckland",
   "metadata": {},
   "source": [
    "Plot the distribution to evaluate a coefficient cutoff for variables to keep or discard.<br>\n",
    "Consider the elbow in the curve and the number of variables retained."
   ]
  },
  {
   "cell_type": "code",
   "execution_count": 16,
   "id": "spiritual-basket",
   "metadata": {},
   "outputs": [
    {
     "data": {
      "image/png": "[encoded data removed]",
      "text/plain": [
       "<Figure size 432x288 with 1 Axes>"
      ]
     },
     "metadata": {
      "needs_background": "light"
     },
     "output_type": "display_data"
    }
   ],
   "source": [
    "plt.plot(y_corr\n",
    "         .sort_values(by='coefficient', ascending=False)\n",
    "         .coefficient\n",
    "         .to_list()\n",
    "        );"
   ]
  },
  {
   "cell_type": "code",
   "execution_count": 17,
   "id": "lesser-description",
   "metadata": {},
   "outputs": [],
   "source": [
    "y_corr[y_corr.coefficient >= .2].sort_values(by='coefficient', ascending=False)\n",
    "y_corr_features = y_corr[y_corr.coefficient >= .2].variable.to_list()"
   ]
  },
  {
   "cell_type": "code",
   "execution_count": 18,
   "id": "streaming-helena",
   "metadata": {},
   "outputs": [],
   "source": [
    "X_train = X_train.loc[:,y_corr_features]"
   ]
  },
  {
   "cell_type": "markdown",
   "id": "assisted-pricing",
   "metadata": {},
   "source": [
    "## Oversample: Synthetic Minority Over-sampling Technique SMOTE"
   ]
  },
  {
   "cell_type": "code",
   "execution_count": 19,
   "id": "plastic-classification",
   "metadata": {},
   "outputs": [
    {
     "name": "stdout",
     "output_type": "stream",
     "text": [
      "Shape of X before SMOTE: (39763, 22)\n",
      "Shape of X after SMOTE: (58720, 22)\n",
      "\n",
      "Balance of positive and negative classes (%):\n"
     ]
    },
    {
     "data": {
      "text/plain": [
       "2    59.88079\n",
       "1    40.11921\n",
       "Name: EOWN_ST, dtype: float64"
      ]
     },
     "execution_count": 19,
     "metadata": {},
     "output_type": "execute_result"
    }
   ],
   "source": [
    "from imblearn.over_sampling import SMOTE\n",
    "\n",
    "sm = SMOTE(sampling_strategy=.67, random_state=23)\n",
    "X_train_sm, y_train_sm = sm.fit_resample(X_train, y_train)\n",
    "\n",
    "print(f'''Shape of X before SMOTE: {X_train.shape}\n",
    "Shape of X after SMOTE: {X_train_sm.shape}''')\n",
    "\n",
    "print('\\nBalance of positive and negative classes (%):')\n",
    "y_train_sm.value_counts(normalize=True) * 100"
   ]
  },
  {
   "cell_type": "code",
   "execution_count": 20,
   "id": "secondary-excess",
   "metadata": {},
   "outputs": [
    {
     "data": {
      "text/plain": [
       "EOWN_CD        category\n",
       "EOWN_MM        category\n",
       "EOWN_MF        category\n",
       "EOWN_MCBD      category\n",
       "EOWN_IRAKEO    category\n",
       "EOWN_ANNTR     category\n",
       "TVAL_BANK         int64\n",
       "TINC_STMF         int64\n",
       "TVAL_STMF         int64\n",
       "TVAL_RET          int64\n",
       "TVAL_HOME         int64\n",
       "TEQ_HOME          int64\n",
       "TVAL_AST          int64\n",
       "THVAL_BANK        int64\n",
       "THINC_STMF        int64\n",
       "THVAL_STMF        int64\n",
       "THVAL_RET         int64\n",
       "THVAL_HOME        int64\n",
       "THEQ_HOME         int64\n",
       "THVAL_AST         int64\n",
       "TFCYINCPOV      float64\n",
       "EEDUC_X        category\n",
       "dtype: object"
      ]
     },
     "execution_count": 20,
     "metadata": {},
     "output_type": "execute_result"
    }
   ],
   "source": [
    "# convert cats to cat datatype\n",
    "cat_cols = ['EOWN_CD', 'EOWN_MM', 'EOWN_MF', 'EOWN_MCBD', 'EOWN_IRAKEO', 'EOWN_ANNTR']\n",
    "for col in cat_cols:\n",
    "    X_train_sm[col] = X_train_sm[col].astype('category')\n",
    "X_train_sm.dtypes"
   ]
  },
  {
   "cell_type": "markdown",
   "id": "entertaining-dominant",
   "metadata": {},
   "source": [
    "## One Hot Encoding"
   ]
  },
  {
   "cell_type": "code",
   "execution_count": 21,
   "id": "incorporated-pepper",
   "metadata": {},
   "outputs": [],
   "source": [
    "from sklearn.preprocessing import OneHotEncoder"
   ]
  },
  {
   "cell_type": "code",
   "execution_count": 23,
   "id": "norman-algebra",
   "metadata": {},
   "outputs": [],
   "source": [
    "ohe = OneHotEncoder()\n",
    "ohe.fit(X_train_sm.select_dtypes('category'))\n",
    "ohe_X = onehot.transform(X_train_sm.select_dtypes('category')).toarray()\n"
   ]
  },
  {
   "cell_type": "code",
   "execution_count": 28,
   "id": "numerous-lover",
   "metadata": {},
   "outputs": [
    {
     "data": {
      "text/plain": [
       "[array([1, 2]),\n",
       " array([1, 2]),\n",
       " array([1, 2]),\n",
       " array([1, 2]),\n",
       " array([1, 2]),\n",
       " array([1, 2]),\n",
       " array([ 5.,  6.,  7.,  8.,  9., 10., nan])]"
      ]
     },
     "execution_count": 28,
     "metadata": {},
     "output_type": "execute_result"
    }
   ],
   "source": [
    "ohe.categories_"
   ]
  },
  {
   "cell_type": "code",
   "execution_count": 27,
   "id": "lesser-richardson",
   "metadata": {},
   "outputs": [
    {
     "data": {
      "text/html": [
       "<div>\n",
       "<style scoped>\n",
       "    .dataframe tbody tr th:only-of-type {\n",
       "        vertical-align: middle;\n",
       "    }\n",
       "\n",
       "    .dataframe tbody tr th {\n",
       "        vertical-align: top;\n",
       "    }\n",
       "\n",
       "    .dataframe thead th {\n",
       "        text-align: right;\n",
       "    }\n",
       "</style>\n",
       "<table border=\"1\" class=\"dataframe\">\n",
       "  <thead>\n",
       "    <tr style=\"text-align: right;\">\n",
       "      <th></th>\n",
       "      <th>EOWN_CD</th>\n",
       "      <th>EOWN_MM</th>\n",
       "      <th>EOWN_MF</th>\n",
       "      <th>EOWN_MCBD</th>\n",
       "      <th>EOWN_IRAKEO</th>\n",
       "      <th>EOWN_ANNTR</th>\n",
       "      <th>EEDUC_X</th>\n",
       "    </tr>\n",
       "  </thead>\n",
       "  <tbody>\n",
       "    <tr>\n",
       "      <th>0</th>\n",
       "      <td>2</td>\n",
       "      <td>2</td>\n",
       "      <td>2</td>\n",
       "      <td>2</td>\n",
       "      <td>2</td>\n",
       "      <td>2</td>\n",
       "      <td>10</td>\n",
       "    </tr>\n",
       "    <tr>\n",
       "      <th>1</th>\n",
       "      <td>2</td>\n",
       "      <td>2</td>\n",
       "      <td>2</td>\n",
       "      <td>2</td>\n",
       "      <td>2</td>\n",
       "      <td>2</td>\n",
       "      <td>5</td>\n",
       "    </tr>\n",
       "    <tr>\n",
       "      <th>2</th>\n",
       "      <td>2</td>\n",
       "      <td>2</td>\n",
       "      <td>2</td>\n",
       "      <td>2</td>\n",
       "      <td>2</td>\n",
       "      <td>2</td>\n",
       "      <td>6</td>\n",
       "    </tr>\n",
       "    <tr>\n",
       "      <th>3</th>\n",
       "      <td>2</td>\n",
       "      <td>2</td>\n",
       "      <td>2</td>\n",
       "      <td>2</td>\n",
       "      <td>2</td>\n",
       "      <td>2</td>\n",
       "      <td>6</td>\n",
       "    </tr>\n",
       "    <tr>\n",
       "      <th>4</th>\n",
       "      <td>2</td>\n",
       "      <td>2</td>\n",
       "      <td>2</td>\n",
       "      <td>2</td>\n",
       "      <td>2</td>\n",
       "      <td>2</td>\n",
       "      <td>5</td>\n",
       "    </tr>\n",
       "    <tr>\n",
       "      <th>...</th>\n",
       "      <td>...</td>\n",
       "      <td>...</td>\n",
       "      <td>...</td>\n",
       "      <td>...</td>\n",
       "      <td>...</td>\n",
       "      <td>...</td>\n",
       "      <td>...</td>\n",
       "    </tr>\n",
       "    <tr>\n",
       "      <th>58715</th>\n",
       "      <td>2</td>\n",
       "      <td>1</td>\n",
       "      <td>1</td>\n",
       "      <td>2</td>\n",
       "      <td>1</td>\n",
       "      <td>2</td>\n",
       "      <td>NaN</td>\n",
       "    </tr>\n",
       "    <tr>\n",
       "      <th>58716</th>\n",
       "      <td>2</td>\n",
       "      <td>1</td>\n",
       "      <td>1</td>\n",
       "      <td>2</td>\n",
       "      <td>1</td>\n",
       "      <td>2</td>\n",
       "      <td>NaN</td>\n",
       "    </tr>\n",
       "    <tr>\n",
       "      <th>58717</th>\n",
       "      <td>1</td>\n",
       "      <td>1</td>\n",
       "      <td>1</td>\n",
       "      <td>2</td>\n",
       "      <td>1</td>\n",
       "      <td>1</td>\n",
       "      <td>NaN</td>\n",
       "    </tr>\n",
       "    <tr>\n",
       "      <th>58718</th>\n",
       "      <td>2</td>\n",
       "      <td>1</td>\n",
       "      <td>1</td>\n",
       "      <td>2</td>\n",
       "      <td>2</td>\n",
       "      <td>1</td>\n",
       "      <td>NaN</td>\n",
       "    </tr>\n",
       "    <tr>\n",
       "      <th>58719</th>\n",
       "      <td>2</td>\n",
       "      <td>2</td>\n",
       "      <td>2</td>\n",
       "      <td>2</td>\n",
       "      <td>2</td>\n",
       "      <td>2</td>\n",
       "      <td>NaN</td>\n",
       "    </tr>\n",
       "  </tbody>\n",
       "</table>\n",
       "<p>58720 rows × 7 columns</p>\n",
       "</div>"
      ],
      "text/plain": [
       "      EOWN_CD EOWN_MM EOWN_MF EOWN_MCBD EOWN_IRAKEO EOWN_ANNTR EEDUC_X\n",
       "0           2       2       2         2           2          2      10\n",
       "1           2       2       2         2           2          2       5\n",
       "2           2       2       2         2           2          2       6\n",
       "3           2       2       2         2           2          2       6\n",
       "4           2       2       2         2           2          2       5\n",
       "...       ...     ...     ...       ...         ...        ...     ...\n",
       "58715       2       1       1         2           1          2     NaN\n",
       "58716       2       1       1         2           1          2     NaN\n",
       "58717       1       1       1         2           1          1     NaN\n",
       "58718       2       1       1         2           2          1     NaN\n",
       "58719       2       2       2         2           2          2     NaN\n",
       "\n",
       "[58720 rows x 7 columns]"
      ]
     },
     "execution_count": 27,
     "metadata": {},
     "output_type": "execute_result"
    }
   ],
   "source": [
    "X_train_sm.select_dtypes('category')"
   ]
  },
  {
   "cell_type": "code",
   "execution_count": 26,
   "id": "athletic-wales",
   "metadata": {},
   "outputs": [
    {
     "data": {
      "text/html": [
       "<div>\n",
       "<style scoped>\n",
       "    .dataframe tbody tr th:only-of-type {\n",
       "        vertical-align: middle;\n",
       "    }\n",
       "\n",
       "    .dataframe tbody tr th {\n",
       "        vertical-align: top;\n",
       "    }\n",
       "\n",
       "    .dataframe thead th {\n",
       "        text-align: right;\n",
       "    }\n",
       "</style>\n",
       "<table border=\"1\" class=\"dataframe\">\n",
       "  <thead>\n",
       "    <tr style=\"text-align: right;\">\n",
       "      <th></th>\n",
       "      <th>0</th>\n",
       "      <th>1</th>\n",
       "      <th>2</th>\n",
       "      <th>3</th>\n",
       "      <th>4</th>\n",
       "      <th>5</th>\n",
       "      <th>6</th>\n",
       "      <th>7</th>\n",
       "      <th>8</th>\n",
       "      <th>9</th>\n",
       "      <th>10</th>\n",
       "      <th>11</th>\n",
       "      <th>12</th>\n",
       "      <th>13</th>\n",
       "      <th>14</th>\n",
       "      <th>15</th>\n",
       "      <th>16</th>\n",
       "      <th>17</th>\n",
       "      <th>18</th>\n",
       "    </tr>\n",
       "  </thead>\n",
       "  <tbody>\n",
       "    <tr>\n",
       "      <th>0</th>\n",
       "      <td>0.0</td>\n",
       "      <td>1.0</td>\n",
       "      <td>0.0</td>\n",
       "      <td>1.0</td>\n",
       "      <td>0.0</td>\n",
       "      <td>1.0</td>\n",
       "      <td>0.0</td>\n",
       "      <td>1.0</td>\n",
       "      <td>0.0</td>\n",
       "      <td>1.0</td>\n",
       "      <td>0.0</td>\n",
       "      <td>1.0</td>\n",
       "      <td>0.0</td>\n",
       "      <td>0.0</td>\n",
       "      <td>0.0</td>\n",
       "      <td>0.0</td>\n",
       "      <td>0.0</td>\n",
       "      <td>1.0</td>\n",
       "      <td>0.0</td>\n",
       "    </tr>\n",
       "    <tr>\n",
       "      <th>1</th>\n",
       "      <td>0.0</td>\n",
       "      <td>1.0</td>\n",
       "      <td>0.0</td>\n",
       "      <td>1.0</td>\n",
       "      <td>0.0</td>\n",
       "      <td>1.0</td>\n",
       "      <td>0.0</td>\n",
       "      <td>1.0</td>\n",
       "      <td>0.0</td>\n",
       "      <td>1.0</td>\n",
       "      <td>0.0</td>\n",
       "      <td>1.0</td>\n",
       "      <td>1.0</td>\n",
       "      <td>0.0</td>\n",
       "      <td>0.0</td>\n",
       "      <td>0.0</td>\n",
       "      <td>0.0</td>\n",
       "      <td>0.0</td>\n",
       "      <td>0.0</td>\n",
       "    </tr>\n",
       "    <tr>\n",
       "      <th>2</th>\n",
       "      <td>0.0</td>\n",
       "      <td>1.0</td>\n",
       "      <td>0.0</td>\n",
       "      <td>1.0</td>\n",
       "      <td>0.0</td>\n",
       "      <td>1.0</td>\n",
       "      <td>0.0</td>\n",
       "      <td>1.0</td>\n",
       "      <td>0.0</td>\n",
       "      <td>1.0</td>\n",
       "      <td>0.0</td>\n",
       "      <td>1.0</td>\n",
       "      <td>0.0</td>\n",
       "      <td>1.0</td>\n",
       "      <td>0.0</td>\n",
       "      <td>0.0</td>\n",
       "      <td>0.0</td>\n",
       "      <td>0.0</td>\n",
       "      <td>0.0</td>\n",
       "    </tr>\n",
       "    <tr>\n",
       "      <th>3</th>\n",
       "      <td>0.0</td>\n",
       "      <td>1.0</td>\n",
       "      <td>0.0</td>\n",
       "      <td>1.0</td>\n",
       "      <td>0.0</td>\n",
       "      <td>1.0</td>\n",
       "      <td>0.0</td>\n",
       "      <td>1.0</td>\n",
       "      <td>0.0</td>\n",
       "      <td>1.0</td>\n",
       "      <td>0.0</td>\n",
       "      <td>1.0</td>\n",
       "      <td>0.0</td>\n",
       "      <td>1.0</td>\n",
       "      <td>0.0</td>\n",
       "      <td>0.0</td>\n",
       "      <td>0.0</td>\n",
       "      <td>0.0</td>\n",
       "      <td>0.0</td>\n",
       "    </tr>\n",
       "    <tr>\n",
       "      <th>4</th>\n",
       "      <td>0.0</td>\n",
       "      <td>1.0</td>\n",
       "      <td>0.0</td>\n",
       "      <td>1.0</td>\n",
       "      <td>0.0</td>\n",
       "      <td>1.0</td>\n",
       "      <td>0.0</td>\n",
       "      <td>1.0</td>\n",
       "      <td>0.0</td>\n",
       "      <td>1.0</td>\n",
       "      <td>0.0</td>\n",
       "      <td>1.0</td>\n",
       "      <td>1.0</td>\n",
       "      <td>0.0</td>\n",
       "      <td>0.0</td>\n",
       "      <td>0.0</td>\n",
       "      <td>0.0</td>\n",
       "      <td>0.0</td>\n",
       "      <td>0.0</td>\n",
       "    </tr>\n",
       "    <tr>\n",
       "      <th>...</th>\n",
       "      <td>...</td>\n",
       "      <td>...</td>\n",
       "      <td>...</td>\n",
       "      <td>...</td>\n",
       "      <td>...</td>\n",
       "      <td>...</td>\n",
       "      <td>...</td>\n",
       "      <td>...</td>\n",
       "      <td>...</td>\n",
       "      <td>...</td>\n",
       "      <td>...</td>\n",
       "      <td>...</td>\n",
       "      <td>...</td>\n",
       "      <td>...</td>\n",
       "      <td>...</td>\n",
       "      <td>...</td>\n",
       "      <td>...</td>\n",
       "      <td>...</td>\n",
       "      <td>...</td>\n",
       "    </tr>\n",
       "    <tr>\n",
       "      <th>58715</th>\n",
       "      <td>0.0</td>\n",
       "      <td>1.0</td>\n",
       "      <td>1.0</td>\n",
       "      <td>0.0</td>\n",
       "      <td>1.0</td>\n",
       "      <td>0.0</td>\n",
       "      <td>0.0</td>\n",
       "      <td>1.0</td>\n",
       "      <td>1.0</td>\n",
       "      <td>0.0</td>\n",
       "      <td>0.0</td>\n",
       "      <td>1.0</td>\n",
       "      <td>0.0</td>\n",
       "      <td>0.0</td>\n",
       "      <td>0.0</td>\n",
       "      <td>0.0</td>\n",
       "      <td>0.0</td>\n",
       "      <td>0.0</td>\n",
       "      <td>1.0</td>\n",
       "    </tr>\n",
       "    <tr>\n",
       "      <th>58716</th>\n",
       "      <td>0.0</td>\n",
       "      <td>1.0</td>\n",
       "      <td>1.0</td>\n",
       "      <td>0.0</td>\n",
       "      <td>1.0</td>\n",
       "      <td>0.0</td>\n",
       "      <td>0.0</td>\n",
       "      <td>1.0</td>\n",
       "      <td>1.0</td>\n",
       "      <td>0.0</td>\n",
       "      <td>0.0</td>\n",
       "      <td>1.0</td>\n",
       "      <td>0.0</td>\n",
       "      <td>0.0</td>\n",
       "      <td>0.0</td>\n",
       "      <td>0.0</td>\n",
       "      <td>0.0</td>\n",
       "      <td>0.0</td>\n",
       "      <td>1.0</td>\n",
       "    </tr>\n",
       "    <tr>\n",
       "      <th>58717</th>\n",
       "      <td>1.0</td>\n",
       "      <td>0.0</td>\n",
       "      <td>1.0</td>\n",
       "      <td>0.0</td>\n",
       "      <td>1.0</td>\n",
       "      <td>0.0</td>\n",
       "      <td>0.0</td>\n",
       "      <td>1.0</td>\n",
       "      <td>1.0</td>\n",
       "      <td>0.0</td>\n",
       "      <td>1.0</td>\n",
       "      <td>0.0</td>\n",
       "      <td>0.0</td>\n",
       "      <td>0.0</td>\n",
       "      <td>0.0</td>\n",
       "      <td>0.0</td>\n",
       "      <td>0.0</td>\n",
       "      <td>0.0</td>\n",
       "      <td>1.0</td>\n",
       "    </tr>\n",
       "    <tr>\n",
       "      <th>58718</th>\n",
       "      <td>0.0</td>\n",
       "      <td>1.0</td>\n",
       "      <td>1.0</td>\n",
       "      <td>0.0</td>\n",
       "      <td>1.0</td>\n",
       "      <td>0.0</td>\n",
       "      <td>0.0</td>\n",
       "      <td>1.0</td>\n",
       "      <td>0.0</td>\n",
       "      <td>1.0</td>\n",
       "      <td>1.0</td>\n",
       "      <td>0.0</td>\n",
       "      <td>0.0</td>\n",
       "      <td>0.0</td>\n",
       "      <td>0.0</td>\n",
       "      <td>0.0</td>\n",
       "      <td>0.0</td>\n",
       "      <td>0.0</td>\n",
       "      <td>1.0</td>\n",
       "    </tr>\n",
       "    <tr>\n",
       "      <th>58719</th>\n",
       "      <td>0.0</td>\n",
       "      <td>1.0</td>\n",
       "      <td>0.0</td>\n",
       "      <td>1.0</td>\n",
       "      <td>0.0</td>\n",
       "      <td>1.0</td>\n",
       "      <td>0.0</td>\n",
       "      <td>1.0</td>\n",
       "      <td>0.0</td>\n",
       "      <td>1.0</td>\n",
       "      <td>0.0</td>\n",
       "      <td>1.0</td>\n",
       "      <td>0.0</td>\n",
       "      <td>0.0</td>\n",
       "      <td>0.0</td>\n",
       "      <td>0.0</td>\n",
       "      <td>0.0</td>\n",
       "      <td>0.0</td>\n",
       "      <td>1.0</td>\n",
       "    </tr>\n",
       "  </tbody>\n",
       "</table>\n",
       "<p>58720 rows × 19 columns</p>\n",
       "</div>"
      ],
      "text/plain": [
       "        0    1    2    3    4    5    6    7    8    9    10   11   12   13  \\\n",
       "0      0.0  1.0  0.0  1.0  0.0  1.0  0.0  1.0  0.0  1.0  0.0  1.0  0.0  0.0   \n",
       "1      0.0  1.0  0.0  1.0  0.0  1.0  0.0  1.0  0.0  1.0  0.0  1.0  1.0  0.0   \n",
       "2      0.0  1.0  0.0  1.0  0.0  1.0  0.0  1.0  0.0  1.0  0.0  1.0  0.0  1.0   \n",
       "3      0.0  1.0  0.0  1.0  0.0  1.0  0.0  1.0  0.0  1.0  0.0  1.0  0.0  1.0   \n",
       "4      0.0  1.0  0.0  1.0  0.0  1.0  0.0  1.0  0.0  1.0  0.0  1.0  1.0  0.0   \n",
       "...    ...  ...  ...  ...  ...  ...  ...  ...  ...  ...  ...  ...  ...  ...   \n",
       "58715  0.0  1.0  1.0  0.0  1.0  0.0  0.0  1.0  1.0  0.0  0.0  1.0  0.0  0.0   \n",
       "58716  0.0  1.0  1.0  0.0  1.0  0.0  0.0  1.0  1.0  0.0  0.0  1.0  0.0  0.0   \n",
       "58717  1.0  0.0  1.0  0.0  1.0  0.0  0.0  1.0  1.0  0.0  1.0  0.0  0.0  0.0   \n",
       "58718  0.0  1.0  1.0  0.0  1.0  0.0  0.0  1.0  0.0  1.0  1.0  0.0  0.0  0.0   \n",
       "58719  0.0  1.0  0.0  1.0  0.0  1.0  0.0  1.0  0.0  1.0  0.0  1.0  0.0  0.0   \n",
       "\n",
       "        14   15   16   17   18  \n",
       "0      0.0  0.0  0.0  1.0  0.0  \n",
       "1      0.0  0.0  0.0  0.0  0.0  \n",
       "2      0.0  0.0  0.0  0.0  0.0  \n",
       "3      0.0  0.0  0.0  0.0  0.0  \n",
       "4      0.0  0.0  0.0  0.0  0.0  \n",
       "...    ...  ...  ...  ...  ...  \n",
       "58715  0.0  0.0  0.0  0.0  1.0  \n",
       "58716  0.0  0.0  0.0  0.0  1.0  \n",
       "58717  0.0  0.0  0.0  0.0  1.0  \n",
       "58718  0.0  0.0  0.0  0.0  1.0  \n",
       "58719  0.0  0.0  0.0  0.0  1.0  \n",
       "\n",
       "[58720 rows x 19 columns]"
      ]
     },
     "execution_count": 26,
     "metadata": {},
     "output_type": "execute_result"
    }
   ],
   "source": [
    "pd.DataFrame(ohe_X)"
   ]
  },
  {
   "cell_type": "code",
   "execution_count": null,
   "id": "prospective-prayer",
   "metadata": {},
   "outputs": [],
   "source": []
  },
  {
   "cell_type": "code",
   "execution_count": null,
   "id": "democratic-terrace",
   "metadata": {},
   "outputs": [],
   "source": [
    "from sklearn.linear_model import LogisticRegression\n",
    "from sklearn import metrics"
   ]
  },
  {
   "cell_type": "code",
   "execution_count": null,
   "id": "unauthorized-opinion",
   "metadata": {},
   "outputs": [],
   "source": [
    "logreg = LogisticRegression(max_iter=1000)\n",
    "logreg.fit(X_train_sm_onehot, y_train_sm)"
   ]
  },
  {
   "cell_type": "code",
   "execution_count": null,
   "id": "renewable-astronomy",
   "metadata": {
    "tags": []
   },
   "outputs": [],
   "source": [
    "y_pred = logreg.predict(X_test)"
   ]
  },
  {
   "cell_type": "code",
   "execution_count": null,
   "id": "vietnamese-kelly",
   "metadata": {},
   "outputs": [],
   "source": [
    "print('Accuracy of logistic regression classifier on test set: {:.2f}'.format(logreg.score(X_test, y_test)))"
   ]
  },
  {
   "cell_type": "code",
   "execution_count": null,
   "id": "according-animal",
   "metadata": {},
   "outputs": [],
   "source": [
    "from sklearn.metrics import confusion_matrix\n",
    "confusion_matrix = confusion_matrix(y_test, y_pred)\n",
    "print(confusion_matrix)"
   ]
  },
  {
   "cell_type": "code",
   "execution_count": null,
   "id": "lovely-beijing",
   "metadata": {},
   "outputs": [],
   "source": []
  }
 ],
 "metadata": {
  "kernelspec": {
   "display_name": "Team 107 Capstone Project",
   "language": "python",
   "name": "team_107_venv"
  },
  "language_info": {
   "codemirror_mode": {
    "name": "ipython",
    "version": 3
   },
   "file_extension": ".py",
   "mimetype": "text/x-python",
   "name": "python",
   "nbconvert_exporter": "python",
   "pygments_lexer": "ipython3",
   "version": "3.9.2"
  }
 },
 "nbformat": 4,
 "nbformat_minor": 5
}

{
 "cells": [
  {
   "cell_type": "code",
   "execution_count": 2,
   "id": "pacific-corner",
   "metadata": {},
   "outputs": [],
   "source": [
    "import pandas as pd, numpy as np"
   ]
  },
  {
   "cell_type": "markdown",
   "id": "recorded-priority",
   "metadata": {},
   "source": [
    "#### Link to Online Codebook\n",
    "https://www.census.gov/data-tools/demo/uccb/sippdict?sortby=topic"
   ]
  },
  {
   "cell_type": "markdown",
   "id": "herbal-footwear",
   "metadata": {},
   "source": [
    "#### Load Data Dictionary Files & Format df Column Names"
   ]
  },
  {
   "cell_type": "code",
   "execution_count": 6,
   "id": "israeli-hebrew",
   "metadata": {},
   "outputs": [],
   "source": [
    "# Read data dictionary csv's, create and display data dictionary df\n",
    "sipp_dict_1 = pd.read_csv('../data/raw/sipp_2018/sippdict_1_of_2.csv')\n",
    "sipp_dict_2 = pd.read_csv('../data/raw/sipp_2018/sippdict_2_of_2.csv')\n",
    "sipp_dict = pd.concat([sipp_dict_1, sipp_dict_2])\n",
    "#sipp_dict.columns = [name.lower().replace(' ', '_') for name in sipp_dict.columns]"
   ]
  },
  {
   "cell_type": "code",
   "execution_count": 7,
   "id": "particular-culture",
   "metadata": {},
   "outputs": [
    {
     "data": {
      "text/plain": [
       "Index(['Variable', 'Topic', 'Subtopic', 'Survey Years', 'Response Code',\n",
       "       'Description', 'Question', 'Data Type', 'Universe',\n",
       "       'Universe Description', 'User Notes', 'Record Level'],\n",
       "      dtype='object')"
      ]
     },
     "execution_count": 7,
     "metadata": {},
     "output_type": "execute_result"
    }
   ],
   "source": [
    "sipp_dict.columns\n"
   ]
  },
  {
   "cell_type": "markdown",
   "id": "backed-chosen",
   "metadata": {},
   "source": [
    "#### Filtering Cell"
   ]
  },
  {
   "cell_type": "code",
   "execution_count": 16,
   "id": "spread-diary",
   "metadata": {},
   "outputs": [],
   "source": [
    "# Create boolean masks to drill down to dictionary variables\n",
    "\n",
    "# Survey year filter\n",
    "mask_2018 = sipp_dict.survey_years.str.contains('2018')\n",
    "\n",
    "# Topic filter\n",
    "topic = 'Assets'                              # << Type topic you want to filter by here \n",
    "list_topic = sipp_dict.topic.unique()         # Print this variable to view list of topics\n",
    "mask_topic = sipp_dict.topic == topic\n",
    "\n",
    "# Topic filter 2 (optiona)\n",
    "topic2 = 'Demographics'                              \n",
    "mask_topic2 = sipp_dict.topic == topic2\n",
    "\n",
    "# Subtopic filter\n",
    "subtopic = 'Commuting and Work Schedule'                              # << Type subtopic you want to filter by here \n",
    "list_subtopic = sipp_dict.subtopic.unique()   # Print this variable to view list of all subtopics\n",
    "mask_subtopic = sipp_dict.subtopic == subtopic\n",
    "\n",
    "# Exclusion masks\n",
    "mask_flag = ~sipp_dict.description.str.contains('Status Flag')\n",
    "mask_suppressed =  ~sipp_dict.description.str.contains('Suppressed')\n",
    "mask_topcoded_stats = ~sipp_dict.description.str.contains('Median|standard deviation')\n",
    "mask_exclusions = mask_flag & mask_suppressed & mask_topcoded_stats\n",
    "\n",
    "# Combines all filters groups. Exclude a filter group by commenting out line\n",
    "mask_final = (mask_2018 \n",
    "              #& (mask_topic | mask_topic2)\n",
    "              & mask_exclusions\n",
    "             )"
   ]
  },
  {
   "cell_type": "markdown",
   "id": "sunset-feedback",
   "metadata": {},
   "source": [
    "#### Create & Display Filtered Data Dictionary"
   ]
  },
  {
   "cell_type": "code",
   "execution_count": 17,
   "id": "demanding-wiring",
   "metadata": {},
   "outputs": [
    {
     "data": {
      "text/plain": [
       "(2191, 6)"
      ]
     },
     "execution_count": 17,
     "metadata": {},
     "output_type": "execute_result"
    }
   ],
   "source": [
    "# Display filtered data dictionary\n",
    "pd.set_option('display.max_colwidth', None)   # display all column text\n",
    "filtered_data_dict = sipp_dict[mask_final][['variable', 'data_type', 'description', 'topic', 'subtopic', 'record_level']]\n",
    "filtered_data_dict.head()\n",
    "filtered_data_dict.shape"
   ]
  },
  {
   "cell_type": "markdown",
   "id": "individual-christian",
   "metadata": {},
   "source": [
    "#### Save Filtered Data Dictionary to csv"
   ]
  },
  {
   "cell_type": "code",
   "execution_count": 18,
   "id": "central-kernel",
   "metadata": {},
   "outputs": [],
   "source": [
    "# Optional - save to csv. I find it easier to browse large tables on excel than jupyter.\n",
    "filepath = '../data/interim/feature_import_meta.csv'  # this filepath saves to your desktop on mac\n",
    "filtered_data_dict.to_csv(filepath, index=False)"
   ]
  },
  {
   "cell_type": "markdown",
   "id": "turned-language",
   "metadata": {},
   "source": [
    "## Create Metadata csv's - 1 for Each Topic"
   ]
  },
  {
   "cell_type": "code",
   "execution_count": 28,
   "id": "former-might",
   "metadata": {},
   "outputs": [],
   "source": [
    "def create_data_dict(df, topic):\n",
    "    '''\n",
    "    Create a data dictionary and save to csv that is limited to the topic that is provided in the input.\n",
    "    Input: df and topic as string. Topic corresponds to values in the topic column of the inputted csv.\n",
    "    Output: csv saved to the interim data directory.\n",
    "    '''\n",
    "    \n",
    "    # Masks\n",
    "    mask_topic = df.topic == topic\n",
    "    mask_2018 = df.survey_years.str.contains('2018')\n",
    "    mask_flag = ~sipp_dict.description.str.contains('Status Flag')\n",
    "    mask_suppressed =  ~sipp_dict.description.str.contains('Suppressed')\n",
    "    mask_topcoded_stats = ~sipp_dict.description.str.contains('Median|standard deviation')\n",
    "    all_masks = mask_topic & mask_2018 & mask_flag & mask_suppressed & mask_topcoded_stats\n",
    "    \n",
    "    filtered_data_dict = df[all_masks][['variable', 'data_type', 'description', 'topic', 'subtopic', 'record_level']]\n",
    "    filepath = '../data/interim/feature_import_meta_' + topic.replace(' ', '_').lower() + '.csv'\n",
    "    filtered_data_dict.to_csv(filepath, index=False)\n",
    "    \n",
    "    return print(f'csv has {filtered_data_dict.shape[0]} rows and was saved to {filepath}')"
   ]
  },
  {
   "cell_type": "code",
   "execution_count": 30,
   "id": "consecutive-championship",
   "metadata": {},
   "outputs": [
    {
     "name": "stdout",
     "output_type": "stream",
     "text": [
      "csv has 46 rows and was saved to ../data/interim/feature_import_meta_adult_and_child_well_being.csv\n",
      "csv has 447 rows and was saved to ../data/interim/feature_import_meta_assets.csv\n",
      "csv has 42 rows and was saved to ../data/interim/feature_import_meta_child_and_dependent_care.csv\n",
      "csv has 4 rows and was saved to ../data/interim/feature_import_meta_coverage.csv\n",
      "csv has 116 rows and was saved to ../data/interim/feature_import_meta_demographics.csv\n",
      "csv has 13 rows and was saved to ../data/interim/feature_import_meta_disability.csv\n",
      "csv has 20 rows and was saved to ../data/interim/feature_import_meta_education_enrollment.csv\n",
      "csv has 15 rows and was saved to ../data/interim/feature_import_meta_fertility_history.csv\n",
      "csv has 45 rows and was saved to ../data/interim/feature_import_meta_health_care.csv\n",
      "csv has 91 rows and was saved to ../data/interim/feature_import_meta_health_insurance.csv\n",
      "csv has 16 rows and was saved to ../data/interim/feature_import_meta_id_variables.csv\n",
      "csv has 18 rows and was saved to ../data/interim/feature_import_meta_residences.csv\n",
      "csv has 893 rows and was saved to ../data/interim/feature_import_meta_labor_force.csv\n",
      "csv has 10 rows and was saved to ../data/interim/feature_import_meta_marital_history.csv\n",
      "csv has 6 rows and was saved to ../data/interim/feature_import_meta_parents'_natality_and_mortality.csv\n",
      "csv has 21 rows and was saved to ../data/interim/feature_import_meta_poverty_and_income.csv\n",
      "csv has 337 rows and was saved to ../data/interim/feature_import_meta_programs.csv\n",
      "csv has 51 rows and was saved to ../data/interim/feature_import_meta_type_2_people.csv\n"
     ]
    }
   ],
   "source": [
    "for topic in sipp_dict.topic.unique():\n",
    "    create_data_dict(sipp_dict, topic)"
   ]
  },
  {
   "cell_type": "code",
   "execution_count": null,
   "id": "reverse-basin",
   "metadata": {},
   "outputs": [],
   "source": []
  }
 ],
 "metadata": {
  "kernelspec": {
   "display_name": "Team 107 Capstone Project",
   "language": "python",
   "name": "team_107_venv"
  },
  "language_info": {
   "codemirror_mode": {
    "name": "ipython",
    "version": 3
   },
   "file_extension": ".py",
   "mimetype": "text/x-python",
   "name": "python",
   "nbconvert_exporter": "python",
   "pygments_lexer": "ipython3",
   "version": "3.9.2"
  }
 },
 "nbformat": 4,
 "nbformat_minor": 5
}

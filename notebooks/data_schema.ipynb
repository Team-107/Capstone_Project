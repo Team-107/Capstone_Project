{
 "cells": [
  {
   "cell_type": "code",
   "execution_count": 1,
   "id": "productive-taxation",
   "metadata": {},
   "outputs": [],
   "source": [
    "import pandas as pd, numpy as np\n",
    "from datetime import date"
   ]
  },
  {
   "cell_type": "markdown",
   "id": "traditional-capital",
   "metadata": {},
   "source": [
    "#### Link to Online Codebook\n",
    "https://www.census.gov/data-tools/demo/uccb/sippdict?sortby=topic"
   ]
  },
  {
   "cell_type": "markdown",
   "id": "selected-honolulu",
   "metadata": {},
   "source": [
    "#### Load Data Dictionary Files & Format df Column Names"
   ]
  },
  {
   "cell_type": "code",
   "execution_count": 2,
   "id": "fancy-experience",
   "metadata": {},
   "outputs": [],
   "source": [
    "# Read data dictionary csv's, create and display data dictionary df\n",
    "sipp_dict_1 = pd.read_csv('../data/raw/sipp_2018/sippdict_1_of_2.csv')\n",
    "sipp_dict_2 = pd.read_csv('../data/raw/sipp_2018/sippdict_2_of_2.csv')\n",
    "sipp_dict = pd.concat([sipp_dict_1, sipp_dict_2])\n",
    "sipp_dict.columns = [name.lower().replace(' ', '_') for name in sipp_dict.columns]"
   ]
  },
  {
   "cell_type": "code",
   "execution_count": 3,
   "id": "differential-break",
   "metadata": {},
   "outputs": [
    {
     "data": {
      "text/html": [
       "<div>\n",
       "<style scoped>\n",
       "    .dataframe tbody tr th:only-of-type {\n",
       "        vertical-align: middle;\n",
       "    }\n",
       "\n",
       "    .dataframe tbody tr th {\n",
       "        vertical-align: top;\n",
       "    }\n",
       "\n",
       "    .dataframe thead th {\n",
       "        text-align: right;\n",
       "    }\n",
       "</style>\n",
       "<table border=\"1\" class=\"dataframe\">\n",
       "  <thead>\n",
       "    <tr style=\"text-align: right;\">\n",
       "      <th></th>\n",
       "      <th>variable</th>\n",
       "      <th>topic</th>\n",
       "      <th>subtopic</th>\n",
       "      <th>survey_years</th>\n",
       "      <th>response_code</th>\n",
       "      <th>description</th>\n",
       "      <th>question</th>\n",
       "      <th>data_type</th>\n",
       "      <th>universe</th>\n",
       "      <th>universe_description</th>\n",
       "      <th>user_notes</th>\n",
       "      <th>record_level</th>\n",
       "    </tr>\n",
       "  </thead>\n",
       "  <tbody>\n",
       "    <tr>\n",
       "      <th>0</th>\n",
       "      <td>EAWBCRACK</td>\n",
       "      <td>Adult and Child Well Being</td>\n",
       "      <td>Adult Well-Being</td>\n",
       "      <td>2018</td>\n",
       "      <td>1. Yes||2. No</td>\n",
       "      <td>Are there cracks in the ceiling or walls?</td>\n",
       "      <td>Are there cracks in the ceiling or walls?</td>\n",
       "      <td>Numeric</td>\n",
       "      <td>THHLDSTATUS in (1,2,3,4)</td>\n",
       "      <td>All interviewed households (asked of reference...</td>\n",
       "      <td>Descriptions, response codes, and universes ma...</td>\n",
       "      <td>Household</td>\n",
       "    </tr>\n",
       "    <tr>\n",
       "      <th>1</th>\n",
       "      <td>EAWBCRACK</td>\n",
       "      <td>Adult and Child Well Being</td>\n",
       "      <td>Adult Well-Being</td>\n",
       "      <td>2014 Wave 4, 2014 Wave 3, 2014 Wave 2, 2014 Wa...</td>\n",
       "      <td>1. Yes||2. No</td>\n",
       "      <td>Are there cracks in the ceiling or walls?</td>\n",
       "      <td>Are there cracks in the ceiling or walls?</td>\n",
       "      <td>Numeric</td>\n",
       "      <td>All interviewed households.</td>\n",
       "      <td>All interviewed households (asked of reference...</td>\n",
       "      <td>Descriptions, response codes, and universes ma...</td>\n",
       "      <td>Household</td>\n",
       "    </tr>\n",
       "    <tr>\n",
       "      <th>2</th>\n",
       "      <td>EAWBGAS</td>\n",
       "      <td>Adult and Child Well Being</td>\n",
       "      <td>Adult Well-Being</td>\n",
       "      <td>2018</td>\n",
       "      <td>1. Yes||2. No</td>\n",
       "      <td>Was ... unable to pay the utility bills?</td>\n",
       "      <td>Was ... unable to pay the utility bills?</td>\n",
       "      <td>Numeric</td>\n",
       "      <td>THHLDSTATUS in (1,2,3,4)</td>\n",
       "      <td>All interviewed households (asked of reference...</td>\n",
       "      <td>Descriptions, response codes, and universes ma...</td>\n",
       "      <td>Household</td>\n",
       "    </tr>\n",
       "    <tr>\n",
       "      <th>3</th>\n",
       "      <td>EAWBGAS</td>\n",
       "      <td>Adult and Child Well Being</td>\n",
       "      <td>Adult Well-Being</td>\n",
       "      <td>2014 Wave 4, 2014 Wave 3, 2014 Wave 2, 2014 Wa...</td>\n",
       "      <td>1. Yes||2. No</td>\n",
       "      <td>Was ... unable to pay the utility bills?</td>\n",
       "      <td>Was ... unable to pay the utility bills?</td>\n",
       "      <td>Numeric</td>\n",
       "      <td>All interviewed households.</td>\n",
       "      <td>All interviewed households (asked of reference...</td>\n",
       "      <td>Descriptions, response codes, and universes ma...</td>\n",
       "      <td>Household</td>\n",
       "    </tr>\n",
       "    <tr>\n",
       "      <th>4</th>\n",
       "      <td>EAWBHOLES</td>\n",
       "      <td>Adult and Child Well Being</td>\n",
       "      <td>Adult Well-Being</td>\n",
       "      <td>2018</td>\n",
       "      <td>1. Yes||2. No</td>\n",
       "      <td>Are there holes in the floor?</td>\n",
       "      <td>Are there holes in the floor?</td>\n",
       "      <td>Numeric</td>\n",
       "      <td>THHLDSTATUS in (1,2,3,4)</td>\n",
       "      <td>All interviewed households (asked of reference...</td>\n",
       "      <td>Descriptions, response codes, and universes ma...</td>\n",
       "      <td>Household</td>\n",
       "    </tr>\n",
       "  </tbody>\n",
       "</table>\n",
       "</div>"
      ],
      "text/plain": [
       "    variable                       topic          subtopic  \\\n",
       "0  EAWBCRACK  Adult and Child Well Being  Adult Well-Being   \n",
       "1  EAWBCRACK  Adult and Child Well Being  Adult Well-Being   \n",
       "2    EAWBGAS  Adult and Child Well Being  Adult Well-Being   \n",
       "3    EAWBGAS  Adult and Child Well Being  Adult Well-Being   \n",
       "4  EAWBHOLES  Adult and Child Well Being  Adult Well-Being   \n",
       "\n",
       "                                        survey_years  response_code  \\\n",
       "0                                               2018  1. Yes||2. No   \n",
       "1  2014 Wave 4, 2014 Wave 3, 2014 Wave 2, 2014 Wa...  1. Yes||2. No   \n",
       "2                                               2018  1. Yes||2. No   \n",
       "3  2014 Wave 4, 2014 Wave 3, 2014 Wave 2, 2014 Wa...  1. Yes||2. No   \n",
       "4                                               2018  1. Yes||2. No   \n",
       "\n",
       "                                 description  \\\n",
       "0  Are there cracks in the ceiling or walls?   \n",
       "1  Are there cracks in the ceiling or walls?   \n",
       "2   Was ... unable to pay the utility bills?   \n",
       "3   Was ... unable to pay the utility bills?   \n",
       "4              Are there holes in the floor?   \n",
       "\n",
       "                                    question data_type  \\\n",
       "0  Are there cracks in the ceiling or walls?   Numeric   \n",
       "1  Are there cracks in the ceiling or walls?   Numeric   \n",
       "2   Was ... unable to pay the utility bills?   Numeric   \n",
       "3   Was ... unable to pay the utility bills?   Numeric   \n",
       "4              Are there holes in the floor?   Numeric   \n",
       "\n",
       "                      universe  \\\n",
       "0     THHLDSTATUS in (1,2,3,4)   \n",
       "1  All interviewed households.   \n",
       "2     THHLDSTATUS in (1,2,3,4)   \n",
       "3  All interviewed households.   \n",
       "4     THHLDSTATUS in (1,2,3,4)   \n",
       "\n",
       "                                universe_description  \\\n",
       "0  All interviewed households (asked of reference...   \n",
       "1  All interviewed households (asked of reference...   \n",
       "2  All interviewed households (asked of reference...   \n",
       "3  All interviewed households (asked of reference...   \n",
       "4  All interviewed households (asked of reference...   \n",
       "\n",
       "                                          user_notes record_level  \n",
       "0  Descriptions, response codes, and universes ma...    Household  \n",
       "1  Descriptions, response codes, and universes ma...    Household  \n",
       "2  Descriptions, response codes, and universes ma...    Household  \n",
       "3  Descriptions, response codes, and universes ma...    Household  \n",
       "4  Descriptions, response codes, and universes ma...    Household  "
      ]
     },
     "execution_count": 3,
     "metadata": {},
     "output_type": "execute_result"
    }
   ],
   "source": [
    "sipp_dict.head()"
   ]
  },
  {
   "cell_type": "markdown",
   "id": "exact-rwanda",
   "metadata": {},
   "source": [
    "#### Identify Variable Names for Data Schema"
   ]
  },
  {
   "cell_type": "code",
   "execution_count": 11,
   "id": "bearing-wages",
   "metadata": {},
   "outputs": [],
   "source": [
    "# Harrison's Columns\n",
    "\n",
    "collateralized_debt = ['EBOATDEBT', 'EMCYCDEBT', 'EMHLOAN1SITE', 'EPRDEBT', 'EPRLOAN1FXVR', 'EPRLOAN1RATE',\n",
    "                      'EPRLOAN1TYPE', 'ERVDEBT', 'TBOATDEBTVAL', 'TBSI1DEBTVAL', 'TMCYCDEBTVAL', 'TDEBT_BUS', 'TDEBT_HOME',\n",
    "                       'TDEBT_RE', 'TDEBT_SEC', 'TDEBT_VEH', 'TPRLOANAMT', 'TRVDEBTVAL']\n",
    "\n",
    "unsecured_debt = ['EDEBT_CC', 'EDEBT_ED', 'EDEBT_MED', 'EJSCCDEBT', 'EJSEDDEBT', 'EJSOTDEBT',  'TDEBT_CC', 'TDEBT_ED',\n",
    "                 'TDEBT_OT', 'TDEBT_BUS', 'TDEBT_AST', 'TDEBT_RENT', 'TDEBT_USEC']\n",
    "\n",
    "arthur_boat_bonus = ['EREC_BOAT', 'TBOATVAL']\n",
    "\n",
    "harrison_cols = collateralized_debt + unsecured_debt + arthur_boat_bonus"
   ]
  },
  {
   "cell_type": "code",
   "execution_count": 12,
   "id": "cathedral-grave",
   "metadata": {},
   "outputs": [],
   "source": [
    "# Standard Columns suggested by Census\n",
    "std_cols = [#Common case-identification variables\n",
    "    'SSUID','PNUM','MONTHCODE','ERESIDENCEID','ERELRPE','SPANEL','SWAVE',\n",
    "    #The base weight and monthly in-survey-universe indicator\n",
    "    'WPFINWGT','RIN_UNIV',\n",
    "    #Additional variables for analysis\n",
    "    'TPTOTINC','RTANF_MNYN']\n",
    "\n",
    "# Core Demographics columns\n",
    "demo_cols = ['ESEX', 'TAGE', 'TRACE',          # sex, age @interview, detailed race\n",
    "             'EORIGIN', 'TLANG1', 'EHOWWELL',  # hispanic origin, lang spoken @home, how well eng spoken\n",
    "             'EBORNUS', 'ECITIZEN', 'ESPEAK',  # US born, US citizen, lang other than eng at home\n",
    "             'RFAMKIND', 'EMS', 'EEDUC',       # family type, marital status, highest school/degree completed\n",
    "             'RLNGISOL', 'TLIVQTR', 'ETENURE', # ltd eng household, type livng qtr, own/rent/other livng qtr\n",
    "             'TEHC_REGION', 'TEHC_STATE'       # state and region\n",
    "            ]\n",
    "\n",
    "# Set of Stock and 401k ownership columns\n",
    "st_own_cols = ['EOWN_ST', 'EOWN_THR401']       # own stocks, own 401k/tax-sheltered investment\n",
    "\n",
    "# Team Topic Columns\n",
    "jesus_cols =['TPTRNINC']\n",
    "\n",
    "ivan_cols = ['TTHR401VAL', 'TIRAKEOVAL', 'TOSAVVAL']\n",
    "\n",
    "stanley_cols = []\n",
    "\n",
    "arthur_cols = []\n",
    "\n",
    "team_cols = ivan_cols + jesus_cols + stanley_cols + harrison_cols + arthur_cols\n",
    "\n",
    "# Concatenate columns to import\n",
    "data_schema_variables = (std_cols\n",
    "                         + demo_cols \n",
    "                         + st_own_cols\n",
    "                         + team_cols\n",
    "                        )"
   ]
  },
  {
   "cell_type": "markdown",
   "id": "drawn-expert",
   "metadata": {},
   "source": [
    "#### Filtering Cell"
   ]
  },
  {
   "cell_type": "code",
   "execution_count": 14,
   "id": "affected-showcase",
   "metadata": {},
   "outputs": [],
   "source": [
    "# Create boolean masks to drill down to dictionary variables\n",
    "\n",
    "# Variable mask\n",
    "variable_mask = sipp_dict.variable.isin(data_schema_variables)\n",
    "\n",
    "# Combine masks\n",
    "mask_final = variable_mask"
   ]
  },
  {
   "cell_type": "markdown",
   "id": "industrial-reset",
   "metadata": {},
   "source": [
    "#### Create & Display Data Schema"
   ]
  },
  {
   "cell_type": "code",
   "execution_count": 16,
   "id": "differential-convert",
   "metadata": {},
   "outputs": [],
   "source": [
    "# Display filtered data dictionary\n",
    "pd.set_option('display.max_colwidth', 0)   # display all column text\n",
    "filtered_data_dict = sipp_dict[mask_final][['variable', 'data_type', 'description']]\n",
    "filtered_data_dict['variable'] = (filtered_data_dict\n",
    "                                  .variable\n",
    "                                  .str.lower()\n",
    "                                  .str.replace(' ', '_')\n",
    "                                 )"
   ]
  },
  {
   "cell_type": "markdown",
   "id": "affiliated-weekend",
   "metadata": {},
   "source": [
    "#### Save Data Schema to csv"
   ]
  },
  {
   "cell_type": "code",
   "execution_count": 17,
   "id": "magnetic-empty",
   "metadata": {},
   "outputs": [],
   "source": [
    "# Save to csv\n",
    "today = date.today()\n",
    "filepath = f'../docs/data_schema/data_schema_{today}.csv'\n",
    "filtered_data_dict.to_csv(filepath, index=False)"
   ]
  },
  {
   "cell_type": "code",
   "execution_count": 21,
   "id": "accepted-state",
   "metadata": {},
   "outputs": [
    {
     "data": {
      "text/plain": [
       "variable       113\n",
       "data_type      113\n",
       "description    113\n",
       "dtype: int64"
      ]
     },
     "execution_count": 21,
     "metadata": {},
     "output_type": "execute_result"
    }
   ],
   "source": [
    "filtered_data_dict.count()"
   ]
  },
  {
   "cell_type": "code",
   "execution_count": null,
   "id": "under-stretch",
   "metadata": {},
   "outputs": [],
   "source": []
  }
 ],
 "metadata": {
  "kernelspec": {
   "display_name": "Team 107 Capstone Project",
   "language": "python",
   "name": "team_107_venv"
  },
  "language_info": {
   "codemirror_mode": {
    "name": "ipython",
    "version": 3
   },
   "file_extension": ".py",
   "mimetype": "text/x-python",
   "name": "python",
   "nbconvert_exporter": "python",
   "pygments_lexer": "ipython3",
   "version": "3.9.2"
  }
 },
 "nbformat": 4,
 "nbformat_minor": 5
}

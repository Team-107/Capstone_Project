{
 "cells": [
  {
   "cell_type": "code",
   "execution_count": 1,
   "id": "banner-following",
   "metadata": {},
   "outputs": [],
   "source": [
    "import pandas as pd\n",
    "import numpy as np\n",
    "#from sklearn.feature_selection import VarianceThreshold\n",
    "#from sklearn.feature_selection import SelectKBest\n",
    "#from sklearn.feature_selection import chi2\n",
    "from sklearn.model_selection import train_test_split\n",
    "#import matplotlib.pyplot as plt\n",
    "#import seaborn as sns\n",
    "%matplotlib inline"
   ]
  },
  {
   "cell_type": "code",
   "execution_count": 2,
   "id": "suitable-horse",
   "metadata": {},
   "outputs": [],
   "source": [
    "sipp_2018 = pd.read_csv('../data/interim/sipp2018_person/sipp2018_person.csv')"
   ]
  },
  {
   "cell_type": "code",
   "execution_count": 3,
   "id": "forward-aluminum",
   "metadata": {},
   "outputs": [
    {
     "data": {
      "text/plain": [
       "7     14293\n",
       "6     14176\n",
       "9      9524\n",
       "5      6000\n",
       "10     4955\n",
       "8       756\n",
       "Name: EEDUC_X, dtype: int64"
      ]
     },
     "execution_count": 3,
     "metadata": {},
     "output_type": "execute_result"
    }
   ],
   "source": [
    "# collapse eeduc categories\n",
    "\n",
    "m1 = {5:[31,32,33,34,35,36,37,38], \n",
    "      6:[39],\n",
    "      7:[40,41,42],\n",
    "      8:[45],\n",
    "      9:[43],\n",
    "      10:[44,46],\n",
    "     }\n",
    "m2 = {v: k for k,vv in m1.items() for v in vv}\n",
    "m2\n",
    "sipp_2018['EEDUC_X'] = (sipp_2018\n",
    "                        .EEDUC\n",
    "                        .map(m2)\n",
    "                        .astype('category')\n",
    "                       )\n",
    "sipp_2018.EEDUC_X.value_counts()"
   ]
  },
  {
   "cell_type": "code",
   "execution_count": 4,
   "id": "final-american",
   "metadata": {},
   "outputs": [],
   "source": [
    "# Initialize Independent and Target Features \n",
    "y = sipp_2018.EOWN_ST\n",
    "X = sipp_2018.drop(['SSUID', 'PNUM', 'EOWN_ST'], axis='columns')"
   ]
  },
  {
   "cell_type": "code",
   "execution_count": 5,
   "id": "impossible-anderson",
   "metadata": {},
   "outputs": [],
   "source": [
    "X_train, X_test, y_train, y_test = train_test_split(X, y, test_size=0.20, random_state=23)"
   ]
  },
  {
   "cell_type": "code",
   "execution_count": 6,
   "id": "auburn-container",
   "metadata": {},
   "outputs": [
    {
     "data": {
      "text/html": [
       "<div>\n",
       "<style scoped>\n",
       "    .dataframe tbody tr th:only-of-type {\n",
       "        vertical-align: middle;\n",
       "    }\n",
       "\n",
       "    .dataframe tbody tr th {\n",
       "        vertical-align: top;\n",
       "    }\n",
       "\n",
       "    .dataframe thead th {\n",
       "        text-align: right;\n",
       "    }\n",
       "</style>\n",
       "<table border=\"1\" class=\"dataframe\">\n",
       "  <thead>\n",
       "    <tr style=\"text-align: right;\">\n",
       "      <th></th>\n",
       "      <th>percent_missing</th>\n",
       "    </tr>\n",
       "  </thead>\n",
       "  <tbody>\n",
       "    <tr>\n",
       "      <th>TWKHRS5</th>\n",
       "      <td>1.000000</td>\n",
       "    </tr>\n",
       "    <tr>\n",
       "      <th>EJB6_WSHMSAT</th>\n",
       "      <td>1.000000</td>\n",
       "    </tr>\n",
       "    <tr>\n",
       "      <th>EJB6_JBORSE</th>\n",
       "      <td>1.000000</td>\n",
       "    </tr>\n",
       "    <tr>\n",
       "      <th>EJB5_PROPB</th>\n",
       "      <td>1.000000</td>\n",
       "    </tr>\n",
       "    <tr>\n",
       "      <th>EDDELAY</th>\n",
       "      <td>1.000000</td>\n",
       "    </tr>\n",
       "    <tr>\n",
       "      <th>...</th>\n",
       "      <td>...</td>\n",
       "    </tr>\n",
       "    <tr>\n",
       "      <th>ETRANS_MNYN</th>\n",
       "      <td>0.001207</td>\n",
       "    </tr>\n",
       "    <tr>\n",
       "      <th>TEHC_REGION</th>\n",
       "      <td>0.001207</td>\n",
       "    </tr>\n",
       "    <tr>\n",
       "      <th>EOTHAS_MNYN</th>\n",
       "      <td>0.001207</td>\n",
       "    </tr>\n",
       "    <tr>\n",
       "      <th>EFOOD_MNYN</th>\n",
       "      <td>0.001207</td>\n",
       "    </tr>\n",
       "    <tr>\n",
       "      <th>RSNAP_MNYN</th>\n",
       "      <td>0.000025</td>\n",
       "    </tr>\n",
       "  </tbody>\n",
       "</table>\n",
       "<p>1833 rows × 1 columns</p>\n",
       "</div>"
      ],
      "text/plain": [
       "              percent_missing\n",
       "TWKHRS5              1.000000\n",
       "EJB6_WSHMSAT         1.000000\n",
       "EJB6_JBORSE          1.000000\n",
       "EJB5_PROPB           1.000000\n",
       "EDDELAY              1.000000\n",
       "...                       ...\n",
       "ETRANS_MNYN          0.001207\n",
       "TEHC_REGION          0.001207\n",
       "EOTHAS_MNYN          0.001207\n",
       "EFOOD_MNYN           0.001207\n",
       "RSNAP_MNYN           0.000025\n",
       "\n",
       "[1833 rows x 1 columns]"
      ]
     },
     "execution_count": 6,
     "metadata": {},
     "output_type": "execute_result"
    }
   ],
   "source": [
    "# Return df with all features with % missing values more than 70%\n",
    "desc = X_train.describe().T\n",
    "desc = (desc\n",
    "        .assign(percent_missing = 1 - (desc['count'] / len(X_train)))\n",
    "        .percent_missing\n",
    "        .sort_values(ascending=False)\n",
    "        .to_frame()\n",
    "        .query('percent_missing > 0')\n",
    "       )\n",
    "desc"
   ]
  },
  {
   "cell_type": "code",
   "execution_count": 7,
   "id": "weird-transport",
   "metadata": {},
   "outputs": [],
   "source": [
    "# Read Metadata\n",
    "sipp_dict_1 = pd.read_csv('../data/raw/sipp_2018/sippdict_1_of_2.csv')\n",
    "sipp_dict_2 = pd.read_csv('../data/raw/sipp_2018/sippdict_2_of_2.csv')\n",
    "sipp_dict = (pd.concat([sipp_dict_1, sipp_dict_2])\n",
    "             .set_index('Variable')\n",
    "             [['Description', 'Topic','Response Code']]\n",
    "            )\n",
    "# Inner Join High NaN with metadata dict\n",
    "high_nan_metadata = pd.merge(sipp_dict, desc, left_index=True, right_index=True, how='inner')\n",
    "high_nan_metadata.to_csv('../data/interim/sipp2018_person/FOR_REVIEW_high_NaN_features.csv', index=True)\n"
   ]
  },
  {
   "cell_type": "code",
   "execution_count": 8,
   "id": "every-adolescent",
   "metadata": {},
   "outputs": [
    {
     "name": "stdout",
     "output_type": "stream",
     "text": [
      "X_train shape: (39763, 291)\n",
      "X_test shape: (9941, 291)\n"
     ]
    }
   ],
   "source": [
    "high_nan_features = list(desc.T.columns)\n",
    "\n",
    "# Transform train set\n",
    "X_train = X_train.drop(high_nan_features, axis='columns')\n",
    "print(f'X_train shape: {X_train.shape}')\n",
    "\n",
    "# Transform test set\n",
    "X_test = X_test.drop(high_nan_features, axis='columns')\n",
    "print(f'X_test shape: {X_test.shape}')"
   ]
  },
  {
   "cell_type": "code",
   "execution_count": 9,
   "id": "subsequent-flash",
   "metadata": {},
   "outputs": [],
   "source": [
    "from sklearn.ensemble import RandomForestClassifier\n",
    "from sklearn.feature_selection import SelectFromModel"
   ]
  },
  {
   "cell_type": "code",
   "execution_count": 10,
   "id": "mental-scenario",
   "metadata": {},
   "outputs": [
    {
     "data": {
      "text/plain": [
       "SelectFromModel(estimator=RandomForestClassifier())"
      ]
     },
     "execution_count": 10,
     "metadata": {},
     "output_type": "execute_result"
    }
   ],
   "source": [
    "sel = SelectFromModel(RandomForestClassifier(n_estimators=100))\n",
    "sel.fit(X_train, y_train)"
   ]
  },
  {
   "cell_type": "code",
   "execution_count": 11,
   "id": "executive-driver",
   "metadata": {},
   "outputs": [
    {
     "data": {
      "text/plain": [
       "array([False, False, False, False, False, False, False, False, False,\n",
       "       False, False, False, False, False, False, False, False, False,\n",
       "       False, False, False, False, False, False, False, False, False,\n",
       "       False, False, False, False, False, False, False, False, False,\n",
       "       False, False, False, False, False, False, False, False, False,\n",
       "       False, False, False, False, False, False, False, False, False,\n",
       "       False, False,  True,  True, False, False, False, False,  True,\n",
       "       False, False, False, False, False, False, False, False, False,\n",
       "       False, False, False,  True,  True,  True,  True, False,  True,\n",
       "       False, False, False, False, False, False, False, False, False,\n",
       "       False, False, False, False,  True,  True, False, False, False,\n",
       "        True, False,  True, False, False,  True, False,  True, False,\n",
       "        True, False,  True,  True,  True,  True,  True, False, False,\n",
       "       False, False, False, False, False, False, False, False, False,\n",
       "        True,  True, False, False, False, False, False, False, False,\n",
       "       False, False, False, False, False,  True, False,  True, False,\n",
       "        True, False,  True, False, False, False, False, False, False,\n",
       "       False, False, False, False, False, False, False, False, False,\n",
       "       False, False, False, False, False, False, False, False, False,\n",
       "       False, False, False, False, False, False, False, False, False,\n",
       "       False, False, False, False, False, False, False, False, False,\n",
       "       False, False, False, False, False, False, False, False, False,\n",
       "       False, False, False, False, False, False, False, False, False,\n",
       "       False, False,  True, False, False, False, False, False, False,\n",
       "       False, False, False, False, False, False, False, False, False,\n",
       "       False, False, False, False, False, False, False, False, False,\n",
       "       False, False, False, False, False, False, False, False, False,\n",
       "       False, False, False, False, False, False, False, False, False,\n",
       "       False, False, False, False, False, False, False, False, False,\n",
       "       False, False, False, False, False, False, False, False, False,\n",
       "        True, False, False, False,  True, False, False, False, False,\n",
       "        True, False, False, False,  True,  True,  True,  True, False,\n",
       "       False, False, False])"
      ]
     },
     "execution_count": 11,
     "metadata": {},
     "output_type": "execute_result"
    }
   ],
   "source": [
    "sel.get_support()"
   ]
  },
  {
   "cell_type": "code",
   "execution_count": 12,
   "id": "intermediate-concept",
   "metadata": {},
   "outputs": [],
   "source": [
    "select_features = X_train.columns[(sel.get_support())]"
   ]
  },
  {
   "cell_type": "code",
   "execution_count": 13,
   "id": "surrounded-airline",
   "metadata": {},
   "outputs": [
    {
     "data": {
      "text/plain": [
       "Index(['EOWN_MM', 'EOWN_MF', 'EOWN_IRAKEO', 'TINC_BANK', 'TVAL_BANK',\n",
       "       'TINC_STMF', 'TVAL_STMF', 'TVAL_BOND', 'TINC_AST', 'TVAL_RET',\n",
       "       'TVAL_HOME', 'TEQ_HOME', 'TEQ_VEH', 'TVAL_RMU', 'TVAL_AST', 'TNETWORTH',\n",
       "       'THINC_BANK', 'THVAL_BANK', 'THINC_STMF', 'THVAL_STMF', 'THINC_AST',\n",
       "       'THVAL_RET', 'THEQ_VEH', 'THVAL_RMU', 'THVAL_AST', 'THNETWORTH',\n",
       "       'TAGE_EHC', 'TPPRPINC', 'TPTOTINC', 'TFINCPOV', 'TFCYINCPOV',\n",
       "       'TFCYINCPOVT2', 'THCYINCPOV', 'THCYINCPOVT2'],\n",
       "      dtype='object')"
      ]
     },
     "execution_count": 13,
     "metadata": {},
     "output_type": "execute_result"
    }
   ],
   "source": [
    "select_features"
   ]
  },
  {
   "cell_type": "code",
   "execution_count": 43,
   "id": "representative-plymouth",
   "metadata": {},
   "outputs": [],
   "source": [
    "rf = RandomForestClassifier(n_estimators=100).fit(X_train, y_train)"
   ]
  },
  {
   "cell_type": "code",
   "execution_count": 71,
   "id": "personalized-extra",
   "metadata": {},
   "outputs": [
    {
     "data": {
      "text/html": [
       "<div>\n",
       "<style scoped>\n",
       "    .dataframe tbody tr th:only-of-type {\n",
       "        vertical-align: middle;\n",
       "    }\n",
       "\n",
       "    .dataframe tbody tr th {\n",
       "        vertical-align: top;\n",
       "    }\n",
       "\n",
       "    .dataframe thead th {\n",
       "        text-align: right;\n",
       "    }\n",
       "</style>\n",
       "<table border=\"1\" class=\"dataframe\">\n",
       "  <thead>\n",
       "    <tr style=\"text-align: right;\">\n",
       "      <th></th>\n",
       "      <th>importance</th>\n",
       "      <th>cumsum</th>\n",
       "    </tr>\n",
       "  </thead>\n",
       "  <tbody>\n",
       "    <tr>\n",
       "      <th>TVAL_STMF</th>\n",
       "      <td>0.204536</td>\n",
       "      <td>0.204536</td>\n",
       "    </tr>\n",
       "    <tr>\n",
       "      <th>TINC_STMF</th>\n",
       "      <td>0.134824</td>\n",
       "      <td>0.339360</td>\n",
       "    </tr>\n",
       "    <tr>\n",
       "      <th>THVAL_STMF</th>\n",
       "      <td>0.113538</td>\n",
       "      <td>0.452899</td>\n",
       "    </tr>\n",
       "    <tr>\n",
       "      <th>THINC_STMF</th>\n",
       "      <td>0.044274</td>\n",
       "      <td>0.497173</td>\n",
       "    </tr>\n",
       "    <tr>\n",
       "      <th>EOWN_MF</th>\n",
       "      <td>0.040589</td>\n",
       "      <td>0.537762</td>\n",
       "    </tr>\n",
       "    <tr>\n",
       "      <th>TINC_AST</th>\n",
       "      <td>0.031747</td>\n",
       "      <td>0.569509</td>\n",
       "    </tr>\n",
       "    <tr>\n",
       "      <th>TPPRPINC</th>\n",
       "      <td>0.027203</td>\n",
       "      <td>0.596712</td>\n",
       "    </tr>\n",
       "    <tr>\n",
       "      <th>TNETWORTH</th>\n",
       "      <td>0.020664</td>\n",
       "      <td>0.617376</td>\n",
       "    </tr>\n",
       "    <tr>\n",
       "      <th>THINC_AST</th>\n",
       "      <td>0.019441</td>\n",
       "      <td>0.636818</td>\n",
       "    </tr>\n",
       "    <tr>\n",
       "      <th>TVAL_BANK</th>\n",
       "      <td>0.012895</td>\n",
       "      <td>0.649713</td>\n",
       "    </tr>\n",
       "    <tr>\n",
       "      <th>TVAL_AST</th>\n",
       "      <td>0.010603</td>\n",
       "      <td>0.660316</td>\n",
       "    </tr>\n",
       "    <tr>\n",
       "      <th>THVAL_AST</th>\n",
       "      <td>0.010535</td>\n",
       "      <td>0.670851</td>\n",
       "    </tr>\n",
       "    <tr>\n",
       "      <th>THNETWORTH</th>\n",
       "      <td>0.009922</td>\n",
       "      <td>0.680773</td>\n",
       "    </tr>\n",
       "    <tr>\n",
       "      <th>TINC_BANK</th>\n",
       "      <td>0.009501</td>\n",
       "      <td>0.690275</td>\n",
       "    </tr>\n",
       "    <tr>\n",
       "      <th>TVAL_RET</th>\n",
       "      <td>0.007845</td>\n",
       "      <td>0.698120</td>\n",
       "    </tr>\n",
       "  </tbody>\n",
       "</table>\n",
       "</div>"
      ],
      "text/plain": [
       "            importance    cumsum\n",
       "TVAL_STMF     0.204536  0.204536\n",
       "TINC_STMF     0.134824  0.339360\n",
       "THVAL_STMF    0.113538  0.452899\n",
       "THINC_STMF    0.044274  0.497173\n",
       "EOWN_MF       0.040589  0.537762\n",
       "TINC_AST      0.031747  0.569509\n",
       "TPPRPINC      0.027203  0.596712\n",
       "TNETWORTH     0.020664  0.617376\n",
       "THINC_AST     0.019441  0.636818\n",
       "TVAL_BANK     0.012895  0.649713\n",
       "TVAL_AST      0.010603  0.660316\n",
       "THVAL_AST     0.010535  0.670851\n",
       "THNETWORTH    0.009922  0.680773\n",
       "TINC_BANK     0.009501  0.690275\n",
       "TVAL_RET      0.007845  0.698120"
      ]
     },
     "execution_count": 71,
     "metadata": {},
     "output_type": "execute_result"
    }
   ],
   "source": [
    "feature_importances = pd.DataFrame(rf.feature_importances_, \n",
    "                                   index=X_train.columns, columns=['importance'])\n",
    "f1 = feature_importances.sort_values('importance',ascending=False)\n",
    "f1.assign(cumsum = f1.cumsum(axis=0)).head(15)"
   ]
  },
  {
   "cell_type": "code",
   "execution_count": 16,
   "id": "pending-islam",
   "metadata": {},
   "outputs": [
    {
     "data": {
      "text/plain": [
       "2    0.884289\n",
       "1    0.115711\n",
       "Name: EOWN_ST, dtype: float64"
      ]
     },
     "execution_count": 16,
     "metadata": {},
     "output_type": "execute_result"
    }
   ],
   "source": [
    "y_train.value_counts(normalize=True)"
   ]
  },
  {
   "cell_type": "code",
   "execution_count": 21,
   "id": "fleet-financing",
   "metadata": {},
   "outputs": [],
   "source": [
    "y_pred = rf.predict(X_train)"
   ]
  },
  {
   "cell_type": "code",
   "execution_count": 59,
   "id": "recognized-community",
   "metadata": {},
   "outputs": [
    {
     "name": "stdout",
     "output_type": "stream",
     "text": [
      "[[ 4601     0]\n",
      " [    0 35162]]\n"
     ]
    }
   ],
   "source": [
    "from sklearn.metrics import confusion_matrix, accuracy_score, classification_report\n",
    "cm = confusion_matrix(y_train, y_pred)\n",
    "print(cm)"
   ]
  },
  {
   "cell_type": "code",
   "execution_count": 55,
   "id": "derived-prediction",
   "metadata": {},
   "outputs": [
    {
     "data": {
      "text/plain": [
       "1.0"
      ]
     },
     "execution_count": 55,
     "metadata": {},
     "output_type": "execute_result"
    }
   ],
   "source": [
    "accuracy_score(y_train, y_pred)"
   ]
  },
  {
   "cell_type": "code",
   "execution_count": 47,
   "id": "negative-screening",
   "metadata": {},
   "outputs": [],
   "source": [
    "y_pred_test = rf.predict(X_test)\n"
   ]
  },
  {
   "cell_type": "code",
   "execution_count": 61,
   "id": "periodic-patrol",
   "metadata": {},
   "outputs": [
    {
     "name": "stdout",
     "output_type": "stream",
     "text": [
      "[[1125   51]\n",
      " [ 226 8539]]\n"
     ]
    }
   ],
   "source": [
    "cm2 = confusion_matrix(y_test, pd.Series(y_pred_test))\n",
    "print(cm2)"
   ]
  },
  {
   "cell_type": "code",
   "execution_count": 62,
   "id": "continental-butter",
   "metadata": {},
   "outputs": [
    {
     "data": {
      "text/plain": [
       "0.9721356000402374"
      ]
     },
     "execution_count": 62,
     "metadata": {},
     "output_type": "execute_result"
    }
   ],
   "source": [
    "accuracy_score(y_test, y_pred_test)"
   ]
  },
  {
   "cell_type": "code",
   "execution_count": 73,
   "id": "planned-brick",
   "metadata": {},
   "outputs": [
    {
     "name": "stdout",
     "output_type": "stream",
     "text": [
      "              precision    recall  f1-score   support\n",
      "\n",
      "           1       0.83      0.96      0.89      1176\n",
      "           2       0.99      0.97      0.98      8765\n",
      "\n",
      "    accuracy                           0.97      9941\n",
      "   macro avg       0.91      0.97      0.94      9941\n",
      "weighted avg       0.97      0.97      0.97      9941\n",
      "\n"
     ]
    }
   ],
   "source": [
    "print(classification_report(y_test, y_pred_test))"
   ]
  },
  {
   "cell_type": "code",
   "execution_count": null,
   "id": "boring-prospect",
   "metadata": {},
   "outputs": [],
   "source": []
  }
 ],
 "metadata": {
  "kernelspec": {
   "display_name": "Team 107 Capstone Project",
   "language": "python",
   "name": "team_107_venv"
  },
  "language_info": {
   "codemirror_mode": {
    "name": "ipython",
    "version": 3
   },
   "file_extension": ".py",
   "mimetype": "text/x-python",
   "name": "python",
   "nbconvert_exporter": "python",
   "pygments_lexer": "ipython3",
   "version": "3.9.2"
  }
 },
 "nbformat": 4,
 "nbformat_minor": 5
}

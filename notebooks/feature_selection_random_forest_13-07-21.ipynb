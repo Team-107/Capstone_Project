{
 "cells": [
  {
   "cell_type": "code",
   "execution_count": 1,
   "id": "included-induction",
   "metadata": {},
   "outputs": [],
   "source": [
    "import pandas as pd\n",
    "import numpy as np\n",
    "from sklearn.model_selection import train_test_split\n"
   ]
  },
  {
   "cell_type": "code",
   "execution_count": 116,
   "id": "arctic-arena",
   "metadata": {},
   "outputs": [],
   "source": [
    "sipp_2018 = pd.read_csv('../data/interim/sipp2018_person/sipp2018_person.csv')"
   ]
  },
  {
   "cell_type": "code",
   "execution_count": 114,
   "id": "exact-million",
   "metadata": {},
   "outputs": [
    {
     "data": {
      "text/plain": [
       "9    14479\n",
       "7    14293\n",
       "6    14176\n",
       "5     6000\n",
       "8      756\n",
       "Name: EEDUC_X, dtype: int64"
      ]
     },
     "execution_count": 114,
     "metadata": {},
     "output_type": "execute_result"
    }
   ],
   "source": [
    "# collapse eeduc categories\n",
    "\n",
    "m1 = {5:[31,32,33,34,35,36,37,38], \n",
    "      6:[39],\n",
    "      7:[40,41,42],\n",
    "      8:[45],\n",
    "      9:[43, 44, 46],\n",
    "     }\n",
    "m2 = {v: k for k,vv in m1.items() for v in vv}\n",
    "m2\n",
    "sipp_2018['EEDUC_X'] = (sipp_2018\n",
    "                        .EEDUC\n",
    "                        .map(m2)\n",
    "                        .astype('category')\n",
    "                       )\n",
    "sipp_2018.EEDUC_X.value_counts()"
   ]
  },
  {
   "cell_type": "code",
   "execution_count": 122,
   "id": "lined-withdrawal",
   "metadata": {},
   "outputs": [],
   "source": [
    "stock_value_features = list(sipp_2018.filter(like='_STMF').columns)\n",
    "id_features = ['SSUID', 'PNUM', 'EOWN_ST']\n",
    "drop_features = id_features + stock_value_features\n",
    "\n",
    "# Initialize Independent and Target Features \n",
    "y = sipp_2018.EOWN_ST\n",
    "X = sipp_2018.drop(drop_features, axis='columns')"
   ]
  },
  {
   "cell_type": "code",
   "execution_count": 123,
   "id": "developing-formula",
   "metadata": {},
   "outputs": [],
   "source": [
    "X_train, X_test, y_train, y_test = train_test_split(X, y, test_size=0.20, random_state=23)"
   ]
  },
  {
   "cell_type": "code",
   "execution_count": 124,
   "id": "czech-consumer",
   "metadata": {},
   "outputs": [],
   "source": [
    "train_sample_weight = X_train.WPFINWGT"
   ]
  },
  {
   "cell_type": "code",
   "execution_count": 125,
   "id": "available-dream",
   "metadata": {},
   "outputs": [
    {
     "data": {
      "text/html": [
       "<div>\n",
       "<style scoped>\n",
       "    .dataframe tbody tr th:only-of-type {\n",
       "        vertical-align: middle;\n",
       "    }\n",
       "\n",
       "    .dataframe tbody tr th {\n",
       "        vertical-align: top;\n",
       "    }\n",
       "\n",
       "    .dataframe thead th {\n",
       "        text-align: right;\n",
       "    }\n",
       "</style>\n",
       "<table border=\"1\" class=\"dataframe\">\n",
       "  <thead>\n",
       "    <tr style=\"text-align: right;\">\n",
       "      <th></th>\n",
       "      <th>percent_missing</th>\n",
       "    </tr>\n",
       "  </thead>\n",
       "  <tbody>\n",
       "    <tr>\n",
       "      <th>EJB6_PFTLOSS</th>\n",
       "      <td>1.000000</td>\n",
       "    </tr>\n",
       "    <tr>\n",
       "      <th>EJB6_JBORSE</th>\n",
       "      <td>1.000000</td>\n",
       "    </tr>\n",
       "    <tr>\n",
       "      <th>EJB6_WSHMMON</th>\n",
       "      <td>1.000000</td>\n",
       "    </tr>\n",
       "    <tr>\n",
       "      <th>EJB6_TYPPAY4</th>\n",
       "      <td>1.000000</td>\n",
       "    </tr>\n",
       "    <tr>\n",
       "      <th>RPAR</th>\n",
       "      <td>1.000000</td>\n",
       "    </tr>\n",
       "    <tr>\n",
       "      <th>...</th>\n",
       "      <td>...</td>\n",
       "    </tr>\n",
       "    <tr>\n",
       "      <th>ETRANS_MNYN</th>\n",
       "      <td>0.001207</td>\n",
       "    </tr>\n",
       "    <tr>\n",
       "      <th>EOTHAS_MNYN</th>\n",
       "      <td>0.001207</td>\n",
       "    </tr>\n",
       "    <tr>\n",
       "      <th>EFOOD_MNYN</th>\n",
       "      <td>0.001207</td>\n",
       "    </tr>\n",
       "    <tr>\n",
       "      <th>TEHC_REGION</th>\n",
       "      <td>0.001207</td>\n",
       "    </tr>\n",
       "    <tr>\n",
       "      <th>RSNAP_MNYN</th>\n",
       "      <td>0.000025</td>\n",
       "    </tr>\n",
       "  </tbody>\n",
       "</table>\n",
       "<p>1833 rows × 1 columns</p>\n",
       "</div>"
      ],
      "text/plain": [
       "              percent_missing\n",
       "EJB6_PFTLOSS         1.000000\n",
       "EJB6_JBORSE          1.000000\n",
       "EJB6_WSHMMON         1.000000\n",
       "EJB6_TYPPAY4         1.000000\n",
       "RPAR                 1.000000\n",
       "...                       ...\n",
       "ETRANS_MNYN          0.001207\n",
       "EOTHAS_MNYN          0.001207\n",
       "EFOOD_MNYN           0.001207\n",
       "TEHC_REGION          0.001207\n",
       "RSNAP_MNYN           0.000025\n",
       "\n",
       "[1833 rows x 1 columns]"
      ]
     },
     "execution_count": 125,
     "metadata": {},
     "output_type": "execute_result"
    }
   ],
   "source": [
    "# Return df with all features with % missing values more than 70%\n",
    "desc = X_train.describe().T\n",
    "desc = (desc\n",
    "        .assign(percent_missing = 1 - (desc['count'] / len(X_train)))\n",
    "        .percent_missing\n",
    "        .sort_values(ascending=False)\n",
    "        .to_frame()\n",
    "        .query('percent_missing > 0')\n",
    "       )\n",
    "desc"
   ]
  },
  {
   "cell_type": "code",
   "execution_count": 126,
   "id": "compact-tutorial",
   "metadata": {},
   "outputs": [
    {
     "name": "stdout",
     "output_type": "stream",
     "text": [
      "X_train shape: (39763, 287)\n",
      "X_test shape: (9941, 287)\n"
     ]
    }
   ],
   "source": [
    "high_nan_features = list(desc.T.columns)\n",
    "\n",
    "# Transform train set\n",
    "X_train = X_train.drop(high_nan_features, axis='columns')\n",
    "print(f'X_train shape: {X_train.shape}')\n",
    "\n",
    "# Transform test set\n",
    "X_test = X_test.drop(high_nan_features, axis='columns')\n",
    "print(f'X_test shape: {X_test.shape}')"
   ]
  },
  {
   "cell_type": "code",
   "execution_count": 127,
   "id": "introductory-movie",
   "metadata": {},
   "outputs": [],
   "source": [
    "from sklearn.ensemble import RandomForestClassifier\n",
    "from sklearn.feature_selection import SelectFromModel"
   ]
  },
  {
   "cell_type": "code",
   "execution_count": 120,
   "id": "regional-quality",
   "metadata": {},
   "outputs": [
    {
     "data": {
      "text/plain": [
       "SelectFromModel(estimator=RandomForestClassifier())"
      ]
     },
     "execution_count": 120,
     "metadata": {},
     "output_type": "execute_result"
    }
   ],
   "source": [
    "sel = SelectFromModel(RandomForestClassifier(n_estimators=100))\n",
    "sel.fit(X_train, y_train)"
   ]
  },
  {
   "cell_type": "code",
   "execution_count": 128,
   "id": "unknown-geography",
   "metadata": {},
   "outputs": [
    {
     "data": {
      "text/plain": [
       "array([False, False, False, False, False, False, False, False, False,\n",
       "       False, False, False, False, False, False, False, False, False,\n",
       "       False, False, False, False, False, False, False, False, False,\n",
       "       False, False, False, False, False, False, False, False, False,\n",
       "       False, False, False, False, False, False, False, False, False,\n",
       "       False, False, False, False, False, False, False, False, False,\n",
       "       False, False,  True,  True, False, False, False, False,  True,\n",
       "       False, False, False, False, False, False, False, False, False,\n",
       "       False, False,  True,  True,  True,  True,  True, False, False,\n",
       "       False, False, False, False, False, False, False, False,  True,\n",
       "        True,  True,  True,  True, False, False, False,  True,  True,\n",
       "        True,  True, False,  True, False,  True,  True,  True,  True,\n",
       "        True,  True,  True, False,  True,  True, False, False, False,\n",
       "       False, False, False,  True,  True,  True,  True, False, False,\n",
       "       False,  True, False, False,  True,  True,  True,  True,  True,\n",
       "       False,  True, False,  True,  True,  True,  True,  True, False,\n",
       "       False, False, False, False, False, False, False, False, False,\n",
       "       False, False, False, False, False, False, False, False, False,\n",
       "       False, False, False, False, False, False, False, False, False,\n",
       "       False, False, False, False, False, False,  True, False, False,\n",
       "       False, False, False,  True, False, False, False, False, False,\n",
       "       False, False, False, False, False, False, False, False, False,\n",
       "       False, False, False, False,  True, False,  True,  True, False,\n",
       "       False, False, False, False, False, False, False, False, False,\n",
       "       False, False, False,  True, False,  True,  True, False, False,\n",
       "        True,  True, False, False, False, False, False, False, False,\n",
       "       False, False, False, False, False, False, False, False, False,\n",
       "       False, False, False, False, False, False, False, False, False,\n",
       "        True, False, False,  True,  True, False, False,  True, False,\n",
       "       False, False, False,  True, False,  True, False, False, False,\n",
       "        True,  True,  True,  True,  True,  True,  True,  True,  True,\n",
       "        True,  True,  True,  True, False, False,  True,  True])"
      ]
     },
     "execution_count": 128,
     "metadata": {},
     "output_type": "execute_result"
    }
   ],
   "source": [
    "sel.get_support()"
   ]
  },
  {
   "cell_type": "code",
   "execution_count": 129,
   "id": "lined-queen",
   "metadata": {},
   "outputs": [],
   "source": [
    "select_features = X_train.columns[(sel.get_support())]"
   ]
  },
  {
   "cell_type": "code",
   "execution_count": 130,
   "id": "organic-clinton",
   "metadata": {},
   "outputs": [
    {
     "data": {
      "text/plain": [
       "74"
      ]
     },
     "execution_count": 130,
     "metadata": {},
     "output_type": "execute_result"
    }
   ],
   "source": [
    "len(select_features)"
   ]
  },
  {
   "cell_type": "code",
   "execution_count": 131,
   "id": "monetary-roberts",
   "metadata": {},
   "outputs": [],
   "source": [
    "rf = RandomForestClassifier(n_estimators=100).fit(X_train, y_train, sample_weight=train_sample_weight)"
   ]
  },
  {
   "cell_type": "code",
   "execution_count": 132,
   "id": "confirmed-current",
   "metadata": {},
   "outputs": [
    {
     "data": {
      "text/html": [
       "<div>\n",
       "<style scoped>\n",
       "    .dataframe tbody tr th:only-of-type {\n",
       "        vertical-align: middle;\n",
       "    }\n",
       "\n",
       "    .dataframe tbody tr th {\n",
       "        vertical-align: top;\n",
       "    }\n",
       "\n",
       "    .dataframe thead th {\n",
       "        text-align: right;\n",
       "    }\n",
       "</style>\n",
       "<table border=\"1\" class=\"dataframe\">\n",
       "  <thead>\n",
       "    <tr style=\"text-align: right;\">\n",
       "      <th></th>\n",
       "      <th>importance</th>\n",
       "      <th>cumsum</th>\n",
       "    </tr>\n",
       "  </thead>\n",
       "  <tbody>\n",
       "    <tr>\n",
       "      <th>TINC_AST</th>\n",
       "      <td>0.075685</td>\n",
       "      <td>0.075685</td>\n",
       "    </tr>\n",
       "    <tr>\n",
       "      <th>TPPRPINC</th>\n",
       "      <td>0.062754</td>\n",
       "      <td>0.138439</td>\n",
       "    </tr>\n",
       "    <tr>\n",
       "      <th>EOWN_MF</th>\n",
       "      <td>0.039833</td>\n",
       "      <td>0.178272</td>\n",
       "    </tr>\n",
       "    <tr>\n",
       "      <th>THINC_AST</th>\n",
       "      <td>0.036890</td>\n",
       "      <td>0.215162</td>\n",
       "    </tr>\n",
       "    <tr>\n",
       "      <th>TVAL_AST</th>\n",
       "      <td>0.027236</td>\n",
       "      <td>0.242398</td>\n",
       "    </tr>\n",
       "  </tbody>\n",
       "</table>\n",
       "</div>"
      ],
      "text/plain": [
       "           importance    cumsum\n",
       "TINC_AST     0.075685  0.075685\n",
       "TPPRPINC     0.062754  0.138439\n",
       "EOWN_MF      0.039833  0.178272\n",
       "THINC_AST    0.036890  0.215162\n",
       "TVAL_AST     0.027236  0.242398"
      ]
     },
     "execution_count": 132,
     "metadata": {},
     "output_type": "execute_result"
    }
   ],
   "source": [
    "feature_importances = pd.DataFrame(rf.feature_importances_, \n",
    "                                   index=X_train.columns, columns=['importance'])\n",
    "f1 = feature_importances.sort_values('importance',ascending=False)\n",
    "f1.assign(cumsum = f1.cumsum(axis=0)).head()"
   ]
  },
  {
   "cell_type": "code",
   "execution_count": 105,
   "id": "planned-driver",
   "metadata": {},
   "outputs": [
    {
     "data": {
      "text/plain": [
       "2    0.884289\n",
       "1    0.115711\n",
       "Name: EOWN_ST, dtype: float64"
      ]
     },
     "execution_count": 105,
     "metadata": {},
     "output_type": "execute_result"
    }
   ],
   "source": [
    "y_train.value_counts(normalize=True)"
   ]
  },
  {
   "cell_type": "code",
   "execution_count": 133,
   "id": "religious-excess",
   "metadata": {},
   "outputs": [],
   "source": [
    "y_pred = rf.predict(X_train)"
   ]
  },
  {
   "cell_type": "code",
   "execution_count": 134,
   "id": "bridal-stereo",
   "metadata": {},
   "outputs": [
    {
     "name": "stdout",
     "output_type": "stream",
     "text": [
      "[[ 4598     3]\n",
      " [    1 35161]]\n"
     ]
    }
   ],
   "source": [
    "from sklearn.metrics import confusion_matrix, accuracy_score, classification_report\n",
    "cm = confusion_matrix(y_train, y_pred)\n",
    "print(cm)"
   ]
  },
  {
   "cell_type": "code",
   "execution_count": 135,
   "id": "intended-clothing",
   "metadata": {},
   "outputs": [
    {
     "data": {
      "text/plain": [
       "0.9998994039685134"
      ]
     },
     "execution_count": 135,
     "metadata": {},
     "output_type": "execute_result"
    }
   ],
   "source": [
    "accuracy_score(y_train, y_pred)"
   ]
  },
  {
   "cell_type": "code",
   "execution_count": 136,
   "id": "ethical-heater",
   "metadata": {},
   "outputs": [],
   "source": [
    "y_pred_test = rf.predict(X_test)\n"
   ]
  },
  {
   "cell_type": "code",
   "execution_count": 137,
   "id": "tracked-original",
   "metadata": {},
   "outputs": [
    {
     "name": "stdout",
     "output_type": "stream",
     "text": [
      "[[ 566  610]\n",
      " [ 194 8571]]\n"
     ]
    }
   ],
   "source": [
    "cm2 = confusion_matrix(y_test, pd.Series(y_pred_test))\n",
    "print(cm2)"
   ]
  },
  {
   "cell_type": "code",
   "execution_count": 138,
   "id": "described-pepper",
   "metadata": {},
   "outputs": [
    {
     "data": {
      "text/plain": [
       "0.9191228246655266"
      ]
     },
     "execution_count": 138,
     "metadata": {},
     "output_type": "execute_result"
    }
   ],
   "source": [
    "accuracy_score(y_test, y_pred_test)"
   ]
  },
  {
   "cell_type": "code",
   "execution_count": 139,
   "id": "cleared-program",
   "metadata": {},
   "outputs": [
    {
     "name": "stdout",
     "output_type": "stream",
     "text": [
      "              precision    recall  f1-score   support\n",
      "\n",
      "           1       0.74      0.48      0.58      1176\n",
      "           2       0.93      0.98      0.96      8765\n",
      "\n",
      "    accuracy                           0.92      9941\n",
      "   macro avg       0.84      0.73      0.77      9941\n",
      "weighted avg       0.91      0.92      0.91      9941\n",
      "\n"
     ]
    }
   ],
   "source": [
    "print(classification_report(y_test, y_pred_test))"
   ]
  },
  {
   "cell_type": "code",
   "execution_count": null,
   "id": "industrial-graphics",
   "metadata": {},
   "outputs": [],
   "source": []
  }
 ],
 "metadata": {
  "kernelspec": {
   "display_name": "Team 107 Capstone Project",
   "language": "python",
   "name": "team_107_venv"
  },
  "language_info": {
   "codemirror_mode": {
    "name": "ipython",
    "version": 3
   },
   "file_extension": ".py",
   "mimetype": "text/x-python",
   "name": "python",
   "nbconvert_exporter": "python",
   "pygments_lexer": "ipython3",
   "version": "3.9.2"
  }
 },
 "nbformat": 4,
 "nbformat_minor": 5
}
